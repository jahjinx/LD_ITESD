{
 "cells": [
  {
   "cell_type": "markdown",
   "metadata": {},
   "source": [
    "# Dummy Model Test\n",
    "This notebook explores the random guessing rate on our target, iSarcasm, dataset for the F1 metric. Whereas the random guessing rate for accuracy on a binary problem is easily identifiable as .5, F1 is a bit more complicated. We use two methods below, which amount to the same general process. "
   ]
  },
  {
   "cell_type": "markdown",
   "metadata": {},
   "source": [
    "## Imports & Settings"
   ]
  },
  {
   "cell_type": "markdown",
   "metadata": {},
   "source": [
    "First, update working directory to parent so that we may use our custom functions"
   ]
  },
  {
   "cell_type": "code",
   "execution_count": 1,
   "metadata": {},
   "outputs": [],
   "source": [
    "import os\n",
    "os.chdir('..')\n",
    "# os.getcwd( )"
   ]
  },
  {
   "cell_type": "code",
   "execution_count": 2,
   "metadata": {},
   "outputs": [],
   "source": [
    "import numpy as np\n",
    "import pandas as pd\n",
    "import matplotlib.pyplot as plt\n",
    "from collections import Counter\n",
    "from datasets import load_from_disk\n",
    "from sklearn.dummy import DummyClassifier\n",
    "from sklearn.metrics import accuracy_score, f1_score\n",
    "from sklearn.metrics import confusion_matrix, ConfusionMatrixDisplay"
   ]
  },
  {
   "cell_type": "markdown",
   "metadata": {},
   "source": [
    "## Load Data"
   ]
  },
  {
   "cell_type": "code",
   "execution_count": 3,
   "metadata": {},
   "outputs": [],
   "source": [
    "dataset_path = \"data/target_iSarcasmEval/itesd_iSarcasmEval_balanced.hf\""
   ]
  },
  {
   "cell_type": "code",
   "execution_count": 4,
   "metadata": {},
   "outputs": [
    {
     "data": {
      "text/plain": [
       "DatasetDict({\n",
       "    train: Dataset({\n",
       "        features: ['text', 'label'],\n",
       "        num_rows: 4266\n",
       "    })\n",
       "    validation: Dataset({\n",
       "        features: ['text', 'label'],\n",
       "        num_rows: 628\n",
       "    })\n",
       "    test: Dataset({\n",
       "        features: ['text', 'label'],\n",
       "        num_rows: 1400\n",
       "    })\n",
       "})"
      ]
     },
     "execution_count": 4,
     "metadata": {},
     "output_type": "execute_result"
    }
   ],
   "source": [
    "datasets = load_from_disk(dataset_path)\n",
    "datasets"
   ]
  },
  {
   "cell_type": "markdown",
   "metadata": {},
   "source": [
    "## SKLearn Dummy Classifier\n",
    "Our first method is to use the SKLearn DummyClassifier. This method takes our data, though it ignores the distribution in favor of a random guessing strategy for predictions. Those predations are then scored against our holdout test set's actual values. The resulting F1 score should be representative of the random guessing rate for our target."
   ]
  },
  {
   "cell_type": "code",
   "execution_count": 5,
   "metadata": {},
   "outputs": [],
   "source": [
    "# we will need to view and prep the datasets\n",
    "# this is more easily done as dataframes\n",
    "train_df = datasets['train'].to_pandas()\n",
    "validate_df = datasets['validation'].to_pandas() \n",
    "test_df = datasets['test'].to_pandas()"
   ]
  },
  {
   "cell_type": "code",
   "execution_count": 6,
   "metadata": {},
   "outputs": [],
   "source": [
    "# parse dataset\n",
    "X_train = train_df['text'].to_list()\n",
    "y_train = train_df['label'].to_list()\n",
    "\n",
    "X_test = test_df['text'].to_list()\n",
    "y_test = test_df['label'].to_list()"
   ]
  },
  {
   "cell_type": "code",
   "execution_count": 7,
   "metadata": {},
   "outputs": [
    {
     "name": "stdout",
     "output_type": "stream",
     "text": [
      "Uniform F1: 0.22194960617294957\n"
     ]
    }
   ],
   "source": [
    "f1s = []\n",
    "\n",
    "# loop through this strategy 5000 times in order to get a mean\n",
    "for i in range(5000):\n",
    "    uniform_clf = DummyClassifier(strategy=\"uniform\").fit(X_train, y_train)\n",
    "    uniform_clf\n",
    "    y_uniform_pred = uniform_clf.predict(X_test)\n",
    "    f1 = f1_score(y_test, y_uniform_pred, average='binary')\n",
    "    f1s.append(f1)\n",
    "    \n",
    "f1s_mean = sum(f1s)/len(f1s)\n",
    "\n",
    "print(f\"Uniform F1: {f1s_mean}\")"
   ]
  },
  {
   "cell_type": "markdown",
   "metadata": {},
   "source": [
    "## Random Array Method\n",
    "Our second method uses np.random to uniformly randomly select a binary value for each row in our target array. We then score those predictions against our holdout test set's actual values. The resulting F1 score should be representative of the random guessing rate for our target."
   ]
  },
  {
   "cell_type": "code",
   "execution_count": 8,
   "metadata": {},
   "outputs": [
    {
     "data": {
      "text/plain": [
       "array([1, 0, 1, ..., 1, 1, 0])"
      ]
     },
     "execution_count": 8,
     "metadata": {},
     "output_type": "execute_result"
    }
   ],
   "source": [
    "# make a list with 1400 0s and 1's randomly distributed\n",
    "rand_list = np.random.randint(2, size=1400)\n",
    "rand_list"
   ]
  },
  {
   "cell_type": "code",
   "execution_count": 9,
   "metadata": {},
   "outputs": [
    {
     "name": "stdout",
     "output_type": "stream",
     "text": [
      "Uniform F1: 0.21493212669683256\n"
     ]
    }
   ],
   "source": [
    "f1 = f1_score(y_test, rand_list, average='binary')\n",
    "print(f\"Uniform F1: {f1}\")"
   ]
  },
  {
   "cell_type": "code",
   "execution_count": 10,
   "metadata": {},
   "outputs": [
    {
     "name": "stdout",
     "output_type": "stream",
     "text": [
      "Uniform F1: 0.22180403887599054\n"
     ]
    }
   ],
   "source": [
    "f1s = []\n",
    "\n",
    "# repeat the process 5000 times to get a representative mean\n",
    "for i in range(5000):\n",
    "    rand_list = np.random.randint(2, size=1400)\n",
    "    f1 = f1_score(y_test, rand_list, average='binary')\n",
    "    f1s.append(f1)\n",
    "f1s_mean = sum(f1s)/len(f1s)\n",
    "\n",
    "print(f\"Uniform F1: {f1s_mean}\")"
   ]
  },
  {
   "cell_type": "markdown",
   "metadata": {},
   "source": [
    "## Conclusion\n",
    "We find that through both of the above methods we get a random guessing F1 of 0.22. Below, we view a sample confusion matrix from one of our dummy predictions."
   ]
  },
  {
   "cell_type": "code",
   "execution_count": 11,
   "metadata": {},
   "outputs": [
    {
     "data": {
      "image/png": "[encoded data removed]",
      "text/plain": [
       "<Figure size 640x480 with 2 Axes>"
      ]
     },
     "metadata": {},
     "output_type": "display_data"
    },
    {
     "name": "stdout",
     "output_type": "stream",
     "text": [
      "Uniform F1: 0.23648648648648649\n"
     ]
    }
   ],
   "source": [
    "# create a confusion matrix with best_preds and true_preds\n",
    "conf = confusion_matrix(y_test, rand_list)\n",
    "\n",
    "disp = ConfusionMatrixDisplay(confusion_matrix=conf,\n",
    "                              display_labels=[0, 1])\n",
    "disp.plot()\n",
    "\n",
    "plt.show()\n",
    "\n",
    "f1 = f1_score(y_test, rand_list, average='binary')\n",
    "print(f\"Uniform F1: {f1}\")"
   ]
  }
 ],
 "metadata": {
  "kernelspec": {
   "display_name": "Python 3.10.6 ('eda_env')",
   "language": "python",
   "name": "python3"
  },
  "language_info": {
   "codemirror_mode": {
    "name": "ipython",
    "version": 3
   },
   "file_extension": ".py",
   "mimetype": "text/x-python",
   "name": "python",
   "nbconvert_exporter": "python",
   "pygments_lexer": "ipython3",
   "version": "3.10.6"
  },
  "orig_nbformat": 4,
  "vscode": {
   "interpreter": {
    "hash": "44cd29fc0e411fd9962b44395a3726d6ca1c09530fabf57436a3af7bf7cec47b"
   }
  }
 },
 "nbformat": 4,
 "nbformat_minor": 2
}
