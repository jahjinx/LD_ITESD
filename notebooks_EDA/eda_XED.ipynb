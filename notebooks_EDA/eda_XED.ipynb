{
 "cells": [
  {
   "cell_type": "markdown",
   "metadata": {},
   "source": [
    "## Imports & Settings"
   ]
  },
  {
   "cell_type": "code",
   "execution_count": 1,
   "metadata": {},
   "outputs": [],
   "source": [
    "import os\n",
    "os.chdir('..')\n",
    "# os.getcwd( )"
   ]
  },
  {
   "cell_type": "code",
   "execution_count": 2,
   "metadata": {},
   "outputs": [],
   "source": [
    "from utils import *\n",
    "\n",
    "import re\n",
    "import nltk\n",
    "import string\n",
    "import numpy as np\n",
    "\n",
    "import pandas as pd\n",
    "import seaborn as sns\n",
    "import matplotlib.pyplot as plt\n",
    "from collections import Counter\n",
    "\n",
    "import datasets\n",
    "from datasets import load_dataset, load_metric, Dataset"
   ]
  },
  {
   "cell_type": "markdown",
   "metadata": {},
   "source": [
    "## Load Dataset"
   ]
  },
  {
   "cell_type": "markdown",
   "metadata": {},
   "source": [
    "\"This is the XED dataset. The dataset consists of emotion annotated movie subtitles from OPUS. We use Plutchik's 8 core emotions to annotate. The data is multilabel. The original annotations have been sourced for mainly English and Finnish. For the English data we used Stanford NER (named entity recognition) (Finkel et al., 2005) to replace names and locations with the tags: [PERSON] and [LOCATION] respectively. For the Finnish data, we replaced names and locations using the Turku NER corpus (Luoma et al., 2020).\"\n",
    "\n",
    "Where the number indicates the emotion in ascending alphabetical order: <br /><br />\n",
    "<b>anger</b>: 1 <br />\n",
    "<b>anticipation</b>: 2 <br />\n",
    "<b>disgust</b>: 3<br /> \n",
    "<b>fear</b>: 4<br />\n",
    "<b>joy</b>: 5<br /> \n",
    "<b>sadness</b>: 6<br /> \n",
    "<b>surprise</b>: 7<br /> \n",
    "<b>trust</b>: 8<br /> \n",
    "with neutral</b>: 0 where applicable."
   ]
  },
  {
   "cell_type": "code",
   "execution_count": 3,
   "metadata": {},
   "outputs": [
    {
     "name": "stderr",
     "output_type": "stream",
     "text": [
      "Found cached dataset xed_en_fi (/Users/jarradjinx/.cache/huggingface/datasets/xed_en_fi/en_annotated/1.1.0/da3b85f38c940032e5c051d9afc607f96efc7107ac41104c3ad846dc0ac95d6a)\n"
     ]
    },
    {
     "data": {
      "application/vnd.jupyter.widget-view+json": {
       "model_id": "b4f9952f94e445669d63317f47b9c991",
       "version_major": 2,
       "version_minor": 0
      },
      "text/plain": [
       "  0%|          | 0/1 [00:00<?, ?it/s]"
      ]
     },
     "metadata": {},
     "output_type": "display_data"
    },
    {
     "data": {
      "text/plain": [
       "DatasetDict({\n",
       "    train: Dataset({\n",
       "        features: ['sentence', 'labels'],\n",
       "        num_rows: 17528\n",
       "    })\n",
       "})"
      ]
     },
     "execution_count": 3,
     "metadata": {},
     "output_type": "execute_result"
    }
   ],
   "source": [
    "dataset = load_dataset(\"xed_en_fi\", \"en_annotated\")\n",
    "dataset"
   ]
  },
  {
   "cell_type": "code",
   "execution_count": 4,
   "metadata": {},
   "outputs": [
    {
     "data": {
      "application/vnd.jupyter.widget-view+json": {
       "model_id": "0cc97c86e3934f55b3304f454490cc85",
       "version_major": 2,
       "version_minor": 0
      },
      "text/plain": [
       "Saving the dataset (0/1 shards):   0%|          | 0/17528 [00:00<?, ? examples/s]"
      ]
     },
     "metadata": {},
     "output_type": "display_data"
    }
   ],
   "source": [
    "# save dataset locally as a backup\n",
    "dataset.save_to_disk(\"data/inter_XED/source_xed_en_fi_en_annotated.hf\")"
   ]
  },
  {
   "cell_type": "code",
   "execution_count": 5,
   "metadata": {},
   "outputs": [
    {
     "data": {
      "text/html": [
       "<div>\n",
       "<style scoped>\n",
       "    .dataframe tbody tr th:only-of-type {\n",
       "        vertical-align: middle;\n",
       "    }\n",
       "\n",
       "    .dataframe tbody tr th {\n",
       "        vertical-align: top;\n",
       "    }\n",
       "\n",
       "    .dataframe thead th {\n",
       "        text-align: right;\n",
       "    }\n",
       "</style>\n",
       "<table border=\"1\" class=\"dataframe\">\n",
       "  <thead>\n",
       "    <tr style=\"text-align: right;\">\n",
       "      <th></th>\n",
       "      <th>text</th>\n",
       "      <th>label</th>\n",
       "    </tr>\n",
       "  </thead>\n",
       "  <tbody>\n",
       "    <tr>\n",
       "      <th>0</th>\n",
       "      <td>, ...</td>\n",
       "      <td>[1]</td>\n",
       "    </tr>\n",
       "    <tr>\n",
       "      <th>1</th>\n",
       "      <td>!</td>\n",
       "      <td>[1, 4, 7]</td>\n",
       "    </tr>\n",
       "    <tr>\n",
       "      <th>2</th>\n",
       "      <td>... And I don't think we need to discuss the T...</td>\n",
       "      <td>[8, 1]</td>\n",
       "    </tr>\n",
       "    <tr>\n",
       "      <th>3</th>\n",
       "      <td>* So get up out of your bed</td>\n",
       "      <td>[1]</td>\n",
       "    </tr>\n",
       "    <tr>\n",
       "      <th>4</th>\n",
       "      <td>A confession that you hired [PERSON] ... and a...</td>\n",
       "      <td>[1, 6]</td>\n",
       "    </tr>\n",
       "  </tbody>\n",
       "</table>\n",
       "</div>"
      ],
      "text/plain": [
       "                                                text      label\n",
       "0                                              , ...        [1]\n",
       "1                                                  !  [1, 4, 7]\n",
       "2  ... And I don't think we need to discuss the T...     [8, 1]\n",
       "3                        * So get up out of your bed        [1]\n",
       "4  A confession that you hired [PERSON] ... and a...     [1, 6]"
      ]
     },
     "execution_count": 5,
     "metadata": {},
     "output_type": "execute_result"
    }
   ],
   "source": [
    "xed_df = dataset['train'].to_pandas() \n",
    "xed_df = xed_df.rename(columns={'sentence': 'text'})\n",
    "xed_df = xed_df.rename(columns={'labels': 'label'})\n",
    "xed_df.head()"
   ]
  },
  {
   "cell_type": "code",
   "execution_count": 6,
   "metadata": {},
   "outputs": [
    {
     "name": "stdout",
     "output_type": "stream",
     "text": [
      "<class 'pandas.core.frame.DataFrame'>\n",
      "RangeIndex: 17528 entries, 0 to 17527\n",
      "Data columns (total 2 columns):\n",
      " #   Column  Non-Null Count  Dtype \n",
      "---  ------  --------------  ----- \n",
      " 0   text    17528 non-null  object\n",
      " 1   label   17528 non-null  object\n",
      "dtypes: object(2)\n",
      "memory usage: 274.0+ KB\n"
     ]
    }
   ],
   "source": [
    "xed_df.info()"
   ]
  },
  {
   "cell_type": "markdown",
   "metadata": {},
   "source": [
    "## Clean Labels\n",
    "This dataset contains multiple labels for some observations. To simplify things, we remove all multi-label observations. This leaves us with 13,655 single-label entires with which to experiment."
   ]
  },
  {
   "cell_type": "code",
   "execution_count": 7,
   "metadata": {},
   "outputs": [
    {
     "data": {
      "text/html": [
       "<div>\n",
       "<style scoped>\n",
       "    .dataframe tbody tr th:only-of-type {\n",
       "        vertical-align: middle;\n",
       "    }\n",
       "\n",
       "    .dataframe tbody tr th {\n",
       "        vertical-align: top;\n",
       "    }\n",
       "\n",
       "    .dataframe thead th {\n",
       "        text-align: right;\n",
       "    }\n",
       "</style>\n",
       "<table border=\"1\" class=\"dataframe\">\n",
       "  <thead>\n",
       "    <tr style=\"text-align: right;\">\n",
       "      <th></th>\n",
       "      <th>text</th>\n",
       "      <th>label</th>\n",
       "    </tr>\n",
       "  </thead>\n",
       "  <tbody>\n",
       "    <tr>\n",
       "      <th>0</th>\n",
       "      <td>, ...</td>\n",
       "      <td>[1]</td>\n",
       "    </tr>\n",
       "    <tr>\n",
       "      <th>3</th>\n",
       "      <td>* So get up out of your bed</td>\n",
       "      <td>[1]</td>\n",
       "    </tr>\n",
       "    <tr>\n",
       "      <th>5</th>\n",
       "      <td>A dead man has one half - hour to raise his ro...</td>\n",
       "      <td>[1]</td>\n",
       "    </tr>\n",
       "    <tr>\n",
       "      <th>6</th>\n",
       "      <td>A guy that's talking about he's gonna solve al...</td>\n",
       "      <td>[1]</td>\n",
       "    </tr>\n",
       "    <tr>\n",
       "      <th>7</th>\n",
       "      <td>A guy who was a pain in the neck even before I...</td>\n",
       "      <td>[1]</td>\n",
       "    </tr>\n",
       "    <tr>\n",
       "      <th>9</th>\n",
       "      <td>A lady wouldn't work for this outfit .</td>\n",
       "      <td>[1]</td>\n",
       "    </tr>\n",
       "    <tr>\n",
       "      <th>10</th>\n",
       "      <td>A little dicey doing a background on an FBI ag...</td>\n",
       "      <td>[1]</td>\n",
       "    </tr>\n",
       "    <tr>\n",
       "      <th>11</th>\n",
       "      <td>A little restraint ?</td>\n",
       "      <td>[1]</td>\n",
       "    </tr>\n",
       "    <tr>\n",
       "      <th>12</th>\n",
       "      <td>A little rush ?</td>\n",
       "      <td>[1]</td>\n",
       "    </tr>\n",
       "    <tr>\n",
       "      <th>13</th>\n",
       "      <td>A lost decade , but it was worth it to make yo...</td>\n",
       "      <td>[1]</td>\n",
       "    </tr>\n",
       "    <tr>\n",
       "      <th>14</th>\n",
       "      <td>A lot of junk all right ...</td>\n",
       "      <td>[1]</td>\n",
       "    </tr>\n",
       "    <tr>\n",
       "      <th>15</th>\n",
       "      <td>A lot of people are going to pay for this night .</td>\n",
       "      <td>[1]</td>\n",
       "    </tr>\n",
       "    <tr>\n",
       "      <th>16</th>\n",
       "      <td>A lot of you incumbents will be in danger of l...</td>\n",
       "      <td>[1]</td>\n",
       "    </tr>\n",
       "    <tr>\n",
       "      <th>18</th>\n",
       "      <td>A map's no good in the outback !</td>\n",
       "      <td>[1]</td>\n",
       "    </tr>\n",
       "    <tr>\n",
       "      <th>19</th>\n",
       "      <td>A perfect place to lose anybody , but this lit...</td>\n",
       "      <td>[1]</td>\n",
       "    </tr>\n",
       "    <tr>\n",
       "      <th>23</th>\n",
       "      <td>About time !</td>\n",
       "      <td>[1]</td>\n",
       "    </tr>\n",
       "    <tr>\n",
       "      <th>24</th>\n",
       "      <td>Absolute disregard to not show up .</td>\n",
       "      <td>[1]</td>\n",
       "    </tr>\n",
       "    <tr>\n",
       "      <th>25</th>\n",
       "      <td>Acknowledge , over .</td>\n",
       "      <td>[1]</td>\n",
       "    </tr>\n",
       "    <tr>\n",
       "      <th>27</th>\n",
       "      <td>[PERSON] , I don't think it'd be so bad if I t...</td>\n",
       "      <td>[1]</td>\n",
       "    </tr>\n",
       "    <tr>\n",
       "      <th>28</th>\n",
       "      <td>[PERSON] , what did I do ?</td>\n",
       "      <td>[1]</td>\n",
       "    </tr>\n",
       "    <tr>\n",
       "      <th>29</th>\n",
       "      <td>[PERSON] , where's the kid ?</td>\n",
       "      <td>[1]</td>\n",
       "    </tr>\n",
       "    <tr>\n",
       "      <th>30</th>\n",
       "      <td>After that , I don't care if you've found the ...</td>\n",
       "      <td>[1]</td>\n",
       "    </tr>\n",
       "    <tr>\n",
       "      <th>33</th>\n",
       "      <td>Ah , for fuck's sake , mate .</td>\n",
       "      <td>[1]</td>\n",
       "    </tr>\n",
       "    <tr>\n",
       "      <th>37</th>\n",
       "      <td>Ain't much you can do about us .</td>\n",
       "      <td>[1]</td>\n",
       "    </tr>\n",
       "    <tr>\n",
       "      <th>38</th>\n",
       "      <td>Ain't nobody in the world gonna drive this exc...</td>\n",
       "      <td>[1]</td>\n",
       "    </tr>\n",
       "  </tbody>\n",
       "</table>\n",
       "</div>"
      ],
      "text/plain": [
       "                                                 text label\n",
       "0                                               , ...   [1]\n",
       "3                         * So get up out of your bed   [1]\n",
       "5   A dead man has one half - hour to raise his ro...   [1]\n",
       "6   A guy that's talking about he's gonna solve al...   [1]\n",
       "7   A guy who was a pain in the neck even before I...   [1]\n",
       "9              A lady wouldn't work for this outfit .   [1]\n",
       "10  A little dicey doing a background on an FBI ag...   [1]\n",
       "11                               A little restraint ?   [1]\n",
       "12                                    A little rush ?   [1]\n",
       "13  A lost decade , but it was worth it to make yo...   [1]\n",
       "14                        A lot of junk all right ...   [1]\n",
       "15  A lot of people are going to pay for this night .   [1]\n",
       "16  A lot of you incumbents will be in danger of l...   [1]\n",
       "18                   A map's no good in the outback !   [1]\n",
       "19  A perfect place to lose anybody , but this lit...   [1]\n",
       "23                                       About time !   [1]\n",
       "24                Absolute disregard to not show up .   [1]\n",
       "25                               Acknowledge , over .   [1]\n",
       "27  [PERSON] , I don't think it'd be so bad if I t...   [1]\n",
       "28                         [PERSON] , what did I do ?   [1]\n",
       "29                       [PERSON] , where's the kid ?   [1]\n",
       "30  After that , I don't care if you've found the ...   [1]\n",
       "33                      Ah , for fuck's sake , mate .   [1]\n",
       "37                   Ain't much you can do about us .   [1]\n",
       "38  Ain't nobody in the world gonna drive this exc...   [1]"
      ]
     },
     "execution_count": 7,
     "metadata": {},
     "output_type": "execute_result"
    }
   ],
   "source": [
    "# find items with single label\n",
    "xed_df = xed_df[xed_df['label'].map(len) == 1 ]\n",
    "xed_df.head(25)"
   ]
  },
  {
   "cell_type": "code",
   "execution_count": 8,
   "metadata": {},
   "outputs": [
    {
     "name": "stdout",
     "output_type": "stream",
     "text": [
      "<class 'pandas.core.frame.DataFrame'>\n",
      "Int64Index: 13655 entries, 0 to 17527\n",
      "Data columns (total 2 columns):\n",
      " #   Column  Non-Null Count  Dtype \n",
      "---  ------  --------------  ----- \n",
      " 0   text    13655 non-null  object\n",
      " 1   label   13655 non-null  object\n",
      "dtypes: object(2)\n",
      "memory usage: 320.0+ KB\n"
     ]
    }
   ],
   "source": [
    "xed_df.info()"
   ]
  },
  {
   "cell_type": "markdown",
   "metadata": {},
   "source": [
    "### Cast Labels as Integers"
   ]
  },
  {
   "cell_type": "code",
   "execution_count": 9,
   "metadata": {},
   "outputs": [
    {
     "data": {
      "text/html": [
       "<div>\n",
       "<style scoped>\n",
       "    .dataframe tbody tr th:only-of-type {\n",
       "        vertical-align: middle;\n",
       "    }\n",
       "\n",
       "    .dataframe tbody tr th {\n",
       "        vertical-align: top;\n",
       "    }\n",
       "\n",
       "    .dataframe thead th {\n",
       "        text-align: right;\n",
       "    }\n",
       "</style>\n",
       "<table border=\"1\" class=\"dataframe\">\n",
       "  <thead>\n",
       "    <tr style=\"text-align: right;\">\n",
       "      <th></th>\n",
       "      <th>text</th>\n",
       "      <th>label</th>\n",
       "    </tr>\n",
       "  </thead>\n",
       "  <tbody>\n",
       "    <tr>\n",
       "      <th>0</th>\n",
       "      <td>, ...</td>\n",
       "      <td>1</td>\n",
       "    </tr>\n",
       "    <tr>\n",
       "      <th>3</th>\n",
       "      <td>* So get up out of your bed</td>\n",
       "      <td>1</td>\n",
       "    </tr>\n",
       "    <tr>\n",
       "      <th>5</th>\n",
       "      <td>A dead man has one half - hour to raise his ro...</td>\n",
       "      <td>1</td>\n",
       "    </tr>\n",
       "    <tr>\n",
       "      <th>6</th>\n",
       "      <td>A guy that's talking about he's gonna solve al...</td>\n",
       "      <td>1</td>\n",
       "    </tr>\n",
       "    <tr>\n",
       "      <th>7</th>\n",
       "      <td>A guy who was a pain in the neck even before I...</td>\n",
       "      <td>1</td>\n",
       "    </tr>\n",
       "  </tbody>\n",
       "</table>\n",
       "</div>"
      ],
      "text/plain": [
       "                                                text  label\n",
       "0                                              , ...      1\n",
       "3                        * So get up out of your bed      1\n",
       "5  A dead man has one half - hour to raise his ro...      1\n",
       "6  A guy that's talking about he's gonna solve al...      1\n",
       "7  A guy who was a pain in the neck even before I...      1"
      ]
     },
     "execution_count": 9,
     "metadata": {},
     "output_type": "execute_result"
    }
   ],
   "source": [
    "# pull first (only) item out of each array\n",
    "xed_df['label'] = xed_df['label'].apply(lambda x: x[0])\n",
    "\n",
    "xed_df.head()"
   ]
  },
  {
   "cell_type": "markdown",
   "metadata": {},
   "source": [
    "## View Label Distribution"
   ]
  },
  {
   "cell_type": "code",
   "execution_count": 10,
   "metadata": {},
   "outputs": [
    {
     "data": {
      "text/plain": [
       "[Text(0, 0, '2391'),\n",
       " Text(0, 0, '2028'),\n",
       " Text(0, 0, '1413'),\n",
       " Text(0, 0, '1529'),\n",
       " Text(0, 0, '1721'),\n",
       " Text(0, 0, '1527'),\n",
       " Text(0, 0, '1429'),\n",
       " Text(0, 0, '1617')]"
      ]
     },
     "execution_count": 10,
     "metadata": {},
     "output_type": "execute_result"
    },
    {
     "data": {
      "image/png": "[encoded data removed]",
      "text/plain": [
       "<Figure size 1200x600 with 1 Axes>"
      ]
     },
     "metadata": {},
     "output_type": "display_data"
    }
   ],
   "source": [
    "fig = plt.figure(figsize=(12, 6))\n",
    "ax = sns.countplot(x='label', data=xed_df)\n",
    "ax.bar_label(ax.containers[0])"
   ]
  },
  {
   "cell_type": "markdown",
   "metadata": {},
   "source": [
    "## View Word Counts & Word Count Distribution "
   ]
  },
  {
   "cell_type": "code",
   "execution_count": 11,
   "metadata": {},
   "outputs": [
    {
     "data": {
      "text/html": [
       "<div>\n",
       "<style scoped>\n",
       "    .dataframe tbody tr th:only-of-type {\n",
       "        vertical-align: middle;\n",
       "    }\n",
       "\n",
       "    .dataframe tbody tr th {\n",
       "        vertical-align: top;\n",
       "    }\n",
       "\n",
       "    .dataframe thead th {\n",
       "        text-align: right;\n",
       "    }\n",
       "</style>\n",
       "<table border=\"1\" class=\"dataframe\">\n",
       "  <thead>\n",
       "    <tr style=\"text-align: right;\">\n",
       "      <th></th>\n",
       "      <th>text</th>\n",
       "      <th>label</th>\n",
       "      <th>num_word_text</th>\n",
       "    </tr>\n",
       "  </thead>\n",
       "  <tbody>\n",
       "    <tr>\n",
       "      <th>0</th>\n",
       "      <td>, ...</td>\n",
       "      <td>1</td>\n",
       "      <td>2</td>\n",
       "    </tr>\n",
       "    <tr>\n",
       "      <th>3</th>\n",
       "      <td>* So get up out of your bed</td>\n",
       "      <td>1</td>\n",
       "      <td>8</td>\n",
       "    </tr>\n",
       "    <tr>\n",
       "      <th>5</th>\n",
       "      <td>A dead man has one half - hour to raise his ro...</td>\n",
       "      <td>1</td>\n",
       "      <td>20</td>\n",
       "    </tr>\n",
       "    <tr>\n",
       "      <th>6</th>\n",
       "      <td>A guy that's talking about he's gonna solve al...</td>\n",
       "      <td>1</td>\n",
       "      <td>12</td>\n",
       "    </tr>\n",
       "    <tr>\n",
       "      <th>7</th>\n",
       "      <td>A guy who was a pain in the neck even before I...</td>\n",
       "      <td>1</td>\n",
       "      <td>16</td>\n",
       "    </tr>\n",
       "  </tbody>\n",
       "</table>\n",
       "</div>"
      ],
      "text/plain": [
       "                                                text  label  num_word_text\n",
       "0                                              , ...      1              2\n",
       "3                        * So get up out of your bed      1              8\n",
       "5  A dead man has one half - hour to raise his ro...      1             20\n",
       "6  A guy that's talking about he's gonna solve al...      1             12\n",
       "7  A guy who was a pain in the neck even before I...      1             16"
      ]
     },
     "execution_count": 11,
     "metadata": {},
     "output_type": "execute_result"
    }
   ],
   "source": [
    "xed_df['num_word_text'] = xed_df['text'].apply(lambda x:len(str(x).split()))\n",
    "xed_df.head()"
   ]
  },
  {
   "cell_type": "code",
   "execution_count": 12,
   "metadata": {},
   "outputs": [
    {
     "data": {
      "text/html": [
       "<div>\n",
       "<style scoped>\n",
       "    .dataframe tbody tr th:only-of-type {\n",
       "        vertical-align: middle;\n",
       "    }\n",
       "\n",
       "    .dataframe tbody tr th {\n",
       "        vertical-align: top;\n",
       "    }\n",
       "\n",
       "    .dataframe thead th {\n",
       "        text-align: right;\n",
       "    }\n",
       "</style>\n",
       "<table border=\"1\" class=\"dataframe\">\n",
       "  <thead>\n",
       "    <tr style=\"text-align: right;\">\n",
       "      <th></th>\n",
       "      <th>label</th>\n",
       "      <th>num_word_text</th>\n",
       "    </tr>\n",
       "  </thead>\n",
       "  <tbody>\n",
       "    <tr>\n",
       "      <th>count</th>\n",
       "      <td>13655.000000</td>\n",
       "      <td>13655.000000</td>\n",
       "    </tr>\n",
       "    <tr>\n",
       "      <th>mean</th>\n",
       "      <td>4.211498</td>\n",
       "      <td>8.947345</td>\n",
       "    </tr>\n",
       "    <tr>\n",
       "      <th>std</th>\n",
       "      <td>2.374662</td>\n",
       "      <td>4.786118</td>\n",
       "    </tr>\n",
       "    <tr>\n",
       "      <th>min</th>\n",
       "      <td>1.000000</td>\n",
       "      <td>2.000000</td>\n",
       "    </tr>\n",
       "    <tr>\n",
       "      <th>25%</th>\n",
       "      <td>2.000000</td>\n",
       "      <td>6.000000</td>\n",
       "    </tr>\n",
       "    <tr>\n",
       "      <th>50%</th>\n",
       "      <td>4.000000</td>\n",
       "      <td>8.000000</td>\n",
       "    </tr>\n",
       "    <tr>\n",
       "      <th>75%</th>\n",
       "      <td>6.000000</td>\n",
       "      <td>11.000000</td>\n",
       "    </tr>\n",
       "    <tr>\n",
       "      <th>max</th>\n",
       "      <td>8.000000</td>\n",
       "      <td>46.000000</td>\n",
       "    </tr>\n",
       "  </tbody>\n",
       "</table>\n",
       "</div>"
      ],
      "text/plain": [
       "              label  num_word_text\n",
       "count  13655.000000   13655.000000\n",
       "mean       4.211498       8.947345\n",
       "std        2.374662       4.786118\n",
       "min        1.000000       2.000000\n",
       "25%        2.000000       6.000000\n",
       "50%        4.000000       8.000000\n",
       "75%        6.000000      11.000000\n",
       "max        8.000000      46.000000"
      ]
     },
     "execution_count": 12,
     "metadata": {},
     "output_type": "execute_result"
    }
   ],
   "source": [
    "xed_df.describe()"
   ]
  },
  {
   "cell_type": "code",
   "execution_count": 13,
   "metadata": {},
   "outputs": [
    {
     "data": {
      "text/plain": [
       "<AxesSubplot: xlabel='num_word_text', ylabel='Count'>"
      ]
     },
     "execution_count": 13,
     "metadata": {},
     "output_type": "execute_result"
    },
    {
     "data": {
      "image/png": "[encoded data removed]",
      "text/plain": [
       "<Figure size 640x480 with 1 Axes>"
      ]
     },
     "metadata": {},
     "output_type": "display_data"
    }
   ],
   "source": [
    "sns.histplot(x=\"num_word_text\", data=xed_df,  hue=\"label\", palette=\"tab10\")"
   ]
  },
  {
   "cell_type": "code",
   "execution_count": 14,
   "metadata": {},
   "outputs": [
    {
     "data": {
      "text/plain": [
       "0                                                                                      , ...\n",
       "3                                                                * So get up out of your bed\n",
       "5        A dead man has one half - hour to raise his roll outside and get back in the game .\n",
       "6                            A guy that's talking about he's gonna solve all your problems .\n",
       "7                         A guy who was a pain in the neck even before I carried his stuff .\n",
       "                                                ...                                         \n",
       "17523                                                       Your opinion might be valuable .\n",
       "17524                                                                          Your orders .\n",
       "17525                                                  Your ship's been in lots of battles .\n",
       "17526                                                             Your wine , your Majesty .\n",
       "17527                                                                                Yours ?\n",
       "Name: text, Length: 13655, dtype: object"
      ]
     },
     "execution_count": 14,
     "metadata": {},
     "output_type": "execute_result"
    }
   ],
   "source": [
    "pd.options.display.max_colwidth = 100\n",
    "xed_df['text']"
   ]
  },
  {
   "cell_type": "markdown",
   "metadata": {},
   "source": [
    "### Longest Entries"
   ]
  },
  {
   "cell_type": "code",
   "execution_count": 15,
   "metadata": {},
   "outputs": [
    {
     "data": {
      "text/html": [
       "<div>\n",
       "<style scoped>\n",
       "    .dataframe tbody tr th:only-of-type {\n",
       "        vertical-align: middle;\n",
       "    }\n",
       "\n",
       "    .dataframe tbody tr th {\n",
       "        vertical-align: top;\n",
       "    }\n",
       "\n",
       "    .dataframe thead th {\n",
       "        text-align: right;\n",
       "    }\n",
       "</style>\n",
       "<table border=\"1\" class=\"dataframe\">\n",
       "  <thead>\n",
       "    <tr style=\"text-align: right;\">\n",
       "      <th></th>\n",
       "      <th>text</th>\n",
       "      <th>label</th>\n",
       "      <th>num_word_text</th>\n",
       "    </tr>\n",
       "  </thead>\n",
       "  <tbody>\n",
       "    <tr>\n",
       "      <th>3681</th>\n",
       "      <td>Director of Central Intelligence would give to Carters the president - elect all of the information he had on the potential existence of extraterrestrial life , and the issue of whether or not any...</td>\n",
       "      <td>8</td>\n",
       "      <td>46</td>\n",
       "    </tr>\n",
       "    <tr>\n",
       "      <th>10192</th>\n",
       "      <td>I don't resent your not paying me for the past two months ... but the thought that I should split my bank account with you ... that you should take half of my life's savings ... that is really too...</td>\n",
       "      <td>3</td>\n",
       "      <td>46</td>\n",
       "    </tr>\n",
       "  </tbody>\n",
       "</table>\n",
       "</div>"
      ],
      "text/plain": [
       "                                                                                                                                                                                                          text  \\\n",
       "3681   Director of Central Intelligence would give to Carters the president - elect all of the information he had on the potential existence of extraterrestrial life , and the issue of whether or not any...   \n",
       "10192  I don't resent your not paying me for the past two months ... but the thought that I should split my bank account with you ... that you should take half of my life's savings ... that is really too...   \n",
       "\n",
       "       label  num_word_text  \n",
       "3681       8             46  \n",
       "10192      3             46  "
      ]
     },
     "execution_count": 15,
     "metadata": {},
     "output_type": "execute_result"
    }
   ],
   "source": [
    "pd.options.display.max_colwidth = 200\n",
    "xed_df.loc[xed_df['num_word_text'] == 46]\n"
   ]
  },
  {
   "cell_type": "markdown",
   "metadata": {},
   "source": [
    "### Shortest Entries"
   ]
  },
  {
   "cell_type": "code",
   "execution_count": 16,
   "metadata": {},
   "outputs": [
    {
     "data": {
      "text/html": [
       "<div>\n",
       "<style scoped>\n",
       "    .dataframe tbody tr th:only-of-type {\n",
       "        vertical-align: middle;\n",
       "    }\n",
       "\n",
       "    .dataframe tbody tr th {\n",
       "        vertical-align: top;\n",
       "    }\n",
       "\n",
       "    .dataframe thead th {\n",
       "        text-align: right;\n",
       "    }\n",
       "</style>\n",
       "<table border=\"1\" class=\"dataframe\">\n",
       "  <thead>\n",
       "    <tr style=\"text-align: right;\">\n",
       "      <th></th>\n",
       "      <th>text</th>\n",
       "      <th>label</th>\n",
       "      <th>num_word_text</th>\n",
       "    </tr>\n",
       "  </thead>\n",
       "  <tbody>\n",
       "    <tr>\n",
       "      <th>0</th>\n",
       "      <td>, ...</td>\n",
       "      <td>1</td>\n",
       "      <td>2</td>\n",
       "    </tr>\n",
       "    <tr>\n",
       "      <th>71</th>\n",
       "      <td>Altitude !</td>\n",
       "      <td>1</td>\n",
       "      <td>2</td>\n",
       "    </tr>\n",
       "    <tr>\n",
       "      <th>230</th>\n",
       "      <td>Bastard !</td>\n",
       "      <td>1</td>\n",
       "      <td>2</td>\n",
       "    </tr>\n",
       "    <tr>\n",
       "      <th>231</th>\n",
       "      <td>Bastard .</td>\n",
       "      <td>1</td>\n",
       "      <td>2</td>\n",
       "    </tr>\n",
       "    <tr>\n",
       "      <th>232</th>\n",
       "      <td>Bastards .</td>\n",
       "      <td>1</td>\n",
       "      <td>2</td>\n",
       "    </tr>\n",
       "    <tr>\n",
       "      <th>...</th>\n",
       "      <td>...</td>\n",
       "      <td>...</td>\n",
       "      <td>...</td>\n",
       "    </tr>\n",
       "    <tr>\n",
       "      <th>16923</th>\n",
       "      <td>Shalakazam .</td>\n",
       "      <td>8</td>\n",
       "      <td>2</td>\n",
       "    </tr>\n",
       "    <tr>\n",
       "      <th>16945</th>\n",
       "      <td>Sir !</td>\n",
       "      <td>8</td>\n",
       "      <td>2</td>\n",
       "    </tr>\n",
       "    <tr>\n",
       "      <th>17208</th>\n",
       "      <td>We .</td>\n",
       "      <td>8</td>\n",
       "      <td>2</td>\n",
       "    </tr>\n",
       "    <tr>\n",
       "      <th>17310</th>\n",
       "      <td>Wow .</td>\n",
       "      <td>8</td>\n",
       "      <td>2</td>\n",
       "    </tr>\n",
       "    <tr>\n",
       "      <th>17527</th>\n",
       "      <td>Yours ?</td>\n",
       "      <td>8</td>\n",
       "      <td>2</td>\n",
       "    </tr>\n",
       "  </tbody>\n",
       "</table>\n",
       "<p>209 rows × 3 columns</p>\n",
       "</div>"
      ],
      "text/plain": [
       "               text  label  num_word_text\n",
       "0             , ...      1              2\n",
       "71       Altitude !      1              2\n",
       "230       Bastard !      1              2\n",
       "231       Bastard .      1              2\n",
       "232      Bastards .      1              2\n",
       "...             ...    ...            ...\n",
       "16923  Shalakazam .      8              2\n",
       "16945         Sir !      8              2\n",
       "17208          We .      8              2\n",
       "17310         Wow .      8              2\n",
       "17527       Yours ?      8              2\n",
       "\n",
       "[209 rows x 3 columns]"
      ]
     },
     "execution_count": 16,
     "metadata": {},
     "output_type": "execute_result"
    }
   ],
   "source": [
    "xed_df.loc[xed_df['num_word_text'] == 2]"
   ]
  },
  {
   "cell_type": "markdown",
   "metadata": {},
   "source": [
    "#### View Tokenized Length\n",
    "Below, we find that the tokenized XED sequences are quite short."
   ]
  },
  {
   "cell_type": "code",
   "execution_count": 17,
   "metadata": {},
   "outputs": [],
   "source": [
    "train_token_id = []\n",
    "\n",
    "# encode training text\n",
    "for sample in xed_df.text.values:\n",
    "  encoding_dict = preprocessing_dyna(sample, params.tokenizer)\n",
    "  # parse encoding dict to lists\n",
    "  train_token_id.append(encoding_dict['input_ids']) "
   ]
  },
  {
   "cell_type": "code",
   "execution_count": 18,
   "metadata": {},
   "outputs": [
    {
     "data": {
      "text/plain": [
       "[[0, 6, 1666, 2], [0, 3226, 407, 120, 62, 66, 9, 110, 3267, 2]]"
      ]
     },
     "execution_count": 18,
     "metadata": {},
     "output_type": "execute_result"
    }
   ],
   "source": [
    "train_token_id[:2]"
   ]
  },
  {
   "cell_type": "code",
   "execution_count": 19,
   "metadata": {},
   "outputs": [
    {
     "name": "stdout",
     "output_type": "stream",
     "text": [
      "13655\n",
      "[4, 10, 22, 16, 18, 11, 14, 6, 6, 20]\n",
      "Max Tokenized Sequence Length: 62\n"
     ]
    }
   ],
   "source": [
    "lengths = []\n",
    "for i in train_token_id:\n",
    "    lengths.append(len(i))\n",
    "\n",
    "print(len(lengths))\n",
    "print(lengths[:10])\n",
    "print(f'Max Tokenized Sequence Length: {max(lengths)}')"
   ]
  },
  {
   "cell_type": "markdown",
   "metadata": {},
   "source": [
    "## Adjust & Export Datasets for Train/Validate/Test"
   ]
  },
  {
   "cell_type": "code",
   "execution_count": 20,
   "metadata": {},
   "outputs": [
    {
     "data": {
      "text/html": [
       "<div>\n",
       "<style scoped>\n",
       "    .dataframe tbody tr th:only-of-type {\n",
       "        vertical-align: middle;\n",
       "    }\n",
       "\n",
       "    .dataframe tbody tr th {\n",
       "        vertical-align: top;\n",
       "    }\n",
       "\n",
       "    .dataframe thead th {\n",
       "        text-align: right;\n",
       "    }\n",
       "</style>\n",
       "<table border=\"1\" class=\"dataframe\">\n",
       "  <thead>\n",
       "    <tr style=\"text-align: right;\">\n",
       "      <th></th>\n",
       "      <th>text</th>\n",
       "      <th>label</th>\n",
       "      <th>num_word_text</th>\n",
       "    </tr>\n",
       "  </thead>\n",
       "  <tbody>\n",
       "    <tr>\n",
       "      <th>0</th>\n",
       "      <td>Who were you expecting ?</td>\n",
       "      <td>7</td>\n",
       "      <td>5</td>\n",
       "    </tr>\n",
       "    <tr>\n",
       "      <th>1</th>\n",
       "      <td>One more to go , chicken .</td>\n",
       "      <td>1</td>\n",
       "      <td>7</td>\n",
       "    </tr>\n",
       "    <tr>\n",
       "      <th>2</th>\n",
       "      <td>Where'd you get that ?</td>\n",
       "      <td>2</td>\n",
       "      <td>5</td>\n",
       "    </tr>\n",
       "    <tr>\n",
       "      <th>3</th>\n",
       "      <td>Sometimes they have an accident .</td>\n",
       "      <td>6</td>\n",
       "      <td>6</td>\n",
       "    </tr>\n",
       "    <tr>\n",
       "      <th>4</th>\n",
       "      <td>I haven't been up this early in years .</td>\n",
       "      <td>7</td>\n",
       "      <td>9</td>\n",
       "    </tr>\n",
       "  </tbody>\n",
       "</table>\n",
       "</div>"
      ],
      "text/plain": [
       "                                      text  label  num_word_text\n",
       "0                 Who were you expecting ?      7              5\n",
       "1               One more to go , chicken .      1              7\n",
       "2                   Where'd you get that ?      2              5\n",
       "3        Sometimes they have an accident .      6              6\n",
       "4  I haven't been up this early in years .      7              9"
      ]
     },
     "execution_count": 20,
     "metadata": {},
     "output_type": "execute_result"
    }
   ],
   "source": [
    "# shuffle dataframe and reset index\n",
    "xed_df = xed_df.sample(frac=1, random_state=1).reset_index(drop=True)\n",
    "\n",
    "xed_df.head()"
   ]
  },
  {
   "cell_type": "code",
   "execution_count": 21,
   "metadata": {},
   "outputs": [
    {
     "name": "stdout",
     "output_type": "stream",
     "text": [
      "<class 'pandas.core.frame.DataFrame'>\n",
      "RangeIndex: 13655 entries, 0 to 13654\n",
      "Data columns (total 3 columns):\n",
      " #   Column         Non-Null Count  Dtype \n",
      "---  ------         --------------  ----- \n",
      " 0   text           13655 non-null  object\n",
      " 1   label          13655 non-null  int64 \n",
      " 2   num_word_text  13655 non-null  int64 \n",
      "dtypes: int64(2), object(1)\n",
      "memory usage: 320.2+ KB\n"
     ]
    }
   ],
   "source": [
    "xed_df.info()"
   ]
  },
  {
   "cell_type": "markdown",
   "metadata": {},
   "source": [
    "### Test Split"
   ]
  },
  {
   "cell_type": "code",
   "execution_count": 22,
   "metadata": {},
   "outputs": [
    {
     "data": {
      "text/html": [
       "<div>\n",
       "<style scoped>\n",
       "    .dataframe tbody tr th:only-of-type {\n",
       "        vertical-align: middle;\n",
       "    }\n",
       "\n",
       "    .dataframe tbody tr th {\n",
       "        vertical-align: top;\n",
       "    }\n",
       "\n",
       "    .dataframe thead th {\n",
       "        text-align: right;\n",
       "    }\n",
       "</style>\n",
       "<table border=\"1\" class=\"dataframe\">\n",
       "  <thead>\n",
       "    <tr style=\"text-align: right;\">\n",
       "      <th></th>\n",
       "      <th>text</th>\n",
       "      <th>label</th>\n",
       "      <th>num_word_text</th>\n",
       "    </tr>\n",
       "  </thead>\n",
       "  <tbody>\n",
       "    <tr>\n",
       "      <th>12277</th>\n",
       "      <td>I'm just curious .</td>\n",
       "      <td>2</td>\n",
       "      <td>4</td>\n",
       "    </tr>\n",
       "    <tr>\n",
       "      <th>4721</th>\n",
       "      <td>If you hadn't promised so faithfully , I wouldn't have planned the whole thing .</td>\n",
       "      <td>1</td>\n",
       "      <td>15</td>\n",
       "    </tr>\n",
       "    <tr>\n",
       "      <th>663</th>\n",
       "      <td>But they turned the lights down this time and didn't say this is a drill .</td>\n",
       "      <td>4</td>\n",
       "      <td>16</td>\n",
       "    </tr>\n",
       "    <tr>\n",
       "      <th>11087</th>\n",
       "      <td>This is junk .</td>\n",
       "      <td>3</td>\n",
       "      <td>4</td>\n",
       "    </tr>\n",
       "    <tr>\n",
       "      <th>11642</th>\n",
       "      <td>Listen , [PERSON] , why don't you come down with us ?</td>\n",
       "      <td>2</td>\n",
       "      <td>12</td>\n",
       "    </tr>\n",
       "    <tr>\n",
       "      <th>...</th>\n",
       "      <td>...</td>\n",
       "      <td>...</td>\n",
       "      <td>...</td>\n",
       "    </tr>\n",
       "    <tr>\n",
       "      <th>7617</th>\n",
       "      <td>Yeah , then why are you trying to hurt me ?</td>\n",
       "      <td>4</td>\n",
       "      <td>11</td>\n",
       "    </tr>\n",
       "    <tr>\n",
       "      <th>6665</th>\n",
       "      <td>What if they catch the Captain before he gets help ?</td>\n",
       "      <td>4</td>\n",
       "      <td>11</td>\n",
       "    </tr>\n",
       "    <tr>\n",
       "      <th>9193</th>\n",
       "      <td>I want to sit in front .</td>\n",
       "      <td>2</td>\n",
       "      <td>7</td>\n",
       "    </tr>\n",
       "    <tr>\n",
       "      <th>9218</th>\n",
       "      <td>You know , I still expect him to come home for dinner .</td>\n",
       "      <td>6</td>\n",
       "      <td>13</td>\n",
       "    </tr>\n",
       "    <tr>\n",
       "      <th>2430</th>\n",
       "      <td>What are you doing ?</td>\n",
       "      <td>7</td>\n",
       "      <td>5</td>\n",
       "    </tr>\n",
       "  </tbody>\n",
       "</table>\n",
       "<p>1655 rows × 3 columns</p>\n",
       "</div>"
      ],
      "text/plain": [
       "                                                                                   text  \\\n",
       "12277                                                                I'm just curious .   \n",
       "4721   If you hadn't promised so faithfully , I wouldn't have planned the whole thing .   \n",
       "663          But they turned the lights down this time and didn't say this is a drill .   \n",
       "11087                                                                    This is junk .   \n",
       "11642                             Listen , [PERSON] , why don't you come down with us ?   \n",
       "...                                                                                 ...   \n",
       "7617                                        Yeah , then why are you trying to hurt me ?   \n",
       "6665                               What if they catch the Captain before he gets help ?   \n",
       "9193                                                           I want to sit in front .   \n",
       "9218                            You know , I still expect him to come home for dinner .   \n",
       "2430                                                               What are you doing ?   \n",
       "\n",
       "       label  num_word_text  \n",
       "12277      2              4  \n",
       "4721       1             15  \n",
       "663        4             16  \n",
       "11087      3              4  \n",
       "11642      2             12  \n",
       "...      ...            ...  \n",
       "7617       4             11  \n",
       "6665       4             11  \n",
       "9193       2              7  \n",
       "9218       6             13  \n",
       "2430       7              5  \n",
       "\n",
       "[1655 rows x 3 columns]"
      ]
     },
     "execution_count": 22,
     "metadata": {},
     "output_type": "execute_result"
    }
   ],
   "source": [
    "# get 1,655 sample\n",
    "xed_test = xed_df.sample(1655, random_state=1)\n",
    "xed_test"
   ]
  },
  {
   "cell_type": "code",
   "execution_count": 23,
   "metadata": {},
   "outputs": [
    {
     "data": {
      "text/html": [
       "<div>\n",
       "<style scoped>\n",
       "    .dataframe tbody tr th:only-of-type {\n",
       "        vertical-align: middle;\n",
       "    }\n",
       "\n",
       "    .dataframe tbody tr th {\n",
       "        vertical-align: top;\n",
       "    }\n",
       "\n",
       "    .dataframe thead th {\n",
       "        text-align: right;\n",
       "    }\n",
       "</style>\n",
       "<table border=\"1\" class=\"dataframe\">\n",
       "  <thead>\n",
       "    <tr style=\"text-align: right;\">\n",
       "      <th></th>\n",
       "      <th>text</th>\n",
       "      <th>label</th>\n",
       "      <th>num_word_text</th>\n",
       "    </tr>\n",
       "  </thead>\n",
       "  <tbody>\n",
       "    <tr>\n",
       "      <th>0</th>\n",
       "      <td>Who were you expecting ?</td>\n",
       "      <td>7</td>\n",
       "      <td>5</td>\n",
       "    </tr>\n",
       "    <tr>\n",
       "      <th>1</th>\n",
       "      <td>One more to go , chicken .</td>\n",
       "      <td>1</td>\n",
       "      <td>7</td>\n",
       "    </tr>\n",
       "    <tr>\n",
       "      <th>2</th>\n",
       "      <td>Where'd you get that ?</td>\n",
       "      <td>2</td>\n",
       "      <td>5</td>\n",
       "    </tr>\n",
       "    <tr>\n",
       "      <th>3</th>\n",
       "      <td>Sometimes they have an accident .</td>\n",
       "      <td>6</td>\n",
       "      <td>6</td>\n",
       "    </tr>\n",
       "    <tr>\n",
       "      <th>5</th>\n",
       "      <td>I'm sorry , are we here to have a sarcastic back and forth , or would you like to exchange useful information ?</td>\n",
       "      <td>1</td>\n",
       "      <td>23</td>\n",
       "    </tr>\n",
       "    <tr>\n",
       "      <th>...</th>\n",
       "      <td>...</td>\n",
       "      <td>...</td>\n",
       "      <td>...</td>\n",
       "    </tr>\n",
       "    <tr>\n",
       "      <th>13650</th>\n",
       "      <td>Act your age !</td>\n",
       "      <td>3</td>\n",
       "      <td>4</td>\n",
       "    </tr>\n",
       "    <tr>\n",
       "      <th>13651</th>\n",
       "      <td>What a jerk .</td>\n",
       "      <td>1</td>\n",
       "      <td>4</td>\n",
       "    </tr>\n",
       "    <tr>\n",
       "      <th>13652</th>\n",
       "      <td>What else do you have to tell ?</td>\n",
       "      <td>7</td>\n",
       "      <td>8</td>\n",
       "    </tr>\n",
       "    <tr>\n",
       "      <th>13653</th>\n",
       "      <td>Come on , [PERSON] . We got ta move !</td>\n",
       "      <td>1</td>\n",
       "      <td>10</td>\n",
       "    </tr>\n",
       "    <tr>\n",
       "      <th>13654</th>\n",
       "      <td>We're going to do everything we can to help you , but you've got to help , too .</td>\n",
       "      <td>8</td>\n",
       "      <td>19</td>\n",
       "    </tr>\n",
       "  </tbody>\n",
       "</table>\n",
       "<p>12000 rows × 3 columns</p>\n",
       "</div>"
      ],
      "text/plain": [
       "                                                                                                                  text  \\\n",
       "0                                                                                             Who were you expecting ?   \n",
       "1                                                                                           One more to go , chicken .   \n",
       "2                                                                                               Where'd you get that ?   \n",
       "3                                                                                    Sometimes they have an accident .   \n",
       "5      I'm sorry , are we here to have a sarcastic back and forth , or would you like to exchange useful information ?   \n",
       "...                                                                                                                ...   \n",
       "13650                                                                                                   Act your age !   \n",
       "13651                                                                                                    What a jerk .   \n",
       "13652                                                                                  What else do you have to tell ?   \n",
       "13653                                                                            Come on , [PERSON] . We got ta move !   \n",
       "13654                                 We're going to do everything we can to help you , but you've got to help , too .   \n",
       "\n",
       "       label  num_word_text  \n",
       "0          7              5  \n",
       "1          1              7  \n",
       "2          2              5  \n",
       "3          6              6  \n",
       "5          1             23  \n",
       "...      ...            ...  \n",
       "13650      3              4  \n",
       "13651      1              4  \n",
       "13652      7              8  \n",
       "13653      1             10  \n",
       "13654      8             19  \n",
       "\n",
       "[12000 rows x 3 columns]"
      ]
     },
     "execution_count": 23,
     "metadata": {},
     "output_type": "execute_result"
    }
   ],
   "source": [
    "# remove test set samples from dataset\n",
    "xed_df = xed_df.drop(xed_test.index)\n",
    "xed_df\n"
   ]
  },
  {
   "cell_type": "markdown",
   "metadata": {},
   "source": [
    "### Validation Split"
   ]
  },
  {
   "cell_type": "code",
   "execution_count": 24,
   "metadata": {},
   "outputs": [
    {
     "data": {
      "text/html": [
       "<div>\n",
       "<style scoped>\n",
       "    .dataframe tbody tr th:only-of-type {\n",
       "        vertical-align: middle;\n",
       "    }\n",
       "\n",
       "    .dataframe tbody tr th {\n",
       "        vertical-align: top;\n",
       "    }\n",
       "\n",
       "    .dataframe thead th {\n",
       "        text-align: right;\n",
       "    }\n",
       "</style>\n",
       "<table border=\"1\" class=\"dataframe\">\n",
       "  <thead>\n",
       "    <tr style=\"text-align: right;\">\n",
       "      <th></th>\n",
       "      <th>text</th>\n",
       "      <th>label</th>\n",
       "      <th>num_word_text</th>\n",
       "    </tr>\n",
       "  </thead>\n",
       "  <tbody>\n",
       "    <tr>\n",
       "      <th>8138</th>\n",
       "      <td>It's hard to be strict with a man who loses money so pleasantly .</td>\n",
       "      <td>3</td>\n",
       "      <td>14</td>\n",
       "    </tr>\n",
       "    <tr>\n",
       "      <th>11820</th>\n",
       "      <td>You are all welcome to drink the bar dry .</td>\n",
       "      <td>5</td>\n",
       "      <td>10</td>\n",
       "    </tr>\n",
       "    <tr>\n",
       "      <th>2154</th>\n",
       "      <td>Do you think it's an epidemic like the flu ?</td>\n",
       "      <td>4</td>\n",
       "      <td>10</td>\n",
       "    </tr>\n",
       "    <tr>\n",
       "      <th>3862</th>\n",
       "      <td>We're losing the wind !</td>\n",
       "      <td>4</td>\n",
       "      <td>5</td>\n",
       "    </tr>\n",
       "    <tr>\n",
       "      <th>13306</th>\n",
       "      <td>What's killing all the children ?</td>\n",
       "      <td>4</td>\n",
       "      <td>6</td>\n",
       "    </tr>\n",
       "    <tr>\n",
       "      <th>...</th>\n",
       "      <td>...</td>\n",
       "      <td>...</td>\n",
       "      <td>...</td>\n",
       "    </tr>\n",
       "    <tr>\n",
       "      <th>12767</th>\n",
       "      <td>Look at me !</td>\n",
       "      <td>1</td>\n",
       "      <td>4</td>\n",
       "    </tr>\n",
       "    <tr>\n",
       "      <th>2431</th>\n",
       "      <td>I'm ready to testify . He'll go to jail .</td>\n",
       "      <td>8</td>\n",
       "      <td>10</td>\n",
       "    </tr>\n",
       "    <tr>\n",
       "      <th>5945</th>\n",
       "      <td>Your blood will thicken .</td>\n",
       "      <td>1</td>\n",
       "      <td>5</td>\n",
       "    </tr>\n",
       "    <tr>\n",
       "      <th>1146</th>\n",
       "      <td>Frank . The Benzedrine's got my teeth wiggling .</td>\n",
       "      <td>3</td>\n",
       "      <td>9</td>\n",
       "    </tr>\n",
       "    <tr>\n",
       "      <th>9219</th>\n",
       "      <td>When I was a little girl , like so many others , there was no money to buy shoes for me ,</td>\n",
       "      <td>6</td>\n",
       "      <td>22</td>\n",
       "    </tr>\n",
       "  </tbody>\n",
       "</table>\n",
       "<p>2400 rows × 3 columns</p>\n",
       "</div>"
      ],
      "text/plain": [
       "                                                                                            text  \\\n",
       "8138                           It's hard to be strict with a man who loses money so pleasantly .   \n",
       "11820                                                 You are all welcome to drink the bar dry .   \n",
       "2154                                                Do you think it's an epidemic like the flu ?   \n",
       "3862                                                                     We're losing the wind !   \n",
       "13306                                                          What's killing all the children ?   \n",
       "...                                                                                          ...   \n",
       "12767                                                                               Look at me !   \n",
       "2431                                                   I'm ready to testify . He'll go to jail .   \n",
       "5945                                                                   Your blood will thicken .   \n",
       "1146                                            Frank . The Benzedrine's got my teeth wiggling .   \n",
       "9219   When I was a little girl , like so many others , there was no money to buy shoes for me ,   \n",
       "\n",
       "       label  num_word_text  \n",
       "8138       3             14  \n",
       "11820      5             10  \n",
       "2154       4             10  \n",
       "3862       4              5  \n",
       "13306      4              6  \n",
       "...      ...            ...  \n",
       "12767      1              4  \n",
       "2431       8             10  \n",
       "5945       1              5  \n",
       "1146       3              9  \n",
       "9219       6             22  \n",
       "\n",
       "[2400 rows x 3 columns]"
      ]
     },
     "execution_count": 24,
     "metadata": {},
     "output_type": "execute_result"
    }
   ],
   "source": [
    "# get 2,400 samples\n",
    "xed_validation = xed_df.sample(2400, random_state=1)\n",
    "xed_validation"
   ]
  },
  {
   "cell_type": "code",
   "execution_count": 25,
   "metadata": {},
   "outputs": [
    {
     "data": {
      "text/html": [
       "<div>\n",
       "<style scoped>\n",
       "    .dataframe tbody tr th:only-of-type {\n",
       "        vertical-align: middle;\n",
       "    }\n",
       "\n",
       "    .dataframe tbody tr th {\n",
       "        vertical-align: top;\n",
       "    }\n",
       "\n",
       "    .dataframe thead th {\n",
       "        text-align: right;\n",
       "    }\n",
       "</style>\n",
       "<table border=\"1\" class=\"dataframe\">\n",
       "  <thead>\n",
       "    <tr style=\"text-align: right;\">\n",
       "      <th></th>\n",
       "      <th>text</th>\n",
       "      <th>label</th>\n",
       "      <th>num_word_text</th>\n",
       "    </tr>\n",
       "  </thead>\n",
       "  <tbody>\n",
       "    <tr>\n",
       "      <th>0</th>\n",
       "      <td>Who were you expecting ?</td>\n",
       "      <td>7</td>\n",
       "      <td>5</td>\n",
       "    </tr>\n",
       "    <tr>\n",
       "      <th>1</th>\n",
       "      <td>One more to go , chicken .</td>\n",
       "      <td>1</td>\n",
       "      <td>7</td>\n",
       "    </tr>\n",
       "    <tr>\n",
       "      <th>2</th>\n",
       "      <td>Where'd you get that ?</td>\n",
       "      <td>2</td>\n",
       "      <td>5</td>\n",
       "    </tr>\n",
       "    <tr>\n",
       "      <th>3</th>\n",
       "      <td>Sometimes they have an accident .</td>\n",
       "      <td>6</td>\n",
       "      <td>6</td>\n",
       "    </tr>\n",
       "    <tr>\n",
       "      <th>7</th>\n",
       "      <td>( isaac crying ) - it's cranky time .</td>\n",
       "      <td>4</td>\n",
       "      <td>9</td>\n",
       "    </tr>\n",
       "    <tr>\n",
       "      <th>...</th>\n",
       "      <td>...</td>\n",
       "      <td>...</td>\n",
       "      <td>...</td>\n",
       "    </tr>\n",
       "    <tr>\n",
       "      <th>13650</th>\n",
       "      <td>Act your age !</td>\n",
       "      <td>3</td>\n",
       "      <td>4</td>\n",
       "    </tr>\n",
       "    <tr>\n",
       "      <th>13651</th>\n",
       "      <td>What a jerk .</td>\n",
       "      <td>1</td>\n",
       "      <td>4</td>\n",
       "    </tr>\n",
       "    <tr>\n",
       "      <th>13652</th>\n",
       "      <td>What else do you have to tell ?</td>\n",
       "      <td>7</td>\n",
       "      <td>8</td>\n",
       "    </tr>\n",
       "    <tr>\n",
       "      <th>13653</th>\n",
       "      <td>Come on , [PERSON] . We got ta move !</td>\n",
       "      <td>1</td>\n",
       "      <td>10</td>\n",
       "    </tr>\n",
       "    <tr>\n",
       "      <th>13654</th>\n",
       "      <td>We're going to do everything we can to help you , but you've got to help , too .</td>\n",
       "      <td>8</td>\n",
       "      <td>19</td>\n",
       "    </tr>\n",
       "  </tbody>\n",
       "</table>\n",
       "<p>9600 rows × 3 columns</p>\n",
       "</div>"
      ],
      "text/plain": [
       "                                                                                   text  \\\n",
       "0                                                              Who were you expecting ?   \n",
       "1                                                            One more to go , chicken .   \n",
       "2                                                                Where'd you get that ?   \n",
       "3                                                     Sometimes they have an accident .   \n",
       "7                                                 ( isaac crying ) - it's cranky time .   \n",
       "...                                                                                 ...   \n",
       "13650                                                                    Act your age !   \n",
       "13651                                                                     What a jerk .   \n",
       "13652                                                   What else do you have to tell ?   \n",
       "13653                                             Come on , [PERSON] . We got ta move !   \n",
       "13654  We're going to do everything we can to help you , but you've got to help , too .   \n",
       "\n",
       "       label  num_word_text  \n",
       "0          7              5  \n",
       "1          1              7  \n",
       "2          2              5  \n",
       "3          6              6  \n",
       "7          4              9  \n",
       "...      ...            ...  \n",
       "13650      3              4  \n",
       "13651      1              4  \n",
       "13652      7              8  \n",
       "13653      1             10  \n",
       "13654      8             19  \n",
       "\n",
       "[9600 rows x 3 columns]"
      ]
     },
     "execution_count": 25,
     "metadata": {},
     "output_type": "execute_result"
    }
   ],
   "source": [
    "# remove validation set samples from dataset\n",
    "xed_df = xed_df.drop(xed_validation.index)\n",
    "xed_df\n"
   ]
  },
  {
   "cell_type": "markdown",
   "metadata": {},
   "source": [
    "### Train Split"
   ]
  },
  {
   "cell_type": "code",
   "execution_count": 26,
   "metadata": {},
   "outputs": [
    {
     "data": {
      "text/plain": [
       "[Text(0, 0, '1648'),\n",
       " Text(0, 0, '1426'),\n",
       " Text(0, 0, '1023'),\n",
       " Text(0, 0, '1087'),\n",
       " Text(0, 0, '1186'),\n",
       " Text(0, 0, '1088'),\n",
       " Text(0, 0, '1012'),\n",
       " Text(0, 0, '1130')]"
      ]
     },
     "execution_count": 26,
     "metadata": {},
     "output_type": "execute_result"
    },
    {
     "data": {
      "image/png": "[encoded data removed]",
      "text/plain": [
       "<Figure size 1200x600 with 1 Axes>"
      ]
     },
     "metadata": {},
     "output_type": "display_data"
    }
   ],
   "source": [
    "fig = plt.figure(figsize=(12, 6))\n",
    "ax = sns.countplot(x='label', data=xed_df)\n",
    "ax.bar_label(ax.containers[0])"
   ]
  },
  {
   "cell_type": "code",
   "execution_count": 27,
   "metadata": {},
   "outputs": [
    {
     "data": {
      "text/html": [
       "<div>\n",
       "<style scoped>\n",
       "    .dataframe tbody tr th:only-of-type {\n",
       "        vertical-align: middle;\n",
       "    }\n",
       "\n",
       "    .dataframe tbody tr th {\n",
       "        vertical-align: top;\n",
       "    }\n",
       "\n",
       "    .dataframe thead th {\n",
       "        text-align: right;\n",
       "    }\n",
       "</style>\n",
       "<table border=\"1\" class=\"dataframe\">\n",
       "  <thead>\n",
       "    <tr style=\"text-align: right;\">\n",
       "      <th></th>\n",
       "      <th>text</th>\n",
       "      <th>label</th>\n",
       "      <th>num_word_text</th>\n",
       "    </tr>\n",
       "  </thead>\n",
       "  <tbody>\n",
       "    <tr>\n",
       "      <th>12159</th>\n",
       "      <td>No one picked on you , [PERSON] .</td>\n",
       "      <td>1</td>\n",
       "      <td>8</td>\n",
       "    </tr>\n",
       "    <tr>\n",
       "      <th>1530</th>\n",
       "      <td>Go and say sorry to him . '</td>\n",
       "      <td>1</td>\n",
       "      <td>8</td>\n",
       "    </tr>\n",
       "    <tr>\n",
       "      <th>8332</th>\n",
       "      <td>For your information , I was at [LOCATION] .</td>\n",
       "      <td>1</td>\n",
       "      <td>9</td>\n",
       "    </tr>\n",
       "    <tr>\n",
       "      <th>10305</th>\n",
       "      <td>What , are you guys blind or something ?</td>\n",
       "      <td>1</td>\n",
       "      <td>9</td>\n",
       "    </tr>\n",
       "    <tr>\n",
       "      <th>6399</th>\n",
       "      <td>That's the trouble with you .</td>\n",
       "      <td>1</td>\n",
       "      <td>6</td>\n",
       "    </tr>\n",
       "    <tr>\n",
       "      <th>...</th>\n",
       "      <td>...</td>\n",
       "      <td>...</td>\n",
       "      <td>...</td>\n",
       "    </tr>\n",
       "    <tr>\n",
       "      <th>9797</th>\n",
       "      <td>He was a [LOCATION] bus driver , and when I was a boy , he used to take me over the river to [LOCATION] , where the rich people lived .</td>\n",
       "      <td>8</td>\n",
       "      <td>31</td>\n",
       "    </tr>\n",
       "    <tr>\n",
       "      <th>8409</th>\n",
       "      <td>Your ship's been in lots of battles .</td>\n",
       "      <td>8</td>\n",
       "      <td>8</td>\n",
       "    </tr>\n",
       "    <tr>\n",
       "      <th>12665</th>\n",
       "      <td>Say the word .</td>\n",
       "      <td>8</td>\n",
       "      <td>4</td>\n",
       "    </tr>\n",
       "    <tr>\n",
       "      <th>210</th>\n",
       "      <td>Honey , why don't you go out to the kitchen and bring us some of those ... fancy little hors d'oeuvres .</td>\n",
       "      <td>8</td>\n",
       "      <td>22</td>\n",
       "    </tr>\n",
       "    <tr>\n",
       "      <th>8773</th>\n",
       "      <td>Gentlemen , there's a God in heaven .</td>\n",
       "      <td>8</td>\n",
       "      <td>8</td>\n",
       "    </tr>\n",
       "  </tbody>\n",
       "</table>\n",
       "<p>8096 rows × 3 columns</p>\n",
       "</div>"
      ],
      "text/plain": [
       "                                                                                                                                          text  \\\n",
       "12159                                                                                                        No one picked on you , [PERSON] .   \n",
       "1530                                                                                                               Go and say sorry to him . '   \n",
       "8332                                                                                              For your information , I was at [LOCATION] .   \n",
       "10305                                                                                                 What , are you guys blind or something ?   \n",
       "6399                                                                                                             That's the trouble with you .   \n",
       "...                                                                                                                                        ...   \n",
       "9797   He was a [LOCATION] bus driver , and when I was a boy , he used to take me over the river to [LOCATION] , where the rich people lived .   \n",
       "8409                                                                                                     Your ship's been in lots of battles .   \n",
       "12665                                                                                                                           Say the word .   \n",
       "210                                   Honey , why don't you go out to the kitchen and bring us some of those ... fancy little hors d'oeuvres .   \n",
       "8773                                                                                                     Gentlemen , there's a God in heaven .   \n",
       "\n",
       "       label  num_word_text  \n",
       "12159      1              8  \n",
       "1530       1              8  \n",
       "8332       1              9  \n",
       "10305      1              9  \n",
       "6399       1              6  \n",
       "...      ...            ...  \n",
       "9797       8             31  \n",
       "8409       8              8  \n",
       "12665      8              4  \n",
       "210        8             22  \n",
       "8773       8              8  \n",
       "\n",
       "[8096 rows x 3 columns]"
      ]
     },
     "execution_count": 27,
     "metadata": {},
     "output_type": "execute_result"
    }
   ],
   "source": [
    "# get samples for each class equal to the number of available samples for the smallest class\n",
    "xed_train = xed_df.groupby('label', group_keys=False).apply(lambda x: x.sample(min(len(x), min(np.unique(xed_df['label'], return_counts=True)[1])), random_state=1).sample(frac=1, random_state=1))\n",
    "xed_train"
   ]
  },
  {
   "cell_type": "markdown",
   "metadata": {},
   "source": [
    "### Double-Check Distribution\n",
    "Our training set distribution is perfectly balanced while our validation and test sets are representative of the original dataset's distribution."
   ]
  },
  {
   "cell_type": "code",
   "execution_count": 28,
   "metadata": {},
   "outputs": [
    {
     "data": {
      "text/plain": [
       "Text(0.5, 1.0, 'Train Set Label Distribution')"
      ]
     },
     "execution_count": 28,
     "metadata": {},
     "output_type": "execute_result"
    },
    {
     "data": {
      "image/png": "[encoded data removed]",
      "text/plain": [
       "<Figure size 1200x600 with 1 Axes>"
      ]
     },
     "metadata": {},
     "output_type": "display_data"
    }
   ],
   "source": [
    "fig = plt.figure(figsize=(12, 6))\n",
    "ax = sns.countplot(x='label', data=xed_train)\n",
    "ax.bar_label(ax.containers[0])\n",
    "plt.title(\"Train Set Label Distribution\")"
   ]
  },
  {
   "cell_type": "code",
   "execution_count": 29,
   "metadata": {},
   "outputs": [
    {
     "name": "stdout",
     "output_type": "stream",
     "text": [
      "2400\n"
     ]
    },
    {
     "data": {
      "text/plain": [
       "Text(0.5, 1.0, 'Validation Set Label Distribution')"
      ]
     },
     "execution_count": 29,
     "metadata": {},
     "output_type": "execute_result"
    },
    {
     "data": {
      "image/png": "[encoded data removed]",
      "text/plain": [
       "<Figure size 1200x600 with 1 Axes>"
      ]
     },
     "metadata": {},
     "output_type": "display_data"
    }
   ],
   "source": [
    "print(len(xed_validation))\n",
    "fig = plt.figure(figsize=(12, 6))\n",
    "ax = sns.countplot(x='label', data=xed_validation)\n",
    "ax.bar_label(ax.containers[0])\n",
    "plt.title(\"Validation Set Label Distribution\")"
   ]
  },
  {
   "cell_type": "code",
   "execution_count": 30,
   "metadata": {},
   "outputs": [
    {
     "name": "stdout",
     "output_type": "stream",
     "text": [
      "1655\n"
     ]
    },
    {
     "data": {
      "text/plain": [
       "Text(0.5, 1.0, 'Test Set Label Distribution')"
      ]
     },
     "execution_count": 30,
     "metadata": {},
     "output_type": "execute_result"
    },
    {
     "data": {
      "image/png": "[encoded data removed]",
      "text/plain": [
       "<Figure size 1200x600 with 1 Axes>"
      ]
     },
     "metadata": {},
     "output_type": "display_data"
    }
   ],
   "source": [
    "print(len(xed_test))\n",
    "fig = plt.figure(figsize=(12, 6))\n",
    "ax = sns.countplot(x='label', data=xed_test)\n",
    "ax.bar_label(ax.containers[0])\n",
    "plt.title(\"Test Set Label Distribution\")"
   ]
  },
  {
   "cell_type": "markdown",
   "metadata": {},
   "source": [
    "## Export Fine-Grain Datasets"
   ]
  },
  {
   "cell_type": "code",
   "execution_count": 34,
   "metadata": {},
   "outputs": [],
   "source": [
    "# reconstitute the updated datafames into a DatasetDict object\n",
    "fine_train_dataset = Dataset.from_pandas(xed_train,  preserve_index=False)\n",
    "fine_validate_dataset = Dataset.from_pandas(xed_validation, preserve_index=False)\n",
    "fine_test_dataset = Dataset.from_pandas(xed_test, preserve_index=False)\n",
    "xed_fine_datasets = datasets.DatasetDict({\"train\":fine_train_dataset, \n",
    "                                          \"validation\":fine_validate_dataset, \n",
    "                                          \"test\":fine_test_dataset})"
   ]
  },
  {
   "cell_type": "code",
   "execution_count": 35,
   "metadata": {},
   "outputs": [
    {
     "data": {
      "text/plain": [
       "DatasetDict({\n",
       "    train: Dataset({\n",
       "        features: ['text', 'label', 'num_word_text'],\n",
       "        num_rows: 8096\n",
       "    })\n",
       "    validation: Dataset({\n",
       "        features: ['text', 'label', 'num_word_text'],\n",
       "        num_rows: 2400\n",
       "    })\n",
       "    test: Dataset({\n",
       "        features: ['text', 'label', 'num_word_text'],\n",
       "        num_rows: 1655\n",
       "    })\n",
       "})"
      ]
     },
     "execution_count": 35,
     "metadata": {},
     "output_type": "execute_result"
    }
   ],
   "source": [
    "xed_fine_datasets"
   ]
  },
  {
   "cell_type": "code",
   "execution_count": null,
   "metadata": {},
   "outputs": [],
   "source": [
    "xed_fine_datasets.save_to_disk(\"data/inter_XED/itesd_xed_fine_balanced.hf\")"
   ]
  },
  {
   "cell_type": "markdown",
   "metadata": {},
   "source": [
    "## Prep Binary Train/Test Data\n",
    "This dataset is the same as the fine-grain XED dataset above except that we set the labels according to the polarized emotions (positive and negative). We group all the emotion labels with negative insight (sadness, fear, anger, disgust) into a negative sentiment label (0) and group the remaining emotions (joy, surprise, trust, anticipation) into a positive class. <br /><br />\n",
    "<b>anger</b> (negative): 1->0 <br />\n",
    "<b>anticipation</b> (positive): 2->1 <br />\n",
    "<b>disgust</b> (negative): 3->0<br /> \n",
    "<b>fear</b> (negative): 4->0<br />\n",
    "<b>joy</b> (positive): 5->1<br /> \n",
    "<b>sadness</b> (negative): 6->0<br /> \n",
    "<b>surprise</b> (positive): 7->1<br /> \n",
    "<b>trust</b> (positive): 8->1<br /> "
   ]
  },
  {
   "cell_type": "code",
   "execution_count": 36,
   "metadata": {},
   "outputs": [
    {
     "name": "stdout",
     "output_type": "stream",
     "text": [
      "8096\n",
      "2400\n",
      "1655\n"
     ]
    }
   ],
   "source": [
    "binary_train = xed_train.copy()\n",
    "binary_validation = xed_validation.copy()\n",
    "binary_test = xed_test.copy()\n",
    "\n",
    "print(len(binary_train))\n",
    "print(len(binary_validation))\n",
    "print(len(binary_test))"
   ]
  },
  {
   "cell_type": "code",
   "execution_count": 37,
   "metadata": {},
   "outputs": [],
   "source": [
    "binary_train['label'] = binary_train['label'].map({1: 0, \n",
    "                                                   2: 1,\n",
    "                                                   3: 0, \n",
    "                                                   4: 0,\n",
    "                                                   5: 1, \n",
    "                                                   6: 0,\n",
    "                                                   7: 1, \n",
    "                                                   8: 1})\n",
    "                            \n",
    "binary_validation['label'] = binary_validation['label'].map({1: 0, \n",
    "                                                   2: 1,\n",
    "                                                   3: 0, \n",
    "                                                   4: 0,\n",
    "                                                   5: 1, \n",
    "                                                   6: 0,\n",
    "                                                   7: 1, \n",
    "                                                   8: 1})\n",
    "\n",
    "binary_test['label'] = binary_test['label'].map({1: 0, \n",
    "                                                 2: 1,\n",
    "                                                 3: 0, \n",
    "                                                 4: 0,\n",
    "                                                 5: 1, \n",
    "                                                 6: 0,\n",
    "                                                 7: 1, \n",
    "                                                 8: 1})"
   ]
  },
  {
   "cell_type": "code",
   "execution_count": 38,
   "metadata": {},
   "outputs": [
    {
     "data": {
      "text/html": [
       "<div>\n",
       "<style scoped>\n",
       "    .dataframe tbody tr th:only-of-type {\n",
       "        vertical-align: middle;\n",
       "    }\n",
       "\n",
       "    .dataframe tbody tr th {\n",
       "        vertical-align: top;\n",
       "    }\n",
       "\n",
       "    .dataframe thead th {\n",
       "        text-align: right;\n",
       "    }\n",
       "</style>\n",
       "<table border=\"1\" class=\"dataframe\">\n",
       "  <thead>\n",
       "    <tr style=\"text-align: right;\">\n",
       "      <th></th>\n",
       "      <th>text</th>\n",
       "      <th>label</th>\n",
       "      <th>num_word_text</th>\n",
       "    </tr>\n",
       "  </thead>\n",
       "  <tbody>\n",
       "    <tr>\n",
       "      <th>12159</th>\n",
       "      <td>No one picked on you , [PERSON] .</td>\n",
       "      <td>0</td>\n",
       "      <td>8</td>\n",
       "    </tr>\n",
       "    <tr>\n",
       "      <th>1530</th>\n",
       "      <td>Go and say sorry to him . '</td>\n",
       "      <td>0</td>\n",
       "      <td>8</td>\n",
       "    </tr>\n",
       "    <tr>\n",
       "      <th>8332</th>\n",
       "      <td>For your information , I was at [LOCATION] .</td>\n",
       "      <td>0</td>\n",
       "      <td>9</td>\n",
       "    </tr>\n",
       "    <tr>\n",
       "      <th>10305</th>\n",
       "      <td>What , are you guys blind or something ?</td>\n",
       "      <td>0</td>\n",
       "      <td>9</td>\n",
       "    </tr>\n",
       "    <tr>\n",
       "      <th>6399</th>\n",
       "      <td>That's the trouble with you .</td>\n",
       "      <td>0</td>\n",
       "      <td>6</td>\n",
       "    </tr>\n",
       "  </tbody>\n",
       "</table>\n",
       "</div>"
      ],
      "text/plain": [
       "                                               text  label  num_word_text\n",
       "12159             No one picked on you , [PERSON] .      0              8\n",
       "1530                    Go and say sorry to him . '      0              8\n",
       "8332   For your information , I was at [LOCATION] .      0              9\n",
       "10305      What , are you guys blind or something ?      0              9\n",
       "6399                  That's the trouble with you .      0              6"
      ]
     },
     "execution_count": 38,
     "metadata": {},
     "output_type": "execute_result"
    }
   ],
   "source": [
    "binary_train.head()"
   ]
  },
  {
   "cell_type": "markdown",
   "metadata": {},
   "source": [
    "### Double-Check Distribution\n",
    "The distribution of labels is fairly even, so we will not over or undersample."
   ]
  },
  {
   "cell_type": "code",
   "execution_count": 39,
   "metadata": {},
   "outputs": [
    {
     "data": {
      "text/plain": [
       "Text(0.5, 1.0, 'Train Set Label Distribution')"
      ]
     },
     "execution_count": 39,
     "metadata": {},
     "output_type": "execute_result"
    },
    {
     "data": {
      "image/png": "[encoded data removed]",
      "text/plain": [
       "<Figure size 1200x600 with 1 Axes>"
      ]
     },
     "metadata": {},
     "output_type": "display_data"
    }
   ],
   "source": [
    "fig = plt.figure(figsize=(12, 6))\n",
    "ax = sns.countplot(x='label', data=binary_train)\n",
    "ax.bar_label(ax.containers[0])\n",
    "plt.title(\"Train Set Label Distribution\")"
   ]
  },
  {
   "cell_type": "code",
   "execution_count": 40,
   "metadata": {},
   "outputs": [
    {
     "data": {
      "text/plain": [
       "Text(0.5, 1.0, 'Validation Set Label Distribution')"
      ]
     },
     "execution_count": 40,
     "metadata": {},
     "output_type": "execute_result"
    },
    {
     "data": {
      "image/png": "[encoded data removed]",
      "text/plain": [
       "<Figure size 1200x600 with 1 Axes>"
      ]
     },
     "metadata": {},
     "output_type": "display_data"
    }
   ],
   "source": [
    "fig = plt.figure(figsize=(12, 6))\n",
    "ax = sns.countplot(x='label', data=binary_validation)\n",
    "ax.bar_label(ax.containers[0])\n",
    "plt.title(\"Validation Set Label Distribution\")"
   ]
  },
  {
   "cell_type": "code",
   "execution_count": 41,
   "metadata": {},
   "outputs": [
    {
     "data": {
      "text/plain": [
       "Text(0.5, 1.0, 'Test Set Label Distribution')"
      ]
     },
     "execution_count": 41,
     "metadata": {},
     "output_type": "execute_result"
    },
    {
     "data": {
      "image/png": "[encoded data removed]",
      "text/plain": [
       "<Figure size 1200x600 with 1 Axes>"
      ]
     },
     "metadata": {},
     "output_type": "display_data"
    }
   ],
   "source": [
    "fig = plt.figure(figsize=(12, 6))\n",
    "ax = sns.countplot(x='label', data=binary_test)\n",
    "ax.bar_label(ax.containers[0])\n",
    "plt.title(\"Test Set Label Distribution\")"
   ]
  },
  {
   "cell_type": "markdown",
   "metadata": {},
   "source": [
    "### Export Binary Datasets"
   ]
  },
  {
   "cell_type": "code",
   "execution_count": 42,
   "metadata": {},
   "outputs": [],
   "source": [
    "# reconstitute the updated datafames into a DatasetDict object\n",
    "binary_train_dataset = Dataset.from_pandas(binary_train, preserve_index=False)\n",
    "binary_validate_dataset = Dataset.from_pandas(binary_validation, preserve_index=False)\n",
    "binary_test_dataset = Dataset.from_pandas(binary_test, preserve_index=False)\n",
    "xed_binary_datasets = datasets.DatasetDict({\"train\":binary_train_dataset, \n",
    "                                          \"validation\":binary_validate_dataset, \n",
    "                                          \"test\":binary_test_dataset})"
   ]
  },
  {
   "cell_type": "code",
   "execution_count": 43,
   "metadata": {},
   "outputs": [
    {
     "data": {
      "text/plain": [
       "DatasetDict({\n",
       "    train: Dataset({\n",
       "        features: ['text', 'label', 'num_word_text'],\n",
       "        num_rows: 8096\n",
       "    })\n",
       "    validation: Dataset({\n",
       "        features: ['text', 'label', 'num_word_text'],\n",
       "        num_rows: 2400\n",
       "    })\n",
       "    test: Dataset({\n",
       "        features: ['text', 'label', 'num_word_text'],\n",
       "        num_rows: 1655\n",
       "    })\n",
       "})"
      ]
     },
     "execution_count": 43,
     "metadata": {},
     "output_type": "execute_result"
    }
   ],
   "source": [
    "xed_binary_datasets"
   ]
  },
  {
   "cell_type": "code",
   "execution_count": null,
   "metadata": {},
   "outputs": [],
   "source": [
    "xed_binary_datasets.save_to_disk(\"data/inter_XED/itesd_xed_binary_balanced.hf\")"
   ]
  }
 ],
 "metadata": {
  "kernelspec": {
   "display_name": "Python 3.10.6 ('eda_env')",
   "language": "python",
   "name": "python3"
  },
  "language_info": {
   "codemirror_mode": {
    "name": "ipython",
    "version": 3
   },
   "file_extension": ".py",
   "mimetype": "text/x-python",
   "name": "python",
   "nbconvert_exporter": "python",
   "pygments_lexer": "ipython3",
   "version": "3.10.6"
  },
  "orig_nbformat": 4,
  "vscode": {
   "interpreter": {
    "hash": "44cd29fc0e411fd9962b44395a3726d6ca1c09530fabf57436a3af7bf7cec47b"
   }
  }
 },
 "nbformat": 4,
 "nbformat_minor": 2
}
