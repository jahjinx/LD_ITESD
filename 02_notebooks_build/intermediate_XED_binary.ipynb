{
 "cells": [
  {
   "cell_type": "markdown",
   "metadata": {},
   "source": [
    "# intermediate_XED_binary\n",
    "This notebook takes our custom XED binary dataset and trains an intermediate model."
   ]
  },
  {
   "cell_type": "markdown",
   "metadata": {},
   "source": [
    "## Imports & Settings"
   ]
  },
  {
   "cell_type": "markdown",
   "metadata": {},
   "source": [
    "First, update working directory to parent so that we may use our custom functions"
   ]
  },
  {
   "cell_type": "code",
   "execution_count": null,
   "metadata": {},
   "outputs": [],
   "source": [
    "import os\n",
    "os.chdir('..')\n",
    "# os.getcwd( )"
   ]
  },
  {
   "cell_type": "code",
   "execution_count": null,
   "metadata": {},
   "outputs": [],
   "source": [
    "import params\n",
    "from utils import *\n",
    "from trainer import *\n",
    "\n",
    "import numpy as np\n",
    "import pandas as pd\n",
    "from datasets import load_from_disk\n",
    "\n",
    "from transformers import RobertaTokenizer, RobertaForSequenceClassification\n",
    "from torch.utils.data import TensorDataset, DataLoader, RandomSampler\n",
    "\n",
    "# suppress model warning\n",
    "from transformers import logging\n",
    "logging.set_verbosity_error()\n",
    "\n",
    "# set logging level\n",
    "import logging\n",
    "logging.basicConfig(format='%(message)s', level=logging.INFO)"
   ]
  },
  {
   "cell_type": "code",
   "execution_count": null,
   "metadata": {},
   "outputs": [],
   "source": [
    "# set general seeds\n",
    "set_seeds(1)\n",
    "\n",
    "# set dataloader generator seed\n",
    "g = torch.Generator()\n",
    "g.manual_seed(1)\n",
    "\n",
    "# set params for this model\n",
    "params.num_labels = 2\n",
    "params.output_dir = \"model_saves/intermediate_XED_binary_01\"\n",
    "params.dataset_path = \"data/inter_XED/itesd_xed_binary_balanced.hf\"\n",
    "\n",
    "# Ensure we're on an ARM environment if necessary.\n",
    "platform_check()"
   ]
  },
  {
   "cell_type": "markdown",
   "metadata": {},
   "source": [
    "## Load Data"
   ]
  },
  {
   "cell_type": "markdown",
   "metadata": {},
   "source": [
    "### Binary XED"
   ]
  },
  {
   "cell_type": "code",
   "execution_count": null,
   "metadata": {},
   "outputs": [],
   "source": [
    "datasets = load_from_disk(params.dataset_path)\n",
    "datasets"
   ]
  },
  {
   "cell_type": "code",
   "execution_count": null,
   "metadata": {},
   "outputs": [],
   "source": [
    "# we will need to view and prep the datasets\n",
    "# this is more easily done as dataframes\n",
    "train_df = datasets['train'].to_pandas()\n",
    "validate_df = datasets['validation'].to_pandas() "
   ]
  },
  {
   "cell_type": "code",
   "execution_count": null,
   "metadata": {},
   "outputs": [],
   "source": [
    "# view training dataset\n",
    "print(\"train_df Info:\")\n",
    "print(train_df.info())\n",
    "print(\"\\ntrain_df Value Counts\")\n",
    "print(train_df['label'].value_counts())"
   ]
  },
  {
   "cell_type": "code",
   "execution_count": null,
   "metadata": {},
   "outputs": [],
   "source": [
    "# view validation dataset\n",
    "print(\"validate_df Info:\")\n",
    "print(validate_df.info())\n",
    "print(\"\\n validate_df Value Counts\")\n",
    "print(validate_df['label'].value_counts())"
   ]
  },
  {
   "cell_type": "markdown",
   "metadata": {},
   "source": [
    "## Preprocess"
   ]
  },
  {
   "cell_type": "code",
   "execution_count": null,
   "metadata": {},
   "outputs": [],
   "source": [
    "params.tokenizer = RobertaTokenizer.from_pretrained(\"roberta-base\", use_fast=True)\n",
    "encoded_datasets = datasets.map(preprocessing_dyna, batched=True)\n",
    "\n",
    "encoded_datasets"
   ]
  },
  {
   "cell_type": "code",
   "execution_count": null,
   "metadata": {},
   "outputs": [],
   "source": [
    "train_features = construct_input(encoded_datasets['train'])\n",
    "validate_features = construct_input(encoded_datasets['validation'])"
   ]
  },
  {
   "cell_type": "markdown",
   "metadata": {},
   "source": [
    "## Data Split\n",
    "We split the dataset into train (80%) and validation (20%) sets, and wrap them around a torch.utils.data.DataLoader object."
   ]
  },
  {
   "cell_type": "code",
   "execution_count": null,
   "metadata": {},
   "outputs": [],
   "source": [
    "# Prepare DataLoader\n",
    "train_dataloader = DataLoader(\n",
    "            train_features,\n",
    "            sampler = RandomSampler(train_features),\n",
    "            batch_size = params.batch_size,\n",
    "            worker_init_fn=seed_worker,\n",
    "            generator=g,\n",
    "            collate_fn=collate\n",
    "        )\n",
    "\n",
    "validation_dataloader = DataLoader(\n",
    "            validate_features,\n",
    "            sampler = RandomSampler(validate_features),\n",
    "            batch_size = params.batch_size,\n",
    "            worker_init_fn=seed_worker,\n",
    "            generator=g,\n",
    "            collate_fn=collate\n",
    "        )"
   ]
  },
  {
   "cell_type": "code",
   "execution_count": null,
   "metadata": {},
   "outputs": [],
   "source": [
    "# view an example from the dataloader\n",
    "next(iter(train_dataloader))"
   ]
  },
  {
   "cell_type": "markdown",
   "metadata": {},
   "source": [
    "## Train"
   ]
  },
  {
   "cell_type": "markdown",
   "metadata": {},
   "source": [
    "Download transformers.RobertaForSequenceClassificatio, which is a RoBERTa model with a linear layer for sentence classification (or regression) on top of the pooled output:"
   ]
  },
  {
   "cell_type": "code",
   "execution_count": null,
   "metadata": {},
   "outputs": [],
   "source": [
    "model.classifier"
   ]
  },
  {
   "cell_type": "code",
   "execution_count": null,
   "metadata": {},
   "outputs": [],
   "source": [
    "# Load the RobertaForSequenceClassification model\n",
    "model = RobertaForSequenceClassification.from_pretrained('roberta-base',\n",
    "                                                         num_labels = params.num_labels,\n",
    "                                                         output_attentions = False,\n",
    "                                                         output_hidden_states = False,\n",
    "                                                         )\n",
    "\n",
    "from torchinfo import summary\n",
    "summary(model, input_size=(1, 512), dtypes=['torch.IntTensor'])"
   ]
  },
  {
   "cell_type": "markdown",
   "metadata": {},
   "source": [
    "Set model to device, initialize trainer"
   ]
  },
  {
   "cell_type": "code",
   "execution_count": null,
   "metadata": {},
   "outputs": [],
   "source": [
    "model.to(params.device)\n",
    "print(f\"Device: {params.device}\")\n",
    "\n",
    "optimizer = torch.optim.Adam(params=model.parameters(), \n",
    "                             lr=params.learning_rate,\n",
    "                             weight_decay=params.weight_decay) #roberta\n",
    "\n",
    "trainer = Trainer(model=model,\n",
    "                  device=params.device,\n",
    "                  tokenizer=params.tokenizer,\n",
    "                  train_dataloader=train_dataloader,\n",
    "                  validation_dataloader=validation_dataloader,\n",
    "                  epochs=params.epochs,\n",
    "                  optimizer=optimizer,\n",
    "                  val_loss_fn=params.val_loss_fn,\n",
    "                  num_labels=params.num_labels,\n",
    "                  output_dir=params.output_dir,\n",
    "                  save_freq=params.save_freq,\n",
    "                  checkpoint_freq=params.checkpoint_freq)\n",
    "\n",
    "output_parameters()"
   ]
  },
  {
   "cell_type": "markdown",
   "metadata": {},
   "source": [
    "Fit the model to our training data."
   ]
  },
  {
   "cell_type": "code",
   "execution_count": null,
   "metadata": {},
   "outputs": [],
   "source": [
    "trainer.fit()"
   ]
  },
  {
   "cell_type": "code",
   "execution_count": null,
   "metadata": {},
   "outputs": [],
   "source": [
    "device_name = \"mps\"\n",
    "torch.backends.device_name.is_available()"
   ]
  },
  {
   "cell_type": "code",
   "execution_count": null,
   "metadata": {},
   "outputs": [],
   "source": [
    "dataset_path = \"data/inter_XED/itesd_xed_binary_balanced.hf\"\n",
    "self.data_type = \"multiple choice\" or \"sequence classification\"\n",
    "self.datasets = load_from_disk(dataset_path)\n",
    "\n",
    "\n",
    "# hwo to distignusih between sequence classification and mc_\n",
    "# can i get that info from self.model?\n",
    "# encoded_datasets = datasets.map(preprocessing_dyna, batched=True)\n",
    "\n",
    "\n",
    "# train_features = construct_input(encoded_datasets['train'])\n",
    "# validate_features = construct_input(encoded_datasets['validation'])\n",
    "\n",
    "#TODO fix this so that it acatually sets device before self.device is called?\n",
    "self.device = torch.device(device_name)\n",
    "self.optimizer = self.configure_optimizer()\n",
    "\n",
    "# def get_device(self, device_name):\n",
    "#     device = torch.device(device_name if torch.backends.mps.is_available() else 'cpu')\n",
    "        \n",
    "#     if device != device_name:\n",
    "#         logging.info(f\"{device_name} not available, falling back to {device}\")\n",
    "        \n",
    "#     return device\n",
    "\n",
    "def configure_optimizer(self):\n",
    "    optimizer = torch.optim.Adam(params=self.model.parameters(), \n",
    "                                lr=self.learning_rate,\n",
    "                                weight_decay=self.weight_decay)\n",
    "    return optimizer\n",
    "\n",
    "def configure_model(self):\n",
    "    if self.data_type == \"multiple_choice\":\n",
    "        model = RobertaForSequenceClassification.from_pretrained('roberta-base',\n",
    "                                                                      num_labels = params.num_labels,\n",
    "                                                                      output_attentions = False,\n",
    "                                                                      output_hidden_states = False,\n",
    "                                                                      )\n",
    "    elif self.data_type == \"sequence_classification\":\n",
    "        # Load the RobertaForSequenceClassification model\n",
    "        model = RobertaForMultipleChoice.from_pretrained('roberta-base',\n",
    "                                                              num_labels = params.num_labels,\n",
    "                                                              output_attentions = False,\n",
    "                                                              output_hidden_states = False,\n",
    "                                                              )\n",
    "    \n",
    "    model.to(self.device)\n",
    "    summary(model, input_size=(1, 512), dtypes=['torch.IntTensor'])\n",
    "    return model\n",
    "\n",
    "\n",
    "def train_dataloader(self) -> DataLoader:\n",
    "    return self.get_dataloader(self.datasets, \"train\")\n",
    "\n",
    "def val_dataloader(self) -> DataLoader:\n",
    "    return self.get_dataloader(self.datasets, \"validation\")\n",
    "\n",
    "def get_dataloader(self, datasets, split) -> DataLoader:\n",
    "    \n",
    "    if self.data_type == \"multiple_choice\":\n",
    "        encoded_datasets = datasets.map(mc_preprocessing, batched=True)\n",
    "    elif self.data_type == \"sequence_classification\":\n",
    "        encoded_datasets = datasets.map(preprocessing_dyna, batched=True)\n",
    "    \n",
    "    features = construct_input(encoded_datasets[split])\n",
    "    \n",
    "    dataloader = DataLoader(\n",
    "            features,\n",
    "            sampler = RandomSampler(features),\n",
    "            batch_size = params.batch_size,\n",
    "            worker_init_fn=seed_worker,\n",
    "            generator=g,\n",
    "            collate_fn=collate\n",
    "            )\n",
    "    \n",
    "    return dataloader"
   ]
  },
  {
   "cell_type": "code",
   "execution_count": 1,
   "metadata": {},
   "outputs": [],
   "source": [
    "import os\n",
    "os.chdir('..')\n",
    "# os.getcwd( )\n",
    "\n",
    "from trainer import *\n",
    "\n",
    "trainer = Trainer(dataset_path=\"data/inter_XED/itesd_xed_binary_balanced.hf\",\n",
    "                  data_type=\"sequence_classification\",\n",
    "                  device=\"mps\",\n",
    "                  tokenizer=RobertaTokenizer.from_pretrained(\"roberta-base\"),\n",
    "                  epochs=10,\n",
    "                  num_labels=2,\n",
    "                  output_dir=\"model_saves/intermediate_XED_binary_01\",\n",
    "                  save_freq=1,\n",
    "                  checkpoint_freq=1)"
   ]
  },
  {
   "cell_type": "code",
   "execution_count": 2,
   "metadata": {},
   "outputs": [
    {
     "name": "stderr",
     "output_type": "stream",
     "text": [
      "Loading cached processed dataset at data/inter_XED/itesd_xed_binary_balanced.hf/train/cache-bfb267995ec8d8a6.arrow\n",
      "Loading cached processed dataset at data/inter_XED/itesd_xed_binary_balanced.hf/validation/cache-9e2b6461106d45c0.arrow\n",
      "Loading cached processed dataset at data/inter_XED/itesd_xed_binary_balanced.hf/test/cache-b4c35a7ecbe89f5a.arrow\n",
      "Epoch 1:   2%|▏         | 8/506 [00:03<03:50,  2.16batch/s]\n"
     ]
    },
    {
     "ename": "KeyboardInterrupt",
     "evalue": "",
     "output_type": "error",
     "traceback": [
      "\u001b[0;31m---------------------------------------------------------------------------\u001b[0m",
      "\u001b[0;31mKeyboardInterrupt\u001b[0m                         Traceback (most recent call last)",
      "Cell \u001b[0;32mIn [2], line 1\u001b[0m\n\u001b[0;32m----> 1\u001b[0m \u001b[43mtrainer\u001b[49m\u001b[38;5;241;43m.\u001b[39;49m\u001b[43mfit\u001b[49m\u001b[43m(\u001b[49m\u001b[43m)\u001b[49m\n",
      "File \u001b[0;32m~/Desktop/LD_ITESD_noNotebook/trainer.py:187\u001b[0m, in \u001b[0;36mTrainer.fit\u001b[0;34m(self)\u001b[0m\n\u001b[1;32m    179\u001b[0m train_output \u001b[39m=\u001b[39m \u001b[39mself\u001b[39m\u001b[39m.\u001b[39mmodel(b_input_ids, \n\u001b[1;32m    180\u001b[0m                     token_type_ids \u001b[39m=\u001b[39m \u001b[39mNone\u001b[39;00m, \n\u001b[1;32m    181\u001b[0m                     attention_mask \u001b[39m=\u001b[39m b_input_mask, \n\u001b[1;32m    182\u001b[0m                     labels \u001b[39m=\u001b[39m b_labels)\n\u001b[1;32m    184\u001b[0m \u001b[39m# training_loss = compute_loss(train_output.logits, b_labels) # custom loss\u001b[39;00m\n\u001b[1;32m    185\u001b[0m \n\u001b[1;32m    186\u001b[0m \u001b[39m# Backward pass\u001b[39;00m\n\u001b[0;32m--> 187\u001b[0m train_output\u001b[39m.\u001b[39;49mloss\u001b[39m.\u001b[39;49mbackward()\n\u001b[1;32m    188\u001b[0m \u001b[39m# training_loss.backward() # custom loss\u001b[39;00m\n\u001b[1;32m    190\u001b[0m \u001b[39mself\u001b[39m\u001b[39m.\u001b[39moptimizer\u001b[39m.\u001b[39mstep()\n",
      "File \u001b[0;32m~/opt/anaconda3/envs/itesd_env/lib/python3.9/site-packages/torch/_tensor.py:488\u001b[0m, in \u001b[0;36mTensor.backward\u001b[0;34m(self, gradient, retain_graph, create_graph, inputs)\u001b[0m\n\u001b[1;32m    478\u001b[0m \u001b[39mif\u001b[39;00m has_torch_function_unary(\u001b[39mself\u001b[39m):\n\u001b[1;32m    479\u001b[0m     \u001b[39mreturn\u001b[39;00m handle_torch_function(\n\u001b[1;32m    480\u001b[0m         Tensor\u001b[39m.\u001b[39mbackward,\n\u001b[1;32m    481\u001b[0m         (\u001b[39mself\u001b[39m,),\n\u001b[0;32m   (...)\u001b[0m\n\u001b[1;32m    486\u001b[0m         inputs\u001b[39m=\u001b[39minputs,\n\u001b[1;32m    487\u001b[0m     )\n\u001b[0;32m--> 488\u001b[0m torch\u001b[39m.\u001b[39;49mautograd\u001b[39m.\u001b[39;49mbackward(\n\u001b[1;32m    489\u001b[0m     \u001b[39mself\u001b[39;49m, gradient, retain_graph, create_graph, inputs\u001b[39m=\u001b[39;49minputs\n\u001b[1;32m    490\u001b[0m )\n",
      "File \u001b[0;32m~/opt/anaconda3/envs/itesd_env/lib/python3.9/site-packages/torch/autograd/__init__.py:197\u001b[0m, in \u001b[0;36mbackward\u001b[0;34m(tensors, grad_tensors, retain_graph, create_graph, grad_variables, inputs)\u001b[0m\n\u001b[1;32m    192\u001b[0m     retain_graph \u001b[39m=\u001b[39m create_graph\n\u001b[1;32m    194\u001b[0m \u001b[39m# The reason we repeat same the comment below is that\u001b[39;00m\n\u001b[1;32m    195\u001b[0m \u001b[39m# some Python versions print out the first line of a multi-line function\u001b[39;00m\n\u001b[1;32m    196\u001b[0m \u001b[39m# calls in the traceback and some print out the last line\u001b[39;00m\n\u001b[0;32m--> 197\u001b[0m Variable\u001b[39m.\u001b[39;49m_execution_engine\u001b[39m.\u001b[39;49mrun_backward(  \u001b[39m# Calls into the C++ engine to run the backward pass\u001b[39;49;00m\n\u001b[1;32m    198\u001b[0m     tensors, grad_tensors_, retain_graph, create_graph, inputs,\n\u001b[1;32m    199\u001b[0m     allow_unreachable\u001b[39m=\u001b[39;49m\u001b[39mTrue\u001b[39;49;00m, accumulate_grad\u001b[39m=\u001b[39;49m\u001b[39mTrue\u001b[39;49;00m)\n",
      "\u001b[0;31mKeyboardInterrupt\u001b[0m: "
     ]
    }
   ],
   "source": [
    "trainer.fit()"
   ]
  },
  {
   "cell_type": "code",
   "execution_count": null,
   "metadata": {},
   "outputs": [],
   "source": []
  },
  {
   "cell_type": "code",
   "execution_count": null,
   "metadata": {},
   "outputs": [],
   "source": []
  }
 ],
 "metadata": {
  "kernelspec": {
   "display_name": "Python 3.9.13 ('itesd_env')",
   "language": "python",
   "name": "python3"
  },
  "language_info": {
   "codemirror_mode": {
    "name": "ipython",
    "version": 3
   },
   "file_extension": ".py",
   "mimetype": "text/x-python",
   "name": "python",
   "nbconvert_exporter": "python",
   "pygments_lexer": "ipython3",
   "version": "3.9.13"
  },
  "orig_nbformat": 4,
  "vscode": {
   "interpreter": {
    "hash": "3c42b54925bdca82cdb5059acc0a21648e00763ff265e64872b54aa656b5d9d8"
   }
  }
 },
 "nbformat": 4,
 "nbformat_minor": 2
}
