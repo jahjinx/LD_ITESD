{
 "cells": [
  {
   "cell_type": "markdown",
   "metadata": {},
   "source": [
    "# intermediate_hellaswag\n",
    "This notebook takes our hellaswag dataset and trains an intermediate model."
   ]
  },
  {
   "cell_type": "markdown",
   "metadata": {},
   "source": [
    "## Imports & Settings"
   ]
  },
  {
   "cell_type": "markdown",
   "metadata": {},
   "source": [
    "First, update working directory to parent so that we may use our custom functions"
   ]
  },
  {
   "cell_type": "code",
   "execution_count": 3,
   "metadata": {},
   "outputs": [],
   "source": [
    "import os\n",
    "os.chdir('..')\n",
    "# os.getcwd( )"
   ]
  },
  {
   "cell_type": "code",
   "execution_count": 4,
   "metadata": {},
   "outputs": [],
   "source": [
    "import params\n",
    "from utils import *\n",
    "from trainer import *\n",
    "\n",
    "import numpy as np\n",
    "import pandas as pd\n",
    "from datasets import load_from_disk\n",
    "\n",
    "from transformers import RobertaTokenizer, RobertaForMultipleChoice\n",
    "from torch.utils.data import TensorDataset, DataLoader, RandomSampler\n",
    "\n",
    "# suppress model warning\n",
    "from transformers import logging\n",
    "logging.set_verbosity_error()\n",
    "\n",
    "# set logging level\n",
    "import logging\n",
    "logging.basicConfig(format='%(message)s', level=logging.INFO)"
   ]
  },
  {
   "cell_type": "code",
   "execution_count": 5,
   "metadata": {},
   "outputs": [
    {
     "name": "stdout",
     "output_type": "stream",
     "text": [
      "We're Armed: macOS-13.1-arm64-i386-64bit\n"
     ]
    }
   ],
   "source": [
    "# set general seeds\n",
    "set_seeds(1)\n",
    "\n",
    "# set dataloader generator seed\n",
    "g = torch.Generator()\n",
    "g.manual_seed(1)\n",
    "\n",
    "# set params for this model\n",
    "params.num_labels = 4\n",
    "params.output_dir = \"model_saves/intermediate_HellaSwag_01\"\n",
    "params.dataset_path = \"data/inter_HellaSwag/itesd_hellaswag_balanced.hf\"\n",
    "\n",
    "# Ensure we're on an ARM environment if necessary.\n",
    "platform_check()"
   ]
  },
  {
   "cell_type": "markdown",
   "metadata": {},
   "source": [
    "## Load Data"
   ]
  },
  {
   "cell_type": "markdown",
   "metadata": {},
   "source": [
    "### hellaswag"
   ]
  },
  {
   "cell_type": "code",
   "execution_count": 4,
   "metadata": {},
   "outputs": [],
   "source": [
    "hellaswag_datasets = load_from_disk(params.dataset_path)"
   ]
  },
  {
   "cell_type": "code",
   "execution_count": 5,
   "metadata": {},
   "outputs": [
    {
     "data": {
      "text/plain": [
       "DatasetDict({\n",
       "    train: Dataset({\n",
       "        features: ['ind', 'activity_label', 'ctx_a', 'ctx_b', 'ctx', 'endings', 'source_id', 'split', 'split_type', 'label', 'ending0', 'ending1', 'ending2', 'ending3'],\n",
       "        num_rows: 34600\n",
       "    })\n",
       "    validation: Dataset({\n",
       "        features: ['ind', 'activity_label', 'ctx_a', 'ctx_b', 'ctx', 'endings', 'source_id', 'split', 'split_type', 'label', 'ending0', 'ending1', 'ending2', 'ending3'],\n",
       "        num_rows: 10042\n",
       "    })\n",
       "    test: Dataset({\n",
       "        features: ['ind', 'activity_label', 'ctx_a', 'ctx_b', 'ctx', 'endings', 'source_id', 'split', 'split_type', 'label', 'ending0', 'ending1', 'ending2', 'ending3'],\n",
       "        num_rows: 4994\n",
       "    })\n",
       "})"
      ]
     },
     "execution_count": 5,
     "metadata": {},
     "output_type": "execute_result"
    }
   ],
   "source": [
    "hellaswag_datasets"
   ]
  },
  {
   "cell_type": "code",
   "execution_count": 6,
   "metadata": {},
   "outputs": [
    {
     "name": "stdout",
     "output_type": "stream",
     "text": [
      "Context: A woman in a green shirt stands in a kitchen.\n",
      "  A - she stands in front of several ingredients.\n",
      "  B - she starts mixing other ingredients in a box.\n",
      "  C - she begins by taking some green eye shadow.\n",
      "  D - she shows off a saucepan full of sauerkraut.\n",
      "\n",
      "Ground truth: option A\n"
     ]
    }
   ],
   "source": [
    "def show_one(example):\n",
    "    print(f\"Context: {example['ctx_a']}\")\n",
    "    print(f\"  A - {example['ctx_b']} {example['ending0']}\")\n",
    "    print(f\"  B - {example['ctx_b']} {example['ending1']}\")\n",
    "    print(f\"  C - {example['ctx_b']} {example['ending2']}\")\n",
    "    print(f\"  D - {example['ctx_b']} {example['ending3']}\")\n",
    "    print(f\"\\nGround truth: option {['A', 'B', 'C', 'D'][example['label']]}\")\n",
    "\n",
    "show_one(hellaswag_datasets[\"train\"][50])"
   ]
  },
  {
   "cell_type": "markdown",
   "metadata": {},
   "source": [
    "## Preprocess"
   ]
  },
  {
   "cell_type": "code",
   "execution_count": 7,
   "metadata": {},
   "outputs": [],
   "source": [
    "params.tokenizer = RobertaTokenizer.from_pretrained(\"roberta-base\", use_fast=True)"
   ]
  },
  {
   "cell_type": "code",
   "execution_count": null,
   "metadata": {},
   "outputs": [],
   "source": [
    "# encoding_dict\n",
    "encoded_datasets = hellaswag_datasets.map(mc_preprocessing, batched=True)\n",
    "encoded_datasets"
   ]
  },
  {
   "cell_type": "markdown",
   "metadata": {},
   "source": [
    "### Double-Check input_id lengths\n",
    "We're performing this check to ensure that 256 max token length is sufficient for this task."
   ]
  },
  {
   "cell_type": "code",
   "execution_count": 9,
   "metadata": {},
   "outputs": [
    {
     "name": "stdout",
     "output_type": "stream",
     "text": [
      "138400\n"
     ]
    }
   ],
   "source": [
    "train_ids = encoded_datasets[\"train\"]['input_ids']\n",
    "\n",
    "lengths = []\n",
    "for i in train_ids:\n",
    "    for j in i:\n",
    "        lengths.append(len(j))\n",
    "\n",
    "print(len(lengths))"
   ]
  },
  {
   "cell_type": "code",
   "execution_count": 10,
   "metadata": {},
   "outputs": [
    {
     "data": {
      "text/plain": [
       "159"
      ]
     },
     "execution_count": 10,
     "metadata": {},
     "output_type": "execute_result"
    }
   ],
   "source": [
    "max(lengths)"
   ]
  },
  {
   "cell_type": "markdown",
   "metadata": {},
   "source": [
    "### View input Structure\n",
    "\n",
    "The inputs are four copies of cxt_a and ctx_b each strung together with one ending option. They start with the \\<s> BOS token, which may act as the CLS token instead, and are separated with the \\</s> token--end of sequence or separator token.\n",
    "\n",
    "https://huggingface.co/docs/transformers/model_doc/roberta\n",
    "https://stackoverflow.com/questions/61465223/roberta-tokenization-of-multiple-sequences"
   ]
  },
  {
   "cell_type": "code",
   "execution_count": 11,
   "metadata": {},
   "outputs": [
    {
     "name": "stdout",
     "output_type": "stream",
     "text": [
      "Context: [header] How to tell when lotus root has gone bad [title] Look for mold or mildew. [step] Examine the root for signs of mold or mildew. Any dark green, black, gray or white growth on the outside of the root is an indication that it has spoiled.\n",
      "  A -  If your root has mold or mildew on it, you should discard it. [title] Observe to see if the root is soft.\n",
      "  B -  [substeps] Rose dimes, or similarly rancid looking projections, should not be given to toddlers, as they may have a bacterial or fungal infection. If no mold develops, the roots of the plant are likely to rot.\n",
      "  C -  If this occurs, it has gone bad. Mildew, for instance, is typically mold-like, and will produce dark, black growths on the plant and/or buds.\n",
      "  D -  [substeps] Mildew may also be a sign of rot. Look for scorch marks or discoloration on new roots, that may indicate root rot or mildew.\n",
      "\n",
      "Ground truth: option A\n"
     ]
    }
   ],
   "source": [
    "show_one(hellaswag_datasets[\"train\"][0])"
   ]
  },
  {
   "cell_type": "code",
   "execution_count": 12,
   "metadata": {},
   "outputs": [
    {
     "name": "stdout",
     "output_type": "stream",
     "text": [
      "<s>[header] How to tell when lotus root has gone bad [title] Look for mold or mildew. [step] Examine the root for signs of mold or mildew. Any dark green, black, gray or white growth on the outside of the root is an indication that it has spoiled.</s></s> If your root has mold or mildew on it, you should discard it. [title] Observe to see if the root is soft.</s>\n",
      "<s>[header] How to tell when lotus root has gone bad [title] Look for mold or mildew. [step] Examine the root for signs of mold or mildew. Any dark green, black, gray or white growth on the outside of the root is an indication that it has spoiled.</s></s> [substeps] Rose dimes, or similarly rancid looking projections, should not be given to toddlers, as they may have a bacterial or fungal infection. If no mold develops, the roots of the plant are likely to rot.</s>\n",
      "<s>[header] How to tell when lotus root has gone bad [title] Look for mold or mildew. [step] Examine the root for signs of mold or mildew. Any dark green, black, gray or white growth on the outside of the root is an indication that it has spoiled.</s></s> If this occurs, it has gone bad. Mildew, for instance, is typically mold-like, and will produce dark, black growths on the plant and/or buds.</s>\n",
      "<s>[header] How to tell when lotus root has gone bad [title] Look for mold or mildew. [step] Examine the root for signs of mold or mildew. Any dark green, black, gray or white growth on the outside of the root is an indication that it has spoiled.</s></s> [substeps] Mildew may also be a sign of rot. Look for scorch marks or discoloration on new roots, that may indicate root rot or mildew.</s>\n"
     ]
    }
   ],
   "source": [
    "print(params.tokenizer.decode(encoded_datasets['train'][\"input_ids\"][0][0]))\n",
    "print(params.tokenizer.decode(encoded_datasets['train'][\"input_ids\"][0][1]))\n",
    "print(params.tokenizer.decode(encoded_datasets['train'][\"input_ids\"][0][2]))\n",
    "print(params.tokenizer.decode(encoded_datasets['train'][\"input_ids\"][0][3]))"
   ]
  },
  {
   "cell_type": "markdown",
   "metadata": {},
   "source": [
    "## Prep Dataloaders\n"
   ]
  },
  {
   "cell_type": "code",
   "execution_count": 13,
   "metadata": {},
   "outputs": [],
   "source": [
    "train_features = construct_input(encoded_datasets['train'])\n",
    "validate_features = construct_input(encoded_datasets['validation'])"
   ]
  },
  {
   "cell_type": "code",
   "execution_count": 14,
   "metadata": {},
   "outputs": [],
   "source": [
    "# dataloaders w collation\n",
    "# Prepare DataLoader\n",
    "train_dataloader = DataLoader(\n",
    "            train_features,\n",
    "            sampler = RandomSampler(train_features),\n",
    "            batch_size = params.batch_size,\n",
    "            worker_init_fn=seed_worker,\n",
    "            generator=g,\n",
    "            collate_fn=collate\n",
    "        )\n",
    "\n",
    "validation_dataloader = DataLoader(\n",
    "            validate_features,\n",
    "            sampler = RandomSampler(validate_features),\n",
    "            batch_size = params.batch_size,\n",
    "            worker_init_fn=seed_worker,\n",
    "            generator=g,\n",
    "            collate_fn=collate\n",
    "        )"
   ]
  },
  {
   "cell_type": "code",
   "execution_count": 15,
   "metadata": {},
   "outputs": [
    {
     "data": {
      "text/plain": [
       "[tensor([[[    0, 10975, 24419,  ...,     1,     1,     1],\n",
       "          [    0, 10975, 24419,  ...,     1,     1,     1],\n",
       "          [    0, 10975, 24419,  ...,     1,     1,     1],\n",
       "          [    0, 10975, 24419,  ...,     1,     1,     1]],\n",
       " \n",
       "         [[    0,   250,   340,  ...,     1,     1,     1],\n",
       "          [    0,   250,   340,  ...,     1,     1,     1],\n",
       "          [    0,   250,   340,  ...,     1,     1,     1],\n",
       "          [    0,   250,   340,  ...,     1,     1,     1]],\n",
       " \n",
       "         [[    0, 10975, 24419,  ...,     1,     1,     1],\n",
       "          [    0, 10975, 24419,  ...,     1,     1,     1],\n",
       "          [    0, 10975, 24419,  ...,     1,     1,     1],\n",
       "          [    0, 10975, 24419,  ...,     1,     1,     1]],\n",
       " \n",
       "         ...,\n",
       " \n",
       "         [[    0,   243,   924,  ...,     1,     1,     1],\n",
       "          [    0,   243,   924,  ...,     1,     1,     1],\n",
       "          [    0,   243,   924,  ...,     1,     1,     1],\n",
       "          [    0,   243,   924,  ...,     1,     1,     1]],\n",
       " \n",
       "         [[    0, 10975, 24419,  ...,     1,     1,     1],\n",
       "          [    0, 10975, 24419,  ...,     1,     1,     1],\n",
       "          [    0, 10975, 24419,  ...,     1,     1,     1],\n",
       "          [    0, 10975, 24419,  ...,     1,     1,     1]],\n",
       " \n",
       "         [[    0,   250, 23921,  ...,     1,     1,     1],\n",
       "          [    0,   250, 23921,  ...,     1,     1,     1],\n",
       "          [    0,   250, 23921,  ...,     1,     1,     1],\n",
       "          [    0,   250, 23921,  ...,     1,     1,     1]]]),\n",
       " tensor([[[1, 1, 1,  ..., 0, 0, 0],\n",
       "          [1, 1, 1,  ..., 0, 0, 0],\n",
       "          [1, 1, 1,  ..., 0, 0, 0],\n",
       "          [1, 1, 1,  ..., 0, 0, 0]],\n",
       " \n",
       "         [[1, 1, 1,  ..., 0, 0, 0],\n",
       "          [1, 1, 1,  ..., 0, 0, 0],\n",
       "          [1, 1, 1,  ..., 0, 0, 0],\n",
       "          [1, 1, 1,  ..., 0, 0, 0]],\n",
       " \n",
       "         [[1, 1, 1,  ..., 0, 0, 0],\n",
       "          [1, 1, 1,  ..., 0, 0, 0],\n",
       "          [1, 1, 1,  ..., 0, 0, 0],\n",
       "          [1, 1, 1,  ..., 0, 0, 0]],\n",
       " \n",
       "         ...,\n",
       " \n",
       "         [[1, 1, 1,  ..., 0, 0, 0],\n",
       "          [1, 1, 1,  ..., 0, 0, 0],\n",
       "          [1, 1, 1,  ..., 0, 0, 0],\n",
       "          [1, 1, 1,  ..., 0, 0, 0]],\n",
       " \n",
       "         [[1, 1, 1,  ..., 0, 0, 0],\n",
       "          [1, 1, 1,  ..., 0, 0, 0],\n",
       "          [1, 1, 1,  ..., 0, 0, 0],\n",
       "          [1, 1, 1,  ..., 0, 0, 0]],\n",
       " \n",
       "         [[1, 1, 1,  ..., 0, 0, 0],\n",
       "          [1, 1, 1,  ..., 0, 0, 0],\n",
       "          [1, 1, 1,  ..., 0, 0, 0],\n",
       "          [1, 1, 1,  ..., 0, 0, 0]]]),\n",
       " tensor([0, 0, 2, 0, 0, 2, 2, 2, 1, 2, 3, 2, 2, 2, 3, 0])]"
      ]
     },
     "execution_count": 15,
     "metadata": {},
     "output_type": "execute_result"
    }
   ],
   "source": [
    "# view an example from the dataloader\n",
    "next(iter(train_dataloader))"
   ]
  },
  {
   "cell_type": "markdown",
   "metadata": {},
   "source": [
    "## Train"
   ]
  },
  {
   "cell_type": "markdown",
   "metadata": {},
   "source": [
    "* Note: if continuing from checkpoint, continue to next section\n",
    "\n",
    "Download transformers.RobertaForSequenceClassification, which is a RoBERTa model with a linear layer for sentence classification (or regression) on top of the pooled output:"
   ]
  },
  {
   "cell_type": "code",
   "execution_count": 6,
   "metadata": {},
   "outputs": [
    {
     "data": {
      "text/plain": [
       "==============================================================================================================\n",
       "Layer (type:depth-idx)                                       Output Shape              Param #\n",
       "==============================================================================================================\n",
       "RobertaForMultipleChoice                                     [1, 4]                    --\n",
       "├─RobertaModel: 1-1                                          [4, 768]                  --\n",
       "│    └─RobertaEmbeddings: 2-1                                [4, 256, 768]             --\n",
       "│    │    └─Embedding: 3-1                                   [4, 256, 768]             38,603,520\n",
       "│    │    └─Embedding: 3-2                                   [4, 256, 768]             768\n",
       "│    │    └─Embedding: 3-3                                   [4, 256, 768]             394,752\n",
       "│    │    └─LayerNorm: 3-4                                   [4, 256, 768]             1,536\n",
       "│    │    └─Dropout: 3-5                                     [4, 256, 768]             --\n",
       "│    └─RobertaEncoder: 2-2                                   [4, 256, 768]             --\n",
       "│    │    └─ModuleList: 3-6                                  --                        85,054,464\n",
       "│    └─RobertaPooler: 2-3                                    [4, 768]                  --\n",
       "│    │    └─Linear: 3-7                                      [4, 768]                  590,592\n",
       "│    │    └─Tanh: 3-8                                        [4, 768]                  --\n",
       "├─Dropout: 1-2                                               [4, 768]                  --\n",
       "├─Linear: 1-3                                                [4, 1]                    769\n",
       "==============================================================================================================\n",
       "Total params: 124,646,401\n",
       "Trainable params: 124,646,401\n",
       "Non-trainable params: 0\n",
       "Total mult-adds (M): 498.59\n",
       "==============================================================================================================\n",
       "Input size (MB): 0.00\n",
       "Forward/backward pass size (MB): 855.66\n",
       "Params size (MB): 498.59\n",
       "Estimated Total Size (MB): 1354.25\n",
       "=============================================================================================================="
      ]
     },
     "execution_count": 6,
     "metadata": {},
     "output_type": "execute_result"
    }
   ],
   "source": [
    "# Load the RobertaForSequenceClassification model\n",
    "model = RobertaForMultipleChoice.from_pretrained('roberta-base',\n",
    "                                                  num_labels = params.num_labels,\n",
    "                                                  output_attentions = False,\n",
    "                                                  output_hidden_states = False,\n",
    "                                                    )\n",
    "\n",
    "from torchinfo import summary\n",
    "summary(model, input_size=(1, 4, 256), dtypes=['torch.IntTensor'])"
   ]
  },
  {
   "cell_type": "markdown",
   "metadata": {},
   "source": [
    "Set model to device, initialize trainer"
   ]
  },
  {
   "cell_type": "code",
   "execution_count": 17,
   "metadata": {},
   "outputs": [
    {
     "name": "stdout",
     "output_type": "stream",
     "text": [
      "Device: mps\n",
      "\n",
      "          Training Dataset: data/inter_HellaSwag/itesd_hellaswag_balanced.hf\n",
      "          Number of Labels: 4\n",
      "          Batch Size: 16\n",
      "          Learning Rate: 1e-05\n",
      "          Weight Decay: 0\n",
      "          Epochs: 10\n",
      "          Output Directory: model_saves/intermediate_HellaSwag_01\n",
      "          Save Frequency: 1\n",
      "          Checkpoint Frequency: 1\n",
      "          Max Length: 256\n",
      "          \n"
     ]
    }
   ],
   "source": [
    "model.to(params.device)\n",
    "# print(f\"Trained Dataset: {dataset_path}\")\n",
    "print(f\"Device: {params.device}\")\n",
    "\n",
    "optimizer = torch.optim.Adam(params=model.parameters(), \n",
    "                             lr=params.learning_rate,\n",
    "                             weight_decay=params.weight_decay) #roberta\n",
    "\n",
    "trainer = Trainer(model=model,\n",
    "                  device=params.device,\n",
    "                  tokenizer=params.tokenizer,\n",
    "                  train_dataloader=train_dataloader,\n",
    "                  validation_dataloader=validation_dataloader,\n",
    "                  epochs=params.epochs,\n",
    "                  optimizer=optimizer,\n",
    "                  val_loss_fn=params.val_loss_fn,\n",
    "                  num_labels=params.num_labels,\n",
    "                  output_dir=params.output_dir,\n",
    "                  save_freq=params.save_freq,\n",
    "                  checkpoint_freq=params.checkpoint_freq)\n",
    "\n",
    "output_parameters()"
   ]
  },
  {
   "cell_type": "code",
   "execution_count": null,
   "metadata": {},
   "outputs": [],
   "source": [
    "trainer.fit()"
   ]
  },
  {
   "cell_type": "markdown",
   "metadata": {},
   "source": [
    "## Continue Training from Checkpoint"
   ]
  },
  {
   "cell_type": "code",
   "execution_count": 16,
   "metadata": {},
   "outputs": [
    {
     "name": "stdout",
     "output_type": "stream",
     "text": [
      "Device: mps\n"
     ]
    }
   ],
   "source": [
    "# Load the RobertaForSequenceClassification model\n",
    "model = RobertaForMultipleChoice.from_pretrained('roberta-base',\n",
    "                                                  num_labels = params.num_labels,\n",
    "                                                  output_attentions = False,\n",
    "                                                  output_hidden_states = False,\n",
    "                                                    )\n",
    "\n",
    "model.to(params.device)\n",
    "print(f\"Device: {params.device}\")\n",
    "\n",
    "optimizer = torch.optim.Adam(params=model.parameters(), \n",
    "                             lr=params.learning_rate,\n",
    "                             weight_decay=params.weight_decay) #roberta\n",
    "\n",
    "checkpoint_load = \"model_saves/intermediate_HellaSwag_01/E06_A0.61_F0.61/checkpoint.pt\"\n",
    "trainer = Trainer(model=model,\n",
    "                  device=params.device,\n",
    "                  tokenizer=params.tokenizer,\n",
    "                  train_dataloader=train_dataloader,\n",
    "                  validation_dataloader=validation_dataloader,\n",
    "                  epochs=params.epochs,\n",
    "                  optimizer=optimizer,\n",
    "                  val_loss_fn=params.val_loss_fn,\n",
    "                  num_labels=params.num_labels,\n",
    "                  output_dir=params.output_dir,\n",
    "                  save_freq=params.save_freq,\n",
    "                  checkpoint_freq=params.checkpoint_freq, \n",
    "                  checkpoint_load=checkpoint_load)"
   ]
  },
  {
   "cell_type": "code",
   "execution_count": 17,
   "metadata": {},
   "outputs": [
    {
     "name": "stderr",
     "output_type": "stream",
     "text": [
      "Epoch 7: 100%|██████████| 2163/2163 [1:43:23<00:00,  2.87s/batch]\n",
      "\t Validation 627: 100%|██████████| 628/628 [10:01<00:00,  1.04batch/s]\n",
      "\n",
      " \t - Train loss: 0.165883\n",
      "\t - Validation Loss: 1.644658\n",
      "\t - Validation Accuracy: 0.618451\n",
      "\t - Validation F1: 0.618451\n",
      "\t - Validation Recall: 0.618451\n",
      "\t - Validation Precision: 0.618451 \n",
      "\n",
      "\t * Model @ epoch 7 saved to model_saves/intermediate_HellaSwag_01/E07_A0.62_F0.62\n",
      "\t * Model checkpoint saved to model_saves/intermediate_HellaSwag_01/E07_A0.62_F0.62/checkpoint.pt\n",
      "\n",
      "Epoch 8: 100%|██████████| 2163/2163 [1:41:19<00:00,  2.81s/batch]\n",
      "\t Validation 627: 100%|██████████| 628/628 [10:01<00:00,  1.04batch/s]\n",
      "\n",
      " \t - Train loss: 0.139275\n",
      "\t - Validation Loss: 1.798362\n",
      "\t - Validation Accuracy: 0.606768\n",
      "\t - Validation F1: 0.606768\n",
      "\t - Validation Recall: 0.606768\n",
      "\t - Validation Precision: 0.606768 \n",
      "\n",
      "\t * Model @ epoch 8 saved to model_saves/intermediate_HellaSwag_01/E08_A0.61_F0.61\n",
      "\t * Model checkpoint saved to model_saves/intermediate_HellaSwag_01/E08_A0.61_F0.61/checkpoint.pt\n",
      "\n",
      "Epoch 9: 100%|██████████| 2163/2163 [1:40:59<00:00,  2.80s/batch]\n",
      "\t Validation 627: 100%|██████████| 628/628 [09:58<00:00,  1.05batch/s]\n",
      "\n",
      " \t - Train loss: 0.112031\n",
      "\t - Validation Loss: 1.838890\n",
      "\t - Validation Accuracy: 0.604976\n",
      "\t - Validation F1: 0.604976\n",
      "\t - Validation Recall: 0.604976\n",
      "\t - Validation Precision: 0.604976 \n",
      "\n",
      "\t * Model @ epoch 9 saved to model_saves/intermediate_HellaSwag_01/E09_A0.6_F0.6\n",
      "\t * Model checkpoint saved to model_saves/intermediate_HellaSwag_01/E09_A0.6_F0.6/checkpoint.pt\n",
      "\n",
      "Epoch 10: 100%|██████████| 2163/2163 [1:40:23<00:00,  2.78s/batch]\n",
      "\t Validation 627: 100%|██████████| 628/628 [09:51<00:00,  1.06batch/s]\n",
      "\n",
      " \t - Train loss: 0.098076\n",
      "\t - Validation Loss: 1.792704\n",
      "\t - Validation Accuracy: 0.605573\n",
      "\t - Validation F1: 0.605573\n",
      "\t - Validation Recall: 0.605573\n",
      "\t - Validation Precision: 0.605573 \n",
      "\n",
      "\t * Model @ epoch 10 saved to model_saves/intermediate_HellaSwag_01/E10_A0.61_F0.61\n",
      "\t * Model checkpoint saved to model_saves/intermediate_HellaSwag_01/E10_A0.61_F0.61/checkpoint.pt\n",
      "\n"
     ]
    }
   ],
   "source": [
    "trainer.fit()"
   ]
  },
  {
   "cell_type": "code",
   "execution_count": 1,
   "metadata": {},
   "outputs": [
    {
     "ename": "TypeError",
     "evalue": "unhashable type: 'list'",
     "output_type": "error",
     "traceback": [
      "\u001b[0;31m---------------------------------------------------------------------------\u001b[0m",
      "\u001b[0;31mTypeError\u001b[0m                                 Traceback (most recent call last)",
      "Cell \u001b[0;32mIn [1], line 4\u001b[0m\n\u001b[1;32m      1\u001b[0m token_ids \u001b[38;5;241m=\u001b[39m [[\u001b[38;5;241m23\u001b[39m,\u001b[38;5;241m42\u001b[39m,\u001b[38;5;241m42\u001b[39m,\u001b[38;5;241m23\u001b[39m], [\u001b[38;5;241m23\u001b[39m,\u001b[38;5;241m43\u001b[39m,\u001b[38;5;241m23\u001b[39m,\u001b[38;5;241m43\u001b[39m]]\n\u001b[1;32m      2\u001b[0m attention_masks \u001b[38;5;241m=\u001b[39m [[\u001b[38;5;241m1\u001b[39m,\u001b[38;5;241m1\u001b[39m,\u001b[38;5;241m1\u001b[39m,\u001b[38;5;241m1\u001b[39m], [\u001b[38;5;241m1\u001b[39m,\u001b[38;5;241m1\u001b[39m,\u001b[38;5;241m1\u001b[39m,\u001b[38;5;241m1\u001b[39m]]\n\u001b[0;32m----> 4\u001b[0m test \u001b[38;5;241m=\u001b[39m {z[\u001b[38;5;241m0\u001b[39m]: \u001b[38;5;28mlist\u001b[39m(z[\u001b[38;5;241m1\u001b[39m:]) \u001b[38;5;28;01mfor\u001b[39;00m z \u001b[38;5;129;01min\u001b[39;00m \u001b[38;5;28mzip\u001b[39m(token_ids, attention_masks)}\n\u001b[1;32m      6\u001b[0m test\n",
      "Cell \u001b[0;32mIn [1], line 4\u001b[0m, in \u001b[0;36m<dictcomp>\u001b[0;34m(.0)\u001b[0m\n\u001b[1;32m      1\u001b[0m token_ids \u001b[38;5;241m=\u001b[39m [[\u001b[38;5;241m23\u001b[39m,\u001b[38;5;241m42\u001b[39m,\u001b[38;5;241m42\u001b[39m,\u001b[38;5;241m23\u001b[39m], [\u001b[38;5;241m23\u001b[39m,\u001b[38;5;241m43\u001b[39m,\u001b[38;5;241m23\u001b[39m,\u001b[38;5;241m43\u001b[39m]]\n\u001b[1;32m      2\u001b[0m attention_masks \u001b[38;5;241m=\u001b[39m [[\u001b[38;5;241m1\u001b[39m,\u001b[38;5;241m1\u001b[39m,\u001b[38;5;241m1\u001b[39m,\u001b[38;5;241m1\u001b[39m], [\u001b[38;5;241m1\u001b[39m,\u001b[38;5;241m1\u001b[39m,\u001b[38;5;241m1\u001b[39m,\u001b[38;5;241m1\u001b[39m]]\n\u001b[0;32m----> 4\u001b[0m test \u001b[38;5;241m=\u001b[39m {z[\u001b[38;5;241m0\u001b[39m]: \u001b[38;5;28mlist\u001b[39m(z[\u001b[38;5;241m1\u001b[39m:]) \u001b[38;5;28;01mfor\u001b[39;00m z \u001b[38;5;129;01min\u001b[39;00m \u001b[38;5;28mzip\u001b[39m(token_ids, attention_masks)}\n\u001b[1;32m      6\u001b[0m test\n",
      "\u001b[0;31mTypeError\u001b[0m: unhashable type: 'list'"
     ]
    }
   ],
   "source": [
    "token_ids = [[23,42,42,23], [23,43,23,43]]\n",
    "attention_masks = [[1,1,1,1], [1,1,1,1]]\n",
    "\n",
    "test = {z[0]: list(z[1:]) for z in zip(token_ids, attention_masks)}\n",
    "\n",
    "test"
   ]
  },
  {
   "cell_type": "code",
   "execution_count": null,
   "metadata": {},
   "outputs": [],
   "source": []
  }
 ],
 "metadata": {
  "kernelspec": {
   "display_name": "Python 3.9.13 ('itesd_env')",
   "language": "python",
   "name": "python3"
  },
  "language_info": {
   "codemirror_mode": {
    "name": "ipython",
    "version": 3
   },
   "file_extension": ".py",
   "mimetype": "text/x-python",
   "name": "python",
   "nbconvert_exporter": "python",
   "pygments_lexer": "ipython3",
   "version": "3.9.13"
  },
  "orig_nbformat": 4,
  "vscode": {
   "interpreter": {
    "hash": "3c42b54925bdca82cdb5059acc0a21648e00763ff265e64872b54aa656b5d9d8"
   }
  }
 },
 "nbformat": 4,
 "nbformat_minor": 2
}
