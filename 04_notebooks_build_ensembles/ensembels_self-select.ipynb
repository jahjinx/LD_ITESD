{
 "cells": [
  {
   "cell_type": "markdown",
   "metadata": {},
   "source": [
    "# Ensemble Self-Selection\n",
    "This notebook allows custom ensembles to be constructed from our trained models, for experimentation."
   ]
  },
  {
   "cell_type": "markdown",
   "metadata": {},
   "source": [
    "## Imports & Settings"
   ]
  },
  {
   "cell_type": "code",
   "execution_count": 1,
   "metadata": {},
   "outputs": [],
   "source": [
    "# Update working directory to parent so that we may use our custom functions\n",
    "import os\n",
    "os.chdir('..')\n",
    "# os.getcwd( )"
   ]
  },
  {
   "cell_type": "code",
   "execution_count": 2,
   "metadata": {},
   "outputs": [],
   "source": [
    "import re\n",
    "import itertools\n",
    "import pandas as pd\n",
    "import matplotlib.pyplot as plt\n",
    "\n",
    "from ast import literal_eval\n",
    "from datasets import load_from_disk\n",
    "from sklearn.metrics import accuracy_score, f1_score, recall_score, precision_score\n",
    "\n",
    "def most_common(lst):\n",
    "    return max(set(lst), key=lst.count)"
   ]
  },
  {
   "cell_type": "markdown",
   "metadata": {},
   "source": [
    "## Load Test Data"
   ]
  },
  {
   "cell_type": "code",
   "execution_count": 3,
   "metadata": {},
   "outputs": [],
   "source": [
    "# load test data\n",
    "dataset_path = \"data/target_iSarcasmEval/itesd_iSarcasmEval_balanced.hf\"\n",
    "datasets = load_from_disk(dataset_path)\n",
    "iSarcasm_test_df = datasets['test'].to_pandas()\n",
    "\n",
    "true_preds = iSarcasm_test_df['label'].to_list()"
   ]
  },
  {
   "cell_type": "code",
   "execution_count": 4,
   "metadata": {},
   "outputs": [
    {
     "name": "stdout",
     "output_type": "stream",
     "text": [
      "1400\n",
      "<class 'list'>\n"
     ]
    }
   ],
   "source": [
    "print(len(true_preds))\n",
    "print(type(true_preds))"
   ]
  },
  {
   "cell_type": "markdown",
   "metadata": {},
   "source": [
    "## Load Model Results Dataset"
   ]
  },
  {
   "cell_type": "code",
   "execution_count": 5,
   "metadata": {},
   "outputs": [
    {
     "data": {
      "text/html": [
       "<div>\n",
       "<style scoped>\n",
       "    .dataframe tbody tr th:only-of-type {\n",
       "        vertical-align: middle;\n",
       "    }\n",
       "\n",
       "    .dataframe tbody tr th {\n",
       "        vertical-align: top;\n",
       "    }\n",
       "\n",
       "    .dataframe thead th {\n",
       "        text-align: right;\n",
       "    }\n",
       "</style>\n",
       "<table border=\"1\" class=\"dataframe\">\n",
       "  <thead>\n",
       "    <tr style=\"text-align: right;\">\n",
       "      <th></th>\n",
       "      <th>model_name</th>\n",
       "      <th>model_epoch</th>\n",
       "      <th>test_accuracy</th>\n",
       "      <th>test_f1</th>\n",
       "      <th>predictions</th>\n",
       "    </tr>\n",
       "  </thead>\n",
       "  <tbody>\n",
       "    <tr>\n",
       "      <th>0</th>\n",
       "      <td>control_iSarcasm_01</td>\n",
       "      <td>E01_A0.75_F0.41</td>\n",
       "      <td>0.835714</td>\n",
       "      <td>0.454976</td>\n",
       "      <td>[0, 0, 1, 1, 0, 0, 0, 0, 0, 0, 0, 0, 0, 0, 0, ...</td>\n",
       "    </tr>\n",
       "    <tr>\n",
       "      <th>1</th>\n",
       "      <td>control_iSarcasm_01</td>\n",
       "      <td>E02_A0.77_F0.39</td>\n",
       "      <td>0.825714</td>\n",
       "      <td>0.452915</td>\n",
       "      <td>[0, 0, 0, 1, 0, 0, 0, 0, 0, 0, 0, 0, 0, 1, 0, ...</td>\n",
       "    </tr>\n",
       "    <tr>\n",
       "      <th>2</th>\n",
       "      <td>control_iSarcasm_01</td>\n",
       "      <td>E03_A0.75_F0.45</td>\n",
       "      <td>0.784286</td>\n",
       "      <td>0.430189</td>\n",
       "      <td>[0, 0, 1, 1, 0, 0, 0, 0, 0, 0, 0, 0, 0, 1, 0, ...</td>\n",
       "    </tr>\n",
       "    <tr>\n",
       "      <th>3</th>\n",
       "      <td>control_iSarcasm_01</td>\n",
       "      <td>E04_A0.76_F0.5</td>\n",
       "      <td>0.757857</td>\n",
       "      <td>0.402116</td>\n",
       "      <td>[0, 0, 1, 0, 0, 0, 0, 0, 0, 0, 0, 0, 0, 1, 0, ...</td>\n",
       "    </tr>\n",
       "    <tr>\n",
       "      <th>4</th>\n",
       "      <td>control_iSarcasm_01</td>\n",
       "      <td>E05_A0.74_F0.45</td>\n",
       "      <td>0.768571</td>\n",
       "      <td>0.408759</td>\n",
       "      <td>[0, 0, 1, 1, 0, 0, 0, 0, 0, 0, 0, 0, 0, 1, 0, ...</td>\n",
       "    </tr>\n",
       "  </tbody>\n",
       "</table>\n",
       "</div>"
      ],
      "text/plain": [
       "            model_name      model_epoch  test_accuracy   test_f1  \\\n",
       "0  control_iSarcasm_01  E01_A0.75_F0.41       0.835714  0.454976   \n",
       "1  control_iSarcasm_01  E02_A0.77_F0.39       0.825714  0.452915   \n",
       "2  control_iSarcasm_01  E03_A0.75_F0.45       0.784286  0.430189   \n",
       "3  control_iSarcasm_01   E04_A0.76_F0.5       0.757857  0.402116   \n",
       "4  control_iSarcasm_01  E05_A0.74_F0.45       0.768571  0.408759   \n",
       "\n",
       "                                         predictions  \n",
       "0  [0, 0, 1, 1, 0, 0, 0, 0, 0, 0, 0, 0, 0, 0, 0, ...  \n",
       "1  [0, 0, 0, 1, 0, 0, 0, 0, 0, 0, 0, 0, 0, 1, 0, ...  \n",
       "2  [0, 0, 1, 1, 0, 0, 0, 0, 0, 0, 0, 0, 0, 1, 0, ...  \n",
       "3  [0, 0, 1, 0, 0, 0, 0, 0, 0, 0, 0, 0, 0, 1, 0, ...  \n",
       "4  [0, 0, 1, 1, 0, 0, 0, 0, 0, 0, 0, 0, 0, 1, 0, ...  "
      ]
     },
     "execution_count": 5,
     "metadata": {},
     "output_type": "execute_result"
    }
   ],
   "source": [
    "results_df = pd.read_csv('05_results/results_target.csv', converters={'predictions': pd.eval})\n",
    "results_df.head()"
   ]
  },
  {
   "cell_type": "code",
   "execution_count": 6,
   "metadata": {},
   "outputs": [
    {
     "name": "stdout",
     "output_type": "stream",
     "text": [
      "<class 'pandas.core.frame.DataFrame'>\n",
      "RangeIndex: 210 entries, 0 to 209\n",
      "Data columns (total 5 columns):\n",
      " #   Column         Non-Null Count  Dtype  \n",
      "---  ------         --------------  -----  \n",
      " 0   model_name     210 non-null    object \n",
      " 1   model_epoch    210 non-null    object \n",
      " 2   test_accuracy  210 non-null    float64\n",
      " 3   test_f1        210 non-null    float64\n",
      " 4   predictions    210 non-null    object \n",
      "dtypes: float64(2), object(3)\n",
      "memory usage: 8.3+ KB\n"
     ]
    }
   ],
   "source": [
    "results_df.info()"
   ]
  },
  {
   "cell_type": "markdown",
   "metadata": {},
   "source": [
    "## Filter Dataset\n",
    "Below, we filter the dataset to retrieve only the best models by F1 score."
   ]
  },
  {
   "cell_type": "code",
   "execution_count": 7,
   "metadata": {},
   "outputs": [
    {
     "data": {
      "text/html": [
       "<div>\n",
       "<style scoped>\n",
       "    .dataframe tbody tr th:only-of-type {\n",
       "        vertical-align: middle;\n",
       "    }\n",
       "\n",
       "    .dataframe tbody tr th {\n",
       "        vertical-align: top;\n",
       "    }\n",
       "\n",
       "    .dataframe thead th {\n",
       "        text-align: right;\n",
       "    }\n",
       "</style>\n",
       "<table border=\"1\" class=\"dataframe\">\n",
       "  <thead>\n",
       "    <tr style=\"text-align: right;\">\n",
       "      <th></th>\n",
       "      <th>model_name</th>\n",
       "      <th>model_epoch</th>\n",
       "      <th>test_accuracy</th>\n",
       "      <th>test_f1</th>\n",
       "      <th>predictions</th>\n",
       "    </tr>\n",
       "  </thead>\n",
       "  <tbody>\n",
       "    <tr>\n",
       "      <th>36</th>\n",
       "      <td>target-iSarcasm_inter-SARC_01</td>\n",
       "      <td>E07_A0.77_F0.45</td>\n",
       "      <td>0.810714</td>\n",
       "      <td>0.455852</td>\n",
       "      <td>[0, 0, 1, 0, 0, 0, 0, 0, 0, 0, 0, 0, 1, 1, 0, ...</td>\n",
       "    </tr>\n",
       "    <tr>\n",
       "      <th>43</th>\n",
       "      <td>target-iSarcasm_inter-SARC_02</td>\n",
       "      <td>E04_A0.77_F0.4</td>\n",
       "      <td>0.805000</td>\n",
       "      <td>0.457256</td>\n",
       "      <td>[0, 0, 1, 0, 0, 0, 0, 0, 0, 0, 0, 0, 0, 1, 0, ...</td>\n",
       "    </tr>\n",
       "    <tr>\n",
       "      <th>53</th>\n",
       "      <td>target-iSarcasm_inter-SARC_03</td>\n",
       "      <td>E04_A0.8_F0.4</td>\n",
       "      <td>0.839286</td>\n",
       "      <td>0.494382</td>\n",
       "      <td>[0, 0, 1, 0, 0, 0, 0, 0, 0, 0, 0, 0, 0, 0, 0, ...</td>\n",
       "    </tr>\n",
       "    <tr>\n",
       "      <th>68</th>\n",
       "      <td>target-iSarcasm_inter-XED-binary_01</td>\n",
       "      <td>E09_A0.74_F0.32</td>\n",
       "      <td>0.812857</td>\n",
       "      <td>0.471774</td>\n",
       "      <td>[0, 0, 0, 0, 1, 0, 0, 0, 0, 0, 1, 0, 0, 1, 0, ...</td>\n",
       "    </tr>\n",
       "    <tr>\n",
       "      <th>72</th>\n",
       "      <td>target-iSarcasm_inter-XED-binary_02</td>\n",
       "      <td>E03_A0.73_F0.38</td>\n",
       "      <td>0.769286</td>\n",
       "      <td>0.434326</td>\n",
       "      <td>[0, 1, 0, 0, 1, 0, 0, 0, 0, 0, 1, 0, 0, 0, 0, ...</td>\n",
       "    </tr>\n",
       "    <tr>\n",
       "      <th>82</th>\n",
       "      <td>target-iSarcasm_inter-XED-binary_03</td>\n",
       "      <td>E03_A0.76_F0.37</td>\n",
       "      <td>0.831429</td>\n",
       "      <td>0.458716</td>\n",
       "      <td>[0, 0, 0, 0, 0, 0, 0, 0, 0, 0, 0, 0, 0, 0, 0, ...</td>\n",
       "    </tr>\n",
       "    <tr>\n",
       "      <th>99</th>\n",
       "      <td>target-iSarcasm_inter-XED-fine_01</td>\n",
       "      <td>E10_A0.77_F0.47</td>\n",
       "      <td>0.805000</td>\n",
       "      <td>0.443992</td>\n",
       "      <td>[0, 0, 0, 1, 1, 1, 0, 0, 0, 0, 1, 0, 1, 1, 0, ...</td>\n",
       "    </tr>\n",
       "    <tr>\n",
       "      <th>109</th>\n",
       "      <td>target-iSarcasm_inter-XED-fine_02</td>\n",
       "      <td>E10_A0.77_F0.45</td>\n",
       "      <td>0.795714</td>\n",
       "      <td>0.432540</td>\n",
       "      <td>[0, 0, 0, 1, 1, 0, 0, 0, 0, 0, 0, 0, 0, 0, 0, ...</td>\n",
       "    </tr>\n",
       "    <tr>\n",
       "      <th>111</th>\n",
       "      <td>target-iSarcasm_inter-XED-fine_03</td>\n",
       "      <td>E02_A0.77_F0.47</td>\n",
       "      <td>0.782857</td>\n",
       "      <td>0.419847</td>\n",
       "      <td>[0, 0, 0, 1, 1, 0, 0, 0, 0, 0, 0, 0, 1, 1, 0, ...</td>\n",
       "    </tr>\n",
       "    <tr>\n",
       "      <th>129</th>\n",
       "      <td>target-iSarcasm_inter-IMDB_01</td>\n",
       "      <td>E10_A0.73_F0.44</td>\n",
       "      <td>0.730714</td>\n",
       "      <td>0.370618</td>\n",
       "      <td>[0, 1, 1, 0, 0, 0, 0, 0, 0, 0, 0, 0, 0, 0, 1, ...</td>\n",
       "    </tr>\n",
       "    <tr>\n",
       "      <th>139</th>\n",
       "      <td>target-iSarcasm_inter-IMDB_02</td>\n",
       "      <td>E10_A0.73_F0.32</td>\n",
       "      <td>0.810000</td>\n",
       "      <td>0.406250</td>\n",
       "      <td>[0, 0, 1, 0, 0, 0, 0, 0, 0, 0, 0, 0, 0, 0, 0, ...</td>\n",
       "    </tr>\n",
       "    <tr>\n",
       "      <th>147</th>\n",
       "      <td>target-iSarcasm_inter-IMDB_03</td>\n",
       "      <td>E08_A0.75_F0.32</td>\n",
       "      <td>0.812857</td>\n",
       "      <td>0.382075</td>\n",
       "      <td>[0, 1, 0, 0, 0, 0, 0, 0, 0, 0, 0, 0, 0, 0, 0, ...</td>\n",
       "    </tr>\n",
       "    <tr>\n",
       "      <th>156</th>\n",
       "      <td>target-iSarcasm_inter-HellaSwag_01</td>\n",
       "      <td>E07_A0.75_F0.34</td>\n",
       "      <td>0.820714</td>\n",
       "      <td>0.386308</td>\n",
       "      <td>[0, 0, 0, 0, 0, 0, 0, 0, 0, 0, 0, 0, 0, 0, 0, ...</td>\n",
       "    </tr>\n",
       "    <tr>\n",
       "      <th>168</th>\n",
       "      <td>target-iSarcasm_inter-HellaSwag_02</td>\n",
       "      <td>E09_A0.76_F0.36</td>\n",
       "      <td>0.828571</td>\n",
       "      <td>0.402985</td>\n",
       "      <td>[0, 0, 0, 0, 0, 0, 0, 0, 0, 0, 0, 0, 0, 0, 0, ...</td>\n",
       "    </tr>\n",
       "    <tr>\n",
       "      <th>177</th>\n",
       "      <td>target-iSarcasm_inter-HellaSwag_03</td>\n",
       "      <td>E08_A0.74_F0.27</td>\n",
       "      <td>0.847143</td>\n",
       "      <td>0.408840</td>\n",
       "      <td>[0, 0, 1, 0, 0, 0, 0, 0, 0, 0, 0, 0, 0, 0, 0, ...</td>\n",
       "    </tr>\n",
       "    <tr>\n",
       "      <th>187</th>\n",
       "      <td>target-iSarcasm_inter-CosmosQA_01</td>\n",
       "      <td>E08_A0.74_F0.28</td>\n",
       "      <td>0.830714</td>\n",
       "      <td>0.400000</td>\n",
       "      <td>[0, 0, 1, 0, 1, 0, 0, 0, 0, 0, 0, 0, 0, 0, 0, ...</td>\n",
       "    </tr>\n",
       "    <tr>\n",
       "      <th>195</th>\n",
       "      <td>target-iSarcasm_inter-CosmosQA_02</td>\n",
       "      <td>E06_A0.76_F0.38</td>\n",
       "      <td>0.822857</td>\n",
       "      <td>0.406699</td>\n",
       "      <td>[0, 0, 1, 1, 1, 0, 0, 0, 0, 0, 0, 0, 0, 0, 0, ...</td>\n",
       "    </tr>\n",
       "    <tr>\n",
       "      <th>202</th>\n",
       "      <td>target-iSarcasm_inter-CosmosQA_03</td>\n",
       "      <td>E03_A0.76_F0.31</td>\n",
       "      <td>0.832857</td>\n",
       "      <td>0.429268</td>\n",
       "      <td>[0, 0, 0, 1, 1, 0, 0, 0, 0, 0, 0, 0, 0, 0, 0, ...</td>\n",
       "    </tr>\n",
       "  </tbody>\n",
       "</table>\n",
       "</div>"
      ],
      "text/plain": [
       "                              model_name      model_epoch  test_accuracy  \\\n",
       "36         target-iSarcasm_inter-SARC_01  E07_A0.77_F0.45       0.810714   \n",
       "43         target-iSarcasm_inter-SARC_02   E04_A0.77_F0.4       0.805000   \n",
       "53         target-iSarcasm_inter-SARC_03    E04_A0.8_F0.4       0.839286   \n",
       "68   target-iSarcasm_inter-XED-binary_01  E09_A0.74_F0.32       0.812857   \n",
       "72   target-iSarcasm_inter-XED-binary_02  E03_A0.73_F0.38       0.769286   \n",
       "82   target-iSarcasm_inter-XED-binary_03  E03_A0.76_F0.37       0.831429   \n",
       "99     target-iSarcasm_inter-XED-fine_01  E10_A0.77_F0.47       0.805000   \n",
       "109    target-iSarcasm_inter-XED-fine_02  E10_A0.77_F0.45       0.795714   \n",
       "111    target-iSarcasm_inter-XED-fine_03  E02_A0.77_F0.47       0.782857   \n",
       "129        target-iSarcasm_inter-IMDB_01  E10_A0.73_F0.44       0.730714   \n",
       "139        target-iSarcasm_inter-IMDB_02  E10_A0.73_F0.32       0.810000   \n",
       "147        target-iSarcasm_inter-IMDB_03  E08_A0.75_F0.32       0.812857   \n",
       "156   target-iSarcasm_inter-HellaSwag_01  E07_A0.75_F0.34       0.820714   \n",
       "168   target-iSarcasm_inter-HellaSwag_02  E09_A0.76_F0.36       0.828571   \n",
       "177   target-iSarcasm_inter-HellaSwag_03  E08_A0.74_F0.27       0.847143   \n",
       "187    target-iSarcasm_inter-CosmosQA_01  E08_A0.74_F0.28       0.830714   \n",
       "195    target-iSarcasm_inter-CosmosQA_02  E06_A0.76_F0.38       0.822857   \n",
       "202    target-iSarcasm_inter-CosmosQA_03  E03_A0.76_F0.31       0.832857   \n",
       "\n",
       "      test_f1                                        predictions  \n",
       "36   0.455852  [0, 0, 1, 0, 0, 0, 0, 0, 0, 0, 0, 0, 1, 1, 0, ...  \n",
       "43   0.457256  [0, 0, 1, 0, 0, 0, 0, 0, 0, 0, 0, 0, 0, 1, 0, ...  \n",
       "53   0.494382  [0, 0, 1, 0, 0, 0, 0, 0, 0, 0, 0, 0, 0, 0, 0, ...  \n",
       "68   0.471774  [0, 0, 0, 0, 1, 0, 0, 0, 0, 0, 1, 0, 0, 1, 0, ...  \n",
       "72   0.434326  [0, 1, 0, 0, 1, 0, 0, 0, 0, 0, 1, 0, 0, 0, 0, ...  \n",
       "82   0.458716  [0, 0, 0, 0, 0, 0, 0, 0, 0, 0, 0, 0, 0, 0, 0, ...  \n",
       "99   0.443992  [0, 0, 0, 1, 1, 1, 0, 0, 0, 0, 1, 0, 1, 1, 0, ...  \n",
       "109  0.432540  [0, 0, 0, 1, 1, 0, 0, 0, 0, 0, 0, 0, 0, 0, 0, ...  \n",
       "111  0.419847  [0, 0, 0, 1, 1, 0, 0, 0, 0, 0, 0, 0, 1, 1, 0, ...  \n",
       "129  0.370618  [0, 1, 1, 0, 0, 0, 0, 0, 0, 0, 0, 0, 0, 0, 1, ...  \n",
       "139  0.406250  [0, 0, 1, 0, 0, 0, 0, 0, 0, 0, 0, 0, 0, 0, 0, ...  \n",
       "147  0.382075  [0, 1, 0, 0, 0, 0, 0, 0, 0, 0, 0, 0, 0, 0, 0, ...  \n",
       "156  0.386308  [0, 0, 0, 0, 0, 0, 0, 0, 0, 0, 0, 0, 0, 0, 0, ...  \n",
       "168  0.402985  [0, 0, 0, 0, 0, 0, 0, 0, 0, 0, 0, 0, 0, 0, 0, ...  \n",
       "177  0.408840  [0, 0, 1, 0, 0, 0, 0, 0, 0, 0, 0, 0, 0, 0, 0, ...  \n",
       "187  0.400000  [0, 0, 1, 0, 1, 0, 0, 0, 0, 0, 0, 0, 0, 0, 0, ...  \n",
       "195  0.406699  [0, 0, 1, 1, 1, 0, 0, 0, 0, 0, 0, 0, 0, 0, 0, ...  \n",
       "202  0.429268  [0, 0, 0, 1, 1, 0, 0, 0, 0, 0, 0, 0, 0, 0, 0, ...  "
      ]
     },
     "execution_count": 7,
     "metadata": {},
     "output_type": "execute_result"
    }
   ],
   "source": [
    "idx = results_df.groupby(['model_name'])['test_f1'].transform(max) == results_df['test_f1']\n",
    "\n",
    "f1_estimators_df = results_df[idx]\n",
    "\n",
    "\n",
    "patternDel = \".*control.*\"\n",
    "filter = f1_estimators_df['model_name'].str.contains(patternDel)\n",
    "\n",
    "f1_estimators_df = f1_estimators_df[~filter]\n",
    "f1_estimators_df"
   ]
  },
  {
   "cell_type": "code",
   "execution_count": 8,
   "metadata": {},
   "outputs": [
    {
     "name": "stdout",
     "output_type": "stream",
     "text": [
      "<class 'pandas.core.frame.DataFrame'>\n",
      "Int64Index: 18 entries, 36 to 202\n",
      "Data columns (total 5 columns):\n",
      " #   Column         Non-Null Count  Dtype  \n",
      "---  ------         --------------  -----  \n",
      " 0   model_name     18 non-null     object \n",
      " 1   model_epoch    18 non-null     object \n",
      " 2   test_accuracy  18 non-null     float64\n",
      " 3   test_f1        18 non-null     float64\n",
      " 4   predictions    18 non-null     object \n",
      "dtypes: float64(2), object(3)\n",
      "memory usage: 864.0+ bytes\n"
     ]
    }
   ],
   "source": [
    "f1_estimators_df.info()"
   ]
  },
  {
   "cell_type": "markdown",
   "metadata": {},
   "source": [
    "## Self-Select Estimators"
   ]
  },
  {
   "cell_type": "code",
   "execution_count": null,
   "metadata": {},
   "outputs": [],
   "source": [
    "f1_estimators_df.loc[f1_estimators_df['model_name']=='target-iSarcasm_inter-XED-binary_01', 'predictions'].tolist()[0]"
   ]
  },
  {
   "cell_type": "code",
   "execution_count": null,
   "metadata": {},
   "outputs": [],
   "source": [
    "# define particular estimators \n",
    "estimators = ['target-iSarcasm_inter-XED-binary_01', \n",
    "              'target-iSarcasm_inter-XED-binary_02', \n",
    "              'target-iSarcasm_inter-XED-binary_03',\n",
    "              'target-iSarcasm_inter-SARC_01', \n",
    "              'target-iSarcasm_inter-SARC_02', \n",
    "              'target-iSarcasm_inter-SARC_03',\n",
    "              'target-iSarcasm_inter-hellaswag_01', \n",
    "              'target-iSarcasm_inter-hellaswag_02', \n",
    "              'target-iSarcasm_inter-hellaswag_03']\n",
    "\n",
    "# get predictions of the defined estimators\n",
    "predictions =  [f1_estimators_df.loc[f1_estimators_df['model_name']==m, 'predictions'].tolist()[0] for m in estimators]\n",
    "\n",
    "print(estimators)\n",
    "print(len(predictions))"
   ]
  },
  {
   "cell_type": "code",
   "execution_count": null,
   "metadata": {},
   "outputs": [],
   "source": [
    "pred_groups = []\n",
    "for i in range(len(true_preds)):\n",
    "    pred_stage = []\n",
    "    for prediction in predictions:\n",
    "        pred_stage.append(prediction[i])\n",
    "    pred_groups.append(pred_stage)"
   ]
  },
  {
   "cell_type": "code",
   "execution_count": null,
   "metadata": {},
   "outputs": [],
   "source": [
    "for i in range(20):    \n",
    "    pred_index = i\n",
    "    the_list = pred_groups[pred_index]\n",
    "    prediction = max(set(the_list), key=the_list.count)\n",
    "\n",
    "    if prediction == true_preds[pred_index]:\n",
    "        print(prediction, true_preds[pred_index])\n",
    "    else:\n",
    "        print(prediction, true_preds[pred_index], iSarcasm_df['text'].iloc[i])"
   ]
  },
  {
   "cell_type": "code",
   "execution_count": null,
   "metadata": {},
   "outputs": [],
   "source": [
    "ensemble_preds = []\n",
    "\n",
    "for i in pred_groups:\n",
    "    ensemble_preds.append(most_common(i))"
   ]
  },
  {
   "cell_type": "code",
   "execution_count": null,
   "metadata": {},
   "outputs": [],
   "source": [
    "acc = accuracy_score(true_preds, ensemble_preds)\n",
    "f1 = f1_score(true_preds, ensemble_preds, average='binary')\n",
    "\n",
    "print(acc)\n",
    "print(f1)"
   ]
  }
 ],
 "metadata": {
  "kernelspec": {
   "display_name": "Python 3.10.6 ('eda_env')",
   "language": "python",
   "name": "python3"
  },
  "language_info": {
   "codemirror_mode": {
    "name": "ipython",
    "version": 3
   },
   "file_extension": ".py",
   "mimetype": "text/x-python",
   "name": "python",
   "nbconvert_exporter": "python",
   "pygments_lexer": "ipython3",
   "version": "3.10.6"
  },
  "orig_nbformat": 4,
  "vscode": {
   "interpreter": {
    "hash": "44cd29fc0e411fd9962b44395a3726d6ca1c09530fabf57436a3af7bf7cec47b"
   }
  }
 },
 "nbformat": 4,
 "nbformat_minor": 2
}
