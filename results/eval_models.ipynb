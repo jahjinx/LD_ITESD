{
 "cells": [
  {
   "cell_type": "markdown",
   "metadata": {},
   "source": [
    "## Imports & Settings"
   ]
  },
  {
   "cell_type": "code",
   "execution_count": 1,
   "metadata": {},
   "outputs": [],
   "source": [
    "# Update working directory to parent so that we may use our custom functions\n",
    "os.chdir('..')\n",
    "# os.getcwd( )\n",
    "\n",
    "from results.utils_eval import *\n",
    "from datasets import load_from_disk"
   ]
  },
  {
   "cell_type": "markdown",
   "metadata": {},
   "source": [
    "## Generate Results CSV"
   ]
  },
  {
   "cell_type": "code",
   "execution_count": 3,
   "metadata": {},
   "outputs": [],
   "source": [
    "# generate_results = {'model_name': [], 'model_epoch': [], 'test_accuracy': [], 'test_f1': [], 'predictions':[]}\n",
    "# generate_results_df = pd.DataFrame(data=generate_results)\n",
    "\n",
    "# generate_results_df.to_csv(\"results/results_intermediate.csv\", index=False)"
   ]
  },
  {
   "cell_type": "markdown",
   "metadata": {},
   "source": [
    "## control_iSarcasm"
   ]
  },
  {
   "cell_type": "code",
   "execution_count": 2,
   "metadata": {},
   "outputs": [],
   "source": [
    "# load test data\n",
    "params.dataset_path = \"data/target_iSarcasmEval/itesd_iSarcasmEval_balanced.hf\"\n",
    "datasets = load_from_disk(params.dataset_path)\n",
    "iSarcasm_test_df = datasets['test'].to_pandas()\n",
    "\n",
    "# get model paths\n",
    "top_model_dirs = [\"model_saves/control_iSarcasm_01\",\"model_saves/control_iSarcasm_02\",\"model_saves/control_iSarcasm_03\"]"
   ]
  },
  {
   "cell_type": "code",
   "execution_count": 4,
   "metadata": {},
   "outputs": [
    {
     "name": "stdout",
     "output_type": "stream",
     "text": [
      "Model: model_saves/control_iSarcasm_01/E01_A0.75_F0.41\n"
     ]
    },
    {
     "name": "stderr",
     "output_type": "stream",
     "text": [
      "\tTest 1400: 100%|██████████| 1400/1400 [00:57<00:00, 24.50test/s]\n"
     ]
    },
    {
     "name": "stdout",
     "output_type": "stream",
     "text": [
      "\t- Accuracy: 0.8357142857142857\n",
      "\t- F1: 0.4549763033175356\n",
      "\n",
      "Model: model_saves/control_iSarcasm_01/E02_A0.77_F0.39\n"
     ]
    },
    {
     "name": "stderr",
     "output_type": "stream",
     "text": [
      "\tTest 1400: 100%|██████████| 1400/1400 [00:39<00:00, 35.87test/s]\n"
     ]
    },
    {
     "name": "stdout",
     "output_type": "stream",
     "text": [
      "\t- Accuracy: 0.8257142857142857\n",
      "\t- F1: 0.45291479820627806\n",
      "\n",
      "Model: model_saves/control_iSarcasm_01/E03_A0.75_F0.45\n"
     ]
    },
    {
     "name": "stderr",
     "output_type": "stream",
     "text": [
      "\tTest 1400: 100%|██████████| 1400/1400 [00:39<00:00, 35.89test/s]\n"
     ]
    },
    {
     "name": "stdout",
     "output_type": "stream",
     "text": [
      "\t- Accuracy: 0.7842857142857143\n",
      "\t- F1: 0.43018867924528303\n",
      "\n",
      "Model: model_saves/control_iSarcasm_01/E04_A0.76_F0.5\n"
     ]
    },
    {
     "name": "stderr",
     "output_type": "stream",
     "text": [
      "\tTest 1400: 100%|██████████| 1400/1400 [00:39<00:00, 35.90test/s]\n"
     ]
    },
    {
     "name": "stdout",
     "output_type": "stream",
     "text": [
      "\t- Accuracy: 0.7578571428571429\n",
      "\t- F1: 0.4021164021164021\n",
      "\n",
      "Model: model_saves/control_iSarcasm_01/E05_A0.74_F0.45\n"
     ]
    },
    {
     "name": "stderr",
     "output_type": "stream",
     "text": [
      "\tTest 1400: 100%|██████████| 1400/1400 [00:38<00:00, 35.99test/s]\n"
     ]
    },
    {
     "name": "stdout",
     "output_type": "stream",
     "text": [
      "\t- Accuracy: 0.7685714285714286\n",
      "\t- F1: 0.40875912408759124\n",
      "\n",
      "Model: model_saves/control_iSarcasm_01/E06_A0.78_F0.48\n"
     ]
    },
    {
     "name": "stderr",
     "output_type": "stream",
     "text": [
      "\tTest 1400: 100%|██████████| 1400/1400 [00:38<00:00, 35.99test/s]\n"
     ]
    },
    {
     "name": "stdout",
     "output_type": "stream",
     "text": [
      "\t- Accuracy: 0.7921428571428571\n",
      "\t- F1: 0.42147117296222664\n",
      "\n",
      "Model: model_saves/control_iSarcasm_01/E07_A0.79_F0.43\n"
     ]
    },
    {
     "name": "stderr",
     "output_type": "stream",
     "text": [
      "\tTest 1400: 100%|██████████| 1400/1400 [00:39<00:00, 35.82test/s]\n"
     ]
    },
    {
     "name": "stdout",
     "output_type": "stream",
     "text": [
      "\t- Accuracy: 0.8128571428571428\n",
      "\t- F1: 0.43043478260869567\n",
      "\n",
      "Model: model_saves/control_iSarcasm_01/E08_A0.76_F0.41\n"
     ]
    },
    {
     "name": "stderr",
     "output_type": "stream",
     "text": [
      "\tTest 1400: 100%|██████████| 1400/1400 [00:38<00:00, 36.10test/s]\n"
     ]
    },
    {
     "name": "stdout",
     "output_type": "stream",
     "text": [
      "\t- Accuracy: 0.8264285714285714\n",
      "\t- F1: 0.4335664335664336\n",
      "\n",
      "Model: model_saves/control_iSarcasm_01/E09_A0.76_F0.33\n"
     ]
    },
    {
     "name": "stderr",
     "output_type": "stream",
     "text": [
      "\tTest 1400: 100%|██████████| 1400/1400 [00:38<00:00, 35.92test/s]\n"
     ]
    },
    {
     "name": "stdout",
     "output_type": "stream",
     "text": [
      "\t- Accuracy: 0.8414285714285714\n",
      "\t- F1: 0.4157894736842105\n",
      "\n",
      "Model: model_saves/control_iSarcasm_01/E10_A0.72_F0.47\n"
     ]
    },
    {
     "name": "stderr",
     "output_type": "stream",
     "text": [
      "\tTest 1400: 100%|██████████| 1400/1400 [00:38<00:00, 36.15test/s]\n"
     ]
    },
    {
     "name": "stdout",
     "output_type": "stream",
     "text": [
      "\t- Accuracy: 0.73\n",
      "\t- F1: 0.3942307692307693\n",
      "\n",
      "Model: model_saves/control_iSarcasm_02/E01_A0.77_F0.41\n"
     ]
    },
    {
     "name": "stderr",
     "output_type": "stream",
     "text": [
      "\tTest 1400: 100%|██████████| 1400/1400 [00:38<00:00, 35.97test/s]\n"
     ]
    },
    {
     "name": "stdout",
     "output_type": "stream",
     "text": [
      "\t- Accuracy: 0.7978571428571428\n",
      "\t- F1: 0.39400428265524623\n",
      "\n",
      "Model: model_saves/control_iSarcasm_02/E02_A0.77_F0.33\n"
     ]
    },
    {
     "name": "stderr",
     "output_type": "stream",
     "text": [
      "\tTest 1400: 100%|██████████| 1400/1400 [00:38<00:00, 35.97test/s]\n"
     ]
    },
    {
     "name": "stdout",
     "output_type": "stream",
     "text": [
      "\t- Accuracy: 0.8235714285714286\n",
      "\t- F1: 0.3870967741935484\n",
      "\n",
      "Model: model_saves/control_iSarcasm_02/E03_A0.76_F0.33\n"
     ]
    },
    {
     "name": "stderr",
     "output_type": "stream",
     "text": [
      "\tTest 1400: 100%|██████████| 1400/1400 [00:38<00:00, 36.02test/s]\n"
     ]
    },
    {
     "name": "stdout",
     "output_type": "stream",
     "text": [
      "\t- Accuracy: 0.825\n",
      "\t- F1: 0.4038929440389294\n",
      "\n",
      "Model: model_saves/control_iSarcasm_02/E04_A0.77_F0.35\n"
     ]
    },
    {
     "name": "stderr",
     "output_type": "stream",
     "text": [
      "\tTest 1400: 100%|██████████| 1400/1400 [00:38<00:00, 36.03test/s]\n"
     ]
    },
    {
     "name": "stdout",
     "output_type": "stream",
     "text": [
      "\t- Accuracy: 0.8364285714285714\n",
      "\t- F1: 0.4143222506393862\n",
      "\n",
      "Model: model_saves/control_iSarcasm_02/E05_A0.75_F0.3\n"
     ]
    },
    {
     "name": "stderr",
     "output_type": "stream",
     "text": [
      "\tTest 1400: 100%|██████████| 1400/1400 [00:38<00:00, 35.92test/s]\n"
     ]
    },
    {
     "name": "stdout",
     "output_type": "stream",
     "text": [
      "\t- Accuracy: 0.8428571428571429\n",
      "\t- F1: 0.4416243654822335\n",
      "\n",
      "Model: model_saves/control_iSarcasm_02/E06_A0.75_F0.5\n"
     ]
    },
    {
     "name": "stderr",
     "output_type": "stream",
     "text": [
      "\tTest 1400: 100%|██████████| 1400/1400 [00:38<00:00, 35.96test/s]\n"
     ]
    },
    {
     "name": "stdout",
     "output_type": "stream",
     "text": [
      "\t- Accuracy: 0.71\n",
      "\t- F1: 0.3734567901234568\n",
      "\n",
      "Model: model_saves/control_iSarcasm_02/E07_A0.74_F0.5\n"
     ]
    },
    {
     "name": "stderr",
     "output_type": "stream",
     "text": [
      "\tTest 1400: 100%|██████████| 1400/1400 [00:38<00:00, 36.04test/s]\n"
     ]
    },
    {
     "name": "stdout",
     "output_type": "stream",
     "text": [
      "\t- Accuracy: 0.6728571428571428\n",
      "\t- F1: 0.36740331491712713\n",
      "\n",
      "Model: model_saves/control_iSarcasm_02/E08_A0.76_F0.41\n"
     ]
    },
    {
     "name": "stderr",
     "output_type": "stream",
     "text": [
      "\tTest 1400: 100%|██████████| 1400/1400 [00:38<00:00, 36.08test/s]\n"
     ]
    },
    {
     "name": "stdout",
     "output_type": "stream",
     "text": [
      "\t- Accuracy: 0.7835714285714286\n",
      "\t- F1: 0.41842610364683297\n",
      "\n",
      "Model: model_saves/control_iSarcasm_02/E09_A0.76_F0.31\n"
     ]
    },
    {
     "name": "stderr",
     "output_type": "stream",
     "text": [
      "\tTest 1400: 100%|██████████| 1400/1400 [00:38<00:00, 36.05test/s]\n"
     ]
    },
    {
     "name": "stdout",
     "output_type": "stream",
     "text": [
      "\t- Accuracy: 0.8342857142857143\n",
      "\t- F1: 0.41999999999999993\n",
      "\n",
      "Model: model_saves/control_iSarcasm_02/E10_A0.76_F0.38\n"
     ]
    },
    {
     "name": "stderr",
     "output_type": "stream",
     "text": [
      "\tTest 1400: 100%|██████████| 1400/1400 [00:38<00:00, 36.22test/s]\n"
     ]
    },
    {
     "name": "stdout",
     "output_type": "stream",
     "text": [
      "\t- Accuracy: 0.8007142857142857\n",
      "\t- F1: 0.3730337078651686\n",
      "\n",
      "Model: model_saves/control_iSarcasm_03/E01_A0.77_F0.5\n"
     ]
    },
    {
     "name": "stderr",
     "output_type": "stream",
     "text": [
      "\tTest 1400: 100%|██████████| 1400/1400 [00:38<00:00, 36.02test/s]\n"
     ]
    },
    {
     "name": "stdout",
     "output_type": "stream",
     "text": [
      "\t- Accuracy: 0.75\n",
      "\t- F1: 0.38811188811188807\n",
      "\n",
      "Model: model_saves/control_iSarcasm_03/E02_A0.78_F0.34\n"
     ]
    },
    {
     "name": "stderr",
     "output_type": "stream",
     "text": [
      "\tTest 1400: 100%|██████████| 1400/1400 [00:38<00:00, 35.95test/s]\n"
     ]
    },
    {
     "name": "stdout",
     "output_type": "stream",
     "text": [
      "\t- Accuracy: 0.8392857142857143\n",
      "\t- F1: 0.42748091603053434\n",
      "\n",
      "Model: model_saves/control_iSarcasm_03/E03_A0.78_F0.32\n"
     ]
    },
    {
     "name": "stderr",
     "output_type": "stream",
     "text": [
      "\tTest 1400: 100%|██████████| 1400/1400 [00:38<00:00, 36.19test/s]\n"
     ]
    },
    {
     "name": "stdout",
     "output_type": "stream",
     "text": [
      "\t- Accuracy: 0.85\n",
      "\t- F1: 0.43548387096774194\n",
      "\n",
      "Model: model_saves/control_iSarcasm_03/E04_A0.8_F0.44\n"
     ]
    },
    {
     "name": "stderr",
     "output_type": "stream",
     "text": [
      "\tTest 1400: 100%|██████████| 1400/1400 [00:38<00:00, 36.03test/s]\n"
     ]
    },
    {
     "name": "stdout",
     "output_type": "stream",
     "text": [
      "\t- Accuracy: 0.8135714285714286\n",
      "\t- F1: 0.43137254901960786\n",
      "\n",
      "Model: model_saves/control_iSarcasm_03/E05_A0.78_F0.32\n"
     ]
    },
    {
     "name": "stderr",
     "output_type": "stream",
     "text": [
      "\tTest 1400: 100%|██████████| 1400/1400 [00:38<00:00, 36.03test/s]\n"
     ]
    },
    {
     "name": "stdout",
     "output_type": "stream",
     "text": [
      "\t- Accuracy: 0.8278571428571428\n",
      "\t- F1: 0.39294710327455923\n",
      "\n",
      "Model: model_saves/control_iSarcasm_03/E06_A0.78_F0.41\n"
     ]
    },
    {
     "name": "stderr",
     "output_type": "stream",
     "text": [
      "\tTest 1400: 100%|██████████| 1400/1400 [00:38<00:00, 36.20test/s]\n"
     ]
    },
    {
     "name": "stdout",
     "output_type": "stream",
     "text": [
      "\t- Accuracy: 0.8085714285714286\n",
      "\t- F1: 0.40707964601769914\n",
      "\n",
      "Model: model_saves/control_iSarcasm_03/E07_A0.76_F0.45\n"
     ]
    },
    {
     "name": "stderr",
     "output_type": "stream",
     "text": [
      "\tTest 1400: 100%|██████████| 1400/1400 [00:38<00:00, 35.91test/s]\n"
     ]
    },
    {
     "name": "stdout",
     "output_type": "stream",
     "text": [
      "\t- Accuracy: 0.7414285714285714\n",
      "\t- F1: 0.3822525597269625\n",
      "\n",
      "Model: model_saves/control_iSarcasm_03/E08_A0.77_F0.39\n"
     ]
    },
    {
     "name": "stderr",
     "output_type": "stream",
     "text": [
      "\tTest 1400: 100%|██████████| 1400/1400 [00:38<00:00, 35.91test/s]\n"
     ]
    },
    {
     "name": "stdout",
     "output_type": "stream",
     "text": [
      "\t- Accuracy: 0.8121428571428572\n",
      "\t- F1: 0.41163310961968685\n",
      "\n",
      "Model: model_saves/control_iSarcasm_03/E09_A0.75_F0.35\n"
     ]
    },
    {
     "name": "stderr",
     "output_type": "stream",
     "text": [
      "\tTest 1400: 100%|██████████| 1400/1400 [00:38<00:00, 35.99test/s]\n"
     ]
    },
    {
     "name": "stdout",
     "output_type": "stream",
     "text": [
      "\t- Accuracy: 0.8278571428571428\n",
      "\t- F1: 0.4049382716049383\n",
      "\n",
      "Model: model_saves/control_iSarcasm_03/E10_A0.75_F0.43\n"
     ]
    },
    {
     "name": "stderr",
     "output_type": "stream",
     "text": [
      "\tTest 1400: 100%|██████████| 1400/1400 [00:38<00:00, 36.07test/s]\n"
     ]
    },
    {
     "name": "stdout",
     "output_type": "stream",
     "text": [
      "\t- Accuracy: 0.7635714285714286\n",
      "\t- F1: 0.3948811700182816\n",
      "\n"
     ]
    }
   ],
   "source": [
    "for top in top_model_dirs:\n",
    "    models = parse_model_dir(top)\n",
    "    evaluate_model(iSarcasm_test_df, models, 2, 'results/results_target.csv')"
   ]
  },
  {
   "cell_type": "markdown",
   "metadata": {},
   "source": [
    "## intermediate_XED_binary\n"
   ]
  },
  {
   "cell_type": "code",
   "execution_count": 5,
   "metadata": {},
   "outputs": [],
   "source": [
    "# load test data\n",
    "params.dataset_path = \"data/inter_XED/itesd_xed_binary_balanced.hf\"\n",
    "datasets = load_from_disk(params.dataset_path)\n",
    "xed_binary_test_df = datasets['test'].to_pandas()\n",
    "\n",
    "# get model paths\n",
    "top_model_dirs = [\"model_saves/intermediate_XED_binary_01\"]"
   ]
  },
  {
   "cell_type": "code",
   "execution_count": 6,
   "metadata": {},
   "outputs": [
    {
     "name": "stdout",
     "output_type": "stream",
     "text": [
      "Model: model_saves/intermediate_XED_binary_01/E01_A0.81_F0.82\n"
     ]
    },
    {
     "name": "stderr",
     "output_type": "stream",
     "text": [
      "\tTest 1655: 100%|██████████| 1655/1655 [00:44<00:00, 36.90test/s]\n"
     ]
    },
    {
     "name": "stdout",
     "output_type": "stream",
     "text": [
      "\t- Accuracy: 0.8241691842900302\n",
      "\t- F1: 0.8345650938032972\n",
      "\n",
      "Model: model_saves/intermediate_XED_binary_01/E02_A0.82_F0.81\n"
     ]
    },
    {
     "name": "stderr",
     "output_type": "stream",
     "text": [
      "\tTest 1655: 100%|██████████| 1655/1655 [00:44<00:00, 36.93test/s]\n"
     ]
    },
    {
     "name": "stdout",
     "output_type": "stream",
     "text": [
      "\t- Accuracy: 0.8326283987915408\n",
      "\t- F1: 0.8286951144094001\n",
      "\n",
      "Model: model_saves/intermediate_XED_binary_01/E03_A0.82_F0.82\n"
     ]
    },
    {
     "name": "stderr",
     "output_type": "stream",
     "text": [
      "\tTest 1655: 100%|██████████| 1655/1655 [00:44<00:00, 37.07test/s]\n"
     ]
    },
    {
     "name": "stdout",
     "output_type": "stream",
     "text": [
      "\t- Accuracy: 0.8211480362537764\n",
      "\t- F1: 0.8186274509803921\n",
      "\n",
      "Model: model_saves/intermediate_XED_binary_01/E04_A0.81_F0.8\n"
     ]
    },
    {
     "name": "stderr",
     "output_type": "stream",
     "text": [
      "\tTest 1655: 100%|██████████| 1655/1655 [00:44<00:00, 37.01test/s]\n"
     ]
    },
    {
     "name": "stdout",
     "output_type": "stream",
     "text": [
      "\t- Accuracy: 0.824773413897281\n",
      "\t- F1: 0.8145780051150895\n",
      "\n",
      "Model: model_saves/intermediate_XED_binary_01/E05_A0.82_F0.81\n"
     ]
    },
    {
     "name": "stderr",
     "output_type": "stream",
     "text": [
      "\tTest 1655: 100%|██████████| 1655/1655 [00:44<00:00, 36.94test/s]\n"
     ]
    },
    {
     "name": "stdout",
     "output_type": "stream",
     "text": [
      "\t- Accuracy: 0.8241691842900302\n",
      "\t- F1: 0.8198142414860681\n",
      "\n",
      "Model: model_saves/intermediate_XED_binary_01/E06_A0.81_F0.81\n"
     ]
    },
    {
     "name": "stderr",
     "output_type": "stream",
     "text": [
      "\tTest 1655: 100%|██████████| 1655/1655 [00:44<00:00, 36.86test/s]\n"
     ]
    },
    {
     "name": "stdout",
     "output_type": "stream",
     "text": [
      "\t- Accuracy: 0.8253776435045317\n",
      "\t- F1: 0.8241022519780888\n",
      "\n",
      "Model: model_saves/intermediate_XED_binary_01/E07_A0.81_F0.8\n"
     ]
    },
    {
     "name": "stderr",
     "output_type": "stream",
     "text": [
      "\tTest 1655: 100%|██████████| 1655/1655 [00:45<00:00, 36.76test/s]\n"
     ]
    },
    {
     "name": "stdout",
     "output_type": "stream",
     "text": [
      "\t- Accuracy: 0.8265861027190332\n",
      "\t- F1: 0.8263762855414399\n",
      "\n",
      "Model: model_saves/intermediate_XED_binary_01/E08_A0.81_F0.82\n"
     ]
    },
    {
     "name": "stderr",
     "output_type": "stream",
     "text": [
      "\tTest 1655: 100%|██████████| 1655/1655 [00:44<00:00, 36.82test/s]\n"
     ]
    },
    {
     "name": "stdout",
     "output_type": "stream",
     "text": [
      "\t- Accuracy: 0.8217522658610272\n",
      "\t- F1: 0.8251333728512151\n",
      "\n",
      "Model: model_saves/intermediate_XED_binary_01/E09_A0.81_F0.81\n"
     ]
    },
    {
     "name": "stderr",
     "output_type": "stream",
     "text": [
      "\tTest 1655: 100%|██████████| 1655/1655 [00:45<00:00, 36.71test/s]\n"
     ]
    },
    {
     "name": "stdout",
     "output_type": "stream",
     "text": [
      "\t- Accuracy: 0.8169184290030211\n",
      "\t- F1: 0.823529411764706\n",
      "\n",
      "Model: model_saves/intermediate_XED_binary_01/E10_A0.82_F0.81\n"
     ]
    },
    {
     "name": "stderr",
     "output_type": "stream",
     "text": [
      "\tTest 1655: 100%|██████████| 1655/1655 [00:44<00:00, 37.11test/s]\n"
     ]
    },
    {
     "name": "stdout",
     "output_type": "stream",
     "text": [
      "\t- Accuracy: 0.8211480362537764\n",
      "\t- F1: 0.8223289315726291\n",
      "\n"
     ]
    }
   ],
   "source": [
    "for top in top_model_dirs:\n",
    "    models = parse_model_dir(top)\n",
    "    evaluate_model(xed_binary_test_df, models, 2, 'results/results_intermediate.csv')"
   ]
  },
  {
   "cell_type": "markdown",
   "metadata": {},
   "source": [
    "## intermediate_XED_fine\n"
   ]
  },
  {
   "cell_type": "code",
   "execution_count": 13,
   "metadata": {},
   "outputs": [],
   "source": [
    "# load test data\n",
    "params.dataset_path = \"data/inter_XED/itesd_xed_fine_balanced.hf\"\n",
    "datasets = load_from_disk(params.dataset_path)\n",
    "xed_fine_test_df = datasets['test'].to_pandas()\n",
    "\n",
    "# get model paths\n",
    "top_model_dirs = [\"model_saves/intermediate_XED_fine_01\"]"
   ]
  },
  {
   "cell_type": "code",
   "execution_count": 14,
   "metadata": {},
   "outputs": [
    {
     "name": "stdout",
     "output_type": "stream",
     "text": [
      "Model: model_saves/intermediate_XED_fine_01/E01_A0.48_F0.48\n"
     ]
    },
    {
     "name": "stderr",
     "output_type": "stream",
     "text": [
      "\tTest 1655: 100%|██████████| 1655/1655 [00:49<00:00, 33.30test/s]\n"
     ]
    },
    {
     "name": "stdout",
     "output_type": "stream",
     "text": [
      "\t- Accuracy: 0.47311178247734137\n",
      "\t- F1: 0.47311178247734137\n",
      "\n",
      "Model: model_saves/intermediate_XED_fine_01/E02_A0.52_F0.52\n"
     ]
    },
    {
     "name": "stderr",
     "output_type": "stream",
     "text": [
      "\tTest 1655: 100%|██████████| 1655/1655 [00:45<00:00, 36.01test/s]\n"
     ]
    },
    {
     "name": "stdout",
     "output_type": "stream",
     "text": [
      "\t- Accuracy: 0.5268882175226586\n",
      "\t- F1: 0.5268882175226586\n",
      "\n",
      "Model: model_saves/intermediate_XED_fine_01/E03_A0.53_F0.53\n"
     ]
    },
    {
     "name": "stderr",
     "output_type": "stream",
     "text": [
      "\tTest 1655: 100%|██████████| 1655/1655 [00:45<00:00, 36.49test/s]\n"
     ]
    },
    {
     "name": "stdout",
     "output_type": "stream",
     "text": [
      "\t- Accuracy: 0.5166163141993958\n",
      "\t- F1: 0.5166163141993958\n",
      "\n",
      "Model: model_saves/intermediate_XED_fine_01/E04_A0.53_F0.53\n"
     ]
    },
    {
     "name": "stderr",
     "output_type": "stream",
     "text": [
      "\tTest 1655: 100%|██████████| 1655/1655 [00:45<00:00, 36.30test/s]\n"
     ]
    },
    {
     "name": "stdout",
     "output_type": "stream",
     "text": [
      "\t- Accuracy: 0.5365558912386706\n",
      "\t- F1: 0.5365558912386706\n",
      "\n",
      "Model: model_saves/intermediate_XED_fine_01/E05_A0.53_F0.53\n"
     ]
    },
    {
     "name": "stderr",
     "output_type": "stream",
     "text": [
      "\tTest 1655: 100%|██████████| 1655/1655 [00:45<00:00, 36.31test/s]\n"
     ]
    },
    {
     "name": "stdout",
     "output_type": "stream",
     "text": [
      "\t- Accuracy: 0.5214501510574018\n",
      "\t- F1: 0.5214501510574018\n",
      "\n",
      "Model: model_saves/intermediate_XED_fine_01/E06_A0.52_F0.52\n"
     ]
    },
    {
     "name": "stderr",
     "output_type": "stream",
     "text": [
      "\tTest 1655: 100%|██████████| 1655/1655 [00:45<00:00, 36.35test/s]\n"
     ]
    },
    {
     "name": "stdout",
     "output_type": "stream",
     "text": [
      "\t- Accuracy: 0.5299093655589124\n",
      "\t- F1: 0.5299093655589124\n",
      "\n",
      "Model: model_saves/intermediate_XED_fine_01/E07_A0.51_F0.51\n"
     ]
    },
    {
     "name": "stderr",
     "output_type": "stream",
     "text": [
      "\tTest 1655: 100%|██████████| 1655/1655 [00:45<00:00, 36.32test/s]\n"
     ]
    },
    {
     "name": "stdout",
     "output_type": "stream",
     "text": [
      "\t- Accuracy: 0.5178247734138973\n",
      "\t- F1: 0.5178247734138973\n",
      "\n",
      "Model: model_saves/intermediate_XED_fine_01/E08_A0.51_F0.51\n"
     ]
    },
    {
     "name": "stderr",
     "output_type": "stream",
     "text": [
      "\tTest 1655: 100%|██████████| 1655/1655 [00:45<00:00, 36.39test/s]\n"
     ]
    },
    {
     "name": "stdout",
     "output_type": "stream",
     "text": [
      "\t- Accuracy: 0.5141993957703928\n",
      "\t- F1: 0.5141993957703928\n",
      "\n",
      "Model: model_saves/intermediate_XED_fine_01/E09_A0.51_F0.51\n"
     ]
    },
    {
     "name": "stderr",
     "output_type": "stream",
     "text": [
      "\tTest 1655: 100%|██████████| 1655/1655 [00:45<00:00, 36.45test/s]\n"
     ]
    },
    {
     "name": "stdout",
     "output_type": "stream",
     "text": [
      "\t- Accuracy: 0.5190332326283988\n",
      "\t- F1: 0.5190332326283988\n",
      "\n",
      "Model: model_saves/intermediate_XED_fine_01/E10_A0.51_F0.51\n"
     ]
    },
    {
     "name": "stderr",
     "output_type": "stream",
     "text": [
      "\tTest 1655: 100%|██████████| 1655/1655 [00:45<00:00, 36.50test/s]\n"
     ]
    },
    {
     "name": "stdout",
     "output_type": "stream",
     "text": [
      "\t- Accuracy: 0.518429003021148\n",
      "\t- F1: 0.518429003021148\n",
      "\n"
     ]
    }
   ],
   "source": [
    "for top in top_model_dirs:\n",
    "    models = parse_model_dir(top)\n",
    "    evaluate_model(xed_fine_test_df, models, 8, 'results/results_intermediate.csv')"
   ]
  },
  {
   "cell_type": "markdown",
   "metadata": {},
   "source": [
    "## intermediate_SARC\n"
   ]
  },
  {
   "cell_type": "code",
   "execution_count": 9,
   "metadata": {},
   "outputs": [],
   "source": [
    "# load test data\n",
    "params.dataset_path = \"data/inter_SARC/itesd_sarc_balanced.hf\"\n",
    "datasets = load_from_disk(params.dataset_path)\n",
    "sarc_test_df = datasets['test'].to_pandas()\n",
    "\n",
    "# get model paths\n",
    "top_model_dirs = [\"model_saves/intermediate_SARC_01\"]"
   ]
  },
  {
   "cell_type": "code",
   "execution_count": 10,
   "metadata": {},
   "outputs": [
    {
     "name": "stdout",
     "output_type": "stream",
     "text": [
      "Model: model_saves/intermediate_SARC_01/E01_A0.75_F0.73\n"
     ]
    },
    {
     "name": "stderr",
     "output_type": "stream",
     "text": [
      "\tTest 10000: 100%|██████████| 10000/10000 [04:34<00:00, 36.42test/s]\n"
     ]
    },
    {
     "name": "stdout",
     "output_type": "stream",
     "text": [
      "\t- Accuracy: 0.7487\n",
      "\t- F1: 0.7391259213121562\n",
      "\n",
      "Model: model_saves/intermediate_SARC_01/E02_A0.76_F0.75\n"
     ]
    },
    {
     "name": "stderr",
     "output_type": "stream",
     "text": [
      "\tTest 10000: 100%|██████████| 10000/10000 [04:31<00:00, 36.78test/s]\n"
     ]
    },
    {
     "name": "stdout",
     "output_type": "stream",
     "text": [
      "\t- Accuracy: 0.7547\n",
      "\t- F1: 0.7592501717538521\n",
      "\n",
      "Model: model_saves/intermediate_SARC_01/E03_A0.76_F0.74\n"
     ]
    },
    {
     "name": "stderr",
     "output_type": "stream",
     "text": [
      "\tTest 10000: 100%|██████████| 10000/10000 [04:32<00:00, 36.64test/s]\n"
     ]
    },
    {
     "name": "stdout",
     "output_type": "stream",
     "text": [
      "\t- Accuracy: 0.7626\n",
      "\t- F1: 0.7610708534621579\n",
      "\n",
      "Model: model_saves/intermediate_SARC_01/E04_A0.75_F0.74\n"
     ]
    },
    {
     "name": "stderr",
     "output_type": "stream",
     "text": [
      "\tTest 10000: 100%|██████████| 10000/10000 [04:32<00:00, 36.70test/s]\n"
     ]
    },
    {
     "name": "stdout",
     "output_type": "stream",
     "text": [
      "\t- Accuracy: 0.7539\n",
      "\t- F1: 0.7527378679795037\n",
      "\n",
      "Model: model_saves/intermediate_SARC_01/E05_A0.76_F0.74\n"
     ]
    },
    {
     "name": "stderr",
     "output_type": "stream",
     "text": [
      "\tTest 10000: 100%|██████████| 10000/10000 [04:32<00:00, 36.75test/s]\n"
     ]
    },
    {
     "name": "stdout",
     "output_type": "stream",
     "text": [
      "\t- Accuracy: 0.7511\n",
      "\t- F1: 0.7458388644950474\n",
      "\n",
      "Model: model_saves/intermediate_SARC_01/E06_A0.75_F0.73\n"
     ]
    },
    {
     "name": "stderr",
     "output_type": "stream",
     "text": [
      "\tTest 10000: 100%|██████████| 10000/10000 [04:32<00:00, 36.73test/s]\n"
     ]
    },
    {
     "name": "stdout",
     "output_type": "stream",
     "text": [
      "\t- Accuracy: 0.7479\n",
      "\t- F1: 0.7397005678884874\n",
      "\n",
      "Model: model_saves/intermediate_SARC_01/E07_A0.75_F0.74\n"
     ]
    },
    {
     "name": "stderr",
     "output_type": "stream",
     "text": [
      "\tTest 10000: 100%|██████████| 10000/10000 [04:32<00:00, 36.71test/s]\n"
     ]
    },
    {
     "name": "stdout",
     "output_type": "stream",
     "text": [
      "\t- Accuracy: 0.7426\n",
      "\t- F1: 0.7424969987995197\n",
      "\n",
      "Model: model_saves/intermediate_SARC_01/E08_A0.75_F0.73\n"
     ]
    },
    {
     "name": "stderr",
     "output_type": "stream",
     "text": [
      "\tTest 10000: 100%|██████████| 10000/10000 [04:31<00:00, 36.77test/s]\n"
     ]
    },
    {
     "name": "stdout",
     "output_type": "stream",
     "text": [
      "\t- Accuracy: 0.7408\n",
      "\t- F1: 0.7386042759177087\n",
      "\n",
      "Model: model_saves/intermediate_SARC_01/E09_A0.75_F0.73\n"
     ]
    },
    {
     "name": "stderr",
     "output_type": "stream",
     "text": [
      "\tTest 10000: 100%|██████████| 10000/10000 [04:32<00:00, 36.66test/s]\n"
     ]
    },
    {
     "name": "stdout",
     "output_type": "stream",
     "text": [
      "\t- Accuracy: 0.7372\n",
      "\t- F1: 0.7385074626865671\n",
      "\n",
      "Model: model_saves/intermediate_SARC_01/E10_A0.74_F0.74\n"
     ]
    },
    {
     "name": "stderr",
     "output_type": "stream",
     "text": [
      "\tTest 10000: 100%|██████████| 10000/10000 [04:32<00:00, 36.74test/s]\n"
     ]
    },
    {
     "name": "stdout",
     "output_type": "stream",
     "text": [
      "\t- Accuracy: 0.7461\n",
      "\t- F1: 0.7513952805248213\n",
      "\n"
     ]
    }
   ],
   "source": [
    "for top in top_model_dirs:\n",
    "    models = parse_model_dir(top)\n",
    "    evaluate_model(sarc_test_df, models, 2, 'results/results_intermediate.csv')"
   ]
  },
  {
   "cell_type": "markdown",
   "metadata": {},
   "source": [
    "## intermediate_IMDB\n"
   ]
  },
  {
   "cell_type": "code",
   "execution_count": 11,
   "metadata": {},
   "outputs": [],
   "source": [
    "# load test data\n",
    "params.dataset_path = \"data/inter_IMDB_sentiment/itesd_imdb_balanced.hf\"\n",
    "datasets = load_from_disk(params.dataset_path)\n",
    "imdb_test_df = datasets['test'].to_pandas()\n",
    "\n",
    "# get model paths\n",
    "top_model_dirs = [\"model_saves/intermediate_IMDB_01\"]"
   ]
  },
  {
   "cell_type": "code",
   "execution_count": 12,
   "metadata": {},
   "outputs": [
    {
     "name": "stdout",
     "output_type": "stream",
     "text": [
      "Model: model_saves/intermediate_IMDB_01/E01_A0.94_F0.93\n"
     ]
    },
    {
     "name": "stderr",
     "output_type": "stream",
     "text": [
      "\tTest 5000: 100%|██████████| 5000/5000 [15:29<00:00,  5.38test/s]  \n"
     ]
    },
    {
     "name": "stdout",
     "output_type": "stream",
     "text": [
      "\t- Accuracy: 0.9568\n",
      "\t- F1: 0.9565567176186646\n",
      "\n",
      "Model: model_saves/intermediate_IMDB_01/E02_A0.94_F0.94\n"
     ]
    },
    {
     "name": "stderr",
     "output_type": "stream",
     "text": [
      "\tTest 5000: 100%|██████████| 5000/5000 [03:15<00:00, 25.53test/s]\n"
     ]
    },
    {
     "name": "stdout",
     "output_type": "stream",
     "text": [
      "\t- Accuracy: 0.9592\n",
      "\t- F1: 0.9590525893215576\n",
      "\n",
      "Model: model_saves/intermediate_IMDB_01/E03_A0.94_F0.94\n"
     ]
    },
    {
     "name": "stderr",
     "output_type": "stream",
     "text": [
      "\tTest 5000: 100%|██████████| 5000/5000 [03:16<00:00, 25.49test/s]\n"
     ]
    },
    {
     "name": "stdout",
     "output_type": "stream",
     "text": [
      "\t- Accuracy: 0.9548\n",
      "\t- F1: 0.9551409289400556\n",
      "\n",
      "Model: model_saves/intermediate_IMDB_01/E04_A0.95_F0.94\n"
     ]
    },
    {
     "name": "stderr",
     "output_type": "stream",
     "text": [
      "\tTest 5000: 100%|██████████| 5000/5000 [03:16<00:00, 25.46test/s]\n"
     ]
    },
    {
     "name": "stdout",
     "output_type": "stream",
     "text": [
      "\t- Accuracy: 0.9574\n",
      "\t- F1: 0.9574425574425574\n",
      "\n",
      "Model: model_saves/intermediate_IMDB_01/E05_A0.94_F0.94\n"
     ]
    },
    {
     "name": "stderr",
     "output_type": "stream",
     "text": [
      "\tTest 5000: 100%|██████████| 5000/5000 [03:15<00:00, 25.55test/s]\n"
     ]
    },
    {
     "name": "stdout",
     "output_type": "stream",
     "text": [
      "\t- Accuracy: 0.9582\n",
      "\t- F1: 0.9578713968957873\n",
      "\n",
      "Model: model_saves/intermediate_IMDB_01/E06_A0.94_F0.94\n"
     ]
    },
    {
     "name": "stderr",
     "output_type": "stream",
     "text": [
      "\tTest 5000: 100%|██████████| 5000/5000 [03:15<00:00, 25.54test/s]\n"
     ]
    },
    {
     "name": "stdout",
     "output_type": "stream",
     "text": [
      "\t- Accuracy: 0.9574\n",
      "\t- F1: 0.9575274177467598\n",
      "\n",
      "Model: model_saves/intermediate_IMDB_01/E07_A0.94_F0.93\n"
     ]
    },
    {
     "name": "stderr",
     "output_type": "stream",
     "text": [
      "\tTest 5000: 100%|██████████| 5000/5000 [03:19<00:00, 25.02test/s]\n"
     ]
    },
    {
     "name": "stdout",
     "output_type": "stream",
     "text": [
      "\t- Accuracy: 0.9546\n",
      "\t- F1: 0.9540206603200324\n",
      "\n",
      "Model: model_saves/intermediate_IMDB_01/E08_A0.94_F0.94\n"
     ]
    },
    {
     "name": "stderr",
     "output_type": "stream",
     "text": [
      "\tTest 5000: 100%|██████████| 5000/5000 [03:19<00:00, 25.08test/s]\n"
     ]
    },
    {
     "name": "stdout",
     "output_type": "stream",
     "text": [
      "\t- Accuracy: 0.9534\n",
      "\t- F1: 0.9527670788566794\n",
      "\n",
      "Model: model_saves/intermediate_IMDB_01/E09_A0.94_F0.93\n"
     ]
    },
    {
     "name": "stderr",
     "output_type": "stream",
     "text": [
      "\tTest 5000: 100%|██████████| 5000/5000 [03:20<00:00, 24.98test/s]\n"
     ]
    },
    {
     "name": "stdout",
     "output_type": "stream",
     "text": [
      "\t- Accuracy: 0.9514\n",
      "\t- F1: 0.9504182819832687\n",
      "\n",
      "Model: model_saves/intermediate_IMDB_01/E10_A0.94_F0.94\n"
     ]
    },
    {
     "name": "stderr",
     "output_type": "stream",
     "text": [
      "\tTest 5000: 100%|██████████| 5000/5000 [03:17<00:00, 25.30test/s]\n"
     ]
    },
    {
     "name": "stdout",
     "output_type": "stream",
     "text": [
      "\t- Accuracy: 0.9554\n",
      "\t- F1: 0.9554267439536279\n",
      "\n"
     ]
    }
   ],
   "source": [
    "for top in top_model_dirs:\n",
    "    models = parse_model_dir(top)\n",
    "    evaluate_model(imdb_test_df, models, 2, 'results/results_intermediate.csv')"
   ]
  },
  {
   "cell_type": "markdown",
   "metadata": {},
   "source": [
    "## intermediate_hellaswag\n"
   ]
  },
  {
   "cell_type": "code",
   "execution_count": null,
   "metadata": {},
   "outputs": [],
   "source": [
    "# load test data\n",
    "hellaswag_datasets = load_from_disk(\"data/inter_HellaSwag/hellaswag.hf\")\n",
    "\n",
    "# get model paths\n",
    "top_model_dirs = [\"model_saves/intermediate_hellaswag_01\"]"
   ]
  },
  {
   "cell_type": "code",
   "execution_count": null,
   "metadata": {},
   "outputs": [],
   "source": [
    "hellaswag_datasets"
   ]
  },
  {
   "cell_type": "code",
   "execution_count": null,
   "metadata": {},
   "outputs": [],
   "source": [
    "for top in top_model_dirs:\n",
    "    models = parse_model_dir(top)\n",
    "    evaluate_mc_model(hellaswag_datasets, models, 'results/results_intermediate_TEST.csv')"
   ]
  },
  {
   "cell_type": "markdown",
   "metadata": {},
   "source": [
    "## intermediate_cosmosQA\n"
   ]
  },
  {
   "cell_type": "code",
   "execution_count": null,
   "metadata": {},
   "outputs": [],
   "source": [
    "# load test data\n",
    "cosmos_datasets = load_dataset(\"cosmos_qa\")\n",
    "\n",
    "# get model paths\n",
    "top_model_dirs = [\"model_saves/intermediate_cosmos_01\"]"
   ]
  },
  {
   "cell_type": "code",
   "execution_count": null,
   "metadata": {},
   "outputs": [],
   "source": [
    "cosmos_datasets"
   ]
  },
  {
   "cell_type": "code",
   "execution_count": null,
   "metadata": {},
   "outputs": [],
   "source": [
    "for top in top_model_dirs:\n",
    "    models = parse_model_dir(top)\n",
    "    evaluate_mc_model(cosmos_datasets, models, 'results/results_intermediate.csv')"
   ]
  },
  {
   "cell_type": "markdown",
   "metadata": {},
   "source": [
    "## target_iSarcasm"
   ]
  },
  {
   "cell_type": "code",
   "execution_count": 2,
   "metadata": {},
   "outputs": [],
   "source": [
    "# load test data\n",
    "params.dataset_path = \"data/target_iSarcasmEval/itesd_iSarcasmEval_balanced.hf\"\n",
    "datasets = load_from_disk(params.dataset_path)\n",
    "iSarcasm_test_df = datasets['test'].to_pandas()\n",
    "\n",
    "# get model paths\n",
    "top_model_dirs = [\"model_saves/target-iSarcasm_inter-IMDB_01\",\n",
    "                  \"model_saves/target-iSarcasm_inter-IMDB_02\",\n",
    "                  \"model_saves/target-iSarcasm_inter-IMDB_03\"]"
   ]
  },
  {
   "cell_type": "code",
   "execution_count": 3,
   "metadata": {},
   "outputs": [
    {
     "name": "stdout",
     "output_type": "stream",
     "text": [
      "Model: model_saves/target-iSarcasm_inter-IMDB_01/E01_A0.46_F0.4\n"
     ]
    },
    {
     "name": "stderr",
     "output_type": "stream",
     "text": [
      "\tTest 1400: 100%|██████████| 1400/1400 [00:55<00:00, 25.36test/s]\n"
     ]
    },
    {
     "name": "stdout",
     "output_type": "stream",
     "text": [
      "\t- Accuracy: 0.3342857142857143\n",
      "\t- F1: 0.27073552425665104\n",
      "\n",
      "Model: model_saves/target-iSarcasm_inter-IMDB_01/E02_A0.71_F0.45\n"
     ]
    },
    {
     "name": "stderr",
     "output_type": "stream",
     "text": [
      "\tTest 1400: 100%|██████████| 1400/1400 [00:39<00:00, 35.20test/s]\n"
     ]
    },
    {
     "name": "stdout",
     "output_type": "stream",
     "text": [
      "\t- Accuracy: 0.635\n",
      "\t- F1: 0.3195739014647137\n",
      "\n",
      "Model: model_saves/target-iSarcasm_inter-IMDB_01/E03_A0.73_F0.36\n"
     ]
    },
    {
     "name": "stderr",
     "output_type": "stream",
     "text": [
      "\tTest 1400: 100%|██████████| 1400/1400 [00:40<00:00, 34.59test/s]\n"
     ]
    },
    {
     "name": "stdout",
     "output_type": "stream",
     "text": [
      "\t- Accuracy: 0.7657142857142857\n",
      "\t- F1: 0.3306122448979592\n",
      "\n",
      "Model: model_saves/target-iSarcasm_inter-IMDB_01/E04_A0.72_F0.38\n"
     ]
    },
    {
     "name": "stderr",
     "output_type": "stream",
     "text": [
      "\tTest 1400: 100%|██████████| 1400/1400 [00:42<00:00, 32.78test/s]\n"
     ]
    },
    {
     "name": "stdout",
     "output_type": "stream",
     "text": [
      "\t- Accuracy: 0.7278571428571429\n",
      "\t- F1: 0.33507853403141363\n",
      "\n",
      "Model: model_saves/target-iSarcasm_inter-IMDB_01/E05_A0.71_F0.44\n"
     ]
    },
    {
     "name": "stderr",
     "output_type": "stream",
     "text": [
      "\tTest 1400: 100%|██████████| 1400/1400 [00:39<00:00, 35.11test/s]\n"
     ]
    },
    {
     "name": "stdout",
     "output_type": "stream",
     "text": [
      "\t- Accuracy: 0.6764285714285714\n",
      "\t- F1: 0.34252539912917274\n",
      "\n",
      "Model: model_saves/target-iSarcasm_inter-IMDB_01/E06_A0.68_F0.41\n"
     ]
    },
    {
     "name": "stderr",
     "output_type": "stream",
     "text": [
      "\tTest 1400: 100%|██████████| 1400/1400 [00:39<00:00, 35.56test/s]\n"
     ]
    },
    {
     "name": "stdout",
     "output_type": "stream",
     "text": [
      "\t- Accuracy: 0.6478571428571429\n",
      "\t- F1: 0.3310719131614654\n",
      "\n",
      "Model: model_saves/target-iSarcasm_inter-IMDB_01/E07_A0.72_F0.34\n"
     ]
    },
    {
     "name": "stderr",
     "output_type": "stream",
     "text": [
      "\tTest 1400: 100%|██████████| 1400/1400 [00:48<00:00, 28.76test/s]\n"
     ]
    },
    {
     "name": "stdout",
     "output_type": "stream",
     "text": [
      "\t- Accuracy: 0.7578571428571429\n",
      "\t- F1: 0.3287128712871287\n",
      "\n",
      "Model: model_saves/target-iSarcasm_inter-IMDB_01/E08_A0.73_F0.38\n"
     ]
    },
    {
     "name": "stderr",
     "output_type": "stream",
     "text": [
      "\tTest 1400: 100%|██████████| 1400/1400 [00:42<00:00, 32.87test/s]\n"
     ]
    },
    {
     "name": "stdout",
     "output_type": "stream",
     "text": [
      "\t- Accuracy: 0.7378571428571429\n",
      "\t- F1: 0.3550087873462215\n",
      "\n",
      "Model: model_saves/target-iSarcasm_inter-IMDB_01/E09_A0.75_F0.39\n"
     ]
    },
    {
     "name": "stderr",
     "output_type": "stream",
     "text": [
      "\tTest 1400: 100%|██████████| 1400/1400 [00:50<00:00, 27.88test/s]\n"
     ]
    },
    {
     "name": "stdout",
     "output_type": "stream",
     "text": [
      "\t- Accuracy: 0.7464285714285714\n",
      "\t- F1: 0.3389199255121043\n",
      "\n",
      "Model: model_saves/target-iSarcasm_inter-IMDB_01/E10_A0.73_F0.44\n"
     ]
    },
    {
     "name": "stderr",
     "output_type": "stream",
     "text": [
      "\tTest 1400: 100%|██████████| 1400/1400 [00:39<00:00, 35.39test/s]\n"
     ]
    },
    {
     "name": "stdout",
     "output_type": "stream",
     "text": [
      "\t- Accuracy: 0.7307142857142858\n",
      "\t- F1: 0.37061769616026713\n",
      "\n",
      "Model: model_saves/target-iSarcasm_inter-IMDB_02/E01_A0.4_F0.42\n"
     ]
    },
    {
     "name": "stderr",
     "output_type": "stream",
     "text": [
      "\tTest 1400: 100%|██████████| 1400/1400 [00:47<00:00, 29.38test/s]\n"
     ]
    },
    {
     "name": "stdout",
     "output_type": "stream",
     "text": [
      "\t- Accuracy: 0.25285714285714284\n",
      "\t- F1: 0.26853146853146853\n",
      "\n",
      "Model: model_saves/target-iSarcasm_inter-IMDB_02/E02_A0.71_F0.39\n"
     ]
    },
    {
     "name": "stderr",
     "output_type": "stream",
     "text": [
      "\tTest 1400: 100%|██████████| 1400/1400 [00:42<00:00, 32.64test/s]\n"
     ]
    },
    {
     "name": "stdout",
     "output_type": "stream",
     "text": [
      "\t- Accuracy: 0.74\n",
      "\t- F1: 0.370242214532872\n",
      "\n",
      "Model: model_saves/target-iSarcasm_inter-IMDB_02/E03_A0.71_F0.35\n"
     ]
    },
    {
     "name": "stderr",
     "output_type": "stream",
     "text": [
      "\tTest 1400: 100%|██████████| 1400/1400 [00:40<00:00, 34.24test/s]\n"
     ]
    },
    {
     "name": "stdout",
     "output_type": "stream",
     "text": [
      "\t- Accuracy: 0.7721428571428571\n",
      "\t- F1: 0.37328094302554027\n",
      "\n",
      "Model: model_saves/target-iSarcasm_inter-IMDB_02/E04_A0.75_F0.34\n"
     ]
    },
    {
     "name": "stderr",
     "output_type": "stream",
     "text": [
      "\tTest 1400: 100%|██████████| 1400/1400 [00:39<00:00, 35.69test/s]\n"
     ]
    },
    {
     "name": "stdout",
     "output_type": "stream",
     "text": [
      "\t- Accuracy: 0.7807142857142857\n",
      "\t- F1: 0.36701030927835054\n",
      "\n",
      "Model: model_saves/target-iSarcasm_inter-IMDB_02/E05_A0.72_F0.37\n"
     ]
    },
    {
     "name": "stderr",
     "output_type": "stream",
     "text": [
      "\tTest 1400: 100%|██████████| 1400/1400 [00:51<00:00, 27.21test/s]\n"
     ]
    },
    {
     "name": "stdout",
     "output_type": "stream",
     "text": [
      "\t- Accuracy: 0.7678571428571429\n",
      "\t- F1: 0.380952380952381\n",
      "\n",
      "Model: model_saves/target-iSarcasm_inter-IMDB_02/E06_A0.72_F0.36\n"
     ]
    },
    {
     "name": "stderr",
     "output_type": "stream",
     "text": [
      "\tTest 1400: 100%|██████████| 1400/1400 [00:39<00:00, 35.69test/s]\n"
     ]
    },
    {
     "name": "stdout",
     "output_type": "stream",
     "text": [
      "\t- Accuracy: 0.7357142857142858\n",
      "\t- F1: 0.3531468531468532\n",
      "\n",
      "Model: model_saves/target-iSarcasm_inter-IMDB_02/E07_A0.73_F0.39\n"
     ]
    },
    {
     "name": "stderr",
     "output_type": "stream",
     "text": [
      "\tTest 1400: 100%|██████████| 1400/1400 [00:49<00:00, 28.55test/s]\n"
     ]
    },
    {
     "name": "stdout",
     "output_type": "stream",
     "text": [
      "\t- Accuracy: 0.7585714285714286\n",
      "\t- F1: 0.38095238095238093\n",
      "\n",
      "Model: model_saves/target-iSarcasm_inter-IMDB_02/E08_A0.76_F0.3\n"
     ]
    },
    {
     "name": "stderr",
     "output_type": "stream",
     "text": [
      "\tTest 1400: 100%|██████████| 1400/1400 [00:51<00:00, 27.25test/s]\n"
     ]
    },
    {
     "name": "stdout",
     "output_type": "stream",
     "text": [
      "\t- Accuracy: 0.8142857142857143\n",
      "\t- F1: 0.37500000000000006\n",
      "\n",
      "Model: model_saves/target-iSarcasm_inter-IMDB_02/E09_A0.74_F0.36\n"
     ]
    },
    {
     "name": "stderr",
     "output_type": "stream",
     "text": [
      "\tTest 1400: 100%|██████████| 1400/1400 [00:39<00:00, 35.70test/s]\n"
     ]
    },
    {
     "name": "stdout",
     "output_type": "stream",
     "text": [
      "\t- Accuracy: 0.7842857142857143\n",
      "\t- F1: 0.37344398340248963\n",
      "\n",
      "Model: model_saves/target-iSarcasm_inter-IMDB_02/E10_A0.73_F0.32\n"
     ]
    },
    {
     "name": "stderr",
     "output_type": "stream",
     "text": [
      "\tTest 1400: 100%|██████████| 1400/1400 [00:43<00:00, 32.42test/s]\n"
     ]
    },
    {
     "name": "stdout",
     "output_type": "stream",
     "text": [
      "\t- Accuracy: 0.81\n",
      "\t- F1: 0.40625\n",
      "\n",
      "Model: model_saves/target-iSarcasm_inter-IMDB_03/E01_A0.47_F0.4\n"
     ]
    },
    {
     "name": "stderr",
     "output_type": "stream",
     "text": [
      "\tTest 1400: 100%|██████████| 1400/1400 [00:39<00:00, 35.83test/s]\n"
     ]
    },
    {
     "name": "stdout",
     "output_type": "stream",
     "text": [
      "\t- Accuracy: 0.2892857142857143\n",
      "\t- F1: 0.256908140403286\n",
      "\n",
      "Model: model_saves/target-iSarcasm_inter-IMDB_03/E02_A0.69_F0.43\n"
     ]
    },
    {
     "name": "stderr",
     "output_type": "stream",
     "text": [
      "\tTest 1400: 100%|██████████| 1400/1400 [00:45<00:00, 30.55test/s]\n"
     ]
    },
    {
     "name": "stdout",
     "output_type": "stream",
     "text": [
      "\t- Accuracy: 0.6378571428571429\n",
      "\t- F1: 0.3194630872483221\n",
      "\n",
      "Model: model_saves/target-iSarcasm_inter-IMDB_03/E03_A0.74_F0.37\n"
     ]
    },
    {
     "name": "stderr",
     "output_type": "stream",
     "text": [
      "\tTest 1400: 100%|██████████| 1400/1400 [00:46<00:00, 30.25test/s]\n"
     ]
    },
    {
     "name": "stdout",
     "output_type": "stream",
     "text": [
      "\t- Accuracy: 0.7678571428571429\n",
      "\t- F1: 0.3564356435643564\n",
      "\n",
      "Model: model_saves/target-iSarcasm_inter-IMDB_03/E04_A0.73_F0.39\n"
     ]
    },
    {
     "name": "stderr",
     "output_type": "stream",
     "text": [
      "\tTest 1400: 100%|██████████| 1400/1400 [00:42<00:00, 32.79test/s]\n"
     ]
    },
    {
     "name": "stdout",
     "output_type": "stream",
     "text": [
      "\t- Accuracy: 0.7135714285714285\n",
      "\t- F1: 0.3121783876500857\n",
      "\n",
      "Model: model_saves/target-iSarcasm_inter-IMDB_03/E05_A0.72_F0.39\n"
     ]
    },
    {
     "name": "stderr",
     "output_type": "stream",
     "text": [
      "\tTest 1400: 100%|██████████| 1400/1400 [00:49<00:00, 28.28test/s]\n"
     ]
    },
    {
     "name": "stdout",
     "output_type": "stream",
     "text": [
      "\t- Accuracy: 0.7464285714285714\n",
      "\t- F1: 0.36493738819320215\n",
      "\n",
      "Model: model_saves/target-iSarcasm_inter-IMDB_03/E06_A0.74_F0.33\n"
     ]
    },
    {
     "name": "stderr",
     "output_type": "stream",
     "text": [
      "\tTest 1400: 100%|██████████| 1400/1400 [00:41<00:00, 34.11test/s]\n"
     ]
    },
    {
     "name": "stdout",
     "output_type": "stream",
     "text": [
      "\t- Accuracy: 0.7771428571428571\n",
      "\t- F1: 0.3580246913580247\n",
      "\n",
      "Model: model_saves/target-iSarcasm_inter-IMDB_03/E07_A0.74_F0.38\n"
     ]
    },
    {
     "name": "stderr",
     "output_type": "stream",
     "text": [
      "\tTest 1400: 100%|██████████| 1400/1400 [00:39<00:00, 35.58test/s]\n"
     ]
    },
    {
     "name": "stdout",
     "output_type": "stream",
     "text": [
      "\t- Accuracy: 0.745\n",
      "\t- F1: 0.32258064516129026\n",
      "\n",
      "Model: model_saves/target-iSarcasm_inter-IMDB_03/E08_A0.75_F0.32\n"
     ]
    },
    {
     "name": "stderr",
     "output_type": "stream",
     "text": [
      "\tTest 1400: 100%|██████████| 1400/1400 [00:42<00:00, 32.77test/s]\n"
     ]
    },
    {
     "name": "stdout",
     "output_type": "stream",
     "text": [
      "\t- Accuracy: 0.8128571428571428\n",
      "\t- F1: 0.38207547169811323\n",
      "\n",
      "Model: model_saves/target-iSarcasm_inter-IMDB_03/E09_A0.74_F0.27\n"
     ]
    },
    {
     "name": "stderr",
     "output_type": "stream",
     "text": [
      "\tTest 1400: 100%|██████████| 1400/1400 [00:42<00:00, 33.32test/s]\n"
     ]
    },
    {
     "name": "stdout",
     "output_type": "stream",
     "text": [
      "\t- Accuracy: 0.7985714285714286\n",
      "\t- F1: 0.3472222222222222\n",
      "\n",
      "Model: model_saves/target-iSarcasm_inter-IMDB_03/E10_A0.73_F0.35\n"
     ]
    },
    {
     "name": "stderr",
     "output_type": "stream",
     "text": [
      "\tTest 1400: 100%|██████████| 1400/1400 [00:42<00:00, 33.06test/s]"
     ]
    },
    {
     "name": "stdout",
     "output_type": "stream",
     "text": [
      "\t- Accuracy: 0.7457142857142857\n",
      "\t- F1: 0.35036496350364965\n",
      "\n"
     ]
    },
    {
     "name": "stderr",
     "output_type": "stream",
     "text": [
      "\n"
     ]
    }
   ],
   "source": [
    "for top in top_model_dirs:\n",
    "    models = parse_model_dir(top)\n",
    "    evaluate_model(iSarcasm_test_df, models, 2, 'results/results_target.csv')"
   ]
  },
  {
   "cell_type": "markdown",
   "metadata": {},
   "source": [
    "# Results Preview"
   ]
  },
  {
   "cell_type": "code",
   "execution_count": null,
   "metadata": {},
   "outputs": [],
   "source": [
    "results_df = pd.read_csv('results/results_target.csv')\n",
    "\n",
    "results_df.head(40)"
   ]
  },
  {
   "cell_type": "code",
   "execution_count": null,
   "metadata": {},
   "outputs": [],
   "source": [
    "results_df.describe()"
   ]
  },
  {
   "cell_type": "code",
   "execution_count": null,
   "metadata": {},
   "outputs": [],
   "source": [
    "results_df.loc[results_df['model_name'] == \"target-iSarcasm_inter-XED-fine_01\"]\n"
   ]
  },
  {
   "cell_type": "code",
   "execution_count": 2,
   "metadata": {},
   "outputs": [
    {
     "data": {
      "text/html": [
       "<div>\n",
       "<style scoped>\n",
       "    .dataframe tbody tr th:only-of-type {\n",
       "        vertical-align: middle;\n",
       "    }\n",
       "\n",
       "    .dataframe tbody tr th {\n",
       "        vertical-align: top;\n",
       "    }\n",
       "\n",
       "    .dataframe thead th {\n",
       "        text-align: right;\n",
       "    }\n",
       "</style>\n",
       "<table border=\"1\" class=\"dataframe\">\n",
       "  <thead>\n",
       "    <tr style=\"text-align: right;\">\n",
       "      <th></th>\n",
       "      <th>model_name</th>\n",
       "      <th>model_epoch</th>\n",
       "      <th>test_accuracy</th>\n",
       "      <th>test_f1</th>\n",
       "      <th>predictions</th>\n",
       "    </tr>\n",
       "  </thead>\n",
       "  <tbody>\n",
       "    <tr>\n",
       "      <th>0</th>\n",
       "      <td>intermediate_XED_binary_01</td>\n",
       "      <td>E01_A0.81_F0.82</td>\n",
       "      <td>0.824169</td>\n",
       "      <td>0.834565</td>\n",
       "      <td>[1, 0, 1, 0, 1, 0, 1, 1, 1, 0, 0, 1, 1, 0, 1, ...</td>\n",
       "    </tr>\n",
       "    <tr>\n",
       "      <th>1</th>\n",
       "      <td>intermediate_XED_binary_01</td>\n",
       "      <td>E02_A0.82_F0.81</td>\n",
       "      <td>0.832628</td>\n",
       "      <td>0.828695</td>\n",
       "      <td>[1, 0, 0, 0, 1, 0, 0, 1, 1, 0, 0, 1, 0, 0, 1, ...</td>\n",
       "    </tr>\n",
       "    <tr>\n",
       "      <th>2</th>\n",
       "      <td>intermediate_XED_binary_01</td>\n",
       "      <td>E03_A0.82_F0.82</td>\n",
       "      <td>0.821148</td>\n",
       "      <td>0.818627</td>\n",
       "      <td>[1, 1, 1, 0, 0, 0, 1, 1, 1, 0, 0, 1, 0, 0, 1, ...</td>\n",
       "    </tr>\n",
       "    <tr>\n",
       "      <th>3</th>\n",
       "      <td>intermediate_XED_binary_01</td>\n",
       "      <td>E04_A0.81_F0.8</td>\n",
       "      <td>0.824773</td>\n",
       "      <td>0.814578</td>\n",
       "      <td>[1, 1, 1, 0, 0, 0, 1, 1, 1, 0, 0, 0, 1, 0, 1, ...</td>\n",
       "    </tr>\n",
       "    <tr>\n",
       "      <th>4</th>\n",
       "      <td>intermediate_XED_binary_01</td>\n",
       "      <td>E05_A0.82_F0.81</td>\n",
       "      <td>0.824169</td>\n",
       "      <td>0.819814</td>\n",
       "      <td>[1, 0, 0, 0, 0, 0, 1, 1, 1, 0, 0, 1, 1, 0, 1, ...</td>\n",
       "    </tr>\n",
       "    <tr>\n",
       "      <th>5</th>\n",
       "      <td>intermediate_XED_binary_01</td>\n",
       "      <td>E06_A0.81_F0.81</td>\n",
       "      <td>0.825378</td>\n",
       "      <td>0.824102</td>\n",
       "      <td>[1, 0, 1, 0, 0, 0, 1, 1, 1, 0, 0, 1, 1, 0, 1, ...</td>\n",
       "    </tr>\n",
       "    <tr>\n",
       "      <th>6</th>\n",
       "      <td>intermediate_XED_binary_01</td>\n",
       "      <td>E07_A0.81_F0.8</td>\n",
       "      <td>0.826586</td>\n",
       "      <td>0.826376</td>\n",
       "      <td>[1, 0, 1, 0, 0, 0, 1, 1, 1, 0, 0, 1, 1, 0, 1, ...</td>\n",
       "    </tr>\n",
       "    <tr>\n",
       "      <th>7</th>\n",
       "      <td>intermediate_XED_binary_01</td>\n",
       "      <td>E08_A0.81_F0.82</td>\n",
       "      <td>0.821752</td>\n",
       "      <td>0.825133</td>\n",
       "      <td>[1, 1, 1, 0, 0, 0, 1, 0, 1, 0, 0, 1, 1, 0, 1, ...</td>\n",
       "    </tr>\n",
       "    <tr>\n",
       "      <th>8</th>\n",
       "      <td>intermediate_XED_binary_01</td>\n",
       "      <td>E09_A0.81_F0.81</td>\n",
       "      <td>0.816918</td>\n",
       "      <td>0.823529</td>\n",
       "      <td>[1, 1, 1, 0, 0, 1, 1, 1, 1, 0, 0, 1, 1, 0, 1, ...</td>\n",
       "    </tr>\n",
       "    <tr>\n",
       "      <th>9</th>\n",
       "      <td>intermediate_XED_binary_01</td>\n",
       "      <td>E10_A0.82_F0.81</td>\n",
       "      <td>0.821148</td>\n",
       "      <td>0.822329</td>\n",
       "      <td>[1, 0, 0, 0, 0, 0, 1, 1, 1, 0, 0, 1, 1, 0, 1, ...</td>\n",
       "    </tr>\n",
       "    <tr>\n",
       "      <th>10</th>\n",
       "      <td>intermediate_SARC_01</td>\n",
       "      <td>E01_A0.75_F0.73</td>\n",
       "      <td>0.748700</td>\n",
       "      <td>0.739126</td>\n",
       "      <td>[0, 1, 1, 1, 1, 1, 1, 1, 0, 1, 0, 0, 1, 0, 0, ...</td>\n",
       "    </tr>\n",
       "    <tr>\n",
       "      <th>11</th>\n",
       "      <td>intermediate_SARC_01</td>\n",
       "      <td>E02_A0.76_F0.75</td>\n",
       "      <td>0.754700</td>\n",
       "      <td>0.759250</td>\n",
       "      <td>[0, 1, 0, 1, 1, 1, 1, 1, 0, 1, 0, 0, 1, 0, 0, ...</td>\n",
       "    </tr>\n",
       "    <tr>\n",
       "      <th>12</th>\n",
       "      <td>intermediate_SARC_01</td>\n",
       "      <td>E03_A0.76_F0.74</td>\n",
       "      <td>0.762600</td>\n",
       "      <td>0.761071</td>\n",
       "      <td>[0, 1, 0, 1, 1, 1, 1, 1, 0, 1, 0, 0, 1, 1, 0, ...</td>\n",
       "    </tr>\n",
       "    <tr>\n",
       "      <th>13</th>\n",
       "      <td>intermediate_SARC_01</td>\n",
       "      <td>E04_A0.75_F0.74</td>\n",
       "      <td>0.753900</td>\n",
       "      <td>0.752738</td>\n",
       "      <td>[0, 1, 0, 1, 1, 1, 1, 1, 0, 1, 0, 0, 1, 0, 0, ...</td>\n",
       "    </tr>\n",
       "    <tr>\n",
       "      <th>14</th>\n",
       "      <td>intermediate_SARC_01</td>\n",
       "      <td>E05_A0.76_F0.74</td>\n",
       "      <td>0.751100</td>\n",
       "      <td>0.745839</td>\n",
       "      <td>[0, 1, 0, 1, 1, 1, 1, 1, 0, 1, 0, 0, 1, 1, 0, ...</td>\n",
       "    </tr>\n",
       "    <tr>\n",
       "      <th>15</th>\n",
       "      <td>intermediate_SARC_01</td>\n",
       "      <td>E06_A0.75_F0.73</td>\n",
       "      <td>0.747900</td>\n",
       "      <td>0.739701</td>\n",
       "      <td>[0, 1, 0, 1, 1, 1, 1, 1, 1, 1, 0, 0, 1, 0, 0, ...</td>\n",
       "    </tr>\n",
       "    <tr>\n",
       "      <th>16</th>\n",
       "      <td>intermediate_SARC_01</td>\n",
       "      <td>E07_A0.75_F0.74</td>\n",
       "      <td>0.742600</td>\n",
       "      <td>0.742497</td>\n",
       "      <td>[0, 1, 0, 1, 1, 1, 1, 1, 1, 1, 0, 0, 1, 1, 0, ...</td>\n",
       "    </tr>\n",
       "    <tr>\n",
       "      <th>17</th>\n",
       "      <td>intermediate_SARC_01</td>\n",
       "      <td>E08_A0.75_F0.73</td>\n",
       "      <td>0.740800</td>\n",
       "      <td>0.738604</td>\n",
       "      <td>[0, 1, 0, 1, 1, 0, 1, 1, 1, 1, 0, 0, 1, 1, 0, ...</td>\n",
       "    </tr>\n",
       "    <tr>\n",
       "      <th>18</th>\n",
       "      <td>intermediate_SARC_01</td>\n",
       "      <td>E09_A0.75_F0.73</td>\n",
       "      <td>0.737200</td>\n",
       "      <td>0.738507</td>\n",
       "      <td>[0, 1, 0, 1, 1, 1, 1, 1, 1, 1, 0, 0, 1, 0, 1, ...</td>\n",
       "    </tr>\n",
       "    <tr>\n",
       "      <th>19</th>\n",
       "      <td>intermediate_SARC_01</td>\n",
       "      <td>E10_A0.74_F0.74</td>\n",
       "      <td>0.746100</td>\n",
       "      <td>0.751395</td>\n",
       "      <td>[0, 1, 0, 1, 1, 1, 1, 1, 1, 1, 0, 0, 1, 0, 0, ...</td>\n",
       "    </tr>\n",
       "    <tr>\n",
       "      <th>20</th>\n",
       "      <td>intermediate_IMDB_01</td>\n",
       "      <td>E01_A0.94_F0.93</td>\n",
       "      <td>0.956800</td>\n",
       "      <td>0.956557</td>\n",
       "      <td>[0, 0, 0, 0, 0, 1, 0, 0, 0, 0, 0, 0, 0, 0, 0, ...</td>\n",
       "    </tr>\n",
       "    <tr>\n",
       "      <th>21</th>\n",
       "      <td>intermediate_IMDB_01</td>\n",
       "      <td>E02_A0.94_F0.94</td>\n",
       "      <td>0.959200</td>\n",
       "      <td>0.959053</td>\n",
       "      <td>[0, 0, 0, 0, 0, 1, 0, 0, 0, 0, 0, 0, 0, 0, 0, ...</td>\n",
       "    </tr>\n",
       "    <tr>\n",
       "      <th>22</th>\n",
       "      <td>intermediate_IMDB_01</td>\n",
       "      <td>E03_A0.94_F0.94</td>\n",
       "      <td>0.954800</td>\n",
       "      <td>0.955141</td>\n",
       "      <td>[0, 0, 0, 0, 0, 1, 0, 0, 0, 0, 0, 0, 0, 0, 0, ...</td>\n",
       "    </tr>\n",
       "    <tr>\n",
       "      <th>23</th>\n",
       "      <td>intermediate_IMDB_01</td>\n",
       "      <td>E04_A0.95_F0.94</td>\n",
       "      <td>0.957400</td>\n",
       "      <td>0.957443</td>\n",
       "      <td>[0, 0, 0, 0, 0, 1, 0, 0, 0, 0, 0, 0, 0, 0, 0, ...</td>\n",
       "    </tr>\n",
       "    <tr>\n",
       "      <th>24</th>\n",
       "      <td>intermediate_IMDB_01</td>\n",
       "      <td>E05_A0.94_F0.94</td>\n",
       "      <td>0.958200</td>\n",
       "      <td>0.957871</td>\n",
       "      <td>[0, 0, 0, 0, 0, 1, 0, 0, 0, 0, 0, 0, 0, 0, 0, ...</td>\n",
       "    </tr>\n",
       "    <tr>\n",
       "      <th>25</th>\n",
       "      <td>intermediate_IMDB_01</td>\n",
       "      <td>E06_A0.94_F0.94</td>\n",
       "      <td>0.957400</td>\n",
       "      <td>0.957527</td>\n",
       "      <td>[0, 0, 0, 0, 0, 1, 0, 0, 0, 0, 0, 0, 0, 0, 0, ...</td>\n",
       "    </tr>\n",
       "    <tr>\n",
       "      <th>26</th>\n",
       "      <td>intermediate_IMDB_01</td>\n",
       "      <td>E07_A0.94_F0.93</td>\n",
       "      <td>0.954600</td>\n",
       "      <td>0.954021</td>\n",
       "      <td>[0, 0, 0, 0, 0, 1, 0, 0, 0, 0, 0, 0, 0, 0, 0, ...</td>\n",
       "    </tr>\n",
       "    <tr>\n",
       "      <th>27</th>\n",
       "      <td>intermediate_IMDB_01</td>\n",
       "      <td>E08_A0.94_F0.94</td>\n",
       "      <td>0.953400</td>\n",
       "      <td>0.952767</td>\n",
       "      <td>[0, 0, 0, 0, 0, 1, 0, 0, 0, 0, 0, 0, 0, 0, 0, ...</td>\n",
       "    </tr>\n",
       "    <tr>\n",
       "      <th>28</th>\n",
       "      <td>intermediate_IMDB_01</td>\n",
       "      <td>E09_A0.94_F0.93</td>\n",
       "      <td>0.951400</td>\n",
       "      <td>0.950418</td>\n",
       "      <td>[0, 0, 0, 0, 0, 1, 0, 0, 0, 0, 0, 0, 0, 0, 0, ...</td>\n",
       "    </tr>\n",
       "    <tr>\n",
       "      <th>29</th>\n",
       "      <td>intermediate_IMDB_01</td>\n",
       "      <td>E10_A0.94_F0.94</td>\n",
       "      <td>0.955400</td>\n",
       "      <td>0.955427</td>\n",
       "      <td>[0, 0, 0, 0, 0, 1, 0, 0, 0, 0, 0, 0, 0, 0, 0, ...</td>\n",
       "    </tr>\n",
       "    <tr>\n",
       "      <th>30</th>\n",
       "      <td>intermediate_XED_fine_01</td>\n",
       "      <td>E01_A0.48_F0.48</td>\n",
       "      <td>0.473112</td>\n",
       "      <td>0.473112</td>\n",
       "      <td>[7, 6, 7, 3, 7, 4, 7, 7, 5, 3, 7, 5, 6, 7, 5, ...</td>\n",
       "    </tr>\n",
       "    <tr>\n",
       "      <th>31</th>\n",
       "      <td>intermediate_XED_fine_01</td>\n",
       "      <td>E02_A0.52_F0.52</td>\n",
       "      <td>0.526888</td>\n",
       "      <td>0.526888</td>\n",
       "      <td>[2, 6, 7, 3, 2, 4, 7, 7, 5, 3, 1, 5, 6, 3, 5, ...</td>\n",
       "    </tr>\n",
       "    <tr>\n",
       "      <th>32</th>\n",
       "      <td>intermediate_XED_fine_01</td>\n",
       "      <td>E03_A0.53_F0.53</td>\n",
       "      <td>0.516616</td>\n",
       "      <td>0.516616</td>\n",
       "      <td>[2, 6, 7, 3, 2, 4, 7, 7, 5, 3, 1, 5, 5, 3, 5, ...</td>\n",
       "    </tr>\n",
       "    <tr>\n",
       "      <th>33</th>\n",
       "      <td>intermediate_XED_fine_01</td>\n",
       "      <td>E04_A0.53_F0.53</td>\n",
       "      <td>0.536556</td>\n",
       "      <td>0.536556</td>\n",
       "      <td>[2, 6, 7, 3, 2, 4, 7, 7, 5, 3, 1, 6, 6, 3, 5, ...</td>\n",
       "    </tr>\n",
       "    <tr>\n",
       "      <th>34</th>\n",
       "      <td>intermediate_XED_fine_01</td>\n",
       "      <td>E05_A0.53_F0.53</td>\n",
       "      <td>0.521450</td>\n",
       "      <td>0.521450</td>\n",
       "      <td>[2, 6, 7, 3, 2, 4, 7, 7, 5, 3, 1, 7, 6, 3, 5, ...</td>\n",
       "    </tr>\n",
       "    <tr>\n",
       "      <th>35</th>\n",
       "      <td>intermediate_XED_fine_01</td>\n",
       "      <td>E06_A0.52_F0.52</td>\n",
       "      <td>0.529909</td>\n",
       "      <td>0.529909</td>\n",
       "      <td>[2, 6, 7, 3, 2, 4, 7, 7, 5, 3, 1, 5, 6, 1, 5, ...</td>\n",
       "    </tr>\n",
       "    <tr>\n",
       "      <th>36</th>\n",
       "      <td>intermediate_XED_fine_01</td>\n",
       "      <td>E07_A0.51_F0.51</td>\n",
       "      <td>0.517825</td>\n",
       "      <td>0.517825</td>\n",
       "      <td>[2, 6, 7, 3, 2, 4, 7, 7, 5, 3, 1, 5, 5, 7, 5, ...</td>\n",
       "    </tr>\n",
       "    <tr>\n",
       "      <th>37</th>\n",
       "      <td>intermediate_XED_fine_01</td>\n",
       "      <td>E08_A0.51_F0.51</td>\n",
       "      <td>0.514199</td>\n",
       "      <td>0.514199</td>\n",
       "      <td>[2, 6, 7, 3, 2, 4, 7, 7, 5, 5, 1, 7, 6, 7, 5, ...</td>\n",
       "    </tr>\n",
       "    <tr>\n",
       "      <th>38</th>\n",
       "      <td>intermediate_XED_fine_01</td>\n",
       "      <td>E09_A0.51_F0.51</td>\n",
       "      <td>0.519033</td>\n",
       "      <td>0.519033</td>\n",
       "      <td>[2, 6, 7, 3, 2, 4, 7, 7, 5, 3, 1, 2, 6, 1, 5, ...</td>\n",
       "    </tr>\n",
       "    <tr>\n",
       "      <th>39</th>\n",
       "      <td>intermediate_XED_fine_01</td>\n",
       "      <td>E10_A0.51_F0.51</td>\n",
       "      <td>0.518429</td>\n",
       "      <td>0.518429</td>\n",
       "      <td>[2, 6, 7, 3, 2, 4, 7, 7, 5, 3, 1, 5, 6, 1, 5, ...</td>\n",
       "    </tr>\n",
       "  </tbody>\n",
       "</table>\n",
       "</div>"
      ],
      "text/plain": [
       "                    model_name      model_epoch  test_accuracy   test_f1  \\\n",
       "0   intermediate_XED_binary_01  E01_A0.81_F0.82       0.824169  0.834565   \n",
       "1   intermediate_XED_binary_01  E02_A0.82_F0.81       0.832628  0.828695   \n",
       "2   intermediate_XED_binary_01  E03_A0.82_F0.82       0.821148  0.818627   \n",
       "3   intermediate_XED_binary_01   E04_A0.81_F0.8       0.824773  0.814578   \n",
       "4   intermediate_XED_binary_01  E05_A0.82_F0.81       0.824169  0.819814   \n",
       "5   intermediate_XED_binary_01  E06_A0.81_F0.81       0.825378  0.824102   \n",
       "6   intermediate_XED_binary_01   E07_A0.81_F0.8       0.826586  0.826376   \n",
       "7   intermediate_XED_binary_01  E08_A0.81_F0.82       0.821752  0.825133   \n",
       "8   intermediate_XED_binary_01  E09_A0.81_F0.81       0.816918  0.823529   \n",
       "9   intermediate_XED_binary_01  E10_A0.82_F0.81       0.821148  0.822329   \n",
       "10        intermediate_SARC_01  E01_A0.75_F0.73       0.748700  0.739126   \n",
       "11        intermediate_SARC_01  E02_A0.76_F0.75       0.754700  0.759250   \n",
       "12        intermediate_SARC_01  E03_A0.76_F0.74       0.762600  0.761071   \n",
       "13        intermediate_SARC_01  E04_A0.75_F0.74       0.753900  0.752738   \n",
       "14        intermediate_SARC_01  E05_A0.76_F0.74       0.751100  0.745839   \n",
       "15        intermediate_SARC_01  E06_A0.75_F0.73       0.747900  0.739701   \n",
       "16        intermediate_SARC_01  E07_A0.75_F0.74       0.742600  0.742497   \n",
       "17        intermediate_SARC_01  E08_A0.75_F0.73       0.740800  0.738604   \n",
       "18        intermediate_SARC_01  E09_A0.75_F0.73       0.737200  0.738507   \n",
       "19        intermediate_SARC_01  E10_A0.74_F0.74       0.746100  0.751395   \n",
       "20        intermediate_IMDB_01  E01_A0.94_F0.93       0.956800  0.956557   \n",
       "21        intermediate_IMDB_01  E02_A0.94_F0.94       0.959200  0.959053   \n",
       "22        intermediate_IMDB_01  E03_A0.94_F0.94       0.954800  0.955141   \n",
       "23        intermediate_IMDB_01  E04_A0.95_F0.94       0.957400  0.957443   \n",
       "24        intermediate_IMDB_01  E05_A0.94_F0.94       0.958200  0.957871   \n",
       "25        intermediate_IMDB_01  E06_A0.94_F0.94       0.957400  0.957527   \n",
       "26        intermediate_IMDB_01  E07_A0.94_F0.93       0.954600  0.954021   \n",
       "27        intermediate_IMDB_01  E08_A0.94_F0.94       0.953400  0.952767   \n",
       "28        intermediate_IMDB_01  E09_A0.94_F0.93       0.951400  0.950418   \n",
       "29        intermediate_IMDB_01  E10_A0.94_F0.94       0.955400  0.955427   \n",
       "30    intermediate_XED_fine_01  E01_A0.48_F0.48       0.473112  0.473112   \n",
       "31    intermediate_XED_fine_01  E02_A0.52_F0.52       0.526888  0.526888   \n",
       "32    intermediate_XED_fine_01  E03_A0.53_F0.53       0.516616  0.516616   \n",
       "33    intermediate_XED_fine_01  E04_A0.53_F0.53       0.536556  0.536556   \n",
       "34    intermediate_XED_fine_01  E05_A0.53_F0.53       0.521450  0.521450   \n",
       "35    intermediate_XED_fine_01  E06_A0.52_F0.52       0.529909  0.529909   \n",
       "36    intermediate_XED_fine_01  E07_A0.51_F0.51       0.517825  0.517825   \n",
       "37    intermediate_XED_fine_01  E08_A0.51_F0.51       0.514199  0.514199   \n",
       "38    intermediate_XED_fine_01  E09_A0.51_F0.51       0.519033  0.519033   \n",
       "39    intermediate_XED_fine_01  E10_A0.51_F0.51       0.518429  0.518429   \n",
       "\n",
       "                                          predictions  \n",
       "0   [1, 0, 1, 0, 1, 0, 1, 1, 1, 0, 0, 1, 1, 0, 1, ...  \n",
       "1   [1, 0, 0, 0, 1, 0, 0, 1, 1, 0, 0, 1, 0, 0, 1, ...  \n",
       "2   [1, 1, 1, 0, 0, 0, 1, 1, 1, 0, 0, 1, 0, 0, 1, ...  \n",
       "3   [1, 1, 1, 0, 0, 0, 1, 1, 1, 0, 0, 0, 1, 0, 1, ...  \n",
       "4   [1, 0, 0, 0, 0, 0, 1, 1, 1, 0, 0, 1, 1, 0, 1, ...  \n",
       "5   [1, 0, 1, 0, 0, 0, 1, 1, 1, 0, 0, 1, 1, 0, 1, ...  \n",
       "6   [1, 0, 1, 0, 0, 0, 1, 1, 1, 0, 0, 1, 1, 0, 1, ...  \n",
       "7   [1, 1, 1, 0, 0, 0, 1, 0, 1, 0, 0, 1, 1, 0, 1, ...  \n",
       "8   [1, 1, 1, 0, 0, 1, 1, 1, 1, 0, 0, 1, 1, 0, 1, ...  \n",
       "9   [1, 0, 0, 0, 0, 0, 1, 1, 1, 0, 0, 1, 1, 0, 1, ...  \n",
       "10  [0, 1, 1, 1, 1, 1, 1, 1, 0, 1, 0, 0, 1, 0, 0, ...  \n",
       "11  [0, 1, 0, 1, 1, 1, 1, 1, 0, 1, 0, 0, 1, 0, 0, ...  \n",
       "12  [0, 1, 0, 1, 1, 1, 1, 1, 0, 1, 0, 0, 1, 1, 0, ...  \n",
       "13  [0, 1, 0, 1, 1, 1, 1, 1, 0, 1, 0, 0, 1, 0, 0, ...  \n",
       "14  [0, 1, 0, 1, 1, 1, 1, 1, 0, 1, 0, 0, 1, 1, 0, ...  \n",
       "15  [0, 1, 0, 1, 1, 1, 1, 1, 1, 1, 0, 0, 1, 0, 0, ...  \n",
       "16  [0, 1, 0, 1, 1, 1, 1, 1, 1, 1, 0, 0, 1, 1, 0, ...  \n",
       "17  [0, 1, 0, 1, 1, 0, 1, 1, 1, 1, 0, 0, 1, 1, 0, ...  \n",
       "18  [0, 1, 0, 1, 1, 1, 1, 1, 1, 1, 0, 0, 1, 0, 1, ...  \n",
       "19  [0, 1, 0, 1, 1, 1, 1, 1, 1, 1, 0, 0, 1, 0, 0, ...  \n",
       "20  [0, 0, 0, 0, 0, 1, 0, 0, 0, 0, 0, 0, 0, 0, 0, ...  \n",
       "21  [0, 0, 0, 0, 0, 1, 0, 0, 0, 0, 0, 0, 0, 0, 0, ...  \n",
       "22  [0, 0, 0, 0, 0, 1, 0, 0, 0, 0, 0, 0, 0, 0, 0, ...  \n",
       "23  [0, 0, 0, 0, 0, 1, 0, 0, 0, 0, 0, 0, 0, 0, 0, ...  \n",
       "24  [0, 0, 0, 0, 0, 1, 0, 0, 0, 0, 0, 0, 0, 0, 0, ...  \n",
       "25  [0, 0, 0, 0, 0, 1, 0, 0, 0, 0, 0, 0, 0, 0, 0, ...  \n",
       "26  [0, 0, 0, 0, 0, 1, 0, 0, 0, 0, 0, 0, 0, 0, 0, ...  \n",
       "27  [0, 0, 0, 0, 0, 1, 0, 0, 0, 0, 0, 0, 0, 0, 0, ...  \n",
       "28  [0, 0, 0, 0, 0, 1, 0, 0, 0, 0, 0, 0, 0, 0, 0, ...  \n",
       "29  [0, 0, 0, 0, 0, 1, 0, 0, 0, 0, 0, 0, 0, 0, 0, ...  \n",
       "30  [7, 6, 7, 3, 7, 4, 7, 7, 5, 3, 7, 5, 6, 7, 5, ...  \n",
       "31  [2, 6, 7, 3, 2, 4, 7, 7, 5, 3, 1, 5, 6, 3, 5, ...  \n",
       "32  [2, 6, 7, 3, 2, 4, 7, 7, 5, 3, 1, 5, 5, 3, 5, ...  \n",
       "33  [2, 6, 7, 3, 2, 4, 7, 7, 5, 3, 1, 6, 6, 3, 5, ...  \n",
       "34  [2, 6, 7, 3, 2, 4, 7, 7, 5, 3, 1, 7, 6, 3, 5, ...  \n",
       "35  [2, 6, 7, 3, 2, 4, 7, 7, 5, 3, 1, 5, 6, 1, 5, ...  \n",
       "36  [2, 6, 7, 3, 2, 4, 7, 7, 5, 3, 1, 5, 5, 7, 5, ...  \n",
       "37  [2, 6, 7, 3, 2, 4, 7, 7, 5, 5, 1, 7, 6, 7, 5, ...  \n",
       "38  [2, 6, 7, 3, 2, 4, 7, 7, 5, 3, 1, 2, 6, 1, 5, ...  \n",
       "39  [2, 6, 7, 3, 2, 4, 7, 7, 5, 3, 1, 5, 6, 1, 5, ...  "
      ]
     },
     "execution_count": 2,
     "metadata": {},
     "output_type": "execute_result"
    }
   ],
   "source": [
    "inter_results_df = pd.read_csv('results/results_intermediate.csv')\n",
    "\n",
    "inter_results_df.head(60)"
   ]
  },
  {
   "cell_type": "code",
   "execution_count": 19,
   "metadata": {},
   "outputs": [
    {
     "data": {
      "text/plain": [
       "model_name                                    intermediate_IMDB_01\n",
       "model_epoch                                        E02_A0.94_F0.94\n",
       "test_accuracy                                               0.9592\n",
       "test_f1                                                   0.959053\n",
       "predictions      [0, 0, 0, 0, 0, 1, 0, 0, 0, 0, 0, 0, 0, 0, 0, ...\n",
       "Name: 21, dtype: object"
      ]
     },
     "execution_count": 19,
     "metadata": {},
     "output_type": "execute_result"
    }
   ],
   "source": [
    "filtered = inter_results_df.loc[inter_results_df['model_name'] == \"intermediate_IMDB_01\"]\n",
    "# filtered['test_f1'].idxmax()\n",
    "max_f1 = inter_results_df.iloc[filtered['test_f1'].idxmax()]\n",
    "max_f1"
   ]
  },
  {
   "cell_type": "code",
   "execution_count": null,
   "metadata": {},
   "outputs": [],
   "source": []
  }
 ],
 "metadata": {
  "kernelspec": {
   "display_name": "Python 3.9.13 ('itesd_env')",
   "language": "python",
   "name": "python3"
  },
  "language_info": {
   "codemirror_mode": {
    "name": "ipython",
    "version": 3
   },
   "file_extension": ".py",
   "mimetype": "text/x-python",
   "name": "python",
   "nbconvert_exporter": "python",
   "pygments_lexer": "ipython3",
   "version": "3.9.13"
  },
  "orig_nbformat": 4,
  "vscode": {
   "interpreter": {
    "hash": "3c42b54925bdca82cdb5059acc0a21648e00763ff265e64872b54aa656b5d9d8"
   }
  }
 },
 "nbformat": 4,
 "nbformat_minor": 2
}
