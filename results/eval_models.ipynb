{
 "cells": [
  {
   "cell_type": "markdown",
   "metadata": {},
   "source": [
    "## Imports & Settings"
   ]
  },
  {
   "cell_type": "code",
   "execution_count": 1,
   "metadata": {},
   "outputs": [],
   "source": [
    "# Update working directory to parent so that we may use our custom functions\n",
    "os.chdir('..')\n",
    "os.getcwd( )\n",
    "\n",
    "from results.utils_eval import *\n",
    "from datasets import load_from_disk"
   ]
  },
  {
   "cell_type": "markdown",
   "metadata": {},
   "source": [
    "## Generate Results CSV"
   ]
  },
  {
   "cell_type": "code",
   "execution_count": null,
   "metadata": {},
   "outputs": [],
   "source": [
    "# generate_results = {'model_name': [], 'model_epoch': [], 'test_accuracy': [], 'test_f1': [], 'predictions':[]}\n",
    "# generate_results_df = pd.DataFrame(data=generate_results)\n",
    "\n",
    "# generate_results_df.to_csv(\"results/results_target.csv\", index=False)"
   ]
  },
  {
   "cell_type": "markdown",
   "metadata": {},
   "source": [
    "## control_iSarcasm"
   ]
  },
  {
   "cell_type": "code",
   "execution_count": null,
   "metadata": {},
   "outputs": [],
   "source": [
    "# load test data\n",
    "iSarcasm_df = pd.read_csv('data/target_semEval2022_en/iSarcasmEval-main/test/task_A_En_test.csv')\n",
    "iSarcasm_df = iSarcasm_df.rename(columns={'tweet': 'text'})\n",
    "iSarcasm_df = iSarcasm_df.rename(columns={'sarcastic': 'label'})\n",
    "\n",
    "# get model paths\n",
    "top_model_dirs = [\"model_saves/control_iSarcasm_01\",\"model_saves/control_iSarcasm_02\",\"model_saves/control_iSarcasm_03\"]"
   ]
  },
  {
   "cell_type": "code",
   "execution_count": null,
   "metadata": {},
   "outputs": [],
   "source": [
    "for top in top_model_dirs:\n",
    "    models = parse_model_dir(top)\n",
    "    evaluate_model(iSarcasm_df, models, 'results/results_target.csv')"
   ]
  },
  {
   "cell_type": "markdown",
   "metadata": {},
   "source": [
    "## intermediate_XED_binary\n"
   ]
  },
  {
   "cell_type": "code",
   "execution_count": null,
   "metadata": {},
   "outputs": [],
   "source": [
    "# load test data\n",
    "params.dataset_path = \"data/inter_XED/itesd_xed_binary_balanced.hf\"\n",
    "datasets = load_from_disk(params.dataset_path)\n",
    "xed_binary_test_df = datasets['test'].to_pandas()\n",
    "\n",
    "# get model paths\n",
    "top_model_dirs = [\"model_saves/intermediate_XED_binary_01\"]"
   ]
  },
  {
   "cell_type": "code",
   "execution_count": null,
   "metadata": {},
   "outputs": [],
   "source": [
    "for top in top_model_dirs:\n",
    "    models = parse_model_dir(top)\n",
    "    evaluate_model(xed_binary_test_df, models, 2, 'results/results_intermediate_TEST.csv')"
   ]
  },
  {
   "cell_type": "markdown",
   "metadata": {},
   "source": [
    "## intermediate_XED_fine\n"
   ]
  },
  {
   "cell_type": "code",
   "execution_count": 2,
   "metadata": {},
   "outputs": [],
   "source": [
    "# load test data\n",
    "params.dataset_path = \"data/inter_XED/itesd_xed_fine_balanced.hf\"\n",
    "datasets = load_from_disk(params.dataset_path)\n",
    "xed_fine_test_df = datasets['test'].to_pandas()\n",
    "\n",
    "# get model paths\n",
    "top_model_dirs = [\"model_saves/intermediate_XED_fine_02\"]"
   ]
  },
  {
   "cell_type": "code",
   "execution_count": 3,
   "metadata": {},
   "outputs": [
    {
     "name": "stdout",
     "output_type": "stream",
     "text": [
      "Model: model_saves/intermediate_XED_fine_02/E01_A0.48_F0.48\n"
     ]
    },
    {
     "name": "stderr",
     "output_type": "stream",
     "text": [
      "\tTest 1655: 100%|██████████| 1655/1655 [01:25<00:00, 19.38test/s]\n"
     ]
    },
    {
     "name": "stdout",
     "output_type": "stream",
     "text": [
      "\t- Accuracy: 0.47129909365558914\n",
      "\t- F1: 0.47129909365558914\n",
      "\n",
      "Model: model_saves/intermediate_XED_fine_02/E02_A0.53_F0.53\n"
     ]
    },
    {
     "name": "stderr",
     "output_type": "stream",
     "text": [
      "\tTest 1655: 100%|██████████| 1655/1655 [01:21<00:00, 20.39test/s]\n"
     ]
    },
    {
     "name": "stdout",
     "output_type": "stream",
     "text": [
      "\t- Accuracy: 0.518429003021148\n",
      "\t- F1: 0.518429003021148\n",
      "\n",
      "Model: model_saves/intermediate_XED_fine_02/E03_A0.53_F0.53\n"
     ]
    },
    {
     "name": "stderr",
     "output_type": "stream",
     "text": [
      "\tTest 1655: 100%|██████████| 1655/1655 [01:41<00:00, 16.33test/s]\n"
     ]
    },
    {
     "name": "stdout",
     "output_type": "stream",
     "text": [
      "\t- Accuracy: 0.5196374622356495\n",
      "\t- F1: 0.5196374622356495\n",
      "\n",
      "Model: model_saves/intermediate_XED_fine_02/E04_A0.52_F0.52\n"
     ]
    },
    {
     "name": "stderr",
     "output_type": "stream",
     "text": [
      "\tTest 1655: 100%|██████████| 1655/1655 [01:17<00:00, 21.29test/s]\n"
     ]
    },
    {
     "name": "stdout",
     "output_type": "stream",
     "text": [
      "\t- Accuracy: 0.5154078549848943\n",
      "\t- F1: 0.5154078549848943\n",
      "\n",
      "Model: model_saves/intermediate_XED_fine_02/E05_A0.52_F0.52\n"
     ]
    },
    {
     "name": "stderr",
     "output_type": "stream",
     "text": [
      "\tTest 1655: 100%|██████████| 1655/1655 [01:46<00:00, 15.48test/s]\n"
     ]
    },
    {
     "name": "stdout",
     "output_type": "stream",
     "text": [
      "\t- Accuracy: 0.5093655589123867\n",
      "\t- F1: 0.5093655589123867\n",
      "\n",
      "Model: model_saves/intermediate_XED_fine_02/E06_A0.53_F0.53\n"
     ]
    },
    {
     "name": "stderr",
     "output_type": "stream",
     "text": [
      "\tTest 1655: 100%|██████████| 1655/1655 [01:20<00:00, 20.49test/s]\n"
     ]
    },
    {
     "name": "stdout",
     "output_type": "stream",
     "text": [
      "\t- Accuracy: 0.5214501510574018\n",
      "\t- F1: 0.5214501510574018\n",
      "\n",
      "Model: model_saves/intermediate_XED_fine_02/E07_A0.51_F0.51\n"
     ]
    },
    {
     "name": "stderr",
     "output_type": "stream",
     "text": [
      "\tTest 1655: 100%|██████████| 1655/1655 [01:32<00:00, 17.84test/s]\n"
     ]
    },
    {
     "name": "stdout",
     "output_type": "stream",
     "text": [
      "\t- Accuracy: 0.5009063444108761\n",
      "\t- F1: 0.5009063444108761\n",
      "\n",
      "Model: model_saves/intermediate_XED_fine_02/E08_A0.51_F0.51\n"
     ]
    },
    {
     "name": "stderr",
     "output_type": "stream",
     "text": [
      "\tTest 1655: 100%|██████████| 1655/1655 [01:21<00:00, 20.31test/s]\n"
     ]
    },
    {
     "name": "stdout",
     "output_type": "stream",
     "text": [
      "\t- Accuracy: 0.5063444108761329\n",
      "\t- F1: 0.5063444108761329\n",
      "\n",
      "Model: model_saves/intermediate_XED_fine_02/E09_A0.51_F0.51\n"
     ]
    },
    {
     "name": "stderr",
     "output_type": "stream",
     "text": [
      "\tTest 1655: 100%|██████████| 1655/1655 [01:41<00:00, 16.37test/s]\n"
     ]
    },
    {
     "name": "stdout",
     "output_type": "stream",
     "text": [
      "\t- Accuracy: 0.49425981873111785\n",
      "\t- F1: 0.49425981873111785\n",
      "\n",
      "Model: model_saves/intermediate_XED_fine_02/E10_A0.5_F0.5\n"
     ]
    },
    {
     "name": "stderr",
     "output_type": "stream",
     "text": [
      "\tTest 1655: 100%|██████████| 1655/1655 [01:24<00:00, 19.51test/s]"
     ]
    },
    {
     "name": "stdout",
     "output_type": "stream",
     "text": [
      "\t- Accuracy: 0.4827794561933535\n",
      "\t- F1: 0.4827794561933535\n",
      "\n"
     ]
    },
    {
     "name": "stderr",
     "output_type": "stream",
     "text": [
      "\n"
     ]
    }
   ],
   "source": [
    "for top in top_model_dirs:\n",
    "    models = parse_model_dir(top)\n",
    "    evaluate_model(xed_fine_test_df, models, 'results/results_intermediate_TEST.csv')"
   ]
  },
  {
   "cell_type": "markdown",
   "metadata": {},
   "source": [
    "## intermediate_SARC\n"
   ]
  },
  {
   "cell_type": "code",
   "execution_count": null,
   "metadata": {},
   "outputs": [],
   "source": [
    "# load test data\n",
    "SARC_df = pd.read_csv('data/SARC/SARC_preped_sampled_test.csv')\n",
    "\n",
    "# get model paths\n",
    "top_model_dirs = [\"model_saves/intermediate_SARC_01\"]"
   ]
  },
  {
   "cell_type": "code",
   "execution_count": null,
   "metadata": {},
   "outputs": [],
   "source": [
    "for top in top_model_dirs:\n",
    "    models = parse_model_dir(top)\n",
    "    evaluate_model(SARC_df, models, 'results/results_intermediate.csv')"
   ]
  },
  {
   "cell_type": "markdown",
   "metadata": {},
   "source": [
    "## intermediate_IMDB\n"
   ]
  },
  {
   "cell_type": "code",
   "execution_count": 2,
   "metadata": {},
   "outputs": [],
   "source": [
    "# load test data\n",
    "params.dataset_path = \"data/inter_IMDB_sentiment/itesd_imdb_balanced.hf\"\n",
    "datasets = load_from_disk(params.dataset_path)\n",
    "imdb_test_df = datasets['test'].to_pandas()\n",
    "\n",
    "# get model paths\n",
    "top_model_dirs = [\"model_saves/intermediate_IMDB_01\"]"
   ]
  },
  {
   "cell_type": "code",
   "execution_count": 3,
   "metadata": {},
   "outputs": [
    {
     "name": "stdout",
     "output_type": "stream",
     "text": [
      "Model: model_saves/intermediate_IMDB_01/E01_A0.92_F0.91\n"
     ]
    },
    {
     "name": "stderr",
     "output_type": "stream",
     "text": [
      "\tTest 5000: 100%|██████████| 5000/5000 [10:33<00:00,  7.90test/s]\n"
     ]
    },
    {
     "name": "stdout",
     "output_type": "stream",
     "text": [
      "\t- Accuracy: 0.9246\n",
      "\t- F1: 0.9206482845716691\n",
      "\n",
      "Model: model_saves/intermediate_IMDB_01/E02_A0.91_F0.91\n"
     ]
    },
    {
     "name": "stderr",
     "output_type": "stream",
     "text": [
      "\tTest 5000: 100%|██████████| 5000/5000 [10:26<00:00,  7.98test/s]\n"
     ]
    },
    {
     "name": "stdout",
     "output_type": "stream",
     "text": [
      "\t- Accuracy: 0.925\n",
      "\t- F1: 0.9261083743842364\n",
      "\n",
      "Model: model_saves/intermediate_IMDB_01/E03_A0.9_F0.9\n"
     ]
    },
    {
     "name": "stderr",
     "output_type": "stream",
     "text": [
      "\tTest 5000: 100%|██████████| 5000/5000 [10:04<00:00,  8.27test/s]\n"
     ]
    },
    {
     "name": "stdout",
     "output_type": "stream",
     "text": [
      "\t- Accuracy: 0.912\n",
      "\t- F1: 0.9128022195798653\n",
      "\n",
      "Model: model_saves/intermediate_IMDB_01/E04_A0.88_F0.87\n"
     ]
    },
    {
     "name": "stderr",
     "output_type": "stream",
     "text": [
      "\tTest 5000: 100%|██████████| 5000/5000 [09:37<00:00,  8.67test/s]\n"
     ]
    },
    {
     "name": "stdout",
     "output_type": "stream",
     "text": [
      "\t- Accuracy: 0.8934\n",
      "\t- F1: 0.8887032783462102\n",
      "\n",
      "Model: model_saves/intermediate_IMDB_01/E05_A0.88_F0.87\n"
     ]
    },
    {
     "name": "stderr",
     "output_type": "stream",
     "text": [
      "\tTest 5000: 100%|██████████| 5000/5000 [10:23<00:00,  8.02test/s]\n"
     ]
    },
    {
     "name": "stdout",
     "output_type": "stream",
     "text": [
      "\t- Accuracy: 0.8924\n",
      "\t- F1: 0.8887050062060405\n",
      "\n",
      "Model: model_saves/intermediate_IMDB_01/E06_A0.88_F0.87\n"
     ]
    },
    {
     "name": "stderr",
     "output_type": "stream",
     "text": [
      "\tTest 5000: 100%|██████████| 5000/5000 [10:15<00:00,  8.12test/s]\n"
     ]
    },
    {
     "name": "stdout",
     "output_type": "stream",
     "text": [
      "\t- Accuracy: 0.8918\n",
      "\t- F1: 0.8901076579321552\n",
      "\n",
      "Model: model_saves/intermediate_IMDB_01/E07_A0.88_F0.88\n"
     ]
    },
    {
     "name": "stderr",
     "output_type": "stream",
     "text": [
      "\tTest 5000: 100%|██████████| 5000/5000 [09:14<00:00,  9.01test/s]\n"
     ]
    },
    {
     "name": "stdout",
     "output_type": "stream",
     "text": [
      "\t- Accuracy: 0.8928\n",
      "\t- F1: 0.8916734033953112\n",
      "\n",
      "Model: model_saves/intermediate_IMDB_01/E08_A0.87_F0.87\n"
     ]
    },
    {
     "name": "stderr",
     "output_type": "stream",
     "text": [
      "\tTest 5000: 100%|██████████| 5000/5000 [09:59<00:00,  8.34test/s]\n"
     ]
    },
    {
     "name": "stdout",
     "output_type": "stream",
     "text": [
      "\t- Accuracy: 0.891\n",
      "\t- F1: 0.8929062684220869\n",
      "\n",
      "Model: model_saves/intermediate_IMDB_01/E09_A0.85_F0.86\n"
     ]
    },
    {
     "name": "stderr",
     "output_type": "stream",
     "text": [
      "\tTest 5000: 100%|██████████| 5000/5000 [08:49<00:00,  9.44test/s]\n"
     ]
    },
    {
     "name": "stdout",
     "output_type": "stream",
     "text": [
      "\t- Accuracy: 0.8718\n",
      "\t- F1: 0.8823637364654064\n",
      "\n",
      "Model: model_saves/intermediate_IMDB_01/E10_A0.88_F0.87\n"
     ]
    },
    {
     "name": "stderr",
     "output_type": "stream",
     "text": [
      "\tTest 5000: 100%|██████████| 5000/5000 [09:26<00:00,  8.83test/s]\n"
     ]
    },
    {
     "name": "stdout",
     "output_type": "stream",
     "text": [
      "\t- Accuracy: 0.8876\n",
      "\t- F1: 0.8901055924912006\n",
      "\n"
     ]
    }
   ],
   "source": [
    "for top in top_model_dirs:\n",
    "    models = parse_model_dir(top)\n",
    "    evaluate_model(imdb_test_df, models, 'results/results_intermediate.csv')"
   ]
  },
  {
   "cell_type": "markdown",
   "metadata": {},
   "source": [
    "## intermediate_hellaswag\n"
   ]
  },
  {
   "cell_type": "code",
   "execution_count": null,
   "metadata": {},
   "outputs": [],
   "source": [
    "# load test data\n",
    "hellaswag_datasets = load_from_disk(\"data/inter_HellaSwag/hellaswag.hf\")\n",
    "\n",
    "# get model paths\n",
    "top_model_dirs = [\"model_saves/intermediate_hellaswag_01\"]"
   ]
  },
  {
   "cell_type": "code",
   "execution_count": null,
   "metadata": {},
   "outputs": [],
   "source": [
    "hellaswag_datasets"
   ]
  },
  {
   "cell_type": "code",
   "execution_count": null,
   "metadata": {},
   "outputs": [],
   "source": [
    "for top in top_model_dirs:\n",
    "    models = parse_model_dir(top)\n",
    "    evaluate_mc_model(hellaswag_datasets, models, 'results/results_intermediate_TEST.csv')"
   ]
  },
  {
   "cell_type": "markdown",
   "metadata": {},
   "source": [
    "## intermediate_cosmosQA\n"
   ]
  },
  {
   "cell_type": "code",
   "execution_count": null,
   "metadata": {},
   "outputs": [],
   "source": [
    "# load test data\n",
    "cosmos_datasets = load_dataset(\"cosmos_qa\")\n",
    "\n",
    "# get model paths\n",
    "top_model_dirs = [\"model_saves/intermediate_cosmos_01\"]"
   ]
  },
  {
   "cell_type": "code",
   "execution_count": null,
   "metadata": {},
   "outputs": [],
   "source": [
    "cosmos_datasets"
   ]
  },
  {
   "cell_type": "code",
   "execution_count": null,
   "metadata": {},
   "outputs": [],
   "source": [
    "for top in top_model_dirs:\n",
    "    models = parse_model_dir(top)\n",
    "    evaluate_mc_model(cosmos_datasets, models, 'results/results_intermediate.csv')"
   ]
  },
  {
   "cell_type": "markdown",
   "metadata": {},
   "source": [
    "## target_iSarcasm"
   ]
  },
  {
   "cell_type": "code",
   "execution_count": null,
   "metadata": {},
   "outputs": [],
   "source": [
    "# load test data\n",
    "iSarcasm_df = pd.read_csv('data/target_semEval2022_en/iSarcasmEval-main/test/task_A_En_test.csv')\n",
    "iSarcasm_df = iSarcasm_df.rename(columns={'tweet': 'text'})\n",
    "iSarcasm_df = iSarcasm_df.rename(columns={'sarcastic': 'label'})\n",
    "\n",
    "# get model paths\n",
    "top_model_dirs = [\"model_saves/target-iSarcasm_inter-hellaswag_01\",\"model_saves/target-iSarcasm_inter-hellaswag_02\",\"model_saves/target-iSarcasm_inter-hellaswag_03\"]"
   ]
  },
  {
   "cell_type": "code",
   "execution_count": null,
   "metadata": {},
   "outputs": [],
   "source": [
    "for top in top_model_dirs:\n",
    "    models = parse_model_dir(top)\n",
    "    evaluate_model(iSarcasm_df, models, 'results/results_target.csv')"
   ]
  },
  {
   "cell_type": "markdown",
   "metadata": {},
   "source": [
    "# Results Preview"
   ]
  },
  {
   "cell_type": "code",
   "execution_count": null,
   "metadata": {},
   "outputs": [],
   "source": [
    "results_df = pd.read_csv('results/results_target.csv')\n",
    "\n",
    "results_df.head(40)"
   ]
  },
  {
   "cell_type": "code",
   "execution_count": null,
   "metadata": {},
   "outputs": [],
   "source": [
    "results_df.describe()"
   ]
  },
  {
   "cell_type": "code",
   "execution_count": null,
   "metadata": {},
   "outputs": [],
   "source": [
    "results_df.loc[results_df['model_name'] == \"target-iSarcasm_inter-XED-fine_01\"]\n"
   ]
  },
  {
   "cell_type": "code",
   "execution_count": null,
   "metadata": {},
   "outputs": [],
   "source": [
    "inter_results_df = pd.read_csv('results/intermediate_results.csv')\n",
    "\n",
    "inter_results_df.head(20)"
   ]
  },
  {
   "cell_type": "code",
   "execution_count": null,
   "metadata": {},
   "outputs": [],
   "source": []
  }
 ],
 "metadata": {
  "kernelspec": {
   "display_name": "Python 3.9.13 ('itesd_env')",
   "language": "python",
   "name": "python3"
  },
  "language_info": {
   "codemirror_mode": {
    "name": "ipython",
    "version": 3
   },
   "file_extension": ".py",
   "mimetype": "text/x-python",
   "name": "python",
   "nbconvert_exporter": "python",
   "pygments_lexer": "ipython3",
   "version": "3.9.13"
  },
  "orig_nbformat": 4,
  "vscode": {
   "interpreter": {
    "hash": "3c42b54925bdca82cdb5059acc0a21648e00763ff265e64872b54aa656b5d9d8"
   }
  }
 },
 "nbformat": 4,
 "nbformat_minor": 2
}
