{
 "cells": [
  {
   "cell_type": "markdown",
   "metadata": {},
   "source": [
    "# intermediate_IMDB\n",
    "This notebook takes our IMDB dataset and trains an intermediate model."
   ]
  },
  {
   "cell_type": "markdown",
   "metadata": {},
   "source": [
    "## Imports & Settings"
   ]
  },
  {
   "cell_type": "markdown",
   "metadata": {},
   "source": [
    "First, update working directory to parent so that we may use our custom functions"
   ]
  },
  {
   "cell_type": "code",
   "execution_count": 1,
   "metadata": {},
   "outputs": [],
   "source": [
    "import os\n",
    "os.chdir('..')\n",
    "# os.getcwd( )"
   ]
  },
  {
   "cell_type": "code",
   "execution_count": 2,
   "metadata": {},
   "outputs": [
    {
     "data": {
      "text/plain": [
       "<torch._C.Generator at 0x296bd37b0>"
      ]
     },
     "execution_count": 2,
     "metadata": {},
     "output_type": "execute_result"
    }
   ],
   "source": [
    "import params\n",
    "from utils import *\n",
    "from trainer import *\n",
    "\n",
    "import numpy as np\n",
    "import pandas as pd\n",
    "\n",
    "from sklearn.model_selection import train_test_split\n",
    "from transformers import RobertaTokenizer, RobertaForSequenceClassification\n",
    "from torch.utils.data import TensorDataset, DataLoader, RandomSampler\n",
    "\n",
    "# suppress model warning\n",
    "from transformers import logging\n",
    "logging.set_verbosity_error()\n",
    "\n",
    "# set logging level\n",
    "import logging\n",
    "logging.basicConfig(format='%(message)s', level=logging.INFO)"
   ]
  },
  {
   "cell_type": "code",
   "execution_count": 4,
   "metadata": {},
   "outputs": [
    {
     "name": "stdout",
     "output_type": "stream",
     "text": [
      "We're Armed: macOS-13.1-arm64-i386-64bit\n"
     ]
    }
   ],
   "source": [
    "# set general seeds\n",
    "set_seeds(1)\n",
    "\n",
    "# set dataloader generator seed\n",
    "g = torch.Generator()\n",
    "g.manual_seed(1)\n",
    "\n",
    "# set params for this model\n",
    "params.num_labels = 2\n",
    "params.output_dir = \"model_saves/intermediate_IMDB_01\"\n",
    "\n",
    "# Ensure we're on an ARM environment if necessary.\n",
    "platform_check()"
   ]
  },
  {
   "cell_type": "markdown",
   "metadata": {},
   "source": [
    "## Load Data"
   ]
  },
  {
   "cell_type": "markdown",
   "metadata": {},
   "source": [
    "### IMDB"
   ]
  },
  {
   "cell_type": "code",
   "execution_count": 4,
   "metadata": {},
   "outputs": [
    {
     "data": {
      "text/html": [
       "<div>\n",
       "<style scoped>\n",
       "    .dataframe tbody tr th:only-of-type {\n",
       "        vertical-align: middle;\n",
       "    }\n",
       "\n",
       "    .dataframe tbody tr th {\n",
       "        vertical-align: top;\n",
       "    }\n",
       "\n",
       "    .dataframe thead th {\n",
       "        text-align: right;\n",
       "    }\n",
       "</style>\n",
       "<table border=\"1\" class=\"dataframe\">\n",
       "  <thead>\n",
       "    <tr style=\"text-align: right;\">\n",
       "      <th></th>\n",
       "      <th>text</th>\n",
       "      <th>label</th>\n",
       "      <th>num_word_text</th>\n",
       "    </tr>\n",
       "  </thead>\n",
       "  <tbody>\n",
       "    <tr>\n",
       "      <th>0</th>\n",
       "      <td>This film has been compared to the hilarious B...</td>\n",
       "      <td>0</td>\n",
       "      <td>186</td>\n",
       "    </tr>\n",
       "    <tr>\n",
       "      <th>1</th>\n",
       "      <td>Reasonably effective horror/science-fiction a ...</td>\n",
       "      <td>1</td>\n",
       "      <td>61</td>\n",
       "    </tr>\n",
       "    <tr>\n",
       "      <th>2</th>\n",
       "      <td>The inspiration for the \"Naked Gun\" movies cas...</td>\n",
       "      <td>1</td>\n",
       "      <td>169</td>\n",
       "    </tr>\n",
       "    <tr>\n",
       "      <th>3</th>\n",
       "      <td>When this film was originally released it was ...</td>\n",
       "      <td>1</td>\n",
       "      <td>634</td>\n",
       "    </tr>\n",
       "    <tr>\n",
       "      <th>4</th>\n",
       "      <td>I happened upon this by chance. I was at my fr...</td>\n",
       "      <td>1</td>\n",
       "      <td>334</td>\n",
       "    </tr>\n",
       "  </tbody>\n",
       "</table>\n",
       "</div>"
      ],
      "text/plain": [
       "                                                text  label  num_word_text\n",
       "0  This film has been compared to the hilarious B...      0            186\n",
       "1  Reasonably effective horror/science-fiction a ...      1             61\n",
       "2  The inspiration for the \"Naked Gun\" movies cas...      1            169\n",
       "3  When this film was originally released it was ...      1            634\n",
       "4  I happened upon this by chance. I was at my fr...      1            334"
      ]
     },
     "execution_count": 4,
     "metadata": {},
     "output_type": "execute_result"
    }
   ],
   "source": [
    "dataset_path = 'data/inter_IMDB_sentiment/IMDB_preped_train.csv'\n",
    "df = pd.read_csv(dataset_path)\n",
    "\n",
    "df.head()"
   ]
  },
  {
   "cell_type": "code",
   "execution_count": 5,
   "metadata": {},
   "outputs": [
    {
     "name": "stdout",
     "output_type": "stream",
     "text": [
      "<class 'pandas.core.frame.DataFrame'>\n",
      "RangeIndex: 40000 entries, 0 to 39999\n",
      "Data columns (total 3 columns):\n",
      " #   Column         Non-Null Count  Dtype \n",
      "---  ------         --------------  ----- \n",
      " 0   text           40000 non-null  object\n",
      " 1   label          40000 non-null  int64 \n",
      " 2   num_word_text  40000 non-null  int64 \n",
      "dtypes: int64(2), object(1)\n",
      "memory usage: 937.6+ KB\n"
     ]
    }
   ],
   "source": [
    "df.info()"
   ]
  },
  {
   "cell_type": "code",
   "execution_count": 6,
   "metadata": {},
   "outputs": [
    {
     "data": {
      "text/plain": [
       "1    20044\n",
       "0    19956\n",
       "Name: label, dtype: int64"
      ]
     },
     "execution_count": 6,
     "metadata": {},
     "output_type": "execute_result"
    }
   ],
   "source": [
    "df['label'].value_counts()"
   ]
  },
  {
   "cell_type": "markdown",
   "metadata": {},
   "source": [
    "### Target Text & Labels"
   ]
  },
  {
   "cell_type": "code",
   "execution_count": 7,
   "metadata": {},
   "outputs": [],
   "source": [
    "text = df.text.values\n",
    "labels = df.label.values"
   ]
  },
  {
   "cell_type": "markdown",
   "metadata": {},
   "source": [
    "## Preprocess"
   ]
  },
  {
   "cell_type": "code",
   "execution_count": 8,
   "metadata": {},
   "outputs": [],
   "source": [
    "token_id = []\n",
    "attention_masks = []\n",
    "\n",
    "for sample in text:\n",
    "  encoding_dict = preprocessing(sample, params.tokenizer)\n",
    "  token_id.append(encoding_dict['input_ids']) \n",
    "  attention_masks.append(encoding_dict['attention_mask'])\n",
    "\n",
    "\n",
    "token_id = torch.cat(token_id, dim = 0)\n",
    "attention_masks = torch.cat(attention_masks, dim = 0)\n",
    "labels = torch.tensor(labels)"
   ]
  },
  {
   "cell_type": "markdown",
   "metadata": {},
   "source": [
    "## Data Split\n",
    "We split the dataset into train (80%) and validation (20%) sets, and wrap them around a torch.utils.data.DataLoader object."
   ]
  },
  {
   "cell_type": "code",
   "execution_count": 9,
   "metadata": {},
   "outputs": [],
   "source": [
    "val_ratio = 0.2\n",
    "\n",
    "# Indices of the train and validation splits stratified by labels\n",
    "train_idx, val_idx = train_test_split(\n",
    "    np.arange(len(labels)),\n",
    "    test_size = val_ratio,\n",
    "    shuffle = True,\n",
    "    stratify = labels,\n",
    "    random_state=1)\n",
    "\n",
    "# Train and validation sets\n",
    "train_set = TensorDataset(token_id[train_idx], \n",
    "                          attention_masks[train_idx], \n",
    "                          labels[train_idx])\n",
    "\n",
    "val_set = TensorDataset(token_id[val_idx], \n",
    "                        attention_masks[val_idx], \n",
    "                        labels[val_idx])\n",
    "\n",
    "# Prepare DataLoader\n",
    "train_dataloader = DataLoader(\n",
    "            train_set,\n",
    "            sampler = RandomSampler(train_set),\n",
    "            batch_size = params.batch_size,\n",
    "            worker_init_fn=seed_worker,\n",
    "            generator=g,\n",
    "        )\n",
    "\n",
    "validation_dataloader = DataLoader(\n",
    "            val_set,\n",
    "            sampler = RandomSampler(val_set),\n",
    "            batch_size = params.batch_size,\n",
    "            worker_init_fn=seed_worker,\n",
    "            generator=g,\n",
    "        )"
   ]
  },
  {
   "cell_type": "code",
   "execution_count": 10,
   "metadata": {},
   "outputs": [
    {
     "name": "stdout",
     "output_type": "stream",
     "text": [
      "one 16035\n",
      "zero 15965\n"
     ]
    }
   ],
   "source": [
    "one = 0\n",
    "zero = 0\n",
    "for i in train_set:\n",
    "    if i[2] == 1:\n",
    "        one+=1\n",
    "    elif i[2] == 0:\n",
    "        zero += 1\n",
    "         \n",
    "print(\"one\", one)\n",
    "print(\"zero\", zero)"
   ]
  },
  {
   "cell_type": "markdown",
   "metadata": {},
   "source": [
    "## Train"
   ]
  },
  {
   "cell_type": "markdown",
   "metadata": {},
   "source": [
    "Download transformers.RobertaForSequenceClassificatio, which is a RoBERTa model with a linear layer for sentence classification (or regression) on top of the pooled output:"
   ]
  },
  {
   "cell_type": "code",
   "execution_count": 10,
   "metadata": {},
   "outputs": [
    {
     "data": {
      "text/plain": [
       "==============================================================================================================\n",
       "Layer (type:depth-idx)                                       Output Shape              Param #\n",
       "==============================================================================================================\n",
       "RobertaForSequenceClassification                             [1, 2]                    --\n",
       "├─RobertaModel: 1-1                                          [1, 512, 768]             --\n",
       "│    └─RobertaEmbeddings: 2-1                                [1, 512, 768]             --\n",
       "│    │    └─Embedding: 3-1                                   [1, 512, 768]             38,603,520\n",
       "│    │    └─Embedding: 3-2                                   [1, 512, 768]             768\n",
       "│    │    └─Embedding: 3-3                                   [1, 512, 768]             394,752\n",
       "│    │    └─LayerNorm: 3-4                                   [1, 512, 768]             1,536\n",
       "│    │    └─Dropout: 3-5                                     [1, 512, 768]             --\n",
       "│    └─RobertaEncoder: 2-2                                   [1, 512, 768]             --\n",
       "│    │    └─ModuleList: 3-6                                  --                        85,054,464\n",
       "├─RobertaClassificationHead: 1-2                             [1, 2]                    --\n",
       "│    └─Dropout: 2-3                                          [1, 768]                  --\n",
       "│    └─Linear: 2-4                                           [1, 768]                  590,592\n",
       "│    └─Dropout: 2-5                                          [1, 768]                  --\n",
       "│    └─Linear: 2-6                                           [1, 2]                    1,538\n",
       "==============================================================================================================\n",
       "Total params: 124,647,170\n",
       "Trainable params: 124,647,170\n",
       "Non-trainable params: 0\n",
       "Total mult-adds (M): 124.65\n",
       "==============================================================================================================\n",
       "Input size (MB): 0.00\n",
       "Forward/backward pass size (MB): 427.83\n",
       "Params size (MB): 498.59\n",
       "Estimated Total Size (MB): 926.42\n",
       "=============================================================================================================="
      ]
     },
     "execution_count": 10,
     "metadata": {},
     "output_type": "execute_result"
    }
   ],
   "source": [
    "# Load the RobertaForSequenceClassification model\n",
    "model = RobertaForSequenceClassification.from_pretrained('roberta-base',\n",
    "                                                         num_labels = params.num_labels,\n",
    "                                                         output_attentions = False,\n",
    "                                                         output_hidden_states = False,\n",
    "                                                         )\n",
    "\n",
    "from torchinfo import summary\n",
    "summary(model, input_size=(1, 512), dtypes=['torch.IntTensor'])"
   ]
  },
  {
   "cell_type": "markdown",
   "metadata": {},
   "source": [
    "Set model to device, initialize trainer"
   ]
  },
  {
   "cell_type": "code",
   "execution_count": 11,
   "metadata": {},
   "outputs": [
    {
     "name": "stdout",
     "output_type": "stream",
     "text": [
      "Trained Dataset: data/inter_IMDB_sentiment/IMDB_preped_train.csv\n",
      "Device: mps\n"
     ]
    }
   ],
   "source": [
    "model.to(params.device)\n",
    "print(f\"Trained Dataset: {dataset_path}\")\n",
    "print(f\"Device: {params.device}\")\n",
    "\n",
    "optimizer = torch.optim.Adam(params=model.parameters(), lr=params.learning_rate) #roberta\n",
    "\n",
    "trainer = Trainer(model=model,\n",
    "                  device=params.device,\n",
    "                  tokenizer=params.tokenizer,\n",
    "                  train_dataloader=train_dataloader,\n",
    "                  validation_dataloader=validation_dataloader,\n",
    "                  epochs=params.epochs,\n",
    "                  optimizer=optimizer,\n",
    "                  val_loss_fn=params.val_loss_fn,\n",
    "                  num_labels=params.num_labels,\n",
    "                  output_dir=params.output_dir,\n",
    "                  save_freq=params.save_freq,\n",
    "                  checkpoint_freq=params.checkpoint_freq)"
   ]
  },
  {
   "cell_type": "markdown",
   "metadata": {},
   "source": [
    "Fit the model to our training data."
   ]
  },
  {
   "cell_type": "code",
   "execution_count": 12,
   "metadata": {},
   "outputs": [
    {
     "name": "stderr",
     "output_type": "stream",
     "text": [
      "Epoch 1:   0%|          | 0/2000 [00:00<?, ?batch/s]/Users/jarradjinx/opt/anaconda3/envs/itesd_env/lib/python3.9/site-packages/transformers/models/roberta/modeling_roberta.py:1570: UserWarning: The operator 'aten::cumsum.out' is not currently supported on the MPS backend and will fall back to run on the CPU. This may have performance implications. (Triggered internally at /Users/runner/work/pytorch/pytorch/pytorch/aten/src/ATen/mps/MPSFallback.mm:11.)\n",
      "  incremental_indices = (torch.cumsum(mask, dim=1).type_as(mask) + past_key_values_length) * mask\n",
      "Epoch 1: 100%|██████████| 2000/2000 [45:50<00:00,  1.38s/batch]\n",
      "\t Validation 499: 100%|██████████| 500/500 [03:18<00:00,  2.53batch/s]\n"
     ]
    },
    {
     "name": "stdout",
     "output_type": "stream",
     "text": [
      "\t - Train loss: 0.213777\n",
      "\t - Validation Loss: 0.163193\n",
      "\t - Validation Accuracy: 0.938000\n",
      "\t - Validation F1: 0.934431\n",
      "\t - Validation Recall: 0.943260\n",
      "\t - Validation Precision: 0.934511\n",
      "\t * Model @ epoch 1 saved to model_saves/intermediate_IMDB_01/E01_A0.94_F0.93\n"
     ]
    },
    {
     "name": "stderr",
     "output_type": "stream",
     "text": [
      "Epoch 2: 100%|██████████| 2000/2000 [45:13<00:00,  1.36s/batch]\n",
      "\t Validation 499: 100%|██████████| 500/500 [03:18<00:00,  2.52batch/s]\n"
     ]
    },
    {
     "name": "stdout",
     "output_type": "stream",
     "text": [
      "\t - Train loss: 0.134534\n",
      "\t - Validation Loss: 0.160835\n",
      "\t - Validation Accuracy: 0.940500\n",
      "\t - Validation F1: 0.937554\n",
      "\t - Validation Recall: 0.957213\n",
      "\t - Validation Precision: 0.927027\n",
      "\t * Model @ epoch 2 saved to model_saves/intermediate_IMDB_01/E02_A0.94_F0.94\n"
     ]
    },
    {
     "name": "stderr",
     "output_type": "stream",
     "text": [
      "Epoch 3: 100%|██████████| 2000/2000 [45:14<00:00,  1.36s/batch]\n",
      "\t Validation 499: 100%|██████████| 500/500 [03:18<00:00,  2.52batch/s]\n"
     ]
    },
    {
     "name": "stdout",
     "output_type": "stream",
     "text": [
      "\t - Train loss: 0.088236\n",
      "\t - Validation Loss: 0.192872\n",
      "\t - Validation Accuracy: 0.938500\n",
      "\t - Validation F1: 0.935895\n",
      "\t - Validation Recall: 0.962625\n",
      "\t - Validation Precision: 0.919498\n",
      "\t * Model @ epoch 3 saved to model_saves/intermediate_IMDB_01/E03_A0.94_F0.94\n"
     ]
    },
    {
     "name": "stderr",
     "output_type": "stream",
     "text": [
      "Epoch 4: 100%|██████████| 2000/2000 [45:14<00:00,  1.36s/batch]\n",
      "\t Validation 499: 100%|██████████| 500/500 [03:18<00:00,  2.52batch/s]\n"
     ]
    },
    {
     "name": "stdout",
     "output_type": "stream",
     "text": [
      "\t - Train loss: 0.056261\n",
      "\t - Validation Loss: 0.213532\n",
      "\t - Validation Accuracy: 0.939250\n",
      "\t - Validation F1: 0.936261\n",
      "\t - Validation Recall: 0.954764\n",
      "\t - Validation Precision: 0.926800\n",
      "\t * Model @ epoch 4 saved to model_saves/intermediate_IMDB_01/E04_A0.94_F0.94\n"
     ]
    },
    {
     "name": "stderr",
     "output_type": "stream",
     "text": [
      "Epoch 5: 100%|██████████| 2000/2000 [45:28<00:00,  1.36s/batch]\n",
      "\t Validation 499: 100%|██████████| 500/500 [03:23<00:00,  2.46batch/s]\n"
     ]
    },
    {
     "name": "stdout",
     "output_type": "stream",
     "text": [
      "\t - Train loss: 0.041385\n",
      "\t - Validation Loss: 0.258444\n",
      "\t - Validation Accuracy: 0.938250\n",
      "\t - Validation F1: 0.935756\n",
      "\t - Validation Recall: 0.961460\n",
      "\t - Validation Precision: 0.920246\n",
      "\t * Model @ epoch 5 saved to model_saves/intermediate_IMDB_01/E05_A0.94_F0.94\n"
     ]
    },
    {
     "name": "stderr",
     "output_type": "stream",
     "text": [
      "Epoch 6: 100%|██████████| 2000/2000 [46:03<00:00,  1.38s/batch]\n",
      "\t Validation 499: 100%|██████████| 500/500 [03:22<00:00,  2.47batch/s]\n"
     ]
    },
    {
     "name": "stdout",
     "output_type": "stream",
     "text": [
      "\t - Train loss: 0.032413\n",
      "\t - Validation Loss: 0.240136\n",
      "\t - Validation Accuracy: 0.937500\n",
      "\t - Validation F1: 0.935199\n",
      "\t - Validation Recall: 0.951838\n",
      "\t - Validation Precision: 0.927626\n",
      "\t * Model @ epoch 6 saved to model_saves/intermediate_IMDB_01/E06_A0.94_F0.94\n"
     ]
    },
    {
     "name": "stderr",
     "output_type": "stream",
     "text": [
      "Epoch 7: 100%|██████████| 2000/2000 [45:49<00:00,  1.37s/batch]\n",
      "\t Validation 499: 100%|██████████| 500/500 [03:20<00:00,  2.50batch/s]\n"
     ]
    },
    {
     "name": "stdout",
     "output_type": "stream",
     "text": [
      "\t - Train loss: 0.023676\n",
      "\t - Validation Loss: 0.263007\n",
      "\t - Validation Accuracy: 0.940625\n",
      "\t - Validation F1: 0.937400\n",
      "\t - Validation Recall: 0.949269\n",
      "\t - Validation Precision: 0.933921\n",
      "\t * Model @ epoch 7 saved to model_saves/intermediate_IMDB_01/E07_A0.94_F0.94\n"
     ]
    },
    {
     "name": "stderr",
     "output_type": "stream",
     "text": [
      "Epoch 8: 100%|██████████| 2000/2000 [45:44<00:00,  1.37s/batch]\n",
      "\t Validation 499: 100%|██████████| 500/500 [03:19<00:00,  2.50batch/s]\n"
     ]
    },
    {
     "name": "stdout",
     "output_type": "stream",
     "text": [
      "\t - Train loss: 0.020455\n",
      "\t - Validation Loss: 0.283110\n",
      "\t - Validation Accuracy: 0.938500\n",
      "\t - Validation F1: 0.935669\n",
      "\t - Validation Recall: 0.951117\n",
      "\t - Validation Precision: 0.928768\n",
      "\t * Model @ epoch 8 saved to model_saves/intermediate_IMDB_01/E08_A0.94_F0.94\n"
     ]
    },
    {
     "name": "stderr",
     "output_type": "stream",
     "text": [
      "Epoch 9: 100%|██████████| 2000/2000 [45:22<00:00,  1.36s/batch]\n",
      "\t Validation 499: 100%|██████████| 500/500 [03:18<00:00,  2.52batch/s]\n"
     ]
    },
    {
     "name": "stdout",
     "output_type": "stream",
     "text": [
      "\t - Train loss: 0.018911\n",
      "\t - Validation Loss: 0.366701\n",
      "\t - Validation Accuracy: 0.934500\n",
      "\t - Validation F1: 0.932137\n",
      "\t - Validation Recall: 0.959832\n",
      "\t - Validation Precision: 0.914201\n",
      "\t * Model @ epoch 9 saved to model_saves/intermediate_IMDB_01/E09_A0.93_F0.93\n"
     ]
    },
    {
     "name": "stderr",
     "output_type": "stream",
     "text": [
      "Epoch 10: 100%|██████████| 2000/2000 [45:14<00:00,  1.36s/batch]\n",
      "\t Validation 499: 100%|██████████| 500/500 [03:18<00:00,  2.52batch/s]\n"
     ]
    },
    {
     "name": "stdout",
     "output_type": "stream",
     "text": [
      "\t - Train loss: 0.015637\n",
      "\t - Validation Loss: 0.365525\n",
      "\t - Validation Accuracy: 0.934125\n",
      "\t - Validation F1: 0.932048\n",
      "\t - Validation Recall: 0.955656\n",
      "\t - Validation Precision: 0.918202\n",
      "\t * Model @ epoch 10 saved to model_saves/intermediate_IMDB_01/E10_A0.93_F0.93\n"
     ]
    }
   ],
   "source": [
    "trainer.fit()"
   ]
  }
 ],
 "metadata": {
  "kernelspec": {
   "display_name": "Python 3.9.13 ('itesd_env')",
   "language": "python",
   "name": "python3"
  },
  "language_info": {
   "codemirror_mode": {
    "name": "ipython",
    "version": 3
   },
   "file_extension": ".py",
   "mimetype": "text/x-python",
   "name": "python",
   "nbconvert_exporter": "python",
   "pygments_lexer": "ipython3",
   "version": "3.9.13"
  },
  "orig_nbformat": 4,
  "vscode": {
   "interpreter": {
    "hash": "3c42b54925bdca82cdb5059acc0a21648e00763ff265e64872b54aa656b5d9d8"
   }
  }
 },
 "nbformat": 4,
 "nbformat_minor": 2
}
