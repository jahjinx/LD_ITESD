{
 "cells": [
  {
   "cell_type": "markdown",
   "metadata": {},
   "source": [
    "## Imports & Settings"
   ]
  },
  {
   "cell_type": "code",
   "execution_count": 9,
   "metadata": {},
   "outputs": [],
   "source": [
    "# Update working directory to parent so that we may use our custom functions\n",
    "import os\n",
    "os.chdir('..')\n",
    "# os.getcwd( )\n",
    "\n",
    "import pandas as pd\n",
    "import itertools\n",
    "import re\n",
    "from ast import literal_eval\n",
    "from sklearn.metrics import accuracy_score, f1_score, recall_score, precision_score\n",
    "import numpy as np"
   ]
  },
  {
   "cell_type": "markdown",
   "metadata": {},
   "source": [
    "## Load Test Data"
   ]
  },
  {
   "cell_type": "code",
   "execution_count": 2,
   "metadata": {},
   "outputs": [],
   "source": [
    "# load test data\n",
    "iSarcasm_df = pd.read_csv('data/target_semEval2022_en/iSarcasmEval-main/test/task_A_En_test.csv')\n",
    "iSarcasm_df = iSarcasm_df.rename(columns={'tweet': 'text'})\n",
    "iSarcasm_df = iSarcasm_df.rename(columns={'sarcastic': 'label'})\n",
    "\n",
    "true_preds = iSarcasm_df['label'].to_list()"
   ]
  },
  {
   "cell_type": "markdown",
   "metadata": {},
   "source": [
    "## Load Model Results Dataset"
   ]
  },
  {
   "cell_type": "code",
   "execution_count": 3,
   "metadata": {},
   "outputs": [
    {
     "data": {
      "text/html": [
       "<div>\n",
       "<style scoped>\n",
       "    .dataframe tbody tr th:only-of-type {\n",
       "        vertical-align: middle;\n",
       "    }\n",
       "\n",
       "    .dataframe tbody tr th {\n",
       "        vertical-align: top;\n",
       "    }\n",
       "\n",
       "    .dataframe thead th {\n",
       "        text-align: right;\n",
       "    }\n",
       "</style>\n",
       "<table border=\"1\" class=\"dataframe\">\n",
       "  <thead>\n",
       "    <tr style=\"text-align: right;\">\n",
       "      <th></th>\n",
       "      <th>model_name</th>\n",
       "      <th>model_epoch</th>\n",
       "      <th>test_accuracy</th>\n",
       "      <th>test_f1</th>\n",
       "      <th>predictions</th>\n",
       "    </tr>\n",
       "  </thead>\n",
       "  <tbody>\n",
       "    <tr>\n",
       "      <th>0</th>\n",
       "      <td>iSarcasm_control_01</td>\n",
       "      <td>E01_A0.61_F0.4</td>\n",
       "      <td>0.797143</td>\n",
       "      <td>0.128834</td>\n",
       "      <td>[0, 0, 0, 0, 0, 0, 0, 0, 0, 0, 0, 0, 0, 0, 0, ...</td>\n",
       "    </tr>\n",
       "    <tr>\n",
       "      <th>1</th>\n",
       "      <td>iSarcasm_control_01</td>\n",
       "      <td>E02_A0.83_F0.82</td>\n",
       "      <td>0.767143</td>\n",
       "      <td>0.402930</td>\n",
       "      <td>[0, 0, 1, 0, 0, 0, 0, 0, 0, 0, 0, 0, 0, 1, 0, ...</td>\n",
       "    </tr>\n",
       "    <tr>\n",
       "      <th>2</th>\n",
       "      <td>iSarcasm_control_01</td>\n",
       "      <td>E03_A0.87_F0.87</td>\n",
       "      <td>0.740000</td>\n",
       "      <td>0.403279</td>\n",
       "      <td>[0, 0, 1, 0, 1, 0, 0, 0, 0, 0, 1, 1, 0, 1, 0, ...</td>\n",
       "    </tr>\n",
       "    <tr>\n",
       "      <th>3</th>\n",
       "      <td>iSarcasm_control_01</td>\n",
       "      <td>E04_A0.86_F0.87</td>\n",
       "      <td>0.693571</td>\n",
       "      <td>0.370044</td>\n",
       "      <td>[1, 0, 1, 1, 1, 0, 0, 0, 0, 0, 1, 0, 0, 0, 0, ...</td>\n",
       "    </tr>\n",
       "    <tr>\n",
       "      <th>4</th>\n",
       "      <td>iSarcasm_control_01</td>\n",
       "      <td>E05_A0.93_F0.93</td>\n",
       "      <td>0.822857</td>\n",
       "      <td>0.403846</td>\n",
       "      <td>[0, 0, 1, 0, 1, 0, 0, 0, 0, 0, 0, 0, 0, 0, 0, ...</td>\n",
       "    </tr>\n",
       "  </tbody>\n",
       "</table>\n",
       "</div>"
      ],
      "text/plain": [
       "            model_name      model_epoch  test_accuracy   test_f1  \\\n",
       "0  iSarcasm_control_01   E01_A0.61_F0.4       0.797143  0.128834   \n",
       "1  iSarcasm_control_01  E02_A0.83_F0.82       0.767143  0.402930   \n",
       "2  iSarcasm_control_01  E03_A0.87_F0.87       0.740000  0.403279   \n",
       "3  iSarcasm_control_01  E04_A0.86_F0.87       0.693571  0.370044   \n",
       "4  iSarcasm_control_01  E05_A0.93_F0.93       0.822857  0.403846   \n",
       "\n",
       "                                         predictions  \n",
       "0  [0, 0, 0, 0, 0, 0, 0, 0, 0, 0, 0, 0, 0, 0, 0, ...  \n",
       "1  [0, 0, 1, 0, 0, 0, 0, 0, 0, 0, 0, 0, 0, 1, 0, ...  \n",
       "2  [0, 0, 1, 0, 1, 0, 0, 0, 0, 0, 1, 1, 0, 1, 0, ...  \n",
       "3  [1, 0, 1, 1, 1, 0, 0, 0, 0, 0, 1, 0, 0, 0, 0, ...  \n",
       "4  [0, 0, 1, 0, 1, 0, 0, 0, 0, 0, 0, 0, 0, 0, 0, ...  "
      ]
     },
     "execution_count": 3,
     "metadata": {},
     "output_type": "execute_result"
    }
   ],
   "source": [
    "results_df = pd.read_csv('results/results_target.csv', converters={'predictions': pd.eval})\n",
    "\n",
    "results_df.head()"
   ]
  },
  {
   "cell_type": "markdown",
   "metadata": {},
   "source": [
    "## Filter Dataset\n",
    "Below, we filter the dataset to retrieve only the best models by Accuracy score."
   ]
  },
  {
   "cell_type": "code",
   "execution_count": 4,
   "metadata": {},
   "outputs": [
    {
     "data": {
      "text/html": [
       "<div>\n",
       "<style scoped>\n",
       "    .dataframe tbody tr th:only-of-type {\n",
       "        vertical-align: middle;\n",
       "    }\n",
       "\n",
       "    .dataframe tbody tr th {\n",
       "        vertical-align: top;\n",
       "    }\n",
       "\n",
       "    .dataframe thead th {\n",
       "        text-align: right;\n",
       "    }\n",
       "</style>\n",
       "<table border=\"1\" class=\"dataframe\">\n",
       "  <thead>\n",
       "    <tr style=\"text-align: right;\">\n",
       "      <th></th>\n",
       "      <th>model_name</th>\n",
       "      <th>model_epoch</th>\n",
       "      <th>test_accuracy</th>\n",
       "      <th>test_f1</th>\n",
       "      <th>predictions</th>\n",
       "    </tr>\n",
       "  </thead>\n",
       "  <tbody>\n",
       "    <tr>\n",
       "      <th>36</th>\n",
       "      <td>target-iSarcasm_inter-XED-binary_01</td>\n",
       "      <td>E07_A0.93_F0.93</td>\n",
       "      <td>0.850714</td>\n",
       "      <td>0.424242</td>\n",
       "      <td>[0, 1, 0, 0, 0, 0, 0, 0, 0, 0, 0, 0, 0, 0, 0, ...</td>\n",
       "    </tr>\n",
       "    <tr>\n",
       "      <th>43</th>\n",
       "      <td>target-iSarcasm_inter-XED-binary_02</td>\n",
       "      <td>E04_A0.91_F0.9</td>\n",
       "      <td>0.835000</td>\n",
       "      <td>0.426799</td>\n",
       "      <td>[0, 1, 0, 0, 0, 0, 0, 0, 0, 0, 0, 0, 0, 0, 0, ...</td>\n",
       "    </tr>\n",
       "    <tr>\n",
       "      <th>54</th>\n",
       "      <td>target-iSarcasm_inter-XED-binary_03</td>\n",
       "      <td>E05_A0.91_F0.91</td>\n",
       "      <td>0.795714</td>\n",
       "      <td>0.430279</td>\n",
       "      <td>[0, 1, 1, 0, 1, 1, 0, 0, 0, 0, 1, 0, 0, 0, 0, ...</td>\n",
       "    </tr>\n",
       "    <tr>\n",
       "      <th>66</th>\n",
       "      <td>target-iSarcasm_inter-SARC_01</td>\n",
       "      <td>E07_A0.92_F0.91</td>\n",
       "      <td>0.833571</td>\n",
       "      <td>0.492375</td>\n",
       "      <td>[0, 1, 1, 0, 0, 0, 0, 0, 0, 0, 1, 0, 0, 1, 0, ...</td>\n",
       "    </tr>\n",
       "    <tr>\n",
       "      <th>74</th>\n",
       "      <td>target-iSarcasm_inter-SARC_02</td>\n",
       "      <td>E05_A0.9_F0.9</td>\n",
       "      <td>0.806429</td>\n",
       "      <td>0.465483</td>\n",
       "      <td>[0, 1, 1, 0, 0, 1, 0, 0, 0, 0, 1, 1, 0, 1, 0, ...</td>\n",
       "    </tr>\n",
       "    <tr>\n",
       "      <th>83</th>\n",
       "      <td>target-iSarcasm_inter-SARC_03</td>\n",
       "      <td>E04_A0.9_F0.9</td>\n",
       "      <td>0.802143</td>\n",
       "      <td>0.438134</td>\n",
       "      <td>[0, 1, 1, 0, 0, 1, 0, 0, 0, 0, 1, 0, 0, 1, 0, ...</td>\n",
       "    </tr>\n",
       "    <tr>\n",
       "      <th>99</th>\n",
       "      <td>target-iSarcasm_inter-XED-fine_01</td>\n",
       "      <td>E10_A0.94_F0.93</td>\n",
       "      <td>0.828571</td>\n",
       "      <td>0.402985</td>\n",
       "      <td>[0, 0, 0, 1, 0, 0, 0, 0, 0, 0, 1, 0, 0, 0, 0, ...</td>\n",
       "    </tr>\n",
       "    <tr>\n",
       "      <th>109</th>\n",
       "      <td>target-iSarcasm_inter-XED-fine_02</td>\n",
       "      <td>E10_A0.91_F0.91</td>\n",
       "      <td>0.802143</td>\n",
       "      <td>0.419287</td>\n",
       "      <td>[0, 0, 1, 0, 0, 0, 0, 0, 0, 0, 1, 1, 0, 0, 0, ...</td>\n",
       "    </tr>\n",
       "    <tr>\n",
       "      <th>119</th>\n",
       "      <td>target-iSarcasm_inter-XED-fine_03</td>\n",
       "      <td>E10_A0.91_F0.91</td>\n",
       "      <td>0.810000</td>\n",
       "      <td>0.357488</td>\n",
       "      <td>[0, 0, 1, 0, 0, 0, 0, 0, 0, 0, 1, 1, 0, 0, 0, ...</td>\n",
       "    </tr>\n",
       "    <tr>\n",
       "      <th>127</th>\n",
       "      <td>target-iSarcasm_inter-IMDB_01</td>\n",
       "      <td>E08_A0.92_F0.92</td>\n",
       "      <td>0.792857</td>\n",
       "      <td>0.334862</td>\n",
       "      <td>[0, 0, 0, 0, 0, 0, 0, 0, 0, 0, 1, 0, 0, 0, 0, ...</td>\n",
       "    </tr>\n",
       "    <tr>\n",
       "      <th>139</th>\n",
       "      <td>target-iSarcasm_inter-IMDB_02</td>\n",
       "      <td>E10_A0.93_F0.92</td>\n",
       "      <td>0.802857</td>\n",
       "      <td>0.303030</td>\n",
       "      <td>[0, 0, 0, 0, 0, 0, 0, 0, 0, 0, 0, 0, 0, 0, 0, ...</td>\n",
       "    </tr>\n",
       "    <tr>\n",
       "      <th>142</th>\n",
       "      <td>target-iSarcasm_inter-IMDB_03</td>\n",
       "      <td>E03_A0.85_F0.83</td>\n",
       "      <td>0.793571</td>\n",
       "      <td>0.253230</td>\n",
       "      <td>[0, 0, 0, 0, 0, 0, 0, 0, 0, 0, 0, 0, 0, 0, 0, ...</td>\n",
       "    </tr>\n",
       "    <tr>\n",
       "      <th>158</th>\n",
       "      <td>target-iSarcasm_inter-hellaswag_01</td>\n",
       "      <td>E09_A0.95_F0.95</td>\n",
       "      <td>0.855000</td>\n",
       "      <td>0.245353</td>\n",
       "      <td>[0, 0, 0, 0, 0, 0, 0, 0, 0, 0, 0, 0, 0, 0, 0, ...</td>\n",
       "    </tr>\n",
       "    <tr>\n",
       "      <th>167</th>\n",
       "      <td>target-iSarcasm_inter-hellaswag_02</td>\n",
       "      <td>E08_A0.93_F0.93</td>\n",
       "      <td>0.843571</td>\n",
       "      <td>0.334347</td>\n",
       "      <td>[0, 0, 0, 0, 0, 0, 0, 0, 0, 0, 0, 0, 0, 0, 0, ...</td>\n",
       "    </tr>\n",
       "    <tr>\n",
       "      <th>174</th>\n",
       "      <td>target-iSarcasm_inter-hellaswag_03</td>\n",
       "      <td>E05_A0.94_F0.94</td>\n",
       "      <td>0.850000</td>\n",
       "      <td>0.275862</td>\n",
       "      <td>[0, 0, 1, 0, 0, 0, 0, 0, 0, 0, 0, 0, 0, 0, 0, ...</td>\n",
       "    </tr>\n",
       "  </tbody>\n",
       "</table>\n",
       "</div>"
      ],
      "text/plain": [
       "                              model_name      model_epoch  test_accuracy  \\\n",
       "36   target-iSarcasm_inter-XED-binary_01  E07_A0.93_F0.93       0.850714   \n",
       "43   target-iSarcasm_inter-XED-binary_02   E04_A0.91_F0.9       0.835000   \n",
       "54   target-iSarcasm_inter-XED-binary_03  E05_A0.91_F0.91       0.795714   \n",
       "66         target-iSarcasm_inter-SARC_01  E07_A0.92_F0.91       0.833571   \n",
       "74         target-iSarcasm_inter-SARC_02    E05_A0.9_F0.9       0.806429   \n",
       "83         target-iSarcasm_inter-SARC_03    E04_A0.9_F0.9       0.802143   \n",
       "99     target-iSarcasm_inter-XED-fine_01  E10_A0.94_F0.93       0.828571   \n",
       "109    target-iSarcasm_inter-XED-fine_02  E10_A0.91_F0.91       0.802143   \n",
       "119    target-iSarcasm_inter-XED-fine_03  E10_A0.91_F0.91       0.810000   \n",
       "127        target-iSarcasm_inter-IMDB_01  E08_A0.92_F0.92       0.792857   \n",
       "139        target-iSarcasm_inter-IMDB_02  E10_A0.93_F0.92       0.802857   \n",
       "142        target-iSarcasm_inter-IMDB_03  E03_A0.85_F0.83       0.793571   \n",
       "158   target-iSarcasm_inter-hellaswag_01  E09_A0.95_F0.95       0.855000   \n",
       "167   target-iSarcasm_inter-hellaswag_02  E08_A0.93_F0.93       0.843571   \n",
       "174   target-iSarcasm_inter-hellaswag_03  E05_A0.94_F0.94       0.850000   \n",
       "\n",
       "      test_f1                                        predictions  \n",
       "36   0.424242  [0, 1, 0, 0, 0, 0, 0, 0, 0, 0, 0, 0, 0, 0, 0, ...  \n",
       "43   0.426799  [0, 1, 0, 0, 0, 0, 0, 0, 0, 0, 0, 0, 0, 0, 0, ...  \n",
       "54   0.430279  [0, 1, 1, 0, 1, 1, 0, 0, 0, 0, 1, 0, 0, 0, 0, ...  \n",
       "66   0.492375  [0, 1, 1, 0, 0, 0, 0, 0, 0, 0, 1, 0, 0, 1, 0, ...  \n",
       "74   0.465483  [0, 1, 1, 0, 0, 1, 0, 0, 0, 0, 1, 1, 0, 1, 0, ...  \n",
       "83   0.438134  [0, 1, 1, 0, 0, 1, 0, 0, 0, 0, 1, 0, 0, 1, 0, ...  \n",
       "99   0.402985  [0, 0, 0, 1, 0, 0, 0, 0, 0, 0, 1, 0, 0, 0, 0, ...  \n",
       "109  0.419287  [0, 0, 1, 0, 0, 0, 0, 0, 0, 0, 1, 1, 0, 0, 0, ...  \n",
       "119  0.357488  [0, 0, 1, 0, 0, 0, 0, 0, 0, 0, 1, 1, 0, 0, 0, ...  \n",
       "127  0.334862  [0, 0, 0, 0, 0, 0, 0, 0, 0, 0, 1, 0, 0, 0, 0, ...  \n",
       "139  0.303030  [0, 0, 0, 0, 0, 0, 0, 0, 0, 0, 0, 0, 0, 0, 0, ...  \n",
       "142  0.253230  [0, 0, 0, 0, 0, 0, 0, 0, 0, 0, 0, 0, 0, 0, 0, ...  \n",
       "158  0.245353  [0, 0, 0, 0, 0, 0, 0, 0, 0, 0, 0, 0, 0, 0, 0, ...  \n",
       "167  0.334347  [0, 0, 0, 0, 0, 0, 0, 0, 0, 0, 0, 0, 0, 0, 0, ...  \n",
       "174  0.275862  [0, 0, 1, 0, 0, 0, 0, 0, 0, 0, 0, 0, 0, 0, 0, ...  "
      ]
     },
     "execution_count": 4,
     "metadata": {},
     "output_type": "execute_result"
    }
   ],
   "source": [
    "idx = results_df.groupby(['model_name'])['test_accuracy'].transform(max) == results_df['test_accuracy']\n",
    "\n",
    "accuracy_estimators_df = results_df[idx]\n",
    "\n",
    "\n",
    "patternDel = \".*control.*\"\n",
    "filter = accuracy_estimators_df['model_name'].str.contains(patternDel)\n",
    "\n",
    "accuracy_estimators_df = accuracy_estimators_df[~filter]\n",
    "accuracy_estimators_df"
   ]
  },
  {
   "cell_type": "markdown",
   "metadata": {},
   "source": [
    "## Self-Select Estimators"
   ]
  },
  {
   "cell_type": "code",
   "execution_count": 14,
   "metadata": {},
   "outputs": [
    {
     "name": "stdout",
     "output_type": "stream",
     "text": [
      "['target-iSarcasm_inter-XED-binary_01', 'target-iSarcasm_inter-XED-binary_02', 'target-iSarcasm_inter-XED-binary_03', 'target-iSarcasm_inter-SARC_01', 'target-iSarcasm_inter-SARC_02', 'target-iSarcasm_inter-SARC_03', 'target-iSarcasm_inter-hellaswag_01', 'target-iSarcasm_inter-hellaswag_02', 'target-iSarcasm_inter-hellaswag_03']\n",
      "9\n"
     ]
    }
   ],
   "source": [
    "# use all estimators \n",
    "# estimators = estimators_df['model_name'].to_list()\n",
    "\n",
    "# define particular estimators \n",
    "estimators = ['target-iSarcasm_inter-XED-binary_01', 'target-iSarcasm_inter-XED-binary_02', 'target-iSarcasm_inter-XED-binary_03','target-iSarcasm_inter-SARC_01', 'target-iSarcasm_inter-SARC_02', 'target-iSarcasm_inter-SARC_03','target-iSarcasm_inter-hellaswag_01', 'target-iSarcasm_inter-hellaswag_02', 'target-iSarcasm_inter-hellaswag_03']\n",
    "\n",
    "# get predictions of the defined estimators\n",
    "predictions =  [accuracy_estimators_df.loc[accuracy_estimators_df['model_name']==m, 'predictions'].tolist()[0] for m in estimators]\n",
    "\n",
    "print(estimators)\n",
    "print(len(predictions))\n"
   ]
  },
  {
   "cell_type": "code",
   "execution_count": 15,
   "metadata": {},
   "outputs": [],
   "source": [
    "pred_groups = []\n",
    "for i in range(len(true_preds)):\n",
    "    pred_stage = []\n",
    "    for prediction in predictions:\n",
    "        pred_stage.append(prediction[i])\n",
    "    pred_groups.append(pred_stage)\n",
    "\n",
    "# print(pred_groups[0])\n",
    "# print(pred_groups[1])\n",
    "# print(pred_groups[2])\n",
    "# print(pred_groups[3])\n",
    "# print(pred_groups[4])\n",
    "\n"
   ]
  },
  {
   "cell_type": "code",
   "execution_count": 16,
   "metadata": {},
   "outputs": [
    {
     "name": "stdout",
     "output_type": "stream",
     "text": [
      "0 0\n",
      "1 0 Pinball!\n",
      "1 1\n",
      "0 0\n",
      "0 0\n",
      "0 0\n",
      "0 0\n",
      "0 0\n",
      "0 0\n",
      "0 1 Sometimes I lay in bed and think about how today will be the day I make my life better. Exercise, drinking water, eating healthy. Then I wake up. \n",
      "0 0\n",
      "0 0\n",
      "0 0\n",
      "0 0\n",
      "0 0\n",
      "0 0\n",
      "0 0\n",
      "0 0\n",
      "0 0\n",
      "0 0\n"
     ]
    }
   ],
   "source": [
    "for i in range(20):    \n",
    "    pred_index = i\n",
    "    the_list = pred_groups[pred_index]\n",
    "    prediction = max(set(the_list), key=the_list.count)\n",
    "\n",
    "    if prediction == true_preds[pred_index]:\n",
    "        print(prediction, true_preds[pred_index])\n",
    "    else:\n",
    "        print(prediction, true_preds[pred_index], iSarcasm_df['text'].iloc[i])"
   ]
  },
  {
   "cell_type": "code",
   "execution_count": 7,
   "metadata": {},
   "outputs": [],
   "source": [
    "def most_common(lst):\n",
    "    return max(set(lst), key=lst.count)\n"
   ]
  },
  {
   "cell_type": "code",
   "execution_count": null,
   "metadata": {},
   "outputs": [],
   "source": [
    "\n",
    "ensemble_preds = []\n",
    "\n",
    "for i in pred_groups:\n",
    "    ensemble_preds.append(most_common(i))\n",
    "# print(ensemble_preds)"
   ]
  },
  {
   "cell_type": "code",
   "execution_count": 18,
   "metadata": {},
   "outputs": [
    {
     "name": "stdout",
     "output_type": "stream",
     "text": [
      "0.8442857142857143\n",
      "0.4906542056074767\n"
     ]
    }
   ],
   "source": [
    "\n",
    "acc = accuracy_score(true_preds, ensemble_preds)\n",
    "f1 = f1_score(true_preds, ensemble_preds, average='binary')\n",
    "\n",
    "print(acc)\n",
    "print(f1)"
   ]
  },
  {
   "cell_type": "markdown",
   "metadata": {},
   "source": [
    "# Try All Estimator Combinations"
   ]
  },
  {
   "cell_type": "code",
   "execution_count": 5,
   "metadata": {},
   "outputs": [
    {
     "name": "stdout",
     "output_type": "stream",
     "text": [
      "('target-iSarcasm_inter-IMDB_03', 'target-iSarcasm_inter-XED-binary_02', 'target-iSarcasm_inter-hellaswag_01')\n"
     ]
    }
   ],
   "source": [
    "estimators = accuracy_estimators_df['model_name'].to_list()\n",
    "\n",
    "# estimators = [1, 3, 3]\n",
    "combinations = []\n",
    "for r in range(len(estimators)+1):\n",
    "    for combination in itertools.combinations(set(estimators), r):\n",
    "        combinations.append(combination)\n",
    "\n",
    "three_estimators = []\n",
    "for i in combinations:\n",
    "    if len(i) == 3: \n",
    "        three_estimators.append(i)\n",
    "\n",
    "print(three_estimators[0])"
   ]
  },
  {
   "cell_type": "code",
   "execution_count": 10,
   "metadata": {},
   "outputs": [],
   "source": [
    "accuracies = []\n",
    "f1s = []\n",
    "\n",
    "for i in three_estimators:\n",
    "    predictions = [accuracy_estimators_df.loc[accuracy_estimators_df['model_name']==m, 'predictions'].tolist()[0] for m in i]\n",
    "\n",
    "    pred_groups = []\n",
    "    for j in range(len(true_preds)):\n",
    "        pred_stage = []\n",
    "        for prediction in predictions:\n",
    "            pred_stage.append(prediction[j])\n",
    "        pred_groups.append(pred_stage)\n",
    "\n",
    "    ensemble_preds = []\n",
    "    for k in pred_groups:\n",
    "        ensemble_preds.append(most_common(k))\n",
    "    \n",
    "    acc = accuracy_score(true_preds, ensemble_preds)\n",
    "    f1 = f1_score(true_preds, ensemble_preds, average='binary')\n",
    "    accuracies.append(acc)\n",
    "    f1s.append(f1)\n",
    "    # print(acc, f1)"
   ]
  },
  {
   "cell_type": "code",
   "execution_count": 14,
   "metadata": {},
   "outputs": [
    {
     "name": "stdout",
     "output_type": "stream",
     "text": [
      "0.8735714285714286\n",
      "0.44514106583072094\n"
     ]
    }
   ],
   "source": [
    "print(max(accuracies))\n",
    "acc_max_idx = np.argmax(accuracies) \n",
    "print(f1s[acc_max_idx])"
   ]
  },
  {
   "cell_type": "code",
   "execution_count": 17,
   "metadata": {},
   "outputs": [
    {
     "name": "stdout",
     "output_type": "stream",
     "text": [
      "0.5011600928074246\n",
      "0.8464285714285714\n"
     ]
    }
   ],
   "source": [
    "print(max(f1s))\n",
    "f1_max_idx = np.argmax(f1s) \n",
    "print(accuracies[f1_max_idx])"
   ]
  },
  {
   "cell_type": "code",
   "execution_count": 25,
   "metadata": {},
   "outputs": [
    {
     "name": "stdout",
     "output_type": "stream",
     "text": [
      "455\n",
      "[0.81142857 0.81571429 0.81785714 0.81857143 0.81928571 0.82\n",
      " 0.82071429 0.82142857 0.82214286 0.82285714 0.82357143 0.82428571\n",
      " 0.825      0.82642857 0.82714286 0.82785714 0.82857143 0.82928571\n",
      " 0.83       0.83071429 0.83142857 0.83214286 0.83285714 0.83357143\n",
      " 0.83428571 0.835      0.83571429 0.83642857 0.83714286 0.83785714\n",
      " 0.83857143 0.83928571 0.84       0.84071429 0.84142857 0.84214286\n",
      " 0.84285714 0.84357143 0.84428571 0.845      0.84571429 0.84642857\n",
      " 0.84714286 0.84785714 0.84857143 0.84928571 0.85       0.85071429\n",
      " 0.85142857 0.85214286 0.85285714 0.85357143 0.85428571 0.855\n",
      " 0.85571429 0.85642857 0.85714286 0.85785714 0.85857143 0.85928571\n",
      " 0.86       0.86071429 0.86142857 0.86214286 0.86285714 0.86357143\n",
      " 0.86428571 0.865      0.86571429 0.86642857 0.86714286 0.86785714\n",
      " 0.86857143 0.86928571 0.87       0.87071429 0.87142857 0.87214286\n",
      " 0.87357143]\n",
      "[ 1  1  2  2  2  1  3  3  5  3  2  4  2  6  4  6  5  3  1 10  4  6 10  4\n",
      "  7  4  8  4  4  9  2  4 10  9  6  7  7  8  3  8  5  8  9  6  5 10  8  8\n",
      "  7  6  7  7  9 10 10 10 14 11 13  8 11 11  9  8  7 10  2  6  4  7  1  4\n",
      "  4  1  3  1  1  1  3]\n"
     ]
    }
   ],
   "source": [
    "values, counts = np.unique(accuracies, return_counts=True)\n",
    "\n",
    "print(len(accuracies))\n",
    "print(values)\n",
    "print(counts)"
   ]
  },
  {
   "cell_type": "code",
   "execution_count": 24,
   "metadata": {},
   "outputs": [
    {
     "data": {
      "image/png": "[encoded data removed]",
      "text/plain": [
       "<Figure size 640x480 with 1 Axes>"
      ]
     },
     "metadata": {},
     "output_type": "display_data"
    }
   ],
   "source": [
    "import matplotlib.pyplot as plt\n",
    "\n",
    "plt.hist(accuracies, bins=20)\n",
    "plt.show() "
   ]
  },
  {
   "cell_type": "markdown",
   "metadata": {},
   "source": [
    "# NOTES: See if we can plot/visualize ensemble scores to see if they regularly outperform our control and intermetaely fine-tuned models\n",
    "\n",
    "# ALSO, COUNT PREVELANCE OF EACH MODEL CONTRIBUTING TO ENSEMBELS THAT OUTPERFORM BEST INDIVIDUAL MODELS AT EACH METRIC. SEE IF THERE IS A COORELATION BETWEEEN BEST INDIVIDUAL MODELS AND BIGGEST CONTRIBUTORS OF BEST ENSEMBLES"
   ]
  },
  {
   "cell_type": "markdown",
   "metadata": {},
   "source": []
  }
 ],
 "metadata": {
  "kernelspec": {
   "display_name": "Python 3.9.13 ('itesd_env')",
   "language": "python",
   "name": "python3"
  },
  "language_info": {
   "codemirror_mode": {
    "name": "ipython",
    "version": 3
   },
   "file_extension": ".py",
   "mimetype": "text/x-python",
   "name": "python",
   "nbconvert_exporter": "python",
   "pygments_lexer": "ipython3",
   "version": "3.9.13"
  },
  "orig_nbformat": 4,
  "vscode": {
   "interpreter": {
    "hash": "3c42b54925bdca82cdb5059acc0a21648e00763ff265e64872b54aa656b5d9d8"
   }
  }
 },
 "nbformat": 4,
 "nbformat_minor": 2
}
