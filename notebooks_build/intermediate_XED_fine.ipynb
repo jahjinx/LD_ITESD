{
 "cells": [
  {
   "cell_type": "markdown",
   "metadata": {},
   "source": [
    "# intermediate_XED_fine\n",
    "This notebook takes our custom XED fine-grain dataset and trains an intermediate model. There are 8 labels in this dataset."
   ]
  },
  {
   "cell_type": "markdown",
   "metadata": {},
   "source": [
    "## Imports & Settings"
   ]
  },
  {
   "cell_type": "markdown",
   "metadata": {},
   "source": [
    "First, update working directory to parent so that we may use our custom functions"
   ]
  },
  {
   "cell_type": "code",
   "execution_count": 1,
   "metadata": {},
   "outputs": [],
   "source": [
    "import os\n",
    "os.chdir('..')\n",
    "# os.getcwd( )"
   ]
  },
  {
   "cell_type": "code",
   "execution_count": 2,
   "metadata": {},
   "outputs": [],
   "source": [
    "import params\n",
    "from utils import *\n",
    "from trainer import *\n",
    "\n",
    "import numpy as np\n",
    "import pandas as pd\n",
    "from datasets import load_from_disk\n",
    "\n",
    "from transformers import RobertaTokenizer, RobertaForSequenceClassification\n",
    "from torch.utils.data import TensorDataset, DataLoader, RandomSampler\n",
    "\n",
    "# suppress model warning\n",
    "from transformers import logging\n",
    "logging.set_verbosity_error()\n",
    "\n",
    "# set logging level\n",
    "import logging\n",
    "logging.basicConfig(format='%(message)s', level=logging.INFO)"
   ]
  },
  {
   "cell_type": "code",
   "execution_count": 3,
   "metadata": {},
   "outputs": [
    {
     "name": "stdout",
     "output_type": "stream",
     "text": [
      "We're Armed: macOS-13.1-arm64-i386-64bit\n"
     ]
    }
   ],
   "source": [
    "# set general seeds\n",
    "set_seeds(1)\n",
    "\n",
    "# set dataloader generator seed\n",
    "g = torch.Generator()\n",
    "g.manual_seed(1)\n",
    "\n",
    "# set params for this model\n",
    "params.num_labels = 8\n",
    "params.output_dir = \"model_saves/intermediate_XED_fine_01\"\n",
    "params.dataset_path = \"data/inter_XED/itesd_xed_fine_balanced.hf\"\n",
    "\n",
    "# Ensure we're on an ARM environment if necessary.\n",
    "platform_check()"
   ]
  },
  {
   "cell_type": "markdown",
   "metadata": {},
   "source": [
    "## Load Data"
   ]
  },
  {
   "cell_type": "markdown",
   "metadata": {},
   "source": [
    "### Fine XED"
   ]
  },
  {
   "cell_type": "code",
   "execution_count": 4,
   "metadata": {},
   "outputs": [
    {
     "data": {
      "text/plain": [
       "DatasetDict({\n",
       "    train: Dataset({\n",
       "        features: ['text', 'label', 'num_word_text'],\n",
       "        num_rows: 8096\n",
       "    })\n",
       "    validation: Dataset({\n",
       "        features: ['text', 'label', 'num_word_text'],\n",
       "        num_rows: 2400\n",
       "    })\n",
       "    test: Dataset({\n",
       "        features: ['text', 'label', 'num_word_text'],\n",
       "        num_rows: 1655\n",
       "    })\n",
       "})"
      ]
     },
     "execution_count": 4,
     "metadata": {},
     "output_type": "execute_result"
    }
   ],
   "source": [
    "datasets = load_from_disk(params.dataset_path)\n",
    "datasets"
   ]
  },
  {
   "cell_type": "code",
   "execution_count": 5,
   "metadata": {},
   "outputs": [],
   "source": [
    "# we will need to view and prep the datasets\n",
    "# this is more easily done as dataframes\n",
    "train_df = datasets['train'].to_pandas()\n",
    "validate_df = datasets['validation'].to_pandas()"
   ]
  },
  {
   "cell_type": "code",
   "execution_count": 6,
   "metadata": {},
   "outputs": [
    {
     "name": "stdout",
     "output_type": "stream",
     "text": [
      "train_df Info:\n",
      "<class 'pandas.core.frame.DataFrame'>\n",
      "RangeIndex: 8096 entries, 0 to 8095\n",
      "Data columns (total 3 columns):\n",
      " #   Column         Non-Null Count  Dtype \n",
      "---  ------         --------------  ----- \n",
      " 0   text           8096 non-null   object\n",
      " 1   label          8096 non-null   int64 \n",
      " 2   num_word_text  8096 non-null   int64 \n",
      "dtypes: int64(2), object(1)\n",
      "memory usage: 189.9+ KB\n",
      "None\n",
      "\n",
      "train_df Value Counts\n",
      "1    1012\n",
      "2    1012\n",
      "3    1012\n",
      "4    1012\n",
      "5    1012\n",
      "6    1012\n",
      "7    1012\n",
      "8    1012\n",
      "Name: label, dtype: int64\n"
     ]
    }
   ],
   "source": [
    "# view training dataset\n",
    "print(\"train_df Info:\")\n",
    "print(train_df.info())\n",
    "print(\"\\ntrain_df Value Counts\")\n",
    "print(train_df['label'].value_counts())"
   ]
  },
  {
   "cell_type": "code",
   "execution_count": 7,
   "metadata": {},
   "outputs": [
    {
     "name": "stdout",
     "output_type": "stream",
     "text": [
      "validate_df Info:\n",
      "<class 'pandas.core.frame.DataFrame'>\n",
      "RangeIndex: 2400 entries, 0 to 2399\n",
      "Data columns (total 3 columns):\n",
      " #   Column         Non-Null Count  Dtype \n",
      "---  ------         --------------  ----- \n",
      " 0   text           2400 non-null   object\n",
      " 1   label          2400 non-null   int64 \n",
      " 2   num_word_text  2400 non-null   int64 \n",
      "dtypes: int64(2), object(1)\n",
      "memory usage: 56.4+ KB\n",
      "None\n",
      "\n",
      " validate_df Value Counts\n",
      "1    447\n",
      "2    362\n",
      "5    328\n",
      "8    287\n",
      "7    252\n",
      "6    246\n",
      "4    244\n",
      "3    234\n",
      "Name: label, dtype: int64\n"
     ]
    }
   ],
   "source": [
    "# view validation dataset\n",
    "print(\"validate_df Info:\")\n",
    "print(validate_df.info())\n",
    "print(\"\\n validate_df Value Counts\")\n",
    "print(validate_df['label'].value_counts())"
   ]
  },
  {
   "cell_type": "markdown",
   "metadata": {},
   "source": [
    "## Preprocess"
   ]
  },
  {
   "cell_type": "code",
   "execution_count": 8,
   "metadata": {},
   "outputs": [],
   "source": [
    "train_token_ids, train_attention_masks = encode_text(train_df.text.values)\n",
    "validate_token_ids, validate_attention_masks = encode_text(validate_df.text.values)"
   ]
  },
  {
   "cell_type": "code",
   "execution_count": 9,
   "metadata": {},
   "outputs": [],
   "source": [
    "train_features = []\n",
    "for i in range(len(train_token_ids)):\n",
    "    train_features.append({'label': train_df.label.values[i], \n",
    "                           'input_ids': train_token_ids[i], \n",
    "                           'attention_mask':train_attention_masks[i]})\n",
    "\n",
    "validate_features = []\n",
    "for i in range(len(validate_token_ids)):\n",
    "    validate_features.append({'label': validate_df.label.values[i], \n",
    "                              'input_ids': validate_token_ids[i],\n",
    "                              'attention_mask':validate_attention_masks[i]})"
   ]
  },
  {
   "cell_type": "markdown",
   "metadata": {},
   "source": [
    "## Data Split\n",
    "We split the dataset into train (80%) and validation (20%) sets, and wrap them around a torch.utils.data.DataLoader object."
   ]
  },
  {
   "cell_type": "code",
   "execution_count": 10,
   "metadata": {},
   "outputs": [],
   "source": [
    "# Prepare DataLoader\n",
    "train_dataloader = DataLoader(\n",
    "            train_features,\n",
    "            sampler = RandomSampler(train_features),\n",
    "            batch_size = params.batch_size,\n",
    "            worker_init_fn=seed_worker,\n",
    "            generator=g,\n",
    "            collate_fn=collate\n",
    "        )\n",
    "\n",
    "validation_dataloader = DataLoader(\n",
    "            validate_features,\n",
    "            sampler = RandomSampler(validate_features),\n",
    "            batch_size = params.batch_size,\n",
    "            worker_init_fn=seed_worker,\n",
    "            generator=g,\n",
    "            collate_fn=collate\n",
    "        )"
   ]
  },
  {
   "cell_type": "code",
   "execution_count": 11,
   "metadata": {},
   "outputs": [
    {
     "data": {
      "text/plain": [
       "[tensor([[    0,   133, 11036,   313,  1516, 10789,     7,  1930,    39,    86,\n",
       "             19, 38201,   479,     2,     1,     1,     1,     1,     1,     1,\n",
       "              1,     1,     1,     1,     1,     1,     1,     1,     1,     1,\n",
       "              1,     1,     1,     1,     1,     1,     1,     1,     1],\n",
       "         [    0,   100,   437,  1227,   479,     2,     1,     1,     1,     1,\n",
       "              1,     1,     1,     1,     1,     1,     1,     1,     1,     1,\n",
       "              1,     1,     1,     1,     1,     1,     1,     1,     1,     1,\n",
       "              1,     1,     1,     1,     1,     1,     1,     1,     1],\n",
       "         [    0,   970, 12960,     7,    28,   103,  1666,     2,     1,     1,\n",
       "              1,     1,     1,     1,     1,     1,     1,     1,     1,     1,\n",
       "              1,     1,     1,     1,     1,     1,     1,     1,     1,     1,\n",
       "              1,     1,     1,     1,     1,     1,     1,     1,     1],\n",
       "         [    0,  1185,  2662,     8,  2268,   110,  1612,     8,   110,   664,\n",
       "          10717,     8,  1666,     2,     1,     1,     1,     1,     1,     1,\n",
       "              1,     1,     1,     1,     1,     1,     1,     1,     1,     1,\n",
       "              1,     1,     1,     1,     1,     1,     1,     1,     1],\n",
       "         [    0,  8275,    47,  2145,    99,     7,   224, 17487,     2,     1,\n",
       "              1,     1,     1,     1,     1,     1,     1,     1,     1,     1,\n",
       "              1,     1,     1,     1,     1,     1,     1,     1,     1,     1,\n",
       "              1,     1,     1,     1,     1,     1,     1,     1,     1],\n",
       "         [    0,  2264,    10,  3944, 27785,     2,     1,     1,     1,     1,\n",
       "              1,     1,     1,     1,     1,     1,     1,     1,     1,     1,\n",
       "              1,     1,     1,     1,     1,     1,     1,     1,     1,     1,\n",
       "              1,     1,     1,     1,     1,     1,     1,     1,     1],\n",
       "         [    0,  2264,   761,     9,    10,  1816,    32,    47,  2156,  6992,\n",
       "          17487,     2,     1,     1,     1,     1,     1,     1,     1,     1,\n",
       "              1,     1,     1,     1,     1,     1,     1,     1,     1,     1,\n",
       "              1,     1,     1,     1,     1,     1,     1,     1,     1],\n",
       "         [    0,   100,   437,  6661,   114,    38, 29136,    10,  5780,   479,\n",
       "              2,     1,     1,     1,     1,     1,     1,     1,     1,     1,\n",
       "              1,     1,     1,     1,     1,     1,     1,     1,     1,     1,\n",
       "              1,     1,     1,     1,     1,     1,     1,     1,     1],\n",
       "         [    0,   243,  1326,   101,    10,   301,  3645,   479,     2,     1,\n",
       "              1,     1,     1,     1,     1,     1,     1,     1,     1,     1,\n",
       "              1,     1,     1,     1,     1,     1,     1,     1,     1,     1,\n",
       "              1,     1,     1,     1,     1,     1,     1,     1,     1],\n",
       "         [    0, 11913,  9178,  2156,    38,   437,  4736,    10,  1050,   301,\n",
       "             21,   685,   479,     2,     1,     1,     1,     1,     1,     1,\n",
       "              1,     1,     1,     1,     1,     1,     1,     1,     1,     1,\n",
       "              1,     1,     1,     1,     1,     1,     1,     1,     1],\n",
       "         [    0,  1106,    47,   218,    75,   492,   162,   127,    68,  1878,\n",
       "           2156,    38,   437,   164,     7,  1137,    10, 20976,   141,    47,\n",
       "            300,    24,     8,    37,   581,   146,    47,   492,    24,     7,\n",
       "            162,  2156,   128, 27037,    24,    18,  4318,   479,     2],\n",
       "         [    0,  2409,    52,    32,   122,  2721,   479,     2,     1,     1,\n",
       "              1,     1,     1,     1,     1,     1,     1,     1,     1,     1,\n",
       "              1,     1,     1,     1,     1,     1,     1,     1,     1,     1,\n",
       "              1,     1,     1,     1,     1,     1,     1,     1,     1],\n",
       "         [    0,  1185,   214,   235,   479,   125,    24,   938,    75,   162,\n",
       "           2156, 21958,   479,     2,     1,     1,     1,     1,     1,     1,\n",
       "              1,     1,     1,     1,     1,     1,     1,     1,     1,     1,\n",
       "              1,     1,     1,     1,     1,     1,     1,     1,     1],\n",
       "         [    0,  1213,    64,   213,     7,  7105, 27785,     2,     1,     1,\n",
       "              1,     1,     1,     1,     1,     1,     1,     1,     1,     1,\n",
       "              1,     1,     1,     1,     1,     1,     1,     1,     1,     1,\n",
       "              1,     1,     1,     1,     1,     1,     1,     1,     1],\n",
       "         [    0,  6179,   222,    47,   120,     7,    28,    10,  3449, 17487,\n",
       "              2,     1,     1,     1,     1,     1,     1,     1,     1,     1,\n",
       "              1,     1,     1,     1,     1,     1,     1,     1,     1,     1,\n",
       "              1,     1,     1,     1,     1,     1,     1,     1,     1],\n",
       "         [    0,  1185,   214,  6480, 27785,     2,     1,     1,     1,     1,\n",
       "              1,     1,     1,     1,     1,     1,     1,     1,     1,     1,\n",
       "              1,     1,     1,     1,     1,     1,     1,     1,     1,     1,\n",
       "              1,     1,     1,     1,     1,     1,     1,     1,     1]]),\n",
       " tensor([[1, 1, 1, 1, 1, 1, 1, 1, 1, 1, 1, 1, 1, 1, 0, 0, 0, 0, 0, 0, 0, 0, 0, 0,\n",
       "          0, 0, 0, 0, 0, 0, 0, 0, 0, 0, 0, 0, 0, 0, 0],\n",
       "         [1, 1, 1, 1, 1, 1, 0, 0, 0, 0, 0, 0, 0, 0, 0, 0, 0, 0, 0, 0, 0, 0, 0, 0,\n",
       "          0, 0, 0, 0, 0, 0, 0, 0, 0, 0, 0, 0, 0, 0, 0],\n",
       "         [1, 1, 1, 1, 1, 1, 1, 1, 0, 0, 0, 0, 0, 0, 0, 0, 0, 0, 0, 0, 0, 0, 0, 0,\n",
       "          0, 0, 0, 0, 0, 0, 0, 0, 0, 0, 0, 0, 0, 0, 0],\n",
       "         [1, 1, 1, 1, 1, 1, 1, 1, 1, 1, 1, 1, 1, 1, 0, 0, 0, 0, 0, 0, 0, 0, 0, 0,\n",
       "          0, 0, 0, 0, 0, 0, 0, 0, 0, 0, 0, 0, 0, 0, 0],\n",
       "         [1, 1, 1, 1, 1, 1, 1, 1, 1, 0, 0, 0, 0, 0, 0, 0, 0, 0, 0, 0, 0, 0, 0, 0,\n",
       "          0, 0, 0, 0, 0, 0, 0, 0, 0, 0, 0, 0, 0, 0, 0],\n",
       "         [1, 1, 1, 1, 1, 1, 0, 0, 0, 0, 0, 0, 0, 0, 0, 0, 0, 0, 0, 0, 0, 0, 0, 0,\n",
       "          0, 0, 0, 0, 0, 0, 0, 0, 0, 0, 0, 0, 0, 0, 0],\n",
       "         [1, 1, 1, 1, 1, 1, 1, 1, 1, 1, 1, 1, 0, 0, 0, 0, 0, 0, 0, 0, 0, 0, 0, 0,\n",
       "          0, 0, 0, 0, 0, 0, 0, 0, 0, 0, 0, 0, 0, 0, 0],\n",
       "         [1, 1, 1, 1, 1, 1, 1, 1, 1, 1, 1, 0, 0, 0, 0, 0, 0, 0, 0, 0, 0, 0, 0, 0,\n",
       "          0, 0, 0, 0, 0, 0, 0, 0, 0, 0, 0, 0, 0, 0, 0],\n",
       "         [1, 1, 1, 1, 1, 1, 1, 1, 1, 0, 0, 0, 0, 0, 0, 0, 0, 0, 0, 0, 0, 0, 0, 0,\n",
       "          0, 0, 0, 0, 0, 0, 0, 0, 0, 0, 0, 0, 0, 0, 0],\n",
       "         [1, 1, 1, 1, 1, 1, 1, 1, 1, 1, 1, 1, 1, 1, 0, 0, 0, 0, 0, 0, 0, 0, 0, 0,\n",
       "          0, 0, 0, 0, 0, 0, 0, 0, 0, 0, 0, 0, 0, 0, 0],\n",
       "         [1, 1, 1, 1, 1, 1, 1, 1, 1, 1, 1, 1, 1, 1, 1, 1, 1, 1, 1, 1, 1, 1, 1, 1,\n",
       "          1, 1, 1, 1, 1, 1, 1, 1, 1, 1, 1, 1, 1, 1, 1],\n",
       "         [1, 1, 1, 1, 1, 1, 1, 1, 0, 0, 0, 0, 0, 0, 0, 0, 0, 0, 0, 0, 0, 0, 0, 0,\n",
       "          0, 0, 0, 0, 0, 0, 0, 0, 0, 0, 0, 0, 0, 0, 0],\n",
       "         [1, 1, 1, 1, 1, 1, 1, 1, 1, 1, 1, 1, 1, 1, 0, 0, 0, 0, 0, 0, 0, 0, 0, 0,\n",
       "          0, 0, 0, 0, 0, 0, 0, 0, 0, 0, 0, 0, 0, 0, 0],\n",
       "         [1, 1, 1, 1, 1, 1, 1, 1, 0, 0, 0, 0, 0, 0, 0, 0, 0, 0, 0, 0, 0, 0, 0, 0,\n",
       "          0, 0, 0, 0, 0, 0, 0, 0, 0, 0, 0, 0, 0, 0, 0],\n",
       "         [1, 1, 1, 1, 1, 1, 1, 1, 1, 1, 1, 0, 0, 0, 0, 0, 0, 0, 0, 0, 0, 0, 0, 0,\n",
       "          0, 0, 0, 0, 0, 0, 0, 0, 0, 0, 0, 0, 0, 0, 0],\n",
       "         [1, 1, 1, 1, 1, 1, 0, 0, 0, 0, 0, 0, 0, 0, 0, 0, 0, 0, 0, 0, 0, 0, 0, 0,\n",
       "          0, 0, 0, 0, 0, 0, 0, 0, 0, 0, 0, 0, 0, 0, 0]]),\n",
       " tensor([3, 2, 7, 3, 8, 7, 7, 6, 4, 1, 1, 5, 7, 1, 3, 3])]"
      ]
     },
     "execution_count": 11,
     "metadata": {},
     "output_type": "execute_result"
    }
   ],
   "source": [
    "# view an example from the dataloader\n",
    "next(iter(train_dataloader))"
   ]
  },
  {
   "cell_type": "markdown",
   "metadata": {},
   "source": [
    "## Train"
   ]
  },
  {
   "cell_type": "markdown",
   "metadata": {},
   "source": [
    "Download transformers.RobertaForSequenceClassificatio, which is a RoBERTa model with a linear layer for sentence classification (or regression) on top of the pooled output:"
   ]
  },
  {
   "cell_type": "code",
   "execution_count": 12,
   "metadata": {},
   "outputs": [
    {
     "data": {
      "text/plain": [
       "==============================================================================================================\n",
       "Layer (type:depth-idx)                                       Output Shape              Param #\n",
       "==============================================================================================================\n",
       "RobertaForSequenceClassification                             [1, 8]                    --\n",
       "├─RobertaModel: 1-1                                          [1, 512, 768]             --\n",
       "│    └─RobertaEmbeddings: 2-1                                [1, 512, 768]             --\n",
       "│    │    └─Embedding: 3-1                                   [1, 512, 768]             38,603,520\n",
       "│    │    └─Embedding: 3-2                                   [1, 512, 768]             768\n",
       "│    │    └─Embedding: 3-3                                   [1, 512, 768]             394,752\n",
       "│    │    └─LayerNorm: 3-4                                   [1, 512, 768]             1,536\n",
       "│    │    └─Dropout: 3-5                                     [1, 512, 768]             --\n",
       "│    └─RobertaEncoder: 2-2                                   [1, 512, 768]             --\n",
       "│    │    └─ModuleList: 3-6                                  --                        85,054,464\n",
       "├─RobertaClassificationHead: 1-2                             [1, 8]                    --\n",
       "│    └─Dropout: 2-3                                          [1, 768]                  --\n",
       "│    └─Linear: 2-4                                           [1, 768]                  590,592\n",
       "│    └─Dropout: 2-5                                          [1, 768]                  --\n",
       "│    └─Linear: 2-6                                           [1, 8]                    6,152\n",
       "==============================================================================================================\n",
       "Total params: 124,651,784\n",
       "Trainable params: 124,651,784\n",
       "Non-trainable params: 0\n",
       "Total mult-adds (M): 124.65\n",
       "==============================================================================================================\n",
       "Input size (MB): 0.00\n",
       "Forward/backward pass size (MB): 427.83\n",
       "Params size (MB): 498.61\n",
       "Estimated Total Size (MB): 926.43\n",
       "=============================================================================================================="
      ]
     },
     "execution_count": 12,
     "metadata": {},
     "output_type": "execute_result"
    }
   ],
   "source": [
    "# Load the RobertaForSequenceClassification model\n",
    "model = RobertaForSequenceClassification.from_pretrained('roberta-base',\n",
    "                                                         num_labels = params.num_labels,\n",
    "                                                         output_attentions = False,\n",
    "                                                         output_hidden_states = False,\n",
    "                                                         )\n",
    "\n",
    "from torchinfo import summary\n",
    "summary(model, input_size=(1, 512), dtypes=['torch.IntTensor'])"
   ]
  },
  {
   "cell_type": "markdown",
   "metadata": {},
   "source": [
    "Set model to device, initialize trainer"
   ]
  },
  {
   "cell_type": "code",
   "execution_count": 13,
   "metadata": {},
   "outputs": [
    {
     "name": "stdout",
     "output_type": "stream",
     "text": [
      "Device: mps\n",
      "\n",
      "          Training Dataset: data/inter_XED/itesd_xed_fine_balanced.hf\n",
      "          Number of Labels: 8\n",
      "          Batch Size: 16\n",
      "          Learning Rate: 1e-05\n",
      "          Weight Decay: 0\n",
      "          Epochs: 10\n",
      "          Output Directory: model_saves/intermediate_XED_fine_01\n",
      "          Save Frequency: 1\n",
      "          Checkpoint Frequency: 1\n",
      "          Max Length: 256\n",
      "          \n"
     ]
    }
   ],
   "source": [
    "model.to(params.device)\n",
    "print(f\"Device: {params.device}\")\n",
    "\n",
    "optimizer = torch.optim.Adam(params=model.parameters(), \n",
    "                             lr=params.learning_rate,\n",
    "                             weight_decay=params.weight_decay) #roberta\n",
    "\n",
    "trainer = Trainer(model=model,\n",
    "                  device=params.device,\n",
    "                  tokenizer=params.tokenizer,\n",
    "                  train_dataloader=train_dataloader,\n",
    "                  validation_dataloader=validation_dataloader,\n",
    "                  epochs=params.epochs,\n",
    "                  optimizer=optimizer,\n",
    "                  val_loss_fn=params.val_loss_fn,\n",
    "                  num_labels=params.num_labels,\n",
    "                  output_dir=params.output_dir,\n",
    "                  save_freq=params.save_freq,\n",
    "                  checkpoint_freq=params.checkpoint_freq)\n",
    "\n",
    "output_parameters()"
   ]
  },
  {
   "cell_type": "markdown",
   "metadata": {},
   "source": [
    "Fit the model to our training data."
   ]
  },
  {
   "cell_type": "code",
   "execution_count": 14,
   "metadata": {},
   "outputs": [
    {
     "name": "stderr",
     "output_type": "stream",
     "text": [
      "Epoch 1: 100%|██████████| 506/506 [02:08<00:00,  3.92batch/s]\n",
      "\t Validation 149: 100%|██████████| 150/150 [00:09<00:00, 16.12batch/s]\n",
      "\n",
      " \t - Train loss: 1.317305\n",
      "\t - Validation Loss: 1.125025\n",
      "\t - Validation Accuracy: 0.480833\n",
      "\t - Validation F1: 0.480833\n",
      "\t - Validation Recall: 0.480833\n",
      "\t - Validation Precision: 0.480833 \n",
      "\n",
      "\t * Model @ epoch 1 saved to model_saves/intermediate_XED_fine_01/E01_A0.48_F0.48\n",
      "\t * Model checkpoint saved to model_saves/intermediate_XED_fine_01/E01_A0.48_F0.48/checkpoint.pt\n",
      "\n",
      "Epoch 2: 100%|██████████| 506/506 [02:02<00:00,  4.13batch/s]\n",
      "\t Validation 149: 100%|██████████| 150/150 [00:08<00:00, 16.87batch/s]\n",
      "\n",
      " \t - Train loss: 0.945574\n",
      "\t - Validation Loss: 1.013320\n",
      "\t - Validation Accuracy: 0.519167\n",
      "\t - Validation F1: 0.519167\n",
      "\t - Validation Recall: 0.519167\n",
      "\t - Validation Precision: 0.519167 \n",
      "\n",
      "\t * Model @ epoch 2 saved to model_saves/intermediate_XED_fine_01/E02_A0.52_F0.52\n",
      "\t * Model checkpoint saved to model_saves/intermediate_XED_fine_01/E02_A0.52_F0.52/checkpoint.pt\n",
      "\n",
      "Epoch 3: 100%|██████████| 506/506 [02:04<00:00,  4.05batch/s]\n",
      "\t Validation 149: 100%|██████████| 150/150 [00:08<00:00, 16.79batch/s]\n",
      "\n",
      " \t - Train loss: 0.779401\n",
      "\t - Validation Loss: 1.049778\n",
      "\t - Validation Accuracy: 0.529583\n",
      "\t - Validation F1: 0.529583\n",
      "\t - Validation Recall: 0.529583\n",
      "\t - Validation Precision: 0.529583 \n",
      "\n",
      "\t * Model @ epoch 3 saved to model_saves/intermediate_XED_fine_01/E03_A0.53_F0.53\n",
      "\t * Model checkpoint saved to model_saves/intermediate_XED_fine_01/E03_A0.53_F0.53/checkpoint.pt\n",
      "\n",
      "Epoch 4: 100%|██████████| 506/506 [02:03<00:00,  4.11batch/s]\n",
      "\t Validation 149: 100%|██████████| 150/150 [00:09<00:00, 16.34batch/s]\n",
      "\n",
      " \t - Train loss: 0.626386\n",
      "\t - Validation Loss: 1.112981\n",
      "\t - Validation Accuracy: 0.534167\n",
      "\t - Validation F1: 0.534167\n",
      "\t - Validation Recall: 0.534167\n",
      "\t - Validation Precision: 0.534167 \n",
      "\n",
      "\t * Model @ epoch 4 saved to model_saves/intermediate_XED_fine_01/E04_A0.53_F0.53\n",
      "\t * Model checkpoint saved to model_saves/intermediate_XED_fine_01/E04_A0.53_F0.53/checkpoint.pt\n",
      "\n",
      "Epoch 5: 100%|██████████| 506/506 [02:03<00:00,  4.11batch/s]\n",
      "\t Validation 149: 100%|██████████| 150/150 [00:09<00:00, 16.20batch/s]\n",
      "\n",
      " \t - Train loss: 0.488531\n",
      "\t - Validation Loss: 1.207039\n",
      "\t - Validation Accuracy: 0.525417\n",
      "\t - Validation F1: 0.525417\n",
      "\t - Validation Recall: 0.525417\n",
      "\t - Validation Precision: 0.525417 \n",
      "\n",
      "\t * Model @ epoch 5 saved to model_saves/intermediate_XED_fine_01/E05_A0.53_F0.53\n",
      "\t * Model checkpoint saved to model_saves/intermediate_XED_fine_01/E05_A0.53_F0.53/checkpoint.pt\n",
      "\n",
      "Epoch 6: 100%|██████████| 506/506 [02:02<00:00,  4.13batch/s]\n",
      "\t Validation 149: 100%|██████████| 150/150 [00:09<00:00, 16.56batch/s]\n",
      "\n",
      " \t - Train loss: 0.375608\n",
      "\t - Validation Loss: 1.265995\n",
      "\t - Validation Accuracy: 0.524583\n",
      "\t - Validation F1: 0.524583\n",
      "\t - Validation Recall: 0.524583\n",
      "\t - Validation Precision: 0.524583 \n",
      "\n",
      "\t * Model @ epoch 6 saved to model_saves/intermediate_XED_fine_01/E06_A0.52_F0.52\n",
      "\t * Model checkpoint saved to model_saves/intermediate_XED_fine_01/E06_A0.52_F0.52/checkpoint.pt\n",
      "\n",
      "Epoch 7: 100%|██████████| 506/506 [02:02<00:00,  4.12batch/s]\n",
      "\t Validation 149: 100%|██████████| 150/150 [00:09<00:00, 16.66batch/s]\n",
      "\n",
      " \t - Train loss: 0.284293\n",
      "\t - Validation Loss: 1.405620\n",
      "\t - Validation Accuracy: 0.509167\n",
      "\t - Validation F1: 0.509167\n",
      "\t - Validation Recall: 0.509167\n",
      "\t - Validation Precision: 0.509167 \n",
      "\n",
      "\t * Model @ epoch 7 saved to model_saves/intermediate_XED_fine_01/E07_A0.51_F0.51\n",
      "\t * Model checkpoint saved to model_saves/intermediate_XED_fine_01/E07_A0.51_F0.51/checkpoint.pt\n",
      "\n",
      "Epoch 8: 100%|██████████| 506/506 [02:01<00:00,  4.15batch/s]\n",
      "\t Validation 149: 100%|██████████| 150/150 [00:09<00:00, 16.06batch/s]\n",
      "\n",
      " \t - Train loss: 0.213679\n",
      "\t - Validation Loss: 1.532770\n",
      "\t - Validation Accuracy: 0.510000\n",
      "\t - Validation F1: 0.510000\n",
      "\t - Validation Recall: 0.510000\n",
      "\t - Validation Precision: 0.510000 \n",
      "\n",
      "\t * Model @ epoch 8 saved to model_saves/intermediate_XED_fine_01/E08_A0.51_F0.51\n",
      "\t * Model checkpoint saved to model_saves/intermediate_XED_fine_01/E08_A0.51_F0.51/checkpoint.pt\n",
      "\n",
      "Epoch 9: 100%|██████████| 506/506 [02:02<00:00,  4.13batch/s]\n",
      "\t Validation 149: 100%|██████████| 150/150 [00:09<00:00, 16.41batch/s]\n",
      "\n",
      " \t - Train loss: 0.162040\n",
      "\t - Validation Loss: 1.687912\n",
      "\t - Validation Accuracy: 0.509167\n",
      "\t - Validation F1: 0.509167\n",
      "\t - Validation Recall: 0.509167\n",
      "\t - Validation Precision: 0.509167 \n",
      "\n",
      "\t * Model @ epoch 9 saved to model_saves/intermediate_XED_fine_01/E09_A0.51_F0.51\n",
      "\t * Model checkpoint saved to model_saves/intermediate_XED_fine_01/E09_A0.51_F0.51/checkpoint.pt\n",
      "\n",
      "Epoch 10: 100%|██████████| 506/506 [02:06<00:00,  4.02batch/s]\n",
      "\t Validation 149: 100%|██████████| 150/150 [00:09<00:00, 15.45batch/s]\n",
      "\n",
      " \t - Train loss: 0.141992\n",
      "\t - Validation Loss: 1.681280\n",
      "\t - Validation Accuracy: 0.512500\n",
      "\t - Validation F1: 0.512500\n",
      "\t - Validation Recall: 0.512500\n",
      "\t - Validation Precision: 0.512500 \n",
      "\n",
      "\t * Model @ epoch 10 saved to model_saves/intermediate_XED_fine_01/E10_A0.51_F0.51\n",
      "\t * Model checkpoint saved to model_saves/intermediate_XED_fine_01/E10_A0.51_F0.51/checkpoint.pt\n",
      "\n"
     ]
    }
   ],
   "source": [
    "trainer.fit()"
   ]
  }
 ],
 "metadata": {
  "kernelspec": {
   "display_name": "Python 3.9.13 ('itesd_env')",
   "language": "python",
   "name": "python3"
  },
  "language_info": {
   "codemirror_mode": {
    "name": "ipython",
    "version": 3
   },
   "file_extension": ".py",
   "mimetype": "text/x-python",
   "name": "python",
   "nbconvert_exporter": "python",
   "pygments_lexer": "ipython3",
   "version": "3.9.13"
  },
  "orig_nbformat": 4,
  "vscode": {
   "interpreter": {
    "hash": "3c42b54925bdca82cdb5059acc0a21648e00763ff265e64872b54aa656b5d9d8"
   }
  }
 },
 "nbformat": 4,
 "nbformat_minor": 2
}
