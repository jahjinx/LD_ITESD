{
 "cells": [
  {
   "cell_type": "markdown",
   "metadata": {},
   "source": [
    "# intermediate_SARC\n",
    "This notebook takes our custom XED binary datas_et and trains an intermediate model."
   ]
  },
  {
   "cell_type": "markdown",
   "metadata": {},
   "source": [
    "## Imports & Settings"
   ]
  },
  {
   "cell_type": "markdown",
   "metadata": {},
   "source": [
    "First, update working directory to parent so that we may use our custom functions"
   ]
  },
  {
   "cell_type": "code",
   "execution_count": 1,
   "metadata": {},
   "outputs": [],
   "source": [
    "import os\n",
    "os.chdir('..')\n",
    "# os.getcwd( )"
   ]
  },
  {
   "cell_type": "code",
   "execution_count": 3,
   "metadata": {},
   "outputs": [
    {
     "data": {
      "text/plain": [
       "<torch._C.Generator at 0x2940aaad0>"
      ]
     },
     "execution_count": 3,
     "metadata": {},
     "output_type": "execute_result"
    }
   ],
   "source": [
    "import params\n",
    "from utils import *\n",
    "from trainer import *\n",
    "\n",
    "import numpy as np\n",
    "import pandas as pd\n",
    "from datasets import load_from_disk\n",
    "\n",
    "from transformers import RobertaTokenizer, RobertaForSequenceClassification\n",
    "from torch.utils.data import TensorDataset, DataLoader, RandomSampler\n",
    "\n",
    "# suppress model warning\n",
    "from transformers import logging\n",
    "logging.set_verbosity_error()\n",
    "\n",
    "# set logging level\n",
    "import logging\n",
    "logging.basicConfig(format='%(message)s', level=logging.INFO)"
   ]
  },
  {
   "cell_type": "code",
   "execution_count": null,
   "metadata": {},
   "outputs": [
    {
     "name": "stdout",
     "output_type": "stream",
     "text": [
      "We're Armed: macOS-13.1-arm64-i386-64bit\n"
     ]
    }
   ],
   "source": [
    "# set general seeds\n",
    "set_seeds(1)\n",
    "\n",
    "# set dataloader generator seed\n",
    "g = torch.Generator()\n",
    "g.manual_seed(1)\n",
    "\n",
    "# set params for this model\n",
    "params.num_labels = 2\n",
    "params.output_dir = \"model_saves/intermediate_SARC_01\"\n",
    "params.dataset_path = \"data/inter_SARC/itesd_sarc_balanced.hf\"\n",
    "\n",
    "# Ensure we're on an ARM environment if necessary.\n",
    "platform_check()"
   ]
  },
  {
   "cell_type": "markdown",
   "metadata": {},
   "source": [
    "## Load Data"
   ]
  },
  {
   "cell_type": "markdown",
   "metadata": {},
   "source": [
    "### SARC"
   ]
  },
  {
   "cell_type": "code",
   "execution_count": 4,
   "metadata": {},
   "outputs": [
    {
     "data": {
      "text/html": [
       "<div>\n",
       "<style scoped>\n",
       "    .dataframe tbody tr th:only-of-type {\n",
       "        vertical-align: middle;\n",
       "    }\n",
       "\n",
       "    .dataframe tbody tr th {\n",
       "        vertical-align: top;\n",
       "    }\n",
       "\n",
       "    .dataframe thead th {\n",
       "        text-align: right;\n",
       "    }\n",
       "</style>\n",
       "<table border=\"1\" class=\"dataframe\">\n",
       "  <thead>\n",
       "    <tr style=\"text-align: right;\">\n",
       "      <th></th>\n",
       "      <th>label</th>\n",
       "      <th>text</th>\n",
       "      <th>author</th>\n",
       "      <th>subreddit</th>\n",
       "      <th>score</th>\n",
       "      <th>ups</th>\n",
       "      <th>downs</th>\n",
       "      <th>date</th>\n",
       "      <th>created_utc</th>\n",
       "      <th>parent_comment</th>\n",
       "      <th>num_word_text</th>\n",
       "    </tr>\n",
       "  </thead>\n",
       "  <tbody>\n",
       "    <tr>\n",
       "      <th>0</th>\n",
       "      <td>0</td>\n",
       "      <td>That's paid propaganda created by Big Law Enfo...</td>\n",
       "      <td>akronix10</td>\n",
       "      <td>news</td>\n",
       "      <td>15</td>\n",
       "      <td>15</td>\n",
       "      <td>0</td>\n",
       "      <td>2014-11</td>\n",
       "      <td>2014-11-26 20:50:39</td>\n",
       "      <td>If TV tells me anything, most beat cops hate i...</td>\n",
       "      <td>14</td>\n",
       "    </tr>\n",
       "    <tr>\n",
       "      <th>1</th>\n",
       "      <td>0</td>\n",
       "      <td>I imagine they'll use it for regenerative brak...</td>\n",
       "      <td>f03nix</td>\n",
       "      <td>Futurology</td>\n",
       "      <td>1</td>\n",
       "      <td>1</td>\n",
       "      <td>0</td>\n",
       "      <td>2015-07</td>\n",
       "      <td>2015-07-20 07:30:02</td>\n",
       "      <td>Ummm, powered by a wind turbine? Sorry...but t...</td>\n",
       "      <td>8</td>\n",
       "    </tr>\n",
       "    <tr>\n",
       "      <th>2</th>\n",
       "      <td>0</td>\n",
       "      <td>Distraction and diversion from the real proble...</td>\n",
       "      <td>Shinranshonin</td>\n",
       "      <td>politics</td>\n",
       "      <td>1</td>\n",
       "      <td>-1</td>\n",
       "      <td>-1</td>\n",
       "      <td>2016-12</td>\n",
       "      <td>2016-12-12 13:51:13</td>\n",
       "      <td>The media call Trump a 'cyberbully,' even when...</td>\n",
       "      <td>28</td>\n",
       "    </tr>\n",
       "    <tr>\n",
       "      <th>3</th>\n",
       "      <td>0</td>\n",
       "      <td>Not at this point in the movie</td>\n",
       "      <td>spot35</td>\n",
       "      <td>funny</td>\n",
       "      <td>2</td>\n",
       "      <td>2</td>\n",
       "      <td>0</td>\n",
       "      <td>2015-11</td>\n",
       "      <td>2015-11-21 07:59:49</td>\n",
       "      <td>But it's a protocol droid, fluent in over 6 mi...</td>\n",
       "      <td>7</td>\n",
       "    </tr>\n",
       "    <tr>\n",
       "      <th>4</th>\n",
       "      <td>0</td>\n",
       "      <td>I have a feeling you don't understand the Mand...</td>\n",
       "      <td>throwaway-11-20-2016</td>\n",
       "      <td>MandelaEffect</td>\n",
       "      <td>1</td>\n",
       "      <td>-1</td>\n",
       "      <td>-1</td>\n",
       "      <td>2016-12</td>\n",
       "      <td>2016-12-28 16:14:36</td>\n",
       "      <td>so should the side bar say that a large number...</td>\n",
       "      <td>10</td>\n",
       "    </tr>\n",
       "  </tbody>\n",
       "</table>\n",
       "</div>"
      ],
      "text/plain": [
       "   label                                               text  \\\n",
       "0      0  That's paid propaganda created by Big Law Enfo...   \n",
       "1      0  I imagine they'll use it for regenerative brak...   \n",
       "2      0  Distraction and diversion from the real proble...   \n",
       "3      0                     Not at this point in the movie   \n",
       "4      0  I have a feeling you don't understand the Mand...   \n",
       "\n",
       "                 author      subreddit  score  ups  downs     date  \\\n",
       "0             akronix10           news     15   15      0  2014-11   \n",
       "1                f03nix     Futurology      1    1      0  2015-07   \n",
       "2         Shinranshonin       politics      1   -1     -1  2016-12   \n",
       "3                spot35          funny      2    2      0  2015-11   \n",
       "4  throwaway-11-20-2016  MandelaEffect      1   -1     -1  2016-12   \n",
       "\n",
       "           created_utc                                     parent_comment  \\\n",
       "0  2014-11-26 20:50:39  If TV tells me anything, most beat cops hate i...   \n",
       "1  2015-07-20 07:30:02  Ummm, powered by a wind turbine? Sorry...but t...   \n",
       "2  2016-12-12 13:51:13  The media call Trump a 'cyberbully,' even when...   \n",
       "3  2015-11-21 07:59:49  But it's a protocol droid, fluent in over 6 mi...   \n",
       "4  2016-12-28 16:14:36  so should the side bar say that a large number...   \n",
       "\n",
       "   num_word_text  \n",
       "0             14  \n",
       "1              8  \n",
       "2             28  \n",
       "3              7  \n",
       "4             10  "
      ]
     },
     "execution_count": 4,
     "metadata": {},
     "output_type": "execute_result"
    }
   ],
   "source": [
    "datasets = load_from_disk(params.dataset_path)\n",
    "datasets"
   ]
  },
  {
   "cell_type": "code",
   "execution_count": 5,
   "metadata": {},
   "outputs": [
    {
     "name": "stdout",
     "output_type": "stream",
     "text": [
      "<class 'pandas.core.frame.DataFrame'>\n",
      "RangeIndex: 100000 entries, 0 to 99999\n",
      "Data columns (total 11 columns):\n",
      " #   Column          Non-Null Count   Dtype \n",
      "---  ------          --------------   ----- \n",
      " 0   label           100000 non-null  int64 \n",
      " 1   text            100000 non-null  object\n",
      " 2   author          100000 non-null  object\n",
      " 3   subreddit       100000 non-null  object\n",
      " 4   score           100000 non-null  int64 \n",
      " 5   ups             100000 non-null  int64 \n",
      " 6   downs           100000 non-null  int64 \n",
      " 7   date            100000 non-null  object\n",
      " 8   created_utc     100000 non-null  object\n",
      " 9   parent_comment  100000 non-null  object\n",
      " 10  num_word_text   100000 non-null  int64 \n",
      "dtypes: int64(5), object(6)\n",
      "memory usage: 8.4+ MB\n"
     ]
    }
   ],
   "source": [
    "# we will need to view and prep the datasets\n",
    "# this is more easily done as dataframes\n",
    "train_df = datasets['train'].to_pandas()\n",
    "validate_df = datasets['validation'].to_panda"
   ]
  },
  {
   "cell_type": "code",
   "execution_count": 6,
   "metadata": {},
   "outputs": [
    {
     "data": {
      "text/plain": [
       "0    50000\n",
       "1    50000\n",
       "Name: label, dtype: int64"
      ]
     },
     "execution_count": 6,
     "metadata": {},
     "output_type": "execute_result"
    }
   ],
   "source": [
    "# view training dataset\n",
    "print(\"train_df Info:\")\n",
    "print(train_df.info())\n",
    "print(\"\\ntrain_df Value Counts\")\n",
    "print(train_df['label'].value_counts())"
   ]
  },
  {
   "cell_type": "code",
   "execution_count": null,
   "metadata": {},
   "outputs": [],
   "source": [
    "# view validation dataset\n",
    "print(\"validate_df Info:\")\n",
    "print(validate_df.info())\n",
    "print(\"\\n validate_df Value Counts\")\n",
    "print(validate_df['label'].value_counts())"
   ]
  },
  {
   "cell_type": "markdown",
   "metadata": {},
   "source": [
    "## Preprocess"
   ]
  },
  {
   "cell_type": "code",
   "execution_count": 8,
   "metadata": {},
   "outputs": [],
   "source": [
    "train_token_ids, train_attention_masks = encode_text(train_df.text.values)\n",
    "validate_token_ids, validate_attention_masks = encode_text(validate_df.text.values)"
   ]
  },
  {
   "cell_type": "code",
   "execution_count": null,
   "metadata": {},
   "outputs": [],
   "source": [
    "train_features = []\n",
    "for i in range(len(train_token_ids)):\n",
    "    train_features.append({'label': train_df.label.values[i], \n",
    "                           'input_ids': train_token_ids[i], \n",
    "                           'attention_mask':train_attention_masks[i]})\n",
    "\n",
    "validate_features = []\n",
    "for i in range(len(validate_token_ids)):\n",
    "    validate_features.append({'label': validate_df.label.values[i], \n",
    "                              'input_ids': validate_token_ids[i],\n",
    "                              'attention_mask':validate_attention_masks[i]})"
   ]
  },
  {
   "cell_type": "markdown",
   "metadata": {},
   "source": [
    "## Data Split\n",
    "We split the dataset into train (80%) and validation (20%) sets, and wrap them around a torch.utils.data.DataLoader object."
   ]
  },
  {
   "cell_type": "code",
   "execution_count": 9,
   "metadata": {},
   "outputs": [],
   "source": [
    "# Prepare DataLoader\n",
    "train_dataloader = DataLoader(\n",
    "            train_features,\n",
    "            sampler = RandomSampler(train_features),\n",
    "            batch_size = params.batch_size,\n",
    "            worker_init_fn=seed_worker,\n",
    "            generator=g,\n",
    "            collate_fn=seq_class_collate\n",
    "        )\n",
    "\n",
    "validation_dataloader = DataLoader(\n",
    "            validate_features,\n",
    "            sampler = RandomSampler(validate_features),\n",
    "            batch_size = params.batch_size,\n",
    "            worker_init_fn=seed_worker,\n",
    "            generator=g,\n",
    "            collate_fn=seq_class_collate\n",
    "        )"
   ]
  },
  {
   "cell_type": "markdown",
   "metadata": {},
   "source": [
    "## Train"
   ]
  },
  {
   "cell_type": "markdown",
   "metadata": {},
   "source": [
    "Download transformers.RobertaForSequenceClassificatio, which is a RoBERTa model with a linear layer for sentence classification (or regression) on top of the pooled output:"
   ]
  },
  {
   "cell_type": "code",
   "execution_count": 10,
   "metadata": {},
   "outputs": [
    {
     "data": {
      "text/plain": [
       "==============================================================================================================\n",
       "Layer (type:depth-idx)                                       Output Shape              Param #\n",
       "==============================================================================================================\n",
       "RobertaForSequenceClassification                             [1, 2]                    --\n",
       "├─RobertaModel: 1-1                                          [1, 512, 768]             --\n",
       "│    └─RobertaEmbeddings: 2-1                                [1, 512, 768]             --\n",
       "│    │    └─Embedding: 3-1                                   [1, 512, 768]             38,603,520\n",
       "│    │    └─Embedding: 3-2                                   [1, 512, 768]             768\n",
       "│    │    └─Embedding: 3-3                                   [1, 512, 768]             394,752\n",
       "│    │    └─LayerNorm: 3-4                                   [1, 512, 768]             1,536\n",
       "│    │    └─Dropout: 3-5                                     [1, 512, 768]             --\n",
       "│    └─RobertaEncoder: 2-2                                   [1, 512, 768]             --\n",
       "│    │    └─ModuleList: 3-6                                  --                        85,054,464\n",
       "├─RobertaClassificationHead: 1-2                             [1, 2]                    --\n",
       "│    └─Dropout: 2-3                                          [1, 768]                  --\n",
       "│    └─Linear: 2-4                                           [1, 768]                  590,592\n",
       "│    └─Dropout: 2-5                                          [1, 768]                  --\n",
       "│    └─Linear: 2-6                                           [1, 2]                    1,538\n",
       "==============================================================================================================\n",
       "Total params: 124,647,170\n",
       "Trainable params: 124,647,170\n",
       "Non-trainable params: 0\n",
       "Total mult-adds (M): 124.65\n",
       "==============================================================================================================\n",
       "Input size (MB): 0.00\n",
       "Forward/backward pass size (MB): 427.83\n",
       "Params size (MB): 498.59\n",
       "Estimated Total Size (MB): 926.42\n",
       "=============================================================================================================="
      ]
     },
     "execution_count": 10,
     "metadata": {},
     "output_type": "execute_result"
    }
   ],
   "source": [
    "# Load the RobertaForSequenceClassification model\n",
    "model = RobertaForSequenceClassification.from_pretrained('roberta-base',\n",
    "                                                         num_labels = params.num_labels,\n",
    "                                                         output_attentions = False,\n",
    "                                                         output_hidden_states = False,\n",
    "                                                         )\n",
    "\n",
    "from torchinfo import summary\n",
    "summary(model, input_size=(1, 512), dtypes=['torch.IntTensor'])"
   ]
  },
  {
   "cell_type": "markdown",
   "metadata": {},
   "source": [
    "Set model to device, initialize trainer"
   ]
  },
  {
   "cell_type": "code",
   "execution_count": 11,
   "metadata": {},
   "outputs": [
    {
     "name": "stdout",
     "output_type": "stream",
     "text": [
      "Trained Dataset: data/SARC/SARC_preped_sampled_train.csv\n",
      "Device: mps\n"
     ]
    }
   ],
   "source": [
    "model.to(params.device)\n",
    "print(f\"Device: {params.device}\")\n",
    "\n",
    "optimizer = torch.optim.Adam(params=model.parameters(), \n",
    "                             lr=params.learning_rate,\n",
    "                             weight_decay=params.weight_decay) #roberta\n",
    "\n",
    "trainer = Trainer(model=model,\n",
    "                  device=params.device,\n",
    "                  tokenizer=params.tokenizer,\n",
    "                  train_dataloader=train_dataloader,\n",
    "                  validation_dataloader=validation_dataloader,\n",
    "                  epochs=params.epochs,\n",
    "                  optimizer=optimizer,\n",
    "                  val_loss_fn=params.val_loss_fn,\n",
    "                  num_labels=params.num_labels,\n",
    "                  output_dir=params.output_dir,\n",
    "                  save_freq=params.save_freq,\n",
    "                  checkpoint_freq=params.checkpoint_freq)\n",
    "\n",
    "output_parameters()"
   ]
  },
  {
   "cell_type": "markdown",
   "metadata": {},
   "source": [
    "Fit the model to our training data."
   ]
  },
  {
   "cell_type": "code",
   "execution_count": 12,
   "metadata": {},
   "outputs": [
    {
     "name": "stderr",
     "output_type": "stream",
     "text": [
      "Epoch 1:   0%|          | 0/5000 [00:00<?, ?batch/s]/Users/jarradjinx/opt/anaconda3/envs/itesd_env/lib/python3.9/site-packages/transformers/models/roberta/modeling_roberta.py:1570: UserWarning: The operator 'aten::cumsum.out' is not currently supported on the MPS backend and will fall back to run on the CPU. This may have performance implications. (Triggered internally at /Users/runner/work/pytorch/pytorch/pytorch/aten/src/ATen/mps/MPSFallback.mm:11.)\n",
      "  incremental_indices = (torch.cumsum(mask, dim=1).type_as(mask) + past_key_values_length) * mask\n",
      "Epoch 1: 100%|██████████| 5000/5000 [1:49:20<00:00,  1.31s/batch]\n",
      "\t Validation 1249: 100%|██████████| 1250/1250 [08:19<00:00,  2.50batch/s]\n"
     ]
    },
    {
     "name": "stdout",
     "output_type": "stream",
     "text": [
      "\t - Train loss: 0.552180\n",
      "\t - Validation Loss: 0.507575\n",
      "\t - Validation Accuracy: 0.746200\n",
      "\t - Validation F1: 0.711028\n",
      "\t - Validation Recall: 0.671129\n",
      "\t - Validation Precision: 0.789116\n",
      "\t * Model @ epoch 1 saved to model_saves/intermediate_SARC_01/E01_A0.75_F0.71\n"
     ]
    },
    {
     "name": "stderr",
     "output_type": "stream",
     "text": [
      "Epoch 2: 100%|██████████| 5000/5000 [1:48:42<00:00,  1.30s/batch]\n",
      "\t Validation 1249: 100%|██████████| 1250/1250 [08:20<00:00,  2.50batch/s]\n"
     ]
    },
    {
     "name": "stdout",
     "output_type": "stream",
     "text": [
      "\t - Train loss: 0.478418\n",
      "\t - Validation Loss: 0.511777\n",
      "\t - Validation Accuracy: 0.754750\n",
      "\t - Validation F1: 0.725020\n",
      "\t - Validation Recall: 0.696219\n",
      "\t - Validation Precision: 0.788127\n",
      "\t * Model @ epoch 2 saved to model_saves/intermediate_SARC_01/E02_A0.75_F0.73\n"
     ]
    },
    {
     "name": "stderr",
     "output_type": "stream",
     "text": [
      "Epoch 3: 100%|██████████| 5000/5000 [1:49:55<00:00,  1.32s/batch]\n",
      "\t Validation 1249: 100%|██████████| 1250/1250 [08:23<00:00,  2.48batch/s]\n"
     ]
    },
    {
     "name": "stdout",
     "output_type": "stream",
     "text": [
      "\t - Train loss: 0.420092\n",
      "\t - Validation Loss: 0.527644\n",
      "\t - Validation Accuracy: 0.756500\n",
      "\t - Validation F1: 0.731763\n",
      "\t - Validation Recall: 0.712443\n",
      "\t - Validation Precision: 0.780065\n",
      "\t * Model @ epoch 3 saved to model_saves/intermediate_SARC_01/E03_A0.76_F0.73\n"
     ]
    },
    {
     "name": "stderr",
     "output_type": "stream",
     "text": [
      "Epoch 4: 100%|██████████| 5000/5000 [1:50:16<00:00,  1.32s/batch]\n",
      "\t Validation 1249: 100%|██████████| 1250/1250 [08:21<00:00,  2.49batch/s]\n"
     ]
    },
    {
     "name": "stdout",
     "output_type": "stream",
     "text": [
      "\t - Train loss: 0.354929\n",
      "\t - Validation Loss: 0.561886\n",
      "\t - Validation Accuracy: 0.753000\n",
      "\t - Validation F1: 0.740327\n",
      "\t - Validation Recall: 0.755949\n",
      "\t - Validation Precision: 0.749303\n",
      "\t * Model @ epoch 4 saved to model_saves/intermediate_SARC_01/E04_A0.75_F0.74\n"
     ]
    },
    {
     "name": "stderr",
     "output_type": "stream",
     "text": [
      "Epoch 5: 100%|██████████| 5000/5000 [1:48:57<00:00,  1.31s/batch]\n",
      "\t Validation 1249: 100%|██████████| 1250/1250 [08:19<00:00,  2.50batch/s]\n"
     ]
    },
    {
     "name": "stdout",
     "output_type": "stream",
     "text": [
      "\t - Train loss: 0.288942\n",
      "\t - Validation Loss: 0.657629\n",
      "\t - Validation Accuracy: 0.751000\n",
      "\t - Validation F1: 0.734821\n",
      "\t - Validation Recall: 0.742193\n",
      "\t - Validation Precision: 0.754510\n",
      "\t * Model @ epoch 5 saved to model_saves/intermediate_SARC_01/E05_A0.75_F0.73\n"
     ]
    },
    {
     "name": "stderr",
     "output_type": "stream",
     "text": [
      "Epoch 6: 100%|██████████| 5000/5000 [1:48:54<00:00,  1.31s/batch]\n",
      "\t Validation 1249: 100%|██████████| 1250/1250 [08:21<00:00,  2.49batch/s]\n"
     ]
    },
    {
     "name": "stdout",
     "output_type": "stream",
     "text": [
      "\t - Train loss: 0.237295\n",
      "\t - Validation Loss: 0.722420\n",
      "\t - Validation Accuracy: 0.745850\n",
      "\t - Validation F1: 0.725334\n",
      "\t - Validation Recall: 0.720531\n",
      "\t - Validation Precision: 0.758503\n",
      "\t * Model @ epoch 6 saved to model_saves/intermediate_SARC_01/E06_A0.75_F0.73\n"
     ]
    },
    {
     "name": "stderr",
     "output_type": "stream",
     "text": [
      "Epoch 7: 100%|██████████| 5000/5000 [1:48:48<00:00,  1.31s/batch]\n",
      "\t Validation 1249: 100%|██████████| 1250/1250 [08:19<00:00,  2.50batch/s]\n"
     ]
    },
    {
     "name": "stdout",
     "output_type": "stream",
     "text": [
      "\t - Train loss: 0.189573\n",
      "\t - Validation Loss: 0.766260\n",
      "\t - Validation Accuracy: 0.747050\n",
      "\t - Validation F1: 0.732267\n",
      "\t - Validation Recall: 0.740162\n",
      "\t - Validation Precision: 0.750637\n",
      "\t * Model @ epoch 7 saved to model_saves/intermediate_SARC_01/E07_A0.75_F0.73\n"
     ]
    },
    {
     "name": "stderr",
     "output_type": "stream",
     "text": [
      "Epoch 8: 100%|██████████| 5000/5000 [1:48:48<00:00,  1.31s/batch]\n",
      "\t Validation 1249: 100%|██████████| 1250/1250 [08:21<00:00,  2.49batch/s]\n"
     ]
    },
    {
     "name": "stdout",
     "output_type": "stream",
     "text": [
      "\t - Train loss: 0.154791\n",
      "\t - Validation Loss: 0.861222\n",
      "\t - Validation Accuracy: 0.739600\n",
      "\t - Validation F1: 0.729675\n",
      "\t - Validation Recall: 0.750797\n",
      "\t - Validation Precision: 0.733539\n",
      "\t * Model @ epoch 8 saved to model_saves/intermediate_SARC_01/E08_A0.74_F0.73\n"
     ]
    },
    {
     "name": "stderr",
     "output_type": "stream",
     "text": [
      "Epoch 9: 100%|██████████| 5000/5000 [1:48:52<00:00,  1.31s/batch]\n",
      "\t Validation 1249: 100%|██████████| 1250/1250 [08:21<00:00,  2.49batch/s]\n"
     ]
    },
    {
     "name": "stdout",
     "output_type": "stream",
     "text": [
      "\t - Train loss: 0.130389\n",
      "\t - Validation Loss: 0.927679\n",
      "\t - Validation Accuracy: 0.745100\n",
      "\t - Validation F1: 0.737106\n",
      "\t - Validation Recall: 0.762999\n",
      "\t - Validation Precision: 0.737391\n",
      "\t * Model @ epoch 9 saved to model_saves/intermediate_SARC_01/E09_A0.75_F0.74\n"
     ]
    },
    {
     "name": "stderr",
     "output_type": "stream",
     "text": [
      "Epoch 10: 100%|██████████| 5000/5000 [1:49:23<00:00,  1.31s/batch]\n",
      "\t Validation 1249: 100%|██████████| 1250/1250 [08:30<00:00,  2.45batch/s]\n"
     ]
    },
    {
     "name": "stdout",
     "output_type": "stream",
     "text": [
      "\t - Train loss: 0.109669\n",
      "\t - Validation Loss: 1.007827\n",
      "\t - Validation Accuracy: 0.741000\n",
      "\t - Validation F1: 0.727307\n",
      "\t - Validation Recall: 0.740828\n",
      "\t - Validation Precision: 0.739979\n",
      "\t * Model @ epoch 10 saved to model_saves/intermediate_SARC_01/E10_A0.74_F0.73\n"
     ]
    }
   ],
   "source": [
    "trainer.fit()"
   ]
  },
  {
   "cell_type": "code",
   "execution_count": null,
   "metadata": {},
   "outputs": [],
   "source": []
  }
 ],
 "metadata": {
  "kernelspec": {
   "display_name": "Python 3.9.13 ('itesd_env')",
   "language": "python",
   "name": "python3"
  },
  "language_info": {
   "codemirror_mode": {
    "name": "ipython",
    "version": 3
   },
   "file_extension": ".py",
   "mimetype": "text/x-python",
   "name": "python",
   "nbconvert_exporter": "python",
   "pygments_lexer": "ipython3",
   "version": "3.9.13"
  },
  "orig_nbformat": 4,
  "vscode": {
   "interpreter": {
    "hash": "3c42b54925bdca82cdb5059acc0a21648e00763ff265e64872b54aa656b5d9d8"
   }
  }
 },
 "nbformat": 4,
 "nbformat_minor": 2
}
