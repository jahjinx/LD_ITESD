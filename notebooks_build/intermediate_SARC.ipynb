{
 "cells": [
  {
   "cell_type": "markdown",
   "metadata": {},
   "source": [
    "# intermediate_SARC\n",
    "This notebook takes our custom XED binary datas_et and trains an intermediate model."
   ]
  },
  {
   "cell_type": "markdown",
   "metadata": {},
   "source": [
    "## Imports & Settings"
   ]
  },
  {
   "cell_type": "markdown",
   "metadata": {},
   "source": [
    "First, update working directory to parent so that we may use our custom functions"
   ]
  },
  {
   "cell_type": "code",
   "execution_count": 1,
   "metadata": {},
   "outputs": [],
   "source": [
    "import os\n",
    "os.chdir('..')\n",
    "# os.getcwd( )"
   ]
  },
  {
   "cell_type": "code",
   "execution_count": 2,
   "metadata": {},
   "outputs": [],
   "source": [
    "import params\n",
    "from utils import *\n",
    "from trainer import *\n",
    "\n",
    "import numpy as np\n",
    "import pandas as pd\n",
    "from datasets import load_from_disk\n",
    "\n",
    "from transformers import RobertaTokenizer, RobertaForSequenceClassification\n",
    "from torch.utils.data import TensorDataset, DataLoader, RandomSampler\n",
    "\n",
    "# suppress model warning\n",
    "from transformers import logging\n",
    "logging.set_verbosity_error()\n",
    "\n",
    "# set logging level\n",
    "import logging\n",
    "logging.basicConfig(format='%(message)s', level=logging.INFO)"
   ]
  },
  {
   "cell_type": "code",
   "execution_count": 3,
   "metadata": {},
   "outputs": [
    {
     "name": "stdout",
     "output_type": "stream",
     "text": [
      "We're Armed: macOS-13.1-arm64-i386-64bit\n"
     ]
    }
   ],
   "source": [
    "# set general seeds\n",
    "set_seeds(1)\n",
    "\n",
    "# set dataloader generator seed\n",
    "g = torch.Generator()\n",
    "g.manual_seed(1)\n",
    "\n",
    "# set params for this model\n",
    "params.num_labels = 2\n",
    "params.output_dir = \"model_saves/intermediate_SARC_01\"\n",
    "params.dataset_path = \"data/inter_SARC/itesd_sarc_balanced.hf\"\n",
    "\n",
    "# Ensure we're on an ARM environment if necessary.\n",
    "platform_check()"
   ]
  },
  {
   "cell_type": "markdown",
   "metadata": {},
   "source": [
    "## Load Data"
   ]
  },
  {
   "cell_type": "markdown",
   "metadata": {},
   "source": [
    "### SARC"
   ]
  },
  {
   "cell_type": "code",
   "execution_count": 4,
   "metadata": {},
   "outputs": [
    {
     "data": {
      "text/plain": [
       "DatasetDict({\n",
       "    train: Dataset({\n",
       "        features: ['label', 'text', 'author', 'subreddit', 'score', 'ups', 'downs', 'date', 'created_utc', 'parent_comment', 'num_word_text'],\n",
       "        num_rows: 80000\n",
       "    })\n",
       "    validation: Dataset({\n",
       "        features: ['label', 'text', 'author', 'subreddit', 'score', 'ups', 'downs', 'date', 'created_utc', 'parent_comment', 'num_word_text'],\n",
       "        num_rows: 10000\n",
       "    })\n",
       "    test: Dataset({\n",
       "        features: ['label', 'text', 'author', 'subreddit', 'score', 'ups', 'downs', 'date', 'created_utc', 'parent_comment', 'num_word_text'],\n",
       "        num_rows: 10000\n",
       "    })\n",
       "})"
      ]
     },
     "execution_count": 4,
     "metadata": {},
     "output_type": "execute_result"
    }
   ],
   "source": [
    "datasets = load_from_disk(params.dataset_path)\n",
    "datasets"
   ]
  },
  {
   "cell_type": "code",
   "execution_count": 5,
   "metadata": {},
   "outputs": [],
   "source": [
    "# we will need to view and prep the datasets\n",
    "# this is more easily done as dataframes\n",
    "train_df = datasets['train'].to_pandas()\n",
    "validate_df = datasets['validation'].to_pandas()"
   ]
  },
  {
   "cell_type": "code",
   "execution_count": 6,
   "metadata": {},
   "outputs": [
    {
     "name": "stdout",
     "output_type": "stream",
     "text": [
      "train_df Info:\n",
      "<class 'pandas.core.frame.DataFrame'>\n",
      "RangeIndex: 80000 entries, 0 to 79999\n",
      "Data columns (total 11 columns):\n",
      " #   Column          Non-Null Count  Dtype \n",
      "---  ------          --------------  ----- \n",
      " 0   label           80000 non-null  int64 \n",
      " 1   text            80000 non-null  object\n",
      " 2   author          80000 non-null  object\n",
      " 3   subreddit       80000 non-null  object\n",
      " 4   score           80000 non-null  int64 \n",
      " 5   ups             80000 non-null  int64 \n",
      " 6   downs           80000 non-null  int64 \n",
      " 7   date            80000 non-null  object\n",
      " 8   created_utc     80000 non-null  object\n",
      " 9   parent_comment  80000 non-null  object\n",
      " 10  num_word_text   80000 non-null  int64 \n",
      "dtypes: int64(5), object(6)\n",
      "memory usage: 6.7+ MB\n",
      "None\n",
      "\n",
      "train_df Value Counts\n",
      "0    40000\n",
      "1    40000\n",
      "Name: label, dtype: int64\n"
     ]
    }
   ],
   "source": [
    "# view training dataset\n",
    "print(\"train_df Info:\")\n",
    "print(train_df.info())\n",
    "print(\"\\ntrain_df Value Counts\")\n",
    "print(train_df['label'].value_counts())"
   ]
  },
  {
   "cell_type": "code",
   "execution_count": 7,
   "metadata": {},
   "outputs": [
    {
     "name": "stdout",
     "output_type": "stream",
     "text": [
      "validate_df Info:\n",
      "<class 'pandas.core.frame.DataFrame'>\n",
      "RangeIndex: 10000 entries, 0 to 9999\n",
      "Data columns (total 11 columns):\n",
      " #   Column          Non-Null Count  Dtype \n",
      "---  ------          --------------  ----- \n",
      " 0   label           10000 non-null  int64 \n",
      " 1   text            10000 non-null  object\n",
      " 2   author          10000 non-null  object\n",
      " 3   subreddit       10000 non-null  object\n",
      " 4   score           10000 non-null  int64 \n",
      " 5   ups             10000 non-null  int64 \n",
      " 6   downs           10000 non-null  int64 \n",
      " 7   date            10000 non-null  object\n",
      " 8   created_utc     10000 non-null  object\n",
      " 9   parent_comment  10000 non-null  object\n",
      " 10  num_word_text   10000 non-null  int64 \n",
      "dtypes: int64(5), object(6)\n",
      "memory usage: 859.5+ KB\n",
      "None\n",
      "\n",
      " validate_df Value Counts\n",
      "1    5006\n",
      "0    4994\n",
      "Name: label, dtype: int64\n"
     ]
    }
   ],
   "source": [
    "# view validation dataset\n",
    "print(\"validate_df Info:\")\n",
    "print(validate_df.info())\n",
    "print(\"\\n validate_df Value Counts\")\n",
    "print(validate_df['label'].value_counts())"
   ]
  },
  {
   "cell_type": "markdown",
   "metadata": {},
   "source": [
    "## Preprocess"
   ]
  },
  {
   "cell_type": "code",
   "execution_count": 8,
   "metadata": {},
   "outputs": [],
   "source": [
    "train_token_ids, train_attention_masks = encode_text(train_df.text.values)\n",
    "validate_token_ids, validate_attention_masks = encode_text(validate_df.text.values)"
   ]
  },
  {
   "cell_type": "code",
   "execution_count": 9,
   "metadata": {},
   "outputs": [],
   "source": [
    "train_features = []\n",
    "for i in range(len(train_token_ids)):\n",
    "    train_features.append({'label': train_df.label.values[i], \n",
    "                           'input_ids': train_token_ids[i], \n",
    "                           'attention_mask':train_attention_masks[i]})\n",
    "\n",
    "validate_features = []\n",
    "for i in range(len(validate_token_ids)):\n",
    "    validate_features.append({'label': validate_df.label.values[i], \n",
    "                              'input_ids': validate_token_ids[i],\n",
    "                              'attention_mask':validate_attention_masks[i]})"
   ]
  },
  {
   "cell_type": "markdown",
   "metadata": {},
   "source": [
    "## Data Split\n",
    "We split the dataset into train (80%) and validation (20%) sets, and wrap them around a torch.utils.data.DataLoader object."
   ]
  },
  {
   "cell_type": "code",
   "execution_count": 10,
   "metadata": {},
   "outputs": [],
   "source": [
    "# Prepare DataLoader\n",
    "train_dataloader = DataLoader(\n",
    "            train_features,\n",
    "            sampler = RandomSampler(train_features),\n",
    "            batch_size = params.batch_size,\n",
    "            worker_init_fn=seed_worker,\n",
    "            generator=g,\n",
    "            collate_fn=collate\n",
    "        )\n",
    "\n",
    "validation_dataloader = DataLoader(\n",
    "            validate_features,\n",
    "            sampler = RandomSampler(validate_features),\n",
    "            batch_size = params.batch_size,\n",
    "            worker_init_fn=seed_worker,\n",
    "            generator=g,\n",
    "            collate_fn=collate\n",
    "        )"
   ]
  },
  {
   "cell_type": "markdown",
   "metadata": {},
   "source": [
    "## Train"
   ]
  },
  {
   "cell_type": "markdown",
   "metadata": {},
   "source": [
    "Download transformers.RobertaForSequenceClassificatio, which is a RoBERTa model with a linear layer for sentence classification (or regression) on top of the pooled output:"
   ]
  },
  {
   "cell_type": "code",
   "execution_count": 11,
   "metadata": {},
   "outputs": [
    {
     "data": {
      "text/plain": [
       "==============================================================================================================\n",
       "Layer (type:depth-idx)                                       Output Shape              Param #\n",
       "==============================================================================================================\n",
       "RobertaForSequenceClassification                             [1, 2]                    --\n",
       "├─RobertaModel: 1-1                                          [1, 512, 768]             --\n",
       "│    └─RobertaEmbeddings: 2-1                                [1, 512, 768]             --\n",
       "│    │    └─Embedding: 3-1                                   [1, 512, 768]             38,603,520\n",
       "│    │    └─Embedding: 3-2                                   [1, 512, 768]             768\n",
       "│    │    └─Embedding: 3-3                                   [1, 512, 768]             394,752\n",
       "│    │    └─LayerNorm: 3-4                                   [1, 512, 768]             1,536\n",
       "│    │    └─Dropout: 3-5                                     [1, 512, 768]             --\n",
       "│    └─RobertaEncoder: 2-2                                   [1, 512, 768]             --\n",
       "│    │    └─ModuleList: 3-6                                  --                        85,054,464\n",
       "├─RobertaClassificationHead: 1-2                             [1, 2]                    --\n",
       "│    └─Dropout: 2-3                                          [1, 768]                  --\n",
       "│    └─Linear: 2-4                                           [1, 768]                  590,592\n",
       "│    └─Dropout: 2-5                                          [1, 768]                  --\n",
       "│    └─Linear: 2-6                                           [1, 2]                    1,538\n",
       "==============================================================================================================\n",
       "Total params: 124,647,170\n",
       "Trainable params: 124,647,170\n",
       "Non-trainable params: 0\n",
       "Total mult-adds (M): 124.65\n",
       "==============================================================================================================\n",
       "Input size (MB): 0.00\n",
       "Forward/backward pass size (MB): 427.83\n",
       "Params size (MB): 498.59\n",
       "Estimated Total Size (MB): 926.42\n",
       "=============================================================================================================="
      ]
     },
     "execution_count": 11,
     "metadata": {},
     "output_type": "execute_result"
    }
   ],
   "source": [
    "# Load the RobertaForSequenceClassification model\n",
    "model = RobertaForSequenceClassification.from_pretrained('roberta-base',\n",
    "                                                         num_labels = params.num_labels,\n",
    "                                                         output_attentions = False,\n",
    "                                                         output_hidden_states = False,\n",
    "                                                         )\n",
    "\n",
    "from torchinfo import summary\n",
    "summary(model, input_size=(1, 512), dtypes=['torch.IntTensor'])"
   ]
  },
  {
   "cell_type": "markdown",
   "metadata": {},
   "source": [
    "Set model to device, initialize trainer"
   ]
  },
  {
   "cell_type": "code",
   "execution_count": 12,
   "metadata": {},
   "outputs": [
    {
     "name": "stdout",
     "output_type": "stream",
     "text": [
      "Device: mps\n",
      "\n",
      "          Training Dataset: data/inter_SARC/itesd_sarc_balanced.hf\n",
      "          Number of Labels: 2\n",
      "          Batch Size: 16\n",
      "          Learning Rate: 1e-05\n",
      "          Weight Decay: 0\n",
      "          Epochs: 10\n",
      "          Output Directory: model_saves/intermediate_SARC_01\n",
      "          Save Frequency: 1\n",
      "          Checkpoint Frequency: 1\n",
      "          Max Length: 256\n",
      "          \n"
     ]
    }
   ],
   "source": [
    "model.to(params.device)\n",
    "print(f\"Device: {params.device}\")\n",
    "\n",
    "optimizer = torch.optim.Adam(params=model.parameters(), \n",
    "                             lr=params.learning_rate,\n",
    "                             weight_decay=params.weight_decay) #roberta\n",
    "\n",
    "trainer = Trainer(model=model,\n",
    "                  device=params.device,\n",
    "                  tokenizer=params.tokenizer,\n",
    "                  train_dataloader=train_dataloader,\n",
    "                  validation_dataloader=validation_dataloader,\n",
    "                  epochs=params.epochs,\n",
    "                  optimizer=optimizer,\n",
    "                  val_loss_fn=params.val_loss_fn,\n",
    "                  num_labels=params.num_labels,\n",
    "                  output_dir=params.output_dir,\n",
    "                  save_freq=params.save_freq,\n",
    "                  checkpoint_freq=params.checkpoint_freq)\n",
    "\n",
    "output_parameters()"
   ]
  },
  {
   "cell_type": "markdown",
   "metadata": {},
   "source": [
    "Fit the model to our training data."
   ]
  },
  {
   "cell_type": "code",
   "execution_count": 13,
   "metadata": {},
   "outputs": [
    {
     "name": "stderr",
     "output_type": "stream",
     "text": [
      "Epoch 1: 100%|██████████| 5000/5000 [27:17<00:00,  3.05batch/s]  \n",
      "\t Validation 624: 100%|██████████| 625/625 [00:52<00:00, 11.82batch/s]\n",
      "\n",
      " \t - Train loss: 0.553480\n",
      "\t - Validation Loss: 0.507682\n",
      "\t - Validation Accuracy: 0.752300\n",
      "\t - Validation F1: 0.727120\n",
      "\t - Validation Recall: 0.707129\n",
      "\t - Validation Precision: 0.776271 \n",
      "\n",
      "\t * Model @ epoch 1 saved to model_saves/intermediate_SARC_01/E01_A0.75_F0.73\n",
      "\t * Model checkpoint saved to model_saves/intermediate_SARC_01/E01_A0.75_F0.73/checkpoint.pt\n",
      "\n",
      "Epoch 2: 100%|██████████| 5000/5000 [25:07<00:00,  3.32batch/s]  \n",
      "\t Validation 624: 100%|██████████| 625/625 [00:50<00:00, 12.46batch/s]\n",
      "\n",
      " \t - Train loss: 0.480337\n",
      "\t - Validation Loss: 0.497933\n",
      "\t - Validation Accuracy: 0.756200\n",
      "\t - Validation F1: 0.748114\n",
      "\t - Validation Recall: 0.769578\n",
      "\t - Validation Precision: 0.751305 \n",
      "\n",
      "\t * Model @ epoch 2 saved to model_saves/intermediate_SARC_01/E02_A0.76_F0.75\n",
      "\t * Model checkpoint saved to model_saves/intermediate_SARC_01/E02_A0.76_F0.75/checkpoint.pt\n",
      "\n",
      "Epoch 3: 100%|██████████| 5000/5000 [26:23<00:00,  3.16batch/s]  \n",
      "\t Validation 624: 100%|██████████| 625/625 [00:50<00:00, 12.30batch/s]\n",
      "\n",
      " \t - Train loss: 0.417137\n",
      "\t - Validation Loss: 0.524495\n",
      "\t - Validation Accuracy: 0.756700\n",
      "\t - Validation F1: 0.743141\n",
      "\t - Validation Recall: 0.749216\n",
      "\t - Validation Precision: 0.762820 \n",
      "\n",
      "\t * Model @ epoch 3 saved to model_saves/intermediate_SARC_01/E03_A0.76_F0.74\n",
      "\t * Model checkpoint saved to model_saves/intermediate_SARC_01/E03_A0.76_F0.74/checkpoint.pt\n",
      "\n",
      "Epoch 4: 100%|██████████| 5000/5000 [25:26<00:00,  3.27batch/s] \n",
      "\t Validation 624: 100%|██████████| 625/625 [00:49<00:00, 12.57batch/s]\n",
      "\n",
      " \t - Train loss: 0.350467\n",
      "\t - Validation Loss: 0.564954\n",
      "\t - Validation Accuracy: 0.754500\n",
      "\t - Validation F1: 0.742897\n",
      "\t - Validation Recall: 0.751021\n",
      "\t - Validation Precision: 0.761656 \n",
      "\n",
      "\t * Model @ epoch 4 saved to model_saves/intermediate_SARC_01/E04_A0.75_F0.74\n",
      "\t * Model checkpoint saved to model_saves/intermediate_SARC_01/E04_A0.75_F0.74/checkpoint.pt\n",
      "\n",
      "Epoch 5: 100%|██████████| 5000/5000 [25:01<00:00,  3.33batch/s] \n",
      "\t Validation 624: 100%|██████████| 625/625 [00:49<00:00, 12.66batch/s]\n",
      "\n",
      " \t - Train loss: 0.286711\n",
      "\t - Validation Loss: 0.649076\n",
      "\t - Validation Accuracy: 0.755800\n",
      "\t - Validation F1: 0.736355\n",
      "\t - Validation Recall: 0.729238\n",
      "\t - Validation Precision: 0.769288 \n",
      "\n",
      "\t * Model @ epoch 5 saved to model_saves/intermediate_SARC_01/E05_A0.76_F0.74\n",
      "\t * Model checkpoint saved to model_saves/intermediate_SARC_01/E05_A0.76_F0.74/checkpoint.pt\n",
      "\n",
      "Epoch 6: 100%|██████████| 5000/5000 [24:50<00:00,  3.35batch/s] \n",
      "\t Validation 624: 100%|██████████| 625/625 [00:49<00:00, 12.72batch/s]\n",
      "\n",
      " \t - Train loss: 0.230201\n",
      "\t - Validation Loss: 0.731930\n",
      "\t - Validation Accuracy: 0.748600\n",
      "\t - Validation F1: 0.725136\n",
      "\t - Validation Recall: 0.713860\n",
      "\t - Validation Precision: 0.767037 \n",
      "\n",
      "\t * Model @ epoch 6 saved to model_saves/intermediate_SARC_01/E06_A0.75_F0.73\n",
      "\t * Model checkpoint saved to model_saves/intermediate_SARC_01/E06_A0.75_F0.73/checkpoint.pt\n",
      "\n",
      "Epoch 7: 100%|██████████| 5000/5000 [54:20<00:00,  1.53batch/s]    \n",
      "\t Validation 624: 100%|██████████| 625/625 [00:50<00:00, 12.49batch/s]\n",
      "\n",
      " \t - Train loss: 0.186372\n",
      "\t - Validation Loss: 0.795462\n",
      "\t - Validation Accuracy: 0.751400\n",
      "\t - Validation F1: 0.737193\n",
      "\t - Validation Recall: 0.742912\n",
      "\t - Validation Precision: 0.758866 \n",
      "\n",
      "\t * Model @ epoch 7 saved to model_saves/intermediate_SARC_01/E07_A0.75_F0.74\n",
      "\t * Model checkpoint saved to model_saves/intermediate_SARC_01/E07_A0.75_F0.74/checkpoint.pt\n",
      "\n",
      "Epoch 8: 100%|██████████| 5000/5000 [25:47<00:00,  3.23batch/s] \n",
      "\t Validation 624: 100%|██████████| 625/625 [00:49<00:00, 12.69batch/s]\n",
      "\n",
      " \t - Train loss: 0.151965\n",
      "\t - Validation Loss: 0.872914\n",
      "\t - Validation Accuracy: 0.746600\n",
      "\t - Validation F1: 0.733817\n",
      "\t - Validation Recall: 0.741164\n",
      "\t - Validation Precision: 0.754752 \n",
      "\n",
      "\t * Model @ epoch 8 saved to model_saves/intermediate_SARC_01/E08_A0.75_F0.73\n",
      "\t * Model checkpoint saved to model_saves/intermediate_SARC_01/E08_A0.75_F0.73/checkpoint.pt\n",
      "\n",
      "Epoch 9: 100%|██████████| 5000/5000 [24:58<00:00,  3.34batch/s] \n",
      "\t Validation 624: 100%|██████████| 625/625 [00:49<00:00, 12.58batch/s]\n",
      "\n",
      " \t - Train loss: 0.126653\n",
      "\t - Validation Loss: 0.862469\n",
      "\t - Validation Accuracy: 0.747300\n",
      "\t - Validation F1: 0.733066\n",
      "\t - Validation Recall: 0.742833\n",
      "\t - Validation Precision: 0.747152 \n",
      "\n",
      "\t * Model @ epoch 9 saved to model_saves/intermediate_SARC_01/E09_A0.75_F0.73\n",
      "\t * Model checkpoint saved to model_saves/intermediate_SARC_01/E09_A0.75_F0.73/checkpoint.pt\n",
      "\n",
      "Epoch 10: 100%|██████████| 5000/5000 [25:00<00:00,  3.33batch/s]\n",
      "\t Validation 624: 100%|██████████| 625/625 [00:49<00:00, 12.69batch/s]\n",
      "\n",
      " \t - Train loss: 0.107192\n",
      "\t - Validation Loss: 1.000152\n",
      "\t - Validation Accuracy: 0.743600\n",
      "\t - Validation F1: 0.735861\n",
      "\t - Validation Recall: 0.762094\n",
      "\t - Validation Precision: 0.735555 \n",
      "\n",
      "\t * Model @ epoch 10 saved to model_saves/intermediate_SARC_01/E10_A0.74_F0.74\n",
      "\t * Model checkpoint saved to model_saves/intermediate_SARC_01/E10_A0.74_F0.74/checkpoint.pt\n",
      "\n"
     ]
    }
   ],
   "source": [
    "trainer.fit()"
   ]
  },
  {
   "cell_type": "code",
   "execution_count": null,
   "metadata": {},
   "outputs": [],
   "source": []
  }
 ],
 "metadata": {
  "kernelspec": {
   "display_name": "Python 3.9.13 ('itesd_env')",
   "language": "python",
   "name": "python3"
  },
  "language_info": {
   "codemirror_mode": {
    "name": "ipython",
    "version": 3
   },
   "file_extension": ".py",
   "mimetype": "text/x-python",
   "name": "python",
   "nbconvert_exporter": "python",
   "pygments_lexer": "ipython3",
   "version": "3.9.13"
  },
  "orig_nbformat": 4,
  "vscode": {
   "interpreter": {
    "hash": "3c42b54925bdca82cdb5059acc0a21648e00763ff265e64872b54aa656b5d9d8"
   }
  }
 },
 "nbformat": 4,
 "nbformat_minor": 2
}
