{
 "cells": [
  {
   "cell_type": "markdown",
   "metadata": {},
   "source": [
    "# control_iSarcasm\n",
    "This notebook trains our control model--a model that is only fine-tuned on our target task, iSarcasm."
   ]
  },
  {
   "cell_type": "markdown",
   "metadata": {},
   "source": [
    "## Imports & Settings"
   ]
  },
  {
   "cell_type": "markdown",
   "metadata": {},
   "source": [
    "First, update working directory to parent so that we may use our custom functions"
   ]
  },
  {
   "cell_type": "code",
   "execution_count": 1,
   "metadata": {},
   "outputs": [],
   "source": [
    "import os\n",
    "os.chdir('..')\n",
    "# os.getcwd( )"
   ]
  },
  {
   "cell_type": "code",
   "execution_count": 2,
   "metadata": {},
   "outputs": [],
   "source": [
    "import params\n",
    "from utils import *\n",
    "from trainer import *\n",
    "\n",
    "import numpy as np\n",
    "import pandas as pd\n",
    "from datasets import load_from_disk\n",
    "\n",
    "from transformers import RobertaTokenizer, RobertaForSequenceClassification\n",
    "from torch.utils.data import TensorDataset, DataLoader, RandomSampler\n",
    "\n",
    "# suppress model warning\n",
    "from transformers import logging\n",
    "logging.set_verbosity_error()\n",
    "\n",
    "# set logging level\n",
    "import logging\n",
    "logging.basicConfig(format='%(message)s', level=logging.INFO)"
   ]
  },
  {
   "cell_type": "code",
   "execution_count": 3,
   "metadata": {},
   "outputs": [
    {
     "name": "stdout",
     "output_type": "stream",
     "text": [
      "We're Armed: macOS-13.1-arm64-i386-64bit\n"
     ]
    }
   ],
   "source": [
    "# set general seeds\n",
    "set_seeds(1)\n",
    "\n",
    "# set dataloader generator seed\n",
    "g = torch.Generator()\n",
    "g.manual_seed(1)\n",
    "\n",
    "# set params for this model\n",
    "params.num_labels = 2\n",
    "params.output_dir = \"model_saves/control_iSarcasm_03\"\n",
    "params.dataset_path = \"data/target_iSarcasmEval/itesd_iSarcasmEval_balanced.hf\"\n",
    "\n",
    "# Ensure we're on an ARM environment if necessary.\n",
    "platform_check()"
   ]
  },
  {
   "cell_type": "markdown",
   "metadata": {},
   "source": [
    "## Load Data"
   ]
  },
  {
   "cell_type": "markdown",
   "metadata": {},
   "source": [
    "### iSarcasm"
   ]
  },
  {
   "cell_type": "code",
   "execution_count": 4,
   "metadata": {},
   "outputs": [
    {
     "data": {
      "text/plain": [
       "DatasetDict({\n",
       "    train: Dataset({\n",
       "        features: ['text', 'label'],\n",
       "        num_rows: 4266\n",
       "    })\n",
       "    validation: Dataset({\n",
       "        features: ['text', 'label'],\n",
       "        num_rows: 628\n",
       "    })\n",
       "    test: Dataset({\n",
       "        features: ['text', 'label'],\n",
       "        num_rows: 1400\n",
       "    })\n",
       "})"
      ]
     },
     "execution_count": 4,
     "metadata": {},
     "output_type": "execute_result"
    }
   ],
   "source": [
    "datasets = load_from_disk(params.dataset_path)\n",
    "datasets"
   ]
  },
  {
   "cell_type": "code",
   "execution_count": 5,
   "metadata": {},
   "outputs": [],
   "source": [
    "# we will need to view and prep the datasets\n",
    "# this is more easily done as dataframes\n",
    "train_df = datasets['train'].to_pandas()\n",
    "validate_df = datasets['validation'].to_pandas() "
   ]
  },
  {
   "cell_type": "code",
   "execution_count": 6,
   "metadata": {},
   "outputs": [
    {
     "name": "stdout",
     "output_type": "stream",
     "text": [
      "train_df Info:\n",
      "<class 'pandas.core.frame.DataFrame'>\n",
      "RangeIndex: 4266 entries, 0 to 4265\n",
      "Data columns (total 2 columns):\n",
      " #   Column  Non-Null Count  Dtype \n",
      "---  ------  --------------  ----- \n",
      " 0   text    4266 non-null   object\n",
      " 1   label   4266 non-null   int64 \n",
      "dtypes: int64(1), object(1)\n",
      "memory usage: 66.8+ KB\n",
      "None\n",
      "\n",
      "train_df Value Counts\n",
      "1    2133\n",
      "0    2133\n",
      "Name: label, dtype: int64\n"
     ]
    }
   ],
   "source": [
    "# view training dataset\n",
    "print(\"train_df Info:\")\n",
    "print(train_df.info())\n",
    "print(\"\\ntrain_df Value Counts\")\n",
    "print(train_df['label'].value_counts())"
   ]
  },
  {
   "cell_type": "code",
   "execution_count": 7,
   "metadata": {},
   "outputs": [
    {
     "name": "stdout",
     "output_type": "stream",
     "text": [
      "validate_df Info:\n",
      "<class 'pandas.core.frame.DataFrame'>\n",
      "RangeIndex: 628 entries, 0 to 627\n",
      "Data columns (total 2 columns):\n",
      " #   Column  Non-Null Count  Dtype \n",
      "---  ------  --------------  ----- \n",
      " 0   text    628 non-null    object\n",
      " 1   label   628 non-null    int64 \n",
      "dtypes: int64(1), object(1)\n",
      "memory usage: 9.9+ KB\n",
      "None\n",
      "\n",
      " validate_df Value Counts\n",
      "0    467\n",
      "1    161\n",
      "Name: label, dtype: int64\n"
     ]
    }
   ],
   "source": [
    "# view validation dataset\n",
    "print(\"validate_df Info:\")\n",
    "print(validate_df.info())\n",
    "print(\"\\n validate_df Value Counts\")\n",
    "print(validate_df['label'].value_counts())"
   ]
  },
  {
   "cell_type": "markdown",
   "metadata": {},
   "source": [
    "## Preprocess"
   ]
  },
  {
   "cell_type": "code",
   "execution_count": 8,
   "metadata": {},
   "outputs": [],
   "source": [
    "train_token_ids, train_attention_masks = encode_text(train_df.text.values)\n",
    "validate_token_ids, validate_attention_masks = encode_text(validate_df.text.values)"
   ]
  },
  {
   "cell_type": "code",
   "execution_count": 9,
   "metadata": {},
   "outputs": [],
   "source": [
    "train_features = []\n",
    "for i in range(len(train_token_ids)):\n",
    "    train_features.append({'label': train_df.label.values[i], \n",
    "                           'input_ids': train_token_ids[i], \n",
    "                           'attention_mask':train_attention_masks[i]})\n",
    "\n",
    "validate_features = []\n",
    "for i in range(len(validate_token_ids)):\n",
    "    validate_features.append({'label': validate_df.label.values[i], \n",
    "                              'input_ids': validate_token_ids[i],\n",
    "                              'attention_mask':validate_attention_masks[i]})"
   ]
  },
  {
   "cell_type": "markdown",
   "metadata": {},
   "source": [
    "## Data Split\n",
    "We split the dataset into train (80%) and validation (20%) sets, and wrap them around a torch.utils.data.DataLoader object."
   ]
  },
  {
   "cell_type": "code",
   "execution_count": 10,
   "metadata": {},
   "outputs": [],
   "source": [
    "# Prepare DataLoader\n",
    "train_dataloader = DataLoader(\n",
    "            train_features,\n",
    "            sampler = RandomSampler(train_features),\n",
    "            batch_size = params.batch_size,\n",
    "            worker_init_fn=seed_worker,\n",
    "            generator=g,\n",
    "            collate_fn=collate\n",
    "        )\n",
    "\n",
    "validation_dataloader = DataLoader(\n",
    "            validate_features,\n",
    "            sampler = RandomSampler(validate_features),\n",
    "            batch_size = params.batch_size,\n",
    "            worker_init_fn=seed_worker,\n",
    "            generator=g,\n",
    "            collate_fn=collate\n",
    "        )"
   ]
  },
  {
   "cell_type": "code",
   "execution_count": 11,
   "metadata": {},
   "outputs": [
    {
     "data": {
      "text/plain": [
       "[tensor([[    0,  1039,   119,  1176,  4244, 16475, 24661,   101,    10,   670,\n",
       "          12122,    13, 42007,   975,     2,     1,     1,     1,     1,     1,\n",
       "              1,     1,     1,     1,     1,     1,     1,     1,     1,     1,\n",
       "              1,     1,     1,     1,     1,     1,     1,     1,     1,     1,\n",
       "              1,     1,     1,     1,     1,     1,     1,     1,     1,     1,\n",
       "              1,     1,     1,     1,     1],\n",
       "         [    0, 17693,   141,  7340,   939, 31312,  2185,    15,  7011,    66,\n",
       "            141,  5939,  1577,     2,     1,     1,     1,     1,     1,     1,\n",
       "              1,     1,     1,     1,     1,     1,     1,     1,     1,     1,\n",
       "              1,     1,     1,     1,     1,     1,     1,     1,     1,     1,\n",
       "              1,     1,     1,     1,     1,     1,     1,     1,     1,     1,\n",
       "              1,     1,     1,     1,     1],\n",
       "         [    0,  1213,   269,   362,   964,   160,  3909, 17841, 12410, 18636,\n",
       "          15375,  6569, 10470, 18164,  6569,  9357,  4394,    17,  8384, 38718,\n",
       "           7471, 12605,    99,   524,    38, 19792,     7,  1183,   122, 28749,\n",
       "            328, 28749, 12846,     2,     1,     1,     1,     1,     1,     1,\n",
       "              1,     1,     1,     1,     1,     1,     1,     1,     1,     1,\n",
       "              1,     1,     1,     1,     1],\n",
       "         [    0, 28565,  3800,    13,     5,   664,    16,  5072,    10, 11824,\n",
       "            792,     8,  3267,  1079,     8,   110,   626,     4,     2,     1,\n",
       "              1,     1,     1,     1,     1,     1,     1,     1,     1,     1,\n",
       "              1,     1,     1,     1,     1,     1,     1,     1,     1,     1,\n",
       "              1,     1,     1,     1,     1,     1,     1,     1,     1,     1,\n",
       "              1,     1,     1,     1,     1],\n",
       "         [    0,   100,    95, 23126,   216,   596,  1840,  1705,    17,    27,\n",
       "             90,    33,   576,   162,    95,    10,   410,   828,     9,   326,\n",
       "          18308,  7586, 38713,     2,     1,     1,     1,     1,     1,     1,\n",
       "              1,     1,     1,     1,     1,     1,     1,     1,     1,     1,\n",
       "              1,     1,     1,     1,     1,     1,     1,     1,     1,     1,\n",
       "              1,     1,     1,     1,     1],\n",
       "         [    0, 12229, 42514, 45912,   267,   687,  5170,   179,   114,  1717,\n",
       "            429, 23126,   120,   103,  3895,   885,   162, 11133,   295, 39483,\n",
       "              5,   249,   561,  7586,   784, 43503,     2,     1,     1,     1,\n",
       "              1,     1,     1,     1,     1,     1,     1,     1,     1,     1,\n",
       "              1,     1,     1,     1,     1,     1,     1,     1,     1,     1,\n",
       "              1,     1,     1,     1,     1],\n",
       "         [    0, 13987,    47,     7,   127,  3537,  2632,    13,  6566,  3931,\n",
       "              5,  6964,    23,   290,   524,   358,   296,    13, 14434,   245,\n",
       "            722,     4,    85,    17,    27,    29,  2299,    45,  2422, 39701,\n",
       "             50, 15304, 12465, 42699,  3070, 12605, 45449,  3070, 12605,     2,\n",
       "              1,     1,     1,     1,     1,     1,     1,     1,     1,     1,\n",
       "              1,     1,     1,     1,     1],\n",
       "         [    0,  2264,    10, 13641,   819,    30,   787,    29,   906, 14191,\n",
       "           6038,  3361,  2350,    23, 15307, 17302,  1631,     4,    83,  2106,\n",
       "            263,  1370,     4, 37246,     6,   326,   154,  1634,     8, 15345,\n",
       "             12, 27471, 21531,     4,     2,     1,     1,     1,     1,     1,\n",
       "              1,     1,     1,     1,     1,     1,     1,     1,     1,     1,\n",
       "              1,     1,     1,     1,     1],\n",
       "         [    0, 25800,    16,  3127,  6845,   543,   842,  7984,  6403,    98,\n",
       "            205, 17841, 12410,     5,  3174,  1816,    11,   162,    16,   748,\n",
       "           1372,     2,     1,     1,     1,     1,     1,     1,     1,     1,\n",
       "              1,     1,     1,     1,     1,     1,     1,     1,     1,     1,\n",
       "              1,     1,     1,     1,     1,     1,     1,     1,     1,     1,\n",
       "              1,     1,     1,     1,     1],\n",
       "         [    0,  1039, 42268,  1090,   717, 21851,   397,   698,  3837,    47,\n",
       "             13,   110,   544,     8,  2814,   124,     7,     5,  3192,     9,\n",
       "              5,  3130,   328,  1437,  1437,  6525,    47,    33,   103,   372,\n",
       "           1652,   328,  1437,  8103,  6382,  3070,  6569,  6382, 18537,     2,\n",
       "              1,     1,     1,     1,     1,     1,     1,     1,     1,     1,\n",
       "              1,     1,     1,     1,     1],\n",
       "         [    0,  1039, 20981,  1951, 39253, 48379,  1308,  3087,  2463,    36,\n",
       "            306,    50,   195,    23,     5,    86,    43,  1009,   462, 12677,\n",
       "           3226,   816,  8782, 24123,   290,    19,    69,  4252,   634,     5,\n",
       "          19308,     8, 12216,  3481,     4,  3224,    14,    79,    21,  2260,\n",
       "             10, 32745,   150,    37,   702,  4607,    12,  6928,   426,   101,\n",
       "             83,  2379, 29872,     4,     2],\n",
       "         [    0, 36583,  4226,     7,    97, 35150, 11410,    15,   986, 11997,\n",
       "             38,   348,  2867,     8,   172,   145,  7709, 17376,    30,     5,\n",
       "           1980,   393,   156,   285,    16,   393,  1531, 46116,     2,     1,\n",
       "              1,     1,     1,     1,     1,     1,     1,     1,     1,     1,\n",
       "              1,     1,     1,     1,     1,     1,     1,     1,     1,     1,\n",
       "              1,     1,     1,     1,     1],\n",
       "         [    0, 40084,  5930,    66,     9,   599,    13,   584,    24,    17,\n",
       "             27,    29, 13394,     7,    28,    41, 18175,  2378,     4,   280,\n",
       "             17,    27,    29,    45,  8578,     6,    53,    82,    64,    28,\n",
       "          14202,     8,  7159,     8,  1085, 17516,   116,  8487,   328,  8103,\n",
       "          10470,  2469,  6569,    27, 11936,     2,     1,     1,     1,     1,\n",
       "              1,     1,     1,     1,     1],\n",
       "         [    0, 11970,    11,   784, 24639,    32,   460,  1996,   162,    13,\n",
       "           9969, 43912,   939,   524,    25,   685,    25,    47, 43912, 16506,\n",
       "              2,     1,     1,     1,     1,     1,     1,     1,     1,     1,\n",
       "              1,     1,     1,     1,     1,     1,     1,     1,     1,     1,\n",
       "              1,     1,     1,     1,     1,     1,     1,     1,     1,     1,\n",
       "              1,     1,     1,     1,     1],\n",
       "         [    0,  9325,   225,   667,     7,   120,   127,  6578,    29,  1503,\n",
       "              4,  2780,    17,    27,    29,   192,   141,   251,    24,  1239,\n",
       "             13,   123,     7,   192,    42,  3545, 41090,     4,     2,     1,\n",
       "              1,     1,     1,     1,     1,     1,     1,     1,     1,     1,\n",
       "              1,     1,     1,     1,     1,     1,     1,     1,     1,     1,\n",
       "              1,     1,     1,     1,     1],\n",
       "         [    0, 42765,  4560,    13,    42,  1136,   748,  4325,  8304,   328,\n",
       "            849, 23391, 44822,   787, 31288,  6487,   225,  3121,  1205,   640,\n",
       "             90,     4,   876,    73,   398,   846,    90, 10643,   330, 21169,\n",
       "            245,     2,     1,     1,     1,     1,     1,     1,     1,     1,\n",
       "              1,     1,     1,     1,     1,     1,     1,     1,     1,     1,\n",
       "              1,     1,     1,     1,     1]]),\n",
       " tensor([[1, 1, 1, 1, 1, 1, 1, 1, 1, 1, 1, 1, 1, 1, 1, 0, 0, 0, 0, 0, 0, 0, 0, 0,\n",
       "          0, 0, 0, 0, 0, 0, 0, 0, 0, 0, 0, 0, 0, 0, 0, 0, 0, 0, 0, 0, 0, 0, 0, 0,\n",
       "          0, 0, 0, 0, 0, 0, 0],\n",
       "         [1, 1, 1, 1, 1, 1, 1, 1, 1, 1, 1, 1, 1, 1, 0, 0, 0, 0, 0, 0, 0, 0, 0, 0,\n",
       "          0, 0, 0, 0, 0, 0, 0, 0, 0, 0, 0, 0, 0, 0, 0, 0, 0, 0, 0, 0, 0, 0, 0, 0,\n",
       "          0, 0, 0, 0, 0, 0, 0],\n",
       "         [1, 1, 1, 1, 1, 1, 1, 1, 1, 1, 1, 1, 1, 1, 1, 1, 1, 1, 1, 1, 1, 1, 1, 1,\n",
       "          1, 1, 1, 1, 1, 1, 1, 1, 1, 1, 0, 0, 0, 0, 0, 0, 0, 0, 0, 0, 0, 0, 0, 0,\n",
       "          0, 0, 0, 0, 0, 0, 0],\n",
       "         [1, 1, 1, 1, 1, 1, 1, 1, 1, 1, 1, 1, 1, 1, 1, 1, 1, 1, 1, 0, 0, 0, 0, 0,\n",
       "          0, 0, 0, 0, 0, 0, 0, 0, 0, 0, 0, 0, 0, 0, 0, 0, 0, 0, 0, 0, 0, 0, 0, 0,\n",
       "          0, 0, 0, 0, 0, 0, 0],\n",
       "         [1, 1, 1, 1, 1, 1, 1, 1, 1, 1, 1, 1, 1, 1, 1, 1, 1, 1, 1, 1, 1, 1, 1, 1,\n",
       "          0, 0, 0, 0, 0, 0, 0, 0, 0, 0, 0, 0, 0, 0, 0, 0, 0, 0, 0, 0, 0, 0, 0, 0,\n",
       "          0, 0, 0, 0, 0, 0, 0],\n",
       "         [1, 1, 1, 1, 1, 1, 1, 1, 1, 1, 1, 1, 1, 1, 1, 1, 1, 1, 1, 1, 1, 1, 1, 1,\n",
       "          1, 1, 1, 0, 0, 0, 0, 0, 0, 0, 0, 0, 0, 0, 0, 0, 0, 0, 0, 0, 0, 0, 0, 0,\n",
       "          0, 0, 0, 0, 0, 0, 0],\n",
       "         [1, 1, 1, 1, 1, 1, 1, 1, 1, 1, 1, 1, 1, 1, 1, 1, 1, 1, 1, 1, 1, 1, 1, 1,\n",
       "          1, 1, 1, 1, 1, 1, 1, 1, 1, 1, 1, 1, 1, 1, 1, 1, 0, 0, 0, 0, 0, 0, 0, 0,\n",
       "          0, 0, 0, 0, 0, 0, 0],\n",
       "         [1, 1, 1, 1, 1, 1, 1, 1, 1, 1, 1, 1, 1, 1, 1, 1, 1, 1, 1, 1, 1, 1, 1, 1,\n",
       "          1, 1, 1, 1, 1, 1, 1, 1, 1, 1, 1, 0, 0, 0, 0, 0, 0, 0, 0, 0, 0, 0, 0, 0,\n",
       "          0, 0, 0, 0, 0, 0, 0],\n",
       "         [1, 1, 1, 1, 1, 1, 1, 1, 1, 1, 1, 1, 1, 1, 1, 1, 1, 1, 1, 1, 1, 1, 0, 0,\n",
       "          0, 0, 0, 0, 0, 0, 0, 0, 0, 0, 0, 0, 0, 0, 0, 0, 0, 0, 0, 0, 0, 0, 0, 0,\n",
       "          0, 0, 0, 0, 0, 0, 0],\n",
       "         [1, 1, 1, 1, 1, 1, 1, 1, 1, 1, 1, 1, 1, 1, 1, 1, 1, 1, 1, 1, 1, 1, 1, 1,\n",
       "          1, 1, 1, 1, 1, 1, 1, 1, 1, 1, 1, 1, 1, 1, 1, 1, 0, 0, 0, 0, 0, 0, 0, 0,\n",
       "          0, 0, 0, 0, 0, 0, 0],\n",
       "         [1, 1, 1, 1, 1, 1, 1, 1, 1, 1, 1, 1, 1, 1, 1, 1, 1, 1, 1, 1, 1, 1, 1, 1,\n",
       "          1, 1, 1, 1, 1, 1, 1, 1, 1, 1, 1, 1, 1, 1, 1, 1, 1, 1, 1, 1, 1, 1, 1, 1,\n",
       "          1, 1, 1, 1, 1, 1, 1],\n",
       "         [1, 1, 1, 1, 1, 1, 1, 1, 1, 1, 1, 1, 1, 1, 1, 1, 1, 1, 1, 1, 1, 1, 1, 1,\n",
       "          1, 1, 1, 1, 1, 0, 0, 0, 0, 0, 0, 0, 0, 0, 0, 0, 0, 0, 0, 0, 0, 0, 0, 0,\n",
       "          0, 0, 0, 0, 0, 0, 0],\n",
       "         [1, 1, 1, 1, 1, 1, 1, 1, 1, 1, 1, 1, 1, 1, 1, 1, 1, 1, 1, 1, 1, 1, 1, 1,\n",
       "          1, 1, 1, 1, 1, 1, 1, 1, 1, 1, 1, 1, 1, 1, 1, 1, 1, 1, 1, 1, 1, 1, 0, 0,\n",
       "          0, 0, 0, 0, 0, 0, 0],\n",
       "         [1, 1, 1, 1, 1, 1, 1, 1, 1, 1, 1, 1, 1, 1, 1, 1, 1, 1, 1, 1, 1, 0, 0, 0,\n",
       "          0, 0, 0, 0, 0, 0, 0, 0, 0, 0, 0, 0, 0, 0, 0, 0, 0, 0, 0, 0, 0, 0, 0, 0,\n",
       "          0, 0, 0, 0, 0, 0, 0],\n",
       "         [1, 1, 1, 1, 1, 1, 1, 1, 1, 1, 1, 1, 1, 1, 1, 1, 1, 1, 1, 1, 1, 1, 1, 1,\n",
       "          1, 1, 1, 1, 1, 0, 0, 0, 0, 0, 0, 0, 0, 0, 0, 0, 0, 0, 0, 0, 0, 0, 0, 0,\n",
       "          0, 0, 0, 0, 0, 0, 0],\n",
       "         [1, 1, 1, 1, 1, 1, 1, 1, 1, 1, 1, 1, 1, 1, 1, 1, 1, 1, 1, 1, 1, 1, 1, 1,\n",
       "          1, 1, 1, 1, 1, 1, 1, 1, 0, 0, 0, 0, 0, 0, 0, 0, 0, 0, 0, 0, 0, 0, 0, 0,\n",
       "          0, 0, 0, 0, 0, 0, 0]]),\n",
       " tensor([1, 1, 1, 1, 0, 0, 1, 0, 0, 0, 0, 0, 1, 0, 1, 0])]"
      ]
     },
     "execution_count": 11,
     "metadata": {},
     "output_type": "execute_result"
    }
   ],
   "source": [
    "# view an example from the dataloader\n",
    "next(iter(train_dataloader))"
   ]
  },
  {
   "cell_type": "markdown",
   "metadata": {},
   "source": [
    "## Train"
   ]
  },
  {
   "cell_type": "markdown",
   "metadata": {},
   "source": [
    "Download transformers.RobertaForSequenceClassificatio, which is a RoBERTa model with a linear layer for sentence classification (or regression) on top of the pooled output:"
   ]
  },
  {
   "cell_type": "code",
   "execution_count": 12,
   "metadata": {},
   "outputs": [
    {
     "data": {
      "text/plain": [
       "==============================================================================================================\n",
       "Layer (type:depth-idx)                                       Output Shape              Param #\n",
       "==============================================================================================================\n",
       "RobertaForSequenceClassification                             [1, 2]                    --\n",
       "├─RobertaModel: 1-1                                          [1, 512, 768]             --\n",
       "│    └─RobertaEmbeddings: 2-1                                [1, 512, 768]             --\n",
       "│    │    └─Embedding: 3-1                                   [1, 512, 768]             38,603,520\n",
       "│    │    └─Embedding: 3-2                                   [1, 512, 768]             768\n",
       "│    │    └─Embedding: 3-3                                   [1, 512, 768]             394,752\n",
       "│    │    └─LayerNorm: 3-4                                   [1, 512, 768]             1,536\n",
       "│    │    └─Dropout: 3-5                                     [1, 512, 768]             --\n",
       "│    └─RobertaEncoder: 2-2                                   [1, 512, 768]             --\n",
       "│    │    └─ModuleList: 3-6                                  --                        85,054,464\n",
       "├─RobertaClassificationHead: 1-2                             [1, 2]                    --\n",
       "│    └─Dropout: 2-3                                          [1, 768]                  --\n",
       "│    └─Linear: 2-4                                           [1, 768]                  590,592\n",
       "│    └─Dropout: 2-5                                          [1, 768]                  --\n",
       "│    └─Linear: 2-6                                           [1, 2]                    1,538\n",
       "==============================================================================================================\n",
       "Total params: 124,647,170\n",
       "Trainable params: 124,647,170\n",
       "Non-trainable params: 0\n",
       "Total mult-adds (M): 124.65\n",
       "==============================================================================================================\n",
       "Input size (MB): 0.00\n",
       "Forward/backward pass size (MB): 427.83\n",
       "Params size (MB): 498.59\n",
       "Estimated Total Size (MB): 926.42\n",
       "=============================================================================================================="
      ]
     },
     "execution_count": 12,
     "metadata": {},
     "output_type": "execute_result"
    }
   ],
   "source": [
    "# Load the RobertaForSequenceClassification model\n",
    "model = RobertaForSequenceClassification.from_pretrained('roberta-base',\n",
    "                                                         num_labels = params.num_labels,\n",
    "                                                         output_attentions = False,\n",
    "                                                         output_hidden_states = False,\n",
    "                                                         )\n",
    "\n",
    "from torchinfo import summary\n",
    "summary(model, input_size=(1, 512), dtypes=['torch.IntTensor'])"
   ]
  },
  {
   "cell_type": "markdown",
   "metadata": {},
   "source": [
    "Set model to device, initialize trainer"
   ]
  },
  {
   "cell_type": "code",
   "execution_count": 13,
   "metadata": {},
   "outputs": [
    {
     "name": "stdout",
     "output_type": "stream",
     "text": [
      "Device: mps\n",
      "\n",
      "          Training Dataset: data/target_iSarcasmEval/itesd_iSarcasmEval_balanced.hf\n",
      "          Number of Labels: 2\n",
      "          Batch Size: 16\n",
      "          Learning Rate: 1e-05\n",
      "          Weight Decay: 0\n",
      "          Epochs: 10\n",
      "          Output Directory: model_saves/control_iSarcasm_03\n",
      "          Save Frequency: 1\n",
      "          Checkpoint Frequency: 1\n",
      "          Max Length: 256\n",
      "          \n"
     ]
    }
   ],
   "source": [
    "model.to(params.device)\n",
    "print(f\"Device: {params.device}\")\n",
    "\n",
    "optimizer = torch.optim.Adam(params=model.parameters(), \n",
    "                             lr=params.learning_rate,\n",
    "                             weight_decay=params.weight_decay) #roberta\n",
    "\n",
    "trainer = Trainer(model=model,\n",
    "                  device=params.device,\n",
    "                  tokenizer=params.tokenizer,\n",
    "                  train_dataloader=train_dataloader,\n",
    "                  validation_dataloader=validation_dataloader,\n",
    "                  epochs=params.epochs,\n",
    "                  optimizer=optimizer,\n",
    "                  val_loss_fn=params.val_loss_fn,\n",
    "                  num_labels=params.num_labels,\n",
    "                  output_dir=params.output_dir,\n",
    "                  save_freq=params.save_freq,\n",
    "                  checkpoint_freq=params.checkpoint_freq)\n",
    "\n",
    "output_parameters()"
   ]
  },
  {
   "cell_type": "markdown",
   "metadata": {},
   "source": [
    "Fit the model to our training data."
   ]
  },
  {
   "cell_type": "code",
   "execution_count": 14,
   "metadata": {},
   "outputs": [
    {
     "name": "stderr",
     "output_type": "stream",
     "text": [
      "Epoch 1: 100%|██████████| 267/267 [02:08<00:00,  2.07batch/s]\n",
      "\t Validation 39: 100%|██████████| 40/40 [00:07<00:00,  5.14batch/s]\n",
      "\n",
      " \t - Train loss: 0.666084\n",
      "\t - Validation Loss: 0.483086\n",
      "\t - Validation Accuracy: 0.765625\n",
      "\t - Validation F1: 0.498936\n",
      "\t - Validation Recall: 0.499643\n",
      "\t - Validation Precision: 0.577500 \n",
      "\n",
      "\t * Model @ epoch 1 saved to model_saves/control_iSarcasm_03/E01_A0.77_F0.5\n",
      "\t * Model checkpoint saved to model_saves/control_iSarcasm_03/E01_A0.77_F0.5/checkpoint.pt\n",
      "\n",
      "Epoch 2: 100%|██████████| 267/267 [01:55<00:00,  2.32batch/s]\n",
      "\t Validation 39: 100%|██████████| 40/40 [00:05<00:00,  7.05batch/s]\n",
      "\n",
      " \t - Train loss: 0.388412\n",
      "\t - Validation Loss: 0.632560\n",
      "\t - Validation Accuracy: 0.782813\n",
      "\t - Validation F1: 0.335556\n",
      "\t - Validation Recall: 0.281161\n",
      "\t - Validation Precision: 0.522917 \n",
      "\n",
      "\t * Model @ epoch 2 saved to model_saves/control_iSarcasm_03/E02_A0.78_F0.34\n",
      "\t * Model checkpoint saved to model_saves/control_iSarcasm_03/E02_A0.78_F0.34/checkpoint.pt\n",
      "\n",
      "Epoch 3: 100%|██████████| 267/267 [01:58<00:00,  2.25batch/s]\n",
      "\t Validation 39: 100%|██████████| 40/40 [00:06<00:00,  6.03batch/s]\n",
      "\n",
      " \t - Train loss: 0.133542\n",
      "\t - Validation Loss: 0.881882\n",
      "\t - Validation Accuracy: 0.779687\n",
      "\t - Validation F1: 0.321369\n",
      "\t - Validation Recall: 0.242857\n",
      "\t - Validation Precision: 0.580833 \n",
      "\n",
      "\t * Model @ epoch 3 saved to model_saves/control_iSarcasm_03/E03_A0.78_F0.32\n",
      "\t * Model checkpoint saved to model_saves/control_iSarcasm_03/E03_A0.78_F0.32/checkpoint.pt\n",
      "\n",
      "Epoch 4: 100%|██████████| 267/267 [01:59<00:00,  2.23batch/s]\n",
      "\t Validation 39: 100%|██████████| 40/40 [00:06<00:00,  6.51batch/s]\n",
      "\n",
      " \t - Train loss: 0.058213\n",
      "\t - Validation Loss: 1.048324\n",
      "\t - Validation Accuracy: 0.795312\n",
      "\t - Validation F1: 0.438155\n",
      "\t - Validation Recall: 0.396756\n",
      "\t - Validation Precision: 0.612500 \n",
      "\n",
      "\t * Model @ epoch 4 saved to model_saves/control_iSarcasm_03/E04_A0.8_F0.44\n",
      "\t * Model checkpoint saved to model_saves/control_iSarcasm_03/E04_A0.8_F0.44/checkpoint.pt\n",
      "\n",
      "Epoch 5: 100%|██████████| 267/267 [01:56<00:00,  2.29batch/s]\n",
      "\t Validation 39: 100%|██████████| 40/40 [00:05<00:00,  6.82batch/s]\n",
      "\n",
      " \t - Train loss: 0.049291\n",
      "\t - Validation Loss: 1.205384\n",
      "\t - Validation Accuracy: 0.775000\n",
      "\t - Validation F1: 0.323377\n",
      "\t - Validation Recall: 0.277589\n",
      "\t - Validation Precision: 0.497917 \n",
      "\n",
      "\t * Model @ epoch 5 saved to model_saves/control_iSarcasm_03/E05_A0.78_F0.32\n",
      "\t * Model checkpoint saved to model_saves/control_iSarcasm_03/E05_A0.78_F0.32/checkpoint.pt\n",
      "\n",
      "Epoch 6: 100%|██████████| 267/267 [01:55<00:00,  2.31batch/s]\n",
      "\t Validation 39: 100%|██████████| 40/40 [00:05<00:00,  6.69batch/s]\n",
      "\n",
      " \t - Train loss: 0.031488\n",
      "\t - Validation Loss: 1.139926\n",
      "\t - Validation Accuracy: 0.776563\n",
      "\t - Validation F1: 0.408939\n",
      "\t - Validation Recall: 0.374167\n",
      "\t - Validation Precision: 0.550417 \n",
      "\n",
      "\t * Model @ epoch 6 saved to model_saves/control_iSarcasm_03/E06_A0.78_F0.41\n",
      "\t * Model checkpoint saved to model_saves/control_iSarcasm_03/E06_A0.78_F0.41/checkpoint.pt\n",
      "\n",
      "Epoch 7: 100%|██████████| 267/267 [01:54<00:00,  2.33batch/s]\n",
      "\t Validation 39: 100%|██████████| 40/40 [00:05<00:00,  7.02batch/s]\n",
      "\n",
      " \t - Train loss: 0.023377\n",
      "\t - Validation Loss: 1.184927\n",
      "\t - Validation Accuracy: 0.756250\n",
      "\t - Validation F1: 0.449955\n",
      "\t - Validation Recall: 0.440208\n",
      "\t - Validation Precision: 0.526875 \n",
      "\n",
      "\t * Model @ epoch 7 saved to model_saves/control_iSarcasm_03/E07_A0.76_F0.45\n",
      "\t * Model checkpoint saved to model_saves/control_iSarcasm_03/E07_A0.76_F0.45/checkpoint.pt\n",
      "\n",
      "Epoch 8: 100%|██████████| 267/267 [01:52<00:00,  2.37batch/s]\n",
      "\t Validation 39: 100%|██████████| 40/40 [00:05<00:00,  7.09batch/s]\n",
      "\n",
      " \t - Train loss: 0.018881\n",
      "\t - Validation Loss: 1.316837\n",
      "\t - Validation Accuracy: 0.770312\n",
      "\t - Validation F1: 0.388867\n",
      "\t - Validation Recall: 0.322917\n",
      "\t - Validation Precision: 0.607083 \n",
      "\n",
      "\t * Model @ epoch 8 saved to model_saves/control_iSarcasm_03/E08_A0.77_F0.39\n",
      "\t * Model checkpoint saved to model_saves/control_iSarcasm_03/E08_A0.77_F0.39/checkpoint.pt\n",
      "\n",
      "Epoch 9: 100%|██████████| 267/267 [01:51<00:00,  2.38batch/s]\n",
      "\t Validation 39: 100%|██████████| 40/40 [00:05<00:00,  7.50batch/s]\n",
      "\n",
      " \t - Train loss: 0.029103\n",
      "\t - Validation Loss: 1.350823\n",
      "\t - Validation Accuracy: 0.750000\n",
      "\t - Validation F1: 0.345002\n",
      "\t - Validation Recall: 0.288244\n",
      "\t - Validation Precision: 0.528571 \n",
      "\n",
      "\t * Model @ epoch 9 saved to model_saves/control_iSarcasm_03/E09_A0.75_F0.35\n",
      "\t * Model checkpoint saved to model_saves/control_iSarcasm_03/E09_A0.75_F0.35/checkpoint.pt\n",
      "\n",
      "Epoch 10: 100%|██████████| 267/267 [01:52<00:00,  2.38batch/s]\n",
      "\t Validation 39: 100%|██████████| 40/40 [00:06<00:00,  6.62batch/s]\n",
      "\n",
      " \t - Train loss: 0.029797\n",
      "\t - Validation Loss: 1.208551\n",
      "\t - Validation Accuracy: 0.754687\n",
      "\t - Validation F1: 0.427466\n",
      "\t - Validation Recall: 0.427292\n",
      "\t - Validation Precision: 0.476190 \n",
      "\n",
      "\t * Model @ epoch 10 saved to model_saves/control_iSarcasm_03/E10_A0.75_F0.43\n",
      "\t * Model checkpoint saved to model_saves/control_iSarcasm_03/E10_A0.75_F0.43/checkpoint.pt\n",
      "\n"
     ]
    }
   ],
   "source": [
    "trainer.fit()"
   ]
  },
  {
   "cell_type": "code",
   "execution_count": null,
   "metadata": {},
   "outputs": [],
   "source": []
  }
 ],
 "metadata": {
  "kernelspec": {
   "display_name": "Python 3.9.13 ('itesd_env')",
   "language": "python",
   "name": "python3"
  },
  "language_info": {
   "codemirror_mode": {
    "name": "ipython",
    "version": 3
   },
   "file_extension": ".py",
   "mimetype": "text/x-python",
   "name": "python",
   "nbconvert_exporter": "python",
   "pygments_lexer": "ipython3",
   "version": "3.9.13"
  },
  "orig_nbformat": 4,
  "vscode": {
   "interpreter": {
    "hash": "3c42b54925bdca82cdb5059acc0a21648e00763ff265e64872b54aa656b5d9d8"
   }
  }
 },
 "nbformat": 4,
 "nbformat_minor": 2
}
