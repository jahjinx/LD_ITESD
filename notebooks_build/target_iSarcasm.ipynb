{
 "cells": [
  {
   "cell_type": "markdown",
   "metadata": {},
   "source": [
    "# target_iSarcasm\n",
    "This notebook takes models trained on the intermediate tasks and fine-tunes them further on our target task, iSarcasm."
   ]
  },
  {
   "cell_type": "markdown",
   "metadata": {},
   "source": [
    "## Imports & Settings"
   ]
  },
  {
   "cell_type": "markdown",
   "metadata": {},
   "source": [
    "First, update working directory to parent so that we may use our custom functions"
   ]
  },
  {
   "cell_type": "code",
   "execution_count": 1,
   "metadata": {},
   "outputs": [],
   "source": [
    "import os\n",
    " os.chdir('..')\n",
    "# os.getcwd( )"
   ]
  },
  {
   "cell_type": "code",
   "execution_count": 3,
   "metadata": {},
   "outputs": [
    {
     "data": {
      "text/plain": [
       "<torch._C.Generator at 0x29319c810>"
      ]
     },
     "execution_count": 3,
     "metadata": {},
     "output_type": "execute_result"
    }
   ],
   "source": [
    "import params\n",
    "from utils import *\n",
    "from trainer import *\n",
    "\n",
    "import numpy as np\n",
    "import pandas as pd\n",
    "\n",
    "from sklearn.model_selection import train_test_split\n",
    "from transformers import RobertaTokenizer, RobertaForSequenceClassification\n",
    "from torch.utils.data import TensorDataset, DataLoader, RandomSampler\n",
    "\n",
    "# suppress model warning\n",
    "from transformers import logging\n",
    "logging.set_verbosity_error()\n",
    "\n",
    "# set logging level\n",
    "import logging\n",
    "logging.basicConfig(format='%(message)s', level=logging.INFO)"
   ]
  },
  {
   "cell_type": "code",
   "execution_count": null,
   "metadata": {},
   "outputs": [
    {
     "name": "stdout",
     "output_type": "stream",
     "text": [
      "We're Armed: macOS-13.1-arm64-i386-64bit\n"
     ]
    }
   ],
   "source": [
    "# set general seeds\n",
    "set_seeds(1)\n",
    "\n",
    "# set dataloader generator seed\n",
    "g = torch.Generator()\n",
    "g.manual_seed(1)\n",
    "\n",
    "# Ensure we're on an ARM environment if necessary.\n",
    "platform_check()"
   ]
  },
  {
   "cell_type": "markdown",
   "metadata": {},
   "source": [
    "## Load Data"
   ]
  },
  {
   "cell_type": "markdown",
   "metadata": {},
   "source": [
    "### iSarcasm"
   ]
  },
  {
   "cell_type": "code",
   "execution_count": 4,
   "metadata": {},
   "outputs": [
    {
     "data": {
      "text/html": [
       "<div>\n",
       "<style scoped>\n",
       "    .dataframe tbody tr th:only-of-type {\n",
       "        vertical-align: middle;\n",
       "    }\n",
       "\n",
       "    .dataframe tbody tr th {\n",
       "        vertical-align: top;\n",
       "    }\n",
       "\n",
       "    .dataframe thead th {\n",
       "        text-align: right;\n",
       "    }\n",
       "</style>\n",
       "<table border=\"1\" class=\"dataframe\">\n",
       "  <thead>\n",
       "    <tr style=\"text-align: right;\">\n",
       "      <th></th>\n",
       "      <th>text</th>\n",
       "      <th>label</th>\n",
       "    </tr>\n",
       "  </thead>\n",
       "  <tbody>\n",
       "    <tr>\n",
       "      <th>0</th>\n",
       "      <td>@ThePartridgePod Defrost the freezer with the ...</td>\n",
       "      <td>1</td>\n",
       "    </tr>\n",
       "    <tr>\n",
       "      <th>1</th>\n",
       "      <td>really honoured to have shared a coach today w...</td>\n",
       "      <td>1</td>\n",
       "    </tr>\n",
       "    <tr>\n",
       "      <th>2</th>\n",
       "      <td>I can't believe today is the last day we can b...</td>\n",
       "      <td>1</td>\n",
       "    </tr>\n",
       "    <tr>\n",
       "      <th>3</th>\n",
       "      <td>thank you kind person that stole my ATM card, ...</td>\n",
       "      <td>1</td>\n",
       "    </tr>\n",
       "    <tr>\n",
       "      <th>4</th>\n",
       "      <td>I love leaving the doctors office in tears. I ...</td>\n",
       "      <td>1</td>\n",
       "    </tr>\n",
       "  </tbody>\n",
       "</table>\n",
       "</div>"
      ],
      "text/plain": [
       "                                                text  label\n",
       "0  @ThePartridgePod Defrost the freezer with the ...      1\n",
       "1  really honoured to have shared a coach today w...      1\n",
       "2  I can't believe today is the last day we can b...      1\n",
       "3  thank you kind person that stole my ATM card, ...      1\n",
       "4  I love leaving the doctors office in tears. I ...      1"
      ]
     },
     "execution_count": 4,
     "metadata": {},
     "output_type": "execute_result"
    }
   ],
   "source": [
    "dataset_path = 'data/target_semEval2022_en/iSarcasmEval-main/train/train.en.prepped-oversampled.csv'\n",
    "df = pd.read_csv(dataset_path)\n",
    "df = df.rename(columns={'tweet': 'text'})\n",
    "df = df.rename(columns={'sarcastic': 'label'})\n",
    "\n",
    "df.head()"
   ]
  },
  {
   "cell_type": "code",
   "execution_count": 5,
   "metadata": {},
   "outputs": [
    {
     "name": "stdout",
     "output_type": "stream",
     "text": [
      "<class 'pandas.core.frame.DataFrame'>\n",
      "RangeIndex: 5200 entries, 0 to 5199\n",
      "Data columns (total 2 columns):\n",
      " #   Column  Non-Null Count  Dtype \n",
      "---  ------  --------------  ----- \n",
      " 0   text    5200 non-null   object\n",
      " 1   label   5200 non-null   int64 \n",
      "dtypes: int64(1), object(1)\n",
      "memory usage: 81.4+ KB\n"
     ]
    }
   ],
   "source": [
    "df.info()"
   ]
  },
  {
   "cell_type": "code",
   "execution_count": 6,
   "metadata": {},
   "outputs": [
    {
     "data": {
      "text/plain": [
       "1    2600\n",
       "0    2600\n",
       "Name: label, dtype: int64"
      ]
     },
     "execution_count": 6,
     "metadata": {},
     "output_type": "execute_result"
    }
   ],
   "source": [
    "df['label'].value_counts()"
   ]
  },
  {
   "cell_type": "code",
   "execution_count": 7,
   "metadata": {},
   "outputs": [
    {
     "data": {
      "text/plain": [
       "1    2600\n",
       "0    2600\n",
       "Name: label, dtype: int64"
      ]
     },
     "execution_count": 7,
     "metadata": {},
     "output_type": "execute_result"
    }
   ],
   "source": [
    "df['label'].value_counts()"
   ]
  },
  {
   "cell_type": "markdown",
   "metadata": {},
   "source": [
    "### Target Text & Labels"
   ]
  },
  {
   "cell_type": "code",
   "execution_count": 8,
   "metadata": {},
   "outputs": [],
   "source": [
    "text = df.text.values\n",
    "labels = df.label.values"
   ]
  },
  {
   "cell_type": "markdown",
   "metadata": {},
   "source": [
    "### Preprocess"
   ]
  },
  {
   "cell_type": "code",
   "execution_count": 9,
   "metadata": {},
   "outputs": [
    {
     "name": "stdout",
     "output_type": "stream",
     "text": [
      "PreTrainedTokenizer(name_or_path='model_saves/intermediate_hellaswag_01/E07_A0.61_F0.61', vocab_size=50265, model_max_len=512, is_fast=False, padding_side='right', truncation_side='right', special_tokens={'bos_token': AddedToken(\"<s>\", rstrip=False, lstrip=False, single_word=False, normalized=True), 'eos_token': AddedToken(\"</s>\", rstrip=False, lstrip=False, single_word=False, normalized=True), 'unk_token': AddedToken(\"<unk>\", rstrip=False, lstrip=False, single_word=False, normalized=True), 'sep_token': AddedToken(\"</s>\", rstrip=False, lstrip=False, single_word=False, normalized=True), 'pad_token': AddedToken(\"<pad>\", rstrip=False, lstrip=False, single_word=False, normalized=True), 'cls_token': AddedToken(\"<s>\", rstrip=False, lstrip=False, single_word=False, normalized=True), 'mask_token': AddedToken(\"<mask>\", rstrip=False, lstrip=True, single_word=False, normalized=True)})\n"
     ]
    }
   ],
   "source": [
    "# load best intermediate/control model\n",
    "# path format example:  \"model_saves/intermediate_XED_binary_01/E03_A0.83_F0.82\"\n",
    "intermediate_model_path: str = str(input(\"What is the path to the best model?\"))\n",
    "\n",
    "# update tokenizer to use trained model's tokenizer\n",
    "params.tokenizer = RobertaTokenizer.from_pretrained(intermediate_model_path, local_files_only=True)\n",
    "\n",
    "print(params.tokenizer)"
   ]
  },
  {
   "cell_type": "code",
   "execution_count": 10,
   "metadata": {},
   "outputs": [],
   "source": [
    "token_id = []\n",
    "attention_masks = []\n",
    "\n",
    "for sample in text:\n",
    "  encoding_dict = preprocessing(sample, params.tokenizer)\n",
    "  token_id.append(encoding_dict['input_ids']) \n",
    "  attention_masks.append(encoding_dict['attention_mask'])\n",
    "\n",
    "\n",
    "token_id = torch.cat(token_id, dim = 0)\n",
    "attention_masks = torch.cat(attention_masks, dim = 0)\n",
    "labels = torch.tensor(labels)"
   ]
  },
  {
   "cell_type": "markdown",
   "metadata": {},
   "source": [
    "### Data Split\n",
    "We split the dataset into train (80%) and validation (20%) sets, and wrap them around a torch.utils.data.DataLoader object."
   ]
  },
  {
   "cell_type": "code",
   "execution_count": 11,
   "metadata": {},
   "outputs": [],
   "source": [
    "val_ratio = 0.2\n",
    "\n",
    "# Indices of the train and validation splits stratified by labels\n",
    "train_idx, val_idx = train_test_split(\n",
    "    np.arange(len(labels)),\n",
    "    test_size = val_ratio,\n",
    "    shuffle = True,\n",
    "    stratify = labels,\n",
    "    random_state=1)\n",
    "\n",
    "# Train and validation sets\n",
    "train_set = TensorDataset(token_id[train_idx], \n",
    "                          attention_masks[train_idx], \n",
    "                          labels[train_idx])\n",
    "\n",
    "val_set = TensorDataset(token_id[val_idx], \n",
    "                        attention_masks[val_idx], \n",
    "                        labels[val_idx])\n",
    "\n",
    "# Prepare DataLoader\n",
    "train_dataloader = DataLoader(\n",
    "            train_set,\n",
    "            sampler = RandomSampler(train_set),\n",
    "            batch_size = params.batch_size,\n",
    "            worker_init_fn=seed_worker,\n",
    "            generator=g,\n",
    "        )\n",
    "\n",
    "validation_dataloader = DataLoader(\n",
    "            val_set,\n",
    "            sampler = RandomSampler(val_set),\n",
    "            batch_size = params.batch_size,\n",
    "            worker_init_fn=seed_worker,\n",
    "            generator=g,\n",
    "        )"
   ]
  },
  {
   "cell_type": "markdown",
   "metadata": {},
   "source": [
    "## intermediate_XED_binary"
   ]
  },
  {
   "cell_type": "code",
   "execution_count": null,
   "metadata": {},
   "outputs": [],
   "source": [
    "# set params for this model\n",
    "params.num_labels = 2\n",
    "params.output_dir = \"model_saves/target-iSarcasm_inter-XED-binary_03\""
   ]
  },
  {
   "cell_type": "markdown",
   "metadata": {},
   "source": [
    "### Train"
   ]
  },
  {
   "cell_type": "markdown",
   "metadata": {},
   "source": [
    "Download transformers.RobertaForSequenceClassificatio, which is a RoBERTa model with a linear layer for sentence classification (or regression) on top of the pooled output:"
   ]
  },
  {
   "cell_type": "code",
   "execution_count": 12,
   "metadata": {},
   "outputs": [
    {
     "data": {
      "text/plain": [
       "==============================================================================================================\n",
       "Layer (type:depth-idx)                                       Output Shape              Param #\n",
       "==============================================================================================================\n",
       "RobertaForSequenceClassification                             [1, 2]                    --\n",
       "├─RobertaModel: 1-1                                          [1, 512, 768]             --\n",
       "│    └─RobertaEmbeddings: 2-1                                [1, 512, 768]             --\n",
       "│    │    └─Embedding: 3-1                                   [1, 512, 768]             38,603,520\n",
       "│    │    └─Embedding: 3-2                                   [1, 512, 768]             768\n",
       "│    │    └─Embedding: 3-3                                   [1, 512, 768]             394,752\n",
       "│    │    └─LayerNorm: 3-4                                   [1, 512, 768]             1,536\n",
       "│    │    └─Dropout: 3-5                                     [1, 512, 768]             --\n",
       "│    └─RobertaEncoder: 2-2                                   [1, 512, 768]             --\n",
       "│    │    └─ModuleList: 3-6                                  --                        85,054,464\n",
       "├─RobertaClassificationHead: 1-2                             [1, 2]                    --\n",
       "│    └─Dropout: 2-3                                          [1, 768]                  --\n",
       "│    └─Linear: 2-4                                           [1, 768]                  590,592\n",
       "│    └─Dropout: 2-5                                          [1, 768]                  --\n",
       "│    └─Linear: 2-6                                           [1, 2]                    1,538\n",
       "==============================================================================================================\n",
       "Total params: 124,647,170\n",
       "Trainable params: 124,647,170\n",
       "Non-trainable params: 0\n",
       "Total mult-adds (M): 124.65\n",
       "==============================================================================================================\n",
       "Input size (MB): 0.00\n",
       "Forward/backward pass size (MB): 427.83\n",
       "Params size (MB): 498.59\n",
       "Estimated Total Size (MB): 926.42\n",
       "=============================================================================================================="
      ]
     },
     "execution_count": 12,
     "metadata": {},
     "output_type": "execute_result"
    }
   ],
   "source": [
    "# Load the RobertaForSequenceClassification model\n",
    "model = RobertaForSequenceClassification.from_pretrained(intermediate_model_path,\n",
    "                                                         num_labels = params.num_labels,\n",
    "                                                         local_files_only=True, \n",
    "                                                         ignore_mismatched_sizes=True,\n",
    "                                                         output_attentions = False,\n",
    "                                                         output_hidden_states = False,\n",
    "                                                         )\n",
    "\n",
    "from torchinfo import summary\n",
    "summary(model, input_size=(1, 512), dtypes=['torch.IntTensor'])"
   ]
  },
  {
   "cell_type": "markdown",
   "metadata": {},
   "source": [
    "Set model to device, initialize trainer"
   ]
  },
  {
   "cell_type": "code",
   "execution_count": 13,
   "metadata": {},
   "outputs": [
    {
     "name": "stdout",
     "output_type": "stream",
     "text": [
      "Trained Dataset: data/target_semEval2022_en/iSarcasmEval-main/train/train.en.prepped-oversampled.csv\n",
      "Device: mps\n"
     ]
    }
   ],
   "source": [
    "model.to(params.device)\n",
    "print(f\"Trained Dataset: {dataset_path}\")\n",
    "print(f\"Device: {params.device}\")\n",
    "\n",
    "optimizer = torch.optim.Adam(params=model.parameters(), lr=params.learning_rate) #roberta\n",
    "\n",
    "trainer = Trainer(model=model,\n",
    "                  device=params.device,\n",
    "                  tokenizer=params.tokenizer,\n",
    "                  train_dataloader=train_dataloader,\n",
    "                  validation_dataloader=validation_dataloader,\n",
    "                  epochs=params.epochs,\n",
    "                  optimizer=optimizer,\n",
    "                  val_loss_fn=params.val_loss_fn,\n",
    "                  notify=params.notify,\n",
    "                  phone_number=params.phone_number,\n",
    "                  save_dir=params.save_dir,\n",
    "                  model_name=params.model_name, \n",
    "                  save_freq=params.save_freq)"
   ]
  },
  {
   "cell_type": "markdown",
   "metadata": {},
   "source": [
    "Fit the model to our training data."
   ]
  },
  {
   "cell_type": "code",
   "execution_count": 14,
   "metadata": {},
   "outputs": [
    {
     "name": "stderr",
     "output_type": "stream",
     "text": [
      "Epoch 1:   0%|          | 0/260 [00:00<?, ?batch/s]/Users/jarradjinx/opt/anaconda3/envs/itesd_env/lib/python3.9/site-packages/transformers/models/roberta/modeling_roberta.py:1570: UserWarning: The operator 'aten::cumsum.out' is not currently supported on the MPS backend and will fall back to run on the CPU. This may have performance implications. (Triggered internally at /Users/runner/work/pytorch/pytorch/pytorch/aten/src/ATen/mps/MPSFallback.mm:11.)\n",
      "  incremental_indices = (torch.cumsum(mask, dim=1).type_as(mask) + past_key_values_length) * mask\n",
      "Epoch 1: 100%|██████████| 260/260 [05:46<00:00,  1.33s/batch]\n",
      "\t Validation 64: 100%|██████████| 65/65 [00:26<00:00,  2.47batch/s]\n"
     ]
    },
    {
     "name": "stdout",
     "output_type": "stream",
     "text": [
      "\t - Train loss: 0.667241\n",
      "\t - Validation Loss: 0.524531\n",
      "\t - Validation Accuracy: 0.735577\n",
      "\t - Validation F1: 0.738615\n",
      "\t - Validation Recall: 0.792228\n",
      "\t - Validation Precision: 0.715383\n",
      "\t * Model @ epoch 1 saved to model_saves/target-iSarcasm_inter-XED-binary_03/E01_A0.74_F0.74\n"
     ]
    },
    {
     "name": "stderr",
     "output_type": "stream",
     "text": [
      "Epoch 2: 100%|██████████| 260/260 [05:46<00:00,  1.33s/batch]\n",
      "\t Validation 64: 100%|██████████| 65/65 [00:26<00:00,  2.45batch/s]\n"
     ]
    },
    {
     "name": "stdout",
     "output_type": "stream",
     "text": [
      "\t - Train loss: 0.447875\n",
      "\t - Validation Loss: 0.374703\n",
      "\t - Validation Accuracy: 0.830769\n",
      "\t - Validation F1: 0.825035\n",
      "\t - Validation Recall: 0.858770\n",
      "\t - Validation Precision: 0.814744\n",
      "\t * Model @ epoch 2 saved to model_saves/target-iSarcasm_inter-XED-binary_03/E02_A0.83_F0.83\n"
     ]
    },
    {
     "name": "stderr",
     "output_type": "stream",
     "text": [
      "Epoch 3: 100%|██████████| 260/260 [05:47<00:00,  1.34s/batch]\n",
      "\t Validation 64: 100%|██████████| 65/65 [00:26<00:00,  2.43batch/s]\n"
     ]
    },
    {
     "name": "stdout",
     "output_type": "stream",
     "text": [
      "\t - Train loss: 0.226148\n",
      "\t - Validation Loss: 0.370340\n",
      "\t - Validation Accuracy: 0.854808\n",
      "\t - Validation F1: 0.860883\n",
      "\t - Validation Recall: 0.946372\n",
      "\t - Validation Precision: 0.802112\n",
      "\t * Model @ epoch 3 saved to model_saves/target-iSarcasm_inter-XED-binary_03/E03_A0.85_F0.86\n"
     ]
    },
    {
     "name": "stderr",
     "output_type": "stream",
     "text": [
      "Epoch 4: 100%|██████████| 260/260 [05:48<00:00,  1.34s/batch]\n",
      "\t Validation 64: 100%|██████████| 65/65 [00:26<00:00,  2.45batch/s]\n"
     ]
    },
    {
     "name": "stdout",
     "output_type": "stream",
     "text": [
      "\t - Train loss: 0.118373\n",
      "\t - Validation Loss: 0.333577\n",
      "\t - Validation Accuracy: 0.891346\n",
      "\t - Validation F1: 0.887355\n",
      "\t - Validation Recall: 0.929589\n",
      "\t - Validation Precision: 0.860374\n",
      "\t * Model @ epoch 4 saved to model_saves/target-iSarcasm_inter-XED-binary_03/E04_A0.89_F0.89\n"
     ]
    },
    {
     "name": "stderr",
     "output_type": "stream",
     "text": [
      "Epoch 5: 100%|██████████| 260/260 [05:44<00:00,  1.32s/batch]\n",
      "\t Validation 64: 100%|██████████| 65/65 [00:26<00:00,  2.44batch/s]\n"
     ]
    },
    {
     "name": "stdout",
     "output_type": "stream",
     "text": [
      "\t - Train loss: 0.065722\n",
      "\t - Validation Loss: 0.337964\n",
      "\t - Validation Accuracy: 0.914423\n",
      "\t - Validation F1: 0.910753\n",
      "\t - Validation Recall: 0.933489\n",
      "\t - Validation Precision: 0.898655\n",
      "\t * Model @ epoch 5 saved to model_saves/target-iSarcasm_inter-XED-binary_03/E05_A0.91_F0.91\n"
     ]
    },
    {
     "name": "stderr",
     "output_type": "stream",
     "text": [
      "Epoch 6: 100%|██████████| 260/260 [05:50<00:00,  1.35s/batch]\n",
      "\t Validation 64: 100%|██████████| 65/65 [00:28<00:00,  2.24batch/s]\n"
     ]
    },
    {
     "name": "stdout",
     "output_type": "stream",
     "text": [
      "\t - Train loss: 0.041056\n",
      "\t - Validation Loss: 0.383040\n",
      "\t - Validation Accuracy: 0.906731\n",
      "\t - Validation F1: 0.903193\n",
      "\t - Validation Recall: 0.938093\n",
      "\t - Validation Precision: 0.878795\n",
      "\t * Model @ epoch 6 saved to model_saves/target-iSarcasm_inter-XED-binary_03/E06_A0.91_F0.9\n"
     ]
    },
    {
     "name": "stderr",
     "output_type": "stream",
     "text": [
      "Epoch 7: 100%|██████████| 260/260 [06:04<00:00,  1.40s/batch]\n",
      "\t Validation 64: 100%|██████████| 65/65 [00:26<00:00,  2.48batch/s]\n"
     ]
    },
    {
     "name": "stdout",
     "output_type": "stream",
     "text": [
      "\t - Train loss: 0.048199\n",
      "\t - Validation Loss: 0.369328\n",
      "\t - Validation Accuracy: 0.910577\n",
      "\t - Validation F1: 0.907482\n",
      "\t - Validation Recall: 0.948942\n",
      "\t - Validation Precision: 0.877798\n",
      "\t * Model @ epoch 7 saved to model_saves/target-iSarcasm_inter-XED-binary_03/E07_A0.91_F0.91\n"
     ]
    },
    {
     "name": "stderr",
     "output_type": "stream",
     "text": [
      "Epoch 8: 100%|██████████| 260/260 [15:41<00:00,  3.62s/batch]  \n",
      "\t Validation 64: 100%|██████████| 65/65 [00:26<00:00,  2.45batch/s]\n"
     ]
    },
    {
     "name": "stdout",
     "output_type": "stream",
     "text": [
      "\t - Train loss: 0.030835\n",
      "\t - Validation Loss: 0.786566\n",
      "\t - Validation Accuracy: 0.826923\n",
      "\t - Validation F1: 0.839350\n",
      "\t - Validation Recall: 0.968051\n",
      "\t - Validation Precision: 0.752337\n",
      "\t * Model @ epoch 8 saved to model_saves/target-iSarcasm_inter-XED-binary_03/E08_A0.83_F0.84\n"
     ]
    },
    {
     "name": "stderr",
     "output_type": "stream",
     "text": [
      "Epoch 9: 100%|██████████| 260/260 [05:45<00:00,  1.33s/batch]\n",
      "\t Validation 64: 100%|██████████| 65/65 [00:26<00:00,  2.45batch/s]\n"
     ]
    },
    {
     "name": "stdout",
     "output_type": "stream",
     "text": [
      "\t - Train loss: 0.032423\n",
      "\t - Validation Loss: 0.377537\n",
      "\t - Validation Accuracy: 0.919231\n",
      "\t - Validation F1: 0.912910\n",
      "\t - Validation Recall: 0.933373\n",
      "\t - Validation Precision: 0.901565\n",
      "\t * Model @ epoch 9 saved to model_saves/target-iSarcasm_inter-XED-binary_03/E09_A0.92_F0.91\n"
     ]
    },
    {
     "name": "stderr",
     "output_type": "stream",
     "text": [
      "Epoch 10: 100%|██████████| 260/260 [05:45<00:00,  1.33s/batch]\n",
      "\t Validation 64: 100%|██████████| 65/65 [00:26<00:00,  2.44batch/s]\n"
     ]
    },
    {
     "name": "stdout",
     "output_type": "stream",
     "text": [
      "\t - Train loss: 0.024998\n",
      "\t - Validation Loss: 0.476860\n",
      "\t - Validation Accuracy: 0.892308\n",
      "\t - Validation F1: 0.892355\n",
      "\t - Validation Recall: 0.944895\n",
      "\t - Validation Precision: 0.857109\n",
      "\t * Model @ epoch 10 saved to model_saves/target-iSarcasm_inter-XED-binary_03/E10_A0.89_F0.89\n"
     ]
    }
   ],
   "source": [
    "trainer.fit()"
   ]
  },
  {
   "cell_type": "markdown",
   "metadata": {},
   "source": [
    "## intermediate_XED_fine"
   ]
  },
  {
   "cell_type": "code",
   "execution_count": null,
   "metadata": {},
   "outputs": [],
   "source": [
    "# set params for this model\n",
    "params.num_labels = 2\n",
    "params.output_dir = \"model_saves/target-iSarcasm_inter-XED-fine_03\""
   ]
  },
  {
   "cell_type": "markdown",
   "metadata": {},
   "source": [
    "### Train"
   ]
  },
  {
   "cell_type": "markdown",
   "metadata": {},
   "source": [
    "Download transformers.RobertaForSequenceClassificatio, which is a RoBERTa model with a linear layer for sentence classification (or regression) on top of the pooled output:"
   ]
  },
  {
   "cell_type": "code",
   "execution_count": 12,
   "metadata": {},
   "outputs": [
    {
     "data": {
      "text/plain": [
       "==============================================================================================================\n",
       "Layer (type:depth-idx)                                       Output Shape              Param #\n",
       "==============================================================================================================\n",
       "RobertaForSequenceClassification                             [1, 2]                    --\n",
       "├─RobertaModel: 1-1                                          [1, 512, 768]             --\n",
       "│    └─RobertaEmbeddings: 2-1                                [1, 512, 768]             --\n",
       "│    │    └─Embedding: 3-1                                   [1, 512, 768]             38,603,520\n",
       "│    │    └─Embedding: 3-2                                   [1, 512, 768]             768\n",
       "│    │    └─Embedding: 3-3                                   [1, 512, 768]             394,752\n",
       "│    │    └─LayerNorm: 3-4                                   [1, 512, 768]             1,536\n",
       "│    │    └─Dropout: 3-5                                     [1, 512, 768]             --\n",
       "│    └─RobertaEncoder: 2-2                                   [1, 512, 768]             --\n",
       "│    │    └─ModuleList: 3-6                                  --                        85,054,464\n",
       "├─RobertaClassificationHead: 1-2                             [1, 2]                    --\n",
       "│    └─Dropout: 2-3                                          [1, 768]                  --\n",
       "│    └─Linear: 2-4                                           [1, 768]                  590,592\n",
       "│    └─Dropout: 2-5                                          [1, 768]                  --\n",
       "│    └─Linear: 2-6                                           [1, 2]                    1,538\n",
       "==============================================================================================================\n",
       "Total params: 124,647,170\n",
       "Trainable params: 124,647,170\n",
       "Non-trainable params: 0\n",
       "Total mult-adds (M): 124.65\n",
       "==============================================================================================================\n",
       "Input size (MB): 0.00\n",
       "Forward/backward pass size (MB): 427.83\n",
       "Params size (MB): 498.59\n",
       "Estimated Total Size (MB): 926.42\n",
       "=============================================================================================================="
      ]
     },
     "execution_count": 12,
     "metadata": {},
     "output_type": "execute_result"
    }
   ],
   "source": [
    "# Load the RobertaForSequenceClassification model\n",
    "model = RobertaForSequenceClassification.from_pretrained(intermediate_model_path,\n",
    "                                                         num_labels = params.num_labels,\n",
    "                                                         local_files_only=True, \n",
    "                                                         ignore_mismatched_sizes=True,\n",
    "                                                         output_attentions = False,\n",
    "                                                         output_hidden_states = False,\n",
    "                                                         )\n",
    "\n",
    "from torchinfo import summary\n",
    "summary(model, input_size=(1, 512), dtypes=['torch.IntTensor'])"
   ]
  },
  {
   "cell_type": "markdown",
   "metadata": {},
   "source": [
    "Set model to device, initialize trainer"
   ]
  },
  {
   "cell_type": "code",
   "execution_count": 13,
   "metadata": {},
   "outputs": [
    {
     "name": "stdout",
     "output_type": "stream",
     "text": [
      "Trained Dataset: data/target_semEval2022_en/iSarcasmEval-main/train/train.en.prepped-oversampled.csv\n",
      "Device: mps\n"
     ]
    }
   ],
   "source": [
    "model.to(params.device)\n",
    "print(f\"Trained Dataset: {dataset_path}\")\n",
    "print(f\"Device: {params.device}\")\n",
    "\n",
    "optimizer = torch.optim.Adam(params=model.parameters(), lr=params.learning_rate) #roberta\n",
    "\n",
    "trainer = Trainer(model=model,\n",
    "                  device=params.device,\n",
    "                  tokenizer=params.tokenizer,\n",
    "                  train_dataloader=train_dataloader,\n",
    "                  validation_dataloader=validation_dataloader,\n",
    "                  epochs=params.epochs,\n",
    "                  optimizer=optimizer,\n",
    "                  val_loss_fn=params.val_loss_fn,\n",
    "                  num_labels=params.num_labels,\n",
    "                  output_dir=params.output_dir,\n",
    "                  save_freq=params.save_freq,\n",
    "                  checkpoint_freq=params.checkpoint_freq)"
   ]
  },
  {
   "cell_type": "markdown",
   "metadata": {},
   "source": [
    "Fit the model to our training data."
   ]
  },
  {
   "cell_type": "code",
   "execution_count": 14,
   "metadata": {},
   "outputs": [
    {
     "name": "stderr",
     "output_type": "stream",
     "text": [
      "Epoch 1:   0%|          | 0/260 [00:00<?, ?batch/s]/Users/jarradjinx/opt/anaconda3/envs/itesd_env/lib/python3.9/site-packages/transformers/models/roberta/modeling_roberta.py:1570: UserWarning: The operator 'aten::cumsum.out' is not currently supported on the MPS backend and will fall back to run on the CPU. This may have performance implications. (Triggered internally at /Users/runner/work/pytorch/pytorch/pytorch/aten/src/ATen/mps/MPSFallback.mm:11.)\n",
      "  incremental_indices = (torch.cumsum(mask, dim=1).type_as(mask) + past_key_values_length) * mask\n",
      "Epoch 1: 100%|██████████| 260/260 [05:42<00:00,  1.32s/batch]\n",
      "\t Validation 64: 100%|██████████| 65/65 [00:25<00:00,  2.51batch/s]\n"
     ]
    },
    {
     "name": "stdout",
     "output_type": "stream",
     "text": [
      "\t - Train loss: 0.623434\n",
      "\t - Validation Loss: 0.508588\n",
      "\t - Validation Accuracy: 0.757692\n",
      "\t - Validation F1: 0.772261\n",
      "\t - Validation Recall: 0.870527\n",
      "\t - Validation Precision: 0.714164\n",
      "\t * Model @ epoch 1 saved to model_saves/target-iSarcasm_inter-XED-fine_03/E01_A0.76_F0.77\n"
     ]
    },
    {
     "name": "stderr",
     "output_type": "stream",
     "text": [
      "Epoch 2: 100%|██████████| 260/260 [05:41<00:00,  1.31s/batch]\n",
      "\t Validation 64: 100%|██████████| 65/65 [00:25<00:00,  2.51batch/s]\n"
     ]
    },
    {
     "name": "stdout",
     "output_type": "stream",
     "text": [
      "\t - Train loss: 0.390146\n",
      "\t - Validation Loss: 0.356848\n",
      "\t - Validation Accuracy: 0.847115\n",
      "\t - Validation F1: 0.846331\n",
      "\t - Validation Recall: 0.927307\n",
      "\t - Validation Precision: 0.797252\n",
      "\t * Model @ epoch 2 saved to model_saves/target-iSarcasm_inter-XED-fine_03/E02_A0.85_F0.85\n"
     ]
    },
    {
     "name": "stderr",
     "output_type": "stream",
     "text": [
      "Epoch 3: 100%|██████████| 260/260 [05:43<00:00,  1.32s/batch]\n",
      "\t Validation 64: 100%|██████████| 65/65 [00:26<00:00,  2.48batch/s]\n"
     ]
    },
    {
     "name": "stdout",
     "output_type": "stream",
     "text": [
      "\t - Train loss: 0.200555\n",
      "\t - Validation Loss: 0.277212\n",
      "\t - Validation Accuracy: 0.898077\n",
      "\t - Validation F1: 0.894615\n",
      "\t - Validation Recall: 0.925760\n",
      "\t - Validation Precision: 0.874832\n",
      "\t * Model @ epoch 3 saved to model_saves/target-iSarcasm_inter-XED-fine_03/E03_A0.9_F0.89\n"
     ]
    },
    {
     "name": "stderr",
     "output_type": "stream",
     "text": [
      "Epoch 4: 100%|██████████| 260/260 [05:44<00:00,  1.33s/batch]\n",
      "\t Validation 64: 100%|██████████| 65/65 [00:26<00:00,  2.49batch/s]\n"
     ]
    },
    {
     "name": "stdout",
     "output_type": "stream",
     "text": [
      "\t - Train loss: 0.089316\n",
      "\t - Validation Loss: 0.399759\n",
      "\t - Validation Accuracy: 0.882692\n",
      "\t - Validation F1: 0.879519\n",
      "\t - Validation Recall: 0.955822\n",
      "\t - Validation Precision: 0.828952\n",
      "\t * Model @ epoch 4 saved to model_saves/target-iSarcasm_inter-XED-fine_03/E04_A0.88_F0.88\n"
     ]
    },
    {
     "name": "stderr",
     "output_type": "stream",
     "text": [
      "Epoch 5: 100%|██████████| 260/260 [05:44<00:00,  1.33s/batch]\n",
      "\t Validation 64: 100%|██████████| 65/65 [00:26<00:00,  2.49batch/s]\n"
     ]
    },
    {
     "name": "stdout",
     "output_type": "stream",
     "text": [
      "\t - Train loss: 0.064681\n",
      "\t - Validation Loss: 0.337704\n",
      "\t - Validation Accuracy: 0.901923\n",
      "\t - Validation F1: 0.900604\n",
      "\t - Validation Recall: 0.938709\n",
      "\t - Validation Precision: 0.879833\n",
      "\t * Model @ epoch 5 saved to model_saves/target-iSarcasm_inter-XED-fine_03/E05_A0.9_F0.9\n"
     ]
    },
    {
     "name": "stderr",
     "output_type": "stream",
     "text": [
      "Epoch 6: 100%|██████████| 260/260 [05:45<00:00,  1.33s/batch]\n",
      "\t Validation 64: 100%|██████████| 65/65 [00:26<00:00,  2.45batch/s]\n"
     ]
    },
    {
     "name": "stdout",
     "output_type": "stream",
     "text": [
      "\t - Train loss: 0.057342\n",
      "\t - Validation Loss: 0.399784\n",
      "\t - Validation Accuracy: 0.889423\n",
      "\t - Validation F1: 0.887724\n",
      "\t - Validation Recall: 0.955199\n",
      "\t - Validation Precision: 0.843308\n",
      "\t * Model @ epoch 6 saved to model_saves/target-iSarcasm_inter-XED-fine_03/E06_A0.89_F0.89\n"
     ]
    },
    {
     "name": "stderr",
     "output_type": "stream",
     "text": [
      "Epoch 7: 100%|██████████| 260/260 [05:46<00:00,  1.33s/batch]\n",
      "\t Validation 64: 100%|██████████| 65/65 [00:26<00:00,  2.49batch/s]\n"
     ]
    },
    {
     "name": "stdout",
     "output_type": "stream",
     "text": [
      "\t - Train loss: 0.036000\n",
      "\t - Validation Loss: 0.353382\n",
      "\t - Validation Accuracy: 0.912500\n",
      "\t - Validation F1: 0.909128\n",
      "\t - Validation Recall: 0.950297\n",
      "\t - Validation Precision: 0.882565\n",
      "\t * Model @ epoch 7 saved to model_saves/target-iSarcasm_inter-XED-fine_03/E07_A0.91_F0.91\n"
     ]
    },
    {
     "name": "stderr",
     "output_type": "stream",
     "text": [
      "Epoch 8: 100%|██████████| 260/260 [05:45<00:00,  1.33s/batch]\n",
      "\t Validation 64: 100%|██████████| 65/65 [00:26<00:00,  2.49batch/s]\n"
     ]
    },
    {
     "name": "stdout",
     "output_type": "stream",
     "text": [
      "\t - Train loss: 0.026952\n",
      "\t - Validation Loss: 0.430084\n",
      "\t - Validation Accuracy: 0.895192\n",
      "\t - Validation F1: 0.893925\n",
      "\t - Validation Recall: 0.945302\n",
      "\t - Validation Precision: 0.862286\n",
      "\t * Model @ epoch 8 saved to model_saves/target-iSarcasm_inter-XED-fine_03/E08_A0.9_F0.89\n"
     ]
    },
    {
     "name": "stderr",
     "output_type": "stream",
     "text": [
      "Epoch 9: 100%|██████████| 260/260 [05:45<00:00,  1.33s/batch]\n",
      "\t Validation 64: 100%|██████████| 65/65 [00:26<00:00,  2.49batch/s]\n"
     ]
    },
    {
     "name": "stdout",
     "output_type": "stream",
     "text": [
      "\t - Train loss: 0.021738\n",
      "\t - Validation Loss: 0.482866\n",
      "\t - Validation Accuracy: 0.889423\n",
      "\t - Validation F1: 0.888994\n",
      "\t - Validation Recall: 0.949039\n",
      "\t - Validation Precision: 0.848620\n",
      "\t * Model @ epoch 9 saved to model_saves/target-iSarcasm_inter-XED-fine_03/E09_A0.89_F0.89\n"
     ]
    },
    {
     "name": "stderr",
     "output_type": "stream",
     "text": [
      "Epoch 10: 100%|██████████| 260/260 [05:46<00:00,  1.33s/batch]\n",
      "\t Validation 64: 100%|██████████| 65/65 [00:26<00:00,  2.50batch/s]\n"
     ]
    },
    {
     "name": "stdout",
     "output_type": "stream",
     "text": [
      "\t - Train loss: 0.026681\n",
      "\t - Validation Loss: 0.363273\n",
      "\t - Validation Accuracy: 0.913462\n",
      "\t - Validation F1: 0.908598\n",
      "\t - Validation Recall: 0.925907\n",
      "\t - Validation Precision: 0.904121\n",
      "\t * Model @ epoch 10 saved to model_saves/target-iSarcasm_inter-XED-fine_03/E10_A0.91_F0.91\n"
     ]
    }
   ],
   "source": [
    "trainer.fit()"
   ]
  },
  {
   "cell_type": "markdown",
   "metadata": {},
   "source": [
    "## intermediate_SARC"
   ]
  },
  {
   "cell_type": "code",
   "execution_count": null,
   "metadata": {},
   "outputs": [],
   "source": [
    "# set params for this model\n",
    "params.num_labels = 2\n",
    "params.output_dir = \"model_saves/target-iSarcasm_inter-SARC_03\""
   ]
  },
  {
   "cell_type": "markdown",
   "metadata": {},
   "source": [
    "### Train"
   ]
  },
  {
   "cell_type": "markdown",
   "metadata": {},
   "source": [
    "Download transformers.RobertaForSequenceClassificatio, which is a RoBERTa model with a linear layer for sentence classification (or regression) on top of the pooled output:"
   ]
  },
  {
   "cell_type": "code",
   "execution_count": 12,
   "metadata": {},
   "outputs": [
    {
     "data": {
      "text/plain": [
       "==============================================================================================================\n",
       "Layer (type:depth-idx)                                       Output Shape              Param #\n",
       "==============================================================================================================\n",
       "RobertaForSequenceClassification                             [1, 2]                    --\n",
       "├─RobertaModel: 1-1                                          [1, 512, 768]             --\n",
       "│    └─RobertaEmbeddings: 2-1                                [1, 512, 768]             --\n",
       "│    │    └─Embedding: 3-1                                   [1, 512, 768]             38,603,520\n",
       "│    │    └─Embedding: 3-2                                   [1, 512, 768]             768\n",
       "│    │    └─Embedding: 3-3                                   [1, 512, 768]             394,752\n",
       "│    │    └─LayerNorm: 3-4                                   [1, 512, 768]             1,536\n",
       "│    │    └─Dropout: 3-5                                     [1, 512, 768]             --\n",
       "│    └─RobertaEncoder: 2-2                                   [1, 512, 768]             --\n",
       "│    │    └─ModuleList: 3-6                                  --                        85,054,464\n",
       "├─RobertaClassificationHead: 1-2                             [1, 2]                    --\n",
       "│    └─Dropout: 2-3                                          [1, 768]                  --\n",
       "│    └─Linear: 2-4                                           [1, 768]                  590,592\n",
       "│    └─Dropout: 2-5                                          [1, 768]                  --\n",
       "│    └─Linear: 2-6                                           [1, 2]                    1,538\n",
       "==============================================================================================================\n",
       "Total params: 124,647,170\n",
       "Trainable params: 124,647,170\n",
       "Non-trainable params: 0\n",
       "Total mult-adds (M): 124.65\n",
       "==============================================================================================================\n",
       "Input size (MB): 0.00\n",
       "Forward/backward pass size (MB): 427.83\n",
       "Params size (MB): 498.59\n",
       "Estimated Total Size (MB): 926.42\n",
       "=============================================================================================================="
      ]
     },
     "execution_count": 12,
     "metadata": {},
     "output_type": "execute_result"
    }
   ],
   "source": [
    "# Load the RobertaForSequenceClassification model\n",
    "model = RobertaForSequenceClassification.from_pretrained(intermediate_model_path,\n",
    "                                                         num_labels = params.num_labels,\n",
    "                                                         local_files_only=True, \n",
    "                                                         ignore_mismatched_sizes=True,\n",
    "                                                         output_attentions = False,\n",
    "                                                         output_hidden_states = False,\n",
    "                                                         )\n",
    "\n",
    "from torchinfo import summary\n",
    "summary(model, input_size=(1, 512), dtypes=['torch.IntTensor'])"
   ]
  },
  {
   "cell_type": "markdown",
   "metadata": {},
   "source": [
    "Set model to device, initialize trainer"
   ]
  },
  {
   "cell_type": "code",
   "execution_count": 13,
   "metadata": {},
   "outputs": [
    {
     "name": "stdout",
     "output_type": "stream",
     "text": [
      "Trained Dataset: data/target_semEval2022_en/iSarcasmEval-main/train/train.en.prepped-oversampled.csv\n",
      "Device: mps\n"
     ]
    }
   ],
   "source": [
    "model.to(params.device)\n",
    "print(f\"Trained Dataset: {dataset_path}\")\n",
    "print(f\"Device: {params.device}\")\n",
    "\n",
    "optimizer = torch.optim.Adam(params=model.parameters(), lr=params.learning_rate) #roberta\n",
    "\n",
    "trainer = Trainer(model=model,\n",
    "                  device=params.device,\n",
    "                  tokenizer=params.tokenizer,\n",
    "                  train_dataloader=train_dataloader,\n",
    "                  validation_dataloader=validation_dataloader,\n",
    "                  epochs=params.epochs,\n",
    "                  optimizer=optimizer,\n",
    "                  val_loss_fn=params.val_loss_fn,\n",
    "                  notify=params.notify,\n",
    "                  phone_number=params.phone_number,\n",
    "                  save_dir=params.save_dir,\n",
    "                  model_name=params.model_name, \n",
    "                  save_freq=params.save_freq)"
   ]
  },
  {
   "cell_type": "markdown",
   "metadata": {},
   "source": [
    "Fit the model to our training data."
   ]
  },
  {
   "cell_type": "code",
   "execution_count": 14,
   "metadata": {},
   "outputs": [
    {
     "name": "stderr",
     "output_type": "stream",
     "text": [
      "Epoch 1:   0%|          | 0/260 [00:00<?, ?batch/s]/Users/jarradjinx/opt/anaconda3/envs/itesd_env/lib/python3.9/site-packages/transformers/models/roberta/modeling_roberta.py:1570: UserWarning: The operator 'aten::cumsum.out' is not currently supported on the MPS backend and will fall back to run on the CPU. This may have performance implications. (Triggered internally at /Users/runner/work/pytorch/pytorch/pytorch/aten/src/ATen/mps/MPSFallback.mm:11.)\n",
      "  incremental_indices = (torch.cumsum(mask, dim=1).type_as(mask) + past_key_values_length) * mask\n",
      "Epoch 1: 100%|██████████| 260/260 [05:50<00:00,  1.35s/batch]\n",
      "\t Validation 64: 100%|██████████| 65/65 [00:26<00:00,  2.46batch/s]\n"
     ]
    },
    {
     "name": "stdout",
     "output_type": "stream",
     "text": [
      "\t - Train loss: 0.589423\n",
      "\t - Validation Loss: 0.464594\n",
      "\t - Validation Accuracy: 0.766346\n",
      "\t - Validation F1: 0.737375\n",
      "\t - Validation Recall: 0.710190\n",
      "\t - Validation Precision: 0.795353\n",
      "\t * Model @ epoch 1 saved to model_saves/target-iSarcasm_inter-SARC_03/E01_A0.77_F0.74\n"
     ]
    },
    {
     "name": "stderr",
     "output_type": "stream",
     "text": [
      "Epoch 2: 100%|██████████| 260/260 [05:45<00:00,  1.33s/batch]\n",
      "\t Validation 64: 100%|██████████| 65/65 [00:25<00:00,  2.50batch/s]\n"
     ]
    },
    {
     "name": "stdout",
     "output_type": "stream",
     "text": [
      "\t - Train loss: 0.331471\n",
      "\t - Validation Loss: 0.341481\n",
      "\t - Validation Accuracy: 0.858654\n",
      "\t - Validation F1: 0.860319\n",
      "\t - Validation Recall: 0.921218\n",
      "\t - Validation Precision: 0.822528\n",
      "\t * Model @ epoch 2 saved to model_saves/target-iSarcasm_inter-SARC_03/E02_A0.86_F0.86\n"
     ]
    },
    {
     "name": "stderr",
     "output_type": "stream",
     "text": [
      "Epoch 3: 100%|██████████| 260/260 [05:44<00:00,  1.33s/batch]\n",
      "\t Validation 64: 100%|██████████| 65/65 [00:26<00:00,  2.42batch/s]\n"
     ]
    },
    {
     "name": "stdout",
     "output_type": "stream",
     "text": [
      "\t - Train loss: 0.151912\n",
      "\t - Validation Loss: 0.352892\n",
      "\t - Validation Accuracy: 0.897115\n",
      "\t - Validation F1: 0.895943\n",
      "\t - Validation Recall: 0.948753\n",
      "\t - Validation Precision: 0.857389\n",
      "\t * Model @ epoch 3 saved to model_saves/target-iSarcasm_inter-SARC_03/E03_A0.9_F0.9\n"
     ]
    },
    {
     "name": "stderr",
     "output_type": "stream",
     "text": [
      "Epoch 4: 100%|██████████| 260/260 [05:47<00:00,  1.34s/batch]\n",
      "\t Validation 64: 100%|██████████| 65/65 [00:27<00:00,  2.40batch/s]\n"
     ]
    },
    {
     "name": "stdout",
     "output_type": "stream",
     "text": [
      "\t - Train loss: 0.089651\n",
      "\t - Validation Loss: 0.331183\n",
      "\t - Validation Accuracy: 0.904808\n",
      "\t - Validation F1: 0.897131\n",
      "\t - Validation Recall: 0.935004\n",
      "\t - Validation Precision: 0.874010\n",
      "\t * Model @ epoch 4 saved to model_saves/target-iSarcasm_inter-SARC_03/E04_A0.9_F0.9\n"
     ]
    },
    {
     "name": "stderr",
     "output_type": "stream",
     "text": [
      "Epoch 5: 100%|██████████| 260/260 [05:44<00:00,  1.33s/batch]\n",
      "\t Validation 64: 100%|██████████| 65/65 [00:26<00:00,  2.41batch/s]\n"
     ]
    },
    {
     "name": "stdout",
     "output_type": "stream",
     "text": [
      "\t - Train loss: 0.061303\n",
      "\t - Validation Loss: 0.421003\n",
      "\t - Validation Accuracy: 0.886538\n",
      "\t - Validation F1: 0.881715\n",
      "\t - Validation Recall: 0.938753\n",
      "\t - Validation Precision: 0.841736\n",
      "\t * Model @ epoch 5 saved to model_saves/target-iSarcasm_inter-SARC_03/E05_A0.89_F0.88\n"
     ]
    },
    {
     "name": "stderr",
     "output_type": "stream",
     "text": [
      "Epoch 6: 100%|██████████| 260/260 [05:46<00:00,  1.33s/batch]\n",
      "\t Validation 64: 100%|██████████| 65/65 [00:26<00:00,  2.46batch/s]\n"
     ]
    },
    {
     "name": "stdout",
     "output_type": "stream",
     "text": [
      "\t - Train loss: 0.041041\n",
      "\t - Validation Loss: 0.466762\n",
      "\t - Validation Accuracy: 0.890385\n",
      "\t - Validation F1: 0.885185\n",
      "\t - Validation Recall: 0.942386\n",
      "\t - Validation Precision: 0.845128\n",
      "\t * Model @ epoch 6 saved to model_saves/target-iSarcasm_inter-SARC_03/E06_A0.89_F0.89\n"
     ]
    },
    {
     "name": "stderr",
     "output_type": "stream",
     "text": [
      "Epoch 7: 100%|██████████| 260/260 [05:45<00:00,  1.33s/batch]\n",
      "\t Validation 64: 100%|██████████| 65/65 [00:26<00:00,  2.42batch/s]\n"
     ]
    },
    {
     "name": "stdout",
     "output_type": "stream",
     "text": [
      "\t - Train loss: 0.029830\n",
      "\t - Validation Loss: 0.498110\n",
      "\t - Validation Accuracy: 0.889423\n",
      "\t - Validation F1: 0.886588\n",
      "\t - Validation Recall: 0.939278\n",
      "\t - Validation Precision: 0.849738\n",
      "\t * Model @ epoch 7 saved to model_saves/target-iSarcasm_inter-SARC_03/E07_A0.89_F0.89\n"
     ]
    },
    {
     "name": "stderr",
     "output_type": "stream",
     "text": [
      "Epoch 8: 100%|██████████| 260/260 [05:44<00:00,  1.32s/batch]\n",
      "\t Validation 64: 100%|██████████| 65/65 [00:26<00:00,  2.46batch/s]\n"
     ]
    },
    {
     "name": "stdout",
     "output_type": "stream",
     "text": [
      "\t - Train loss: 0.035371\n",
      "\t - Validation Loss: 0.483717\n",
      "\t - Validation Accuracy: 0.881731\n",
      "\t - Validation F1: 0.883549\n",
      "\t - Validation Recall: 0.953772\n",
      "\t - Validation Precision: 0.833782\n",
      "\t * Model @ epoch 8 saved to model_saves/target-iSarcasm_inter-SARC_03/E08_A0.88_F0.88\n"
     ]
    },
    {
     "name": "stderr",
     "output_type": "stream",
     "text": [
      "Epoch 9: 100%|██████████| 260/260 [05:43<00:00,  1.32s/batch]\n",
      "\t Validation 64: 100%|██████████| 65/65 [00:26<00:00,  2.45batch/s]\n"
     ]
    },
    {
     "name": "stdout",
     "output_type": "stream",
     "text": [
      "\t - Train loss: 0.022856\n",
      "\t - Validation Loss: 0.514065\n",
      "\t - Validation Accuracy: 0.891346\n",
      "\t - Validation F1: 0.889624\n",
      "\t - Validation Recall: 0.945688\n",
      "\t - Validation Precision: 0.850813\n",
      "\t * Model @ epoch 9 saved to model_saves/target-iSarcasm_inter-SARC_03/E09_A0.89_F0.89\n"
     ]
    },
    {
     "name": "stderr",
     "output_type": "stream",
     "text": [
      "Epoch 10: 100%|██████████| 260/260 [05:43<00:00,  1.32s/batch]\n",
      "\t Validation 64: 100%|██████████| 65/65 [00:26<00:00,  2.46batch/s]\n"
     ]
    },
    {
     "name": "stdout",
     "output_type": "stream",
     "text": [
      "\t - Train loss: 0.018625\n",
      "\t - Validation Loss: 0.440122\n",
      "\t - Validation Accuracy: 0.908654\n",
      "\t - Validation F1: 0.903081\n",
      "\t - Validation Recall: 0.945047\n",
      "\t - Validation Precision: 0.877072\n",
      "\t * Model @ epoch 10 saved to model_saves/target-iSarcasm_inter-SARC_03/E10_A0.91_F0.9\n"
     ]
    }
   ],
   "source": [
    "trainer.fit()"
   ]
  },
  {
   "cell_type": "code",
   "execution_count": null,
   "metadata": {},
   "outputs": [],
   "source": []
  },
  {
   "cell_type": "markdown",
   "metadata": {},
   "source": [
    "## intermediate_IMDB"
   ]
  },
  {
   "cell_type": "code",
   "execution_count": null,
   "metadata": {},
   "outputs": [],
   "source": [
    "# set params for this model\n",
    "params.num_labels = 2\n",
    "params.output_dir = \"model_saves/target-iSarcasm_inter-IMDB_03\""
   ]
  },
  {
   "cell_type": "markdown",
   "metadata": {},
   "source": [
    "### Train"
   ]
  },
  {
   "cell_type": "markdown",
   "metadata": {},
   "source": [
    "Download transformers.RobertaForSequenceClassificatio, which is a RoBERTa model with a linear layer for sentence classification (or regression) on top of the pooled output:"
   ]
  },
  {
   "cell_type": "code",
   "execution_count": 12,
   "metadata": {},
   "outputs": [
    {
     "data": {
      "text/plain": [
       "==============================================================================================================\n",
       "Layer (type:depth-idx)                                       Output Shape              Param #\n",
       "==============================================================================================================\n",
       "RobertaForSequenceClassification                             [1, 2]                    --\n",
       "├─RobertaModel: 1-1                                          [1, 512, 768]             --\n",
       "│    └─RobertaEmbeddings: 2-1                                [1, 512, 768]             --\n",
       "│    │    └─Embedding: 3-1                                   [1, 512, 768]             38,603,520\n",
       "│    │    └─Embedding: 3-2                                   [1, 512, 768]             768\n",
       "│    │    └─Embedding: 3-3                                   [1, 512, 768]             394,752\n",
       "│    │    └─LayerNorm: 3-4                                   [1, 512, 768]             1,536\n",
       "│    │    └─Dropout: 3-5                                     [1, 512, 768]             --\n",
       "│    └─RobertaEncoder: 2-2                                   [1, 512, 768]             --\n",
       "│    │    └─ModuleList: 3-6                                  --                        85,054,464\n",
       "├─RobertaClassificationHead: 1-2                             [1, 2]                    --\n",
       "│    └─Dropout: 2-3                                          [1, 768]                  --\n",
       "│    └─Linear: 2-4                                           [1, 768]                  590,592\n",
       "│    └─Dropout: 2-5                                          [1, 768]                  --\n",
       "│    └─Linear: 2-6                                           [1, 2]                    1,538\n",
       "==============================================================================================================\n",
       "Total params: 124,647,170\n",
       "Trainable params: 124,647,170\n",
       "Non-trainable params: 0\n",
       "Total mult-adds (M): 124.65\n",
       "==============================================================================================================\n",
       "Input size (MB): 0.00\n",
       "Forward/backward pass size (MB): 427.83\n",
       "Params size (MB): 498.59\n",
       "Estimated Total Size (MB): 926.42\n",
       "=============================================================================================================="
      ]
     },
     "execution_count": 12,
     "metadata": {},
     "output_type": "execute_result"
    }
   ],
   "source": [
    "# Load the RobertaForSequenceClassification model\n",
    "model = RobertaForSequenceClassification.from_pretrained(intermediate_model_path,\n",
    "                                                         num_labels = params.num_labels,\n",
    "                                                         local_files_only=True, \n",
    "                                                         ignore_mismatched_sizes=True,\n",
    "                                                         output_attentions = False,\n",
    "                                                         output_hidden_states = False,\n",
    "                                                         )\n",
    "\n",
    "from torchinfo import summary\n",
    "summary(model, input_size=(1, 512), dtypes=['torch.IntTensor'])"
   ]
  },
  {
   "cell_type": "markdown",
   "metadata": {},
   "source": [
    "Set model to device, initialize trainer"
   ]
  },
  {
   "cell_type": "code",
   "execution_count": 13,
   "metadata": {},
   "outputs": [
    {
     "name": "stdout",
     "output_type": "stream",
     "text": [
      "Trained Dataset: data/target_semEval2022_en/iSarcasmEval-main/train/train.en.prepped-oversampled.csv\n",
      "Device: mps\n"
     ]
    }
   ],
   "source": [
    "model.to(params.device)\n",
    "print(f\"Trained Dataset: {dataset_path}\")\n",
    "print(f\"Device: {params.device}\")\n",
    "\n",
    "optimizer = torch.optim.Adam(params=model.parameters(), lr=params.learning_rate) #roberta\n",
    "\n",
    "trainer = Trainer(model=model,\n",
    "                  device=params.device,\n",
    "                  tokenizer=params.tokenizer,\n",
    "                  train_dataloader=train_dataloader,\n",
    "                  validation_dataloader=validation_dataloader,\n",
    "                  epochs=params.epochs,\n",
    "                  optimizer=optimizer,\n",
    "                  val_loss_fn=params.val_loss_fn,\n",
    "                  notify=params.notify,\n",
    "                  phone_number=params.phone_number,\n",
    "                  save_dir=params.save_dir,\n",
    "                  model_name=params.model_name, \n",
    "                  save_freq=params.save_freq)"
   ]
  },
  {
   "cell_type": "markdown",
   "metadata": {},
   "source": [
    "Fit the model to our training data."
   ]
  },
  {
   "cell_type": "code",
   "execution_count": 14,
   "metadata": {},
   "outputs": [
    {
     "name": "stderr",
     "output_type": "stream",
     "text": [
      "Epoch 1:   0%|          | 0/260 [00:00<?, ?batch/s]/Users/jarradjinx/opt/anaconda3/envs/itesd_env/lib/python3.9/site-packages/transformers/models/roberta/modeling_roberta.py:1570: UserWarning: The operator 'aten::cumsum.out' is not currently supported on the MPS backend and will fall back to run on the CPU. This may have performance implications. (Triggered internally at /Users/runner/work/pytorch/pytorch/pytorch/aten/src/ATen/mps/MPSFallback.mm:11.)\n",
      "  incremental_indices = (torch.cumsum(mask, dim=1).type_as(mask) + past_key_values_length) * mask\n",
      "Epoch 1: 100%|██████████| 260/260 [05:49<00:00,  1.34s/batch]\n",
      "\t Validation 64: 100%|██████████| 65/65 [00:26<00:00,  2.43batch/s]\n"
     ]
    },
    {
     "name": "stdout",
     "output_type": "stream",
     "text": [
      "\t - Train loss: 0.720906\n",
      "\t - Validation Loss: 0.670519\n",
      "\t - Validation Accuracy: 0.614423\n",
      "\t - Validation F1: 0.459765\n",
      "\t - Validation Recall: 0.355855\n",
      "\t - Validation Precision: 0.724194\n",
      "\t * Model @ epoch 1 saved to model_saves/target-iSarcasm_inter_IMDB_03/E01_A0.61_F0.46\n"
     ]
    },
    {
     "name": "stderr",
     "output_type": "stream",
     "text": [
      "Epoch 2: 100%|██████████| 260/260 [05:51<00:00,  1.35s/batch]\n",
      "\t Validation 64: 100%|██████████| 65/65 [00:26<00:00,  2.43batch/s]\n"
     ]
    },
    {
     "name": "stdout",
     "output_type": "stream",
     "text": [
      "\t - Train loss: 0.618313\n",
      "\t - Validation Loss: 0.482698\n",
      "\t - Validation Accuracy: 0.760577\n",
      "\t - Validation F1: 0.735566\n",
      "\t - Validation Recall: 0.721010\n",
      "\t - Validation Precision: 0.776746\n",
      "\t * Model @ epoch 2 saved to model_saves/target-iSarcasm_inter_IMDB_03/E02_A0.76_F0.74\n"
     ]
    },
    {
     "name": "stderr",
     "output_type": "stream",
     "text": [
      "Epoch 3: 100%|██████████| 260/260 [05:53<00:00,  1.36s/batch]\n",
      "\t Validation 64: 100%|██████████| 65/65 [00:27<00:00,  2.37batch/s]\n"
     ]
    },
    {
     "name": "stdout",
     "output_type": "stream",
     "text": [
      "\t - Train loss: 0.419698\n",
      "\t - Validation Loss: 0.357019\n",
      "\t - Validation Accuracy: 0.853846\n",
      "\t - Validation F1: 0.830517\n",
      "\t - Validation Recall: 0.775184\n",
      "\t - Validation Precision: 0.918424\n",
      "\t * Model @ epoch 3 saved to model_saves/target-iSarcasm_inter_IMDB_03/E03_A0.85_F0.83\n"
     ]
    },
    {
     "name": "stderr",
     "output_type": "stream",
     "text": [
      "Epoch 4: 100%|██████████| 260/260 [05:48<00:00,  1.34s/batch]\n",
      "\t Validation 64: 100%|██████████| 65/65 [00:27<00:00,  2.40batch/s]\n"
     ]
    },
    {
     "name": "stdout",
     "output_type": "stream",
     "text": [
      "\t - Train loss: 0.221930\n",
      "\t - Validation Loss: 0.305668\n",
      "\t - Validation Accuracy: 0.895192\n",
      "\t - Validation F1: 0.890882\n",
      "\t - Validation Recall: 0.910014\n",
      "\t - Validation Precision: 0.884669\n",
      "\t * Model @ epoch 4 saved to model_saves/target-iSarcasm_inter_IMDB_03/E04_A0.9_F0.89\n"
     ]
    },
    {
     "name": "stderr",
     "output_type": "stream",
     "text": [
      "Epoch 5: 100%|██████████| 260/260 [05:48<00:00,  1.34s/batch]\n",
      "\t Validation 64: 100%|██████████| 65/65 [00:26<00:00,  2.43batch/s]\n"
     ]
    },
    {
     "name": "stdout",
     "output_type": "stream",
     "text": [
      "\t - Train loss: 0.113571\n",
      "\t - Validation Loss: 0.383156\n",
      "\t - Validation Accuracy: 0.887500\n",
      "\t - Validation F1: 0.884279\n",
      "\t - Validation Recall: 0.940664\n",
      "\t - Validation Precision: 0.844452\n",
      "\t * Model @ epoch 5 saved to model_saves/target-iSarcasm_inter_IMDB_03/E05_A0.89_F0.88\n"
     ]
    },
    {
     "name": "stderr",
     "output_type": "stream",
     "text": [
      "Epoch 6: 100%|██████████| 260/260 [05:52<00:00,  1.36s/batch]\n",
      "\t Validation 64: 100%|██████████| 65/65 [00:26<00:00,  2.43batch/s]\n"
     ]
    },
    {
     "name": "stdout",
     "output_type": "stream",
     "text": [
      "\t - Train loss: 0.075682\n",
      "\t - Validation Loss: 0.335626\n",
      "\t - Validation Accuracy: 0.907692\n",
      "\t - Validation F1: 0.901919\n",
      "\t - Validation Recall: 0.930004\n",
      "\t - Validation Precision: 0.887407\n",
      "\t * Model @ epoch 6 saved to model_saves/target-iSarcasm_inter_IMDB_03/E06_A0.91_F0.9\n"
     ]
    },
    {
     "name": "stderr",
     "output_type": "stream",
     "text": [
      "Epoch 7: 100%|██████████| 260/260 [05:53<00:00,  1.36s/batch]\n",
      "\t Validation 64: 100%|██████████| 65/65 [00:26<00:00,  2.46batch/s]\n"
     ]
    },
    {
     "name": "stdout",
     "output_type": "stream",
     "text": [
      "\t - Train loss: 0.060725\n",
      "\t - Validation Loss: 0.358516\n",
      "\t - Validation Accuracy: 0.899038\n",
      "\t - Validation F1: 0.897002\n",
      "\t - Validation Recall: 0.935261\n",
      "\t - Validation Precision: 0.871919\n",
      "\t * Model @ epoch 7 saved to model_saves/target-iSarcasm_inter_IMDB_03/E07_A0.9_F0.9\n"
     ]
    },
    {
     "name": "stderr",
     "output_type": "stream",
     "text": [
      "Epoch 8: 100%|██████████| 260/260 [05:47<00:00,  1.34s/batch]\n",
      "\t Validation 64: 100%|██████████| 65/65 [00:26<00:00,  2.46batch/s]\n"
     ]
    },
    {
     "name": "stdout",
     "output_type": "stream",
     "text": [
      "\t - Train loss: 0.033853\n",
      "\t - Validation Loss: 0.416645\n",
      "\t - Validation Accuracy: 0.898077\n",
      "\t - Validation F1: 0.895188\n",
      "\t - Validation Recall: 0.933862\n",
      "\t - Validation Precision: 0.871095\n",
      "\t * Model @ epoch 8 saved to model_saves/target-iSarcasm_inter_IMDB_03/E08_A0.9_F0.9\n"
     ]
    },
    {
     "name": "stderr",
     "output_type": "stream",
     "text": [
      "Epoch 9: 100%|██████████| 260/260 [05:47<00:00,  1.34s/batch]\n",
      "\t Validation 64: 100%|██████████| 65/65 [00:26<00:00,  2.47batch/s]\n"
     ]
    },
    {
     "name": "stdout",
     "output_type": "stream",
     "text": [
      "\t - Train loss: 0.028918\n",
      "\t - Validation Loss: 0.513128\n",
      "\t - Validation Accuracy: 0.886538\n",
      "\t - Validation F1: 0.886966\n",
      "\t - Validation Recall: 0.937342\n",
      "\t - Validation Precision: 0.852207\n",
      "\t * Model @ epoch 9 saved to model_saves/target-iSarcasm_inter_IMDB_03/E09_A0.89_F0.89\n"
     ]
    },
    {
     "name": "stderr",
     "output_type": "stream",
     "text": [
      "Epoch 10: 100%|██████████| 260/260 [05:47<00:00,  1.34s/batch]\n",
      "\t Validation 64: 100%|██████████| 65/65 [00:26<00:00,  2.47batch/s]\n"
     ]
    },
    {
     "name": "stdout",
     "output_type": "stream",
     "text": [
      "\t - Train loss: 0.044890\n",
      "\t - Validation Loss: 0.458067\n",
      "\t - Validation Accuracy: 0.881731\n",
      "\t - Validation F1: 0.879546\n",
      "\t - Validation Recall: 0.939796\n",
      "\t - Validation Precision: 0.839375\n",
      "\t * Model @ epoch 10 saved to model_saves/target-iSarcasm_inter_IMDB_03/E10_A0.88_F0.88\n"
     ]
    }
   ],
   "source": [
    "trainer.fit()"
   ]
  },
  {
   "cell_type": "markdown",
   "metadata": {},
   "source": [
    "## intermediate_hellaswag"
   ]
  },
  {
   "cell_type": "code",
   "execution_count": null,
   "metadata": {},
   "outputs": [],
   "source": [
    "# set params for this model\n",
    "params.num_labels = 2\n",
    "params.output_dir = \"model_saves/target-iSarcasm_inter-hellaswag_03\""
   ]
  },
  {
   "cell_type": "markdown",
   "metadata": {},
   "source": [
    "### Train"
   ]
  },
  {
   "cell_type": "markdown",
   "metadata": {},
   "source": [
    "Download transformers.RobertaForSequenceClassificatio, which is a RoBERTa model with a linear layer for sentence classification (or regression) on top of the pooled output:"
   ]
  },
  {
   "cell_type": "code",
   "execution_count": 12,
   "metadata": {},
   "outputs": [
    {
     "data": {
      "text/plain": [
       "==============================================================================================================\n",
       "Layer (type:depth-idx)                                       Output Shape              Param #\n",
       "==============================================================================================================\n",
       "RobertaForSequenceClassification                             [1, 2]                    --\n",
       "├─RobertaModel: 1-1                                          [1, 512, 768]             --\n",
       "│    └─RobertaEmbeddings: 2-1                                [1, 512, 768]             --\n",
       "│    │    └─Embedding: 3-1                                   [1, 512, 768]             38,603,520\n",
       "│    │    └─Embedding: 3-2                                   [1, 512, 768]             768\n",
       "│    │    └─Embedding: 3-3                                   [1, 512, 768]             394,752\n",
       "│    │    └─LayerNorm: 3-4                                   [1, 512, 768]             1,536\n",
       "│    │    └─Dropout: 3-5                                     [1, 512, 768]             --\n",
       "│    └─RobertaEncoder: 2-2                                   [1, 512, 768]             --\n",
       "│    │    └─ModuleList: 3-6                                  --                        85,054,464\n",
       "├─RobertaClassificationHead: 1-2                             [1, 2]                    --\n",
       "│    └─Dropout: 2-3                                          [1, 768]                  --\n",
       "│    └─Linear: 2-4                                           [1, 768]                  590,592\n",
       "│    └─Dropout: 2-5                                          [1, 768]                  --\n",
       "│    └─Linear: 2-6                                           [1, 2]                    1,538\n",
       "==============================================================================================================\n",
       "Total params: 124,647,170\n",
       "Trainable params: 124,647,170\n",
       "Non-trainable params: 0\n",
       "Total mult-adds (M): 124.65\n",
       "==============================================================================================================\n",
       "Input size (MB): 0.00\n",
       "Forward/backward pass size (MB): 427.83\n",
       "Params size (MB): 498.59\n",
       "Estimated Total Size (MB): 926.42\n",
       "=============================================================================================================="
      ]
     },
     "execution_count": 12,
     "metadata": {},
     "output_type": "execute_result"
    }
   ],
   "source": [
    "# Load the RobertaForSequenceClassification model\n",
    "model = RobertaForSequenceClassification.from_pretrained(intermediate_model_path,\n",
    "                                                         num_labels = params.num_labels,\n",
    "                                                         local_files_only=True, \n",
    "                                                         ignore_mismatched_sizes=True,\n",
    "                                                         output_attentions = False,\n",
    "                                                         output_hidden_states = False,\n",
    "                                                         )\n",
    "\n",
    "from torchinfo import summary\n",
    "summary(model, input_size=(1, 512), dtypes=['torch.IntTensor'])"
   ]
  },
  {
   "cell_type": "markdown",
   "metadata": {},
   "source": [
    "Set model to device, initialize trainer"
   ]
  },
  {
   "cell_type": "code",
   "execution_count": 13,
   "metadata": {},
   "outputs": [
    {
     "name": "stdout",
     "output_type": "stream",
     "text": [
      "Trained Dataset: data/target_semEval2022_en/iSarcasmEval-main/train/train.en.prepped-oversampled.csv\n",
      "Device: mps\n"
     ]
    }
   ],
   "source": [
    "model.to(params.device)\n",
    "print(f\"Trained Dataset: {dataset_path}\")\n",
    "print(f\"Device: {params.device}\")\n",
    "\n",
    "optimizer = torch.optim.Adam(params=model.parameters(), lr=params.learning_rate) #roberta\n",
    "\n",
    "trainer = Trainer(model=model,\n",
    "                  device=params.device,\n",
    "                  tokenizer=params.tokenizer,\n",
    "                  train_dataloader=train_dataloader,\n",
    "                  validation_dataloader=validation_dataloader,\n",
    "                  epochs=params.epochs,\n",
    "                  optimizer=optimizer,\n",
    "                  val_loss_fn=params.val_loss_fn,\n",
    "                  num_labels=params.num_labels,\n",
    "                  output_dir=params.output_dir,\n",
    "                  save_freq=params.save_freq,\n",
    "                  checkpoint_freq=params.checkpoint_freq,)"
   ]
  },
  {
   "cell_type": "markdown",
   "metadata": {},
   "source": [
    "Fit the model to our training data."
   ]
  },
  {
   "cell_type": "code",
   "execution_count": 14,
   "metadata": {},
   "outputs": [
    {
     "name": "stderr",
     "output_type": "stream",
     "text": [
      "Epoch 1: 100%|██████████| 260/260 [05:50<00:00,  1.35s/batch]\n",
      "\t Validation 64: 100%|██████████| 65/65 [00:26<00:00,  2.49batch/s]\n"
     ]
    },
    {
     "name": "stdout",
     "output_type": "stream",
     "text": [
      "\t - Train loss: 0.590560\n",
      "\t - Validation Loss: 0.424827\n",
      "\t - Validation Accuracy: 0.805769\n",
      "\t - Validation F1: 0.767911\n",
      "\t - Validation Recall: 0.696248\n",
      "\t - Validation Precision: 0.895647\n",
      "\t * Model @ epoch 1 saved to model_saves/target-iSarcasm_inter-hellaswag_03/E01_A0.81_F0.77\n",
      "\t * Model checkpoint saved to model_saves/target-iSarcasm_inter-hellaswag_03/E01_A0.81_F0.77/checkpoint.pt\n"
     ]
    },
    {
     "name": "stderr",
     "output_type": "stream",
     "text": [
      "Epoch 2: 100%|██████████| 260/260 [05:46<00:00,  1.33s/batch]\n",
      "\t Validation 64: 100%|██████████| 65/65 [00:26<00:00,  2.45batch/s]\n"
     ]
    },
    {
     "name": "stdout",
     "output_type": "stream",
     "text": [
      "\t - Train loss: 0.284567\n",
      "\t - Validation Loss: 0.312427\n",
      "\t - Validation Accuracy: 0.882692\n",
      "\t - Validation F1: 0.877528\n",
      "\t - Validation Recall: 0.940053\n",
      "\t - Validation Precision: 0.833562\n",
      "\t * Model @ epoch 2 saved to model_saves/target-iSarcasm_inter-hellaswag_03/E02_A0.88_F0.88\n",
      "\t * Model checkpoint saved to model_saves/target-iSarcasm_inter-hellaswag_03/E02_A0.88_F0.88/checkpoint.pt\n"
     ]
    },
    {
     "name": "stderr",
     "output_type": "stream",
     "text": [
      "Epoch 3: 100%|██████████| 260/260 [05:48<00:00,  1.34s/batch]\n",
      "\t Validation 64: 100%|██████████| 65/65 [00:26<00:00,  2.47batch/s]\n"
     ]
    },
    {
     "name": "stdout",
     "output_type": "stream",
     "text": [
      "\t - Train loss: 0.115719\n",
      "\t - Validation Loss: 0.256675\n",
      "\t - Validation Accuracy: 0.925000\n",
      "\t - Validation F1: 0.917065\n",
      "\t - Validation Recall: 0.917652\n",
      "\t - Validation Precision: 0.925378\n",
      "\t * Model @ epoch 3 saved to model_saves/target-iSarcasm_inter-hellaswag_03/E03_A0.92_F0.92\n",
      "\t * Model checkpoint saved to model_saves/target-iSarcasm_inter-hellaswag_03/E03_A0.92_F0.92/checkpoint.pt\n"
     ]
    },
    {
     "name": "stderr",
     "output_type": "stream",
     "text": [
      "Epoch 4: 100%|██████████| 260/260 [05:49<00:00,  1.34s/batch]\n",
      "\t Validation 64: 100%|██████████| 65/65 [00:25<00:00,  2.52batch/s]\n"
     ]
    },
    {
     "name": "stdout",
     "output_type": "stream",
     "text": [
      "\t - Train loss: 0.067689\n",
      "\t - Validation Loss: 0.299522\n",
      "\t - Validation Accuracy: 0.909615\n",
      "\t - Validation F1: 0.904544\n",
      "\t - Validation Recall: 0.933489\n",
      "\t - Validation Precision: 0.887402\n",
      "\t * Model @ epoch 4 saved to model_saves/target-iSarcasm_inter-hellaswag_03/E04_A0.91_F0.9\n",
      "\t * Model checkpoint saved to model_saves/target-iSarcasm_inter-hellaswag_03/E04_A0.91_F0.9/checkpoint.pt\n"
     ]
    },
    {
     "name": "stderr",
     "output_type": "stream",
     "text": [
      "Epoch 5: 100%|██████████| 260/260 [05:48<00:00,  1.34s/batch]\n",
      "\t Validation 64: 100%|██████████| 65/65 [00:26<00:00,  2.42batch/s]\n"
     ]
    },
    {
     "name": "stdout",
     "output_type": "stream",
     "text": [
      "\t - Train loss: 0.056081\n",
      "\t - Validation Loss: 0.270399\n",
      "\t - Validation Accuracy: 0.942308\n",
      "\t - Validation F1: 0.938804\n",
      "\t - Validation Recall: 0.914581\n",
      "\t - Validation Precision: 0.971190\n",
      "\t * Model @ epoch 5 saved to model_saves/target-iSarcasm_inter-hellaswag_03/E05_A0.94_F0.94\n",
      "\t * Model checkpoint saved to model_saves/target-iSarcasm_inter-hellaswag_03/E05_A0.94_F0.94/checkpoint.pt\n"
     ]
    },
    {
     "name": "stderr",
     "output_type": "stream",
     "text": [
      "Epoch 6: 100%|██████████| 260/260 [05:48<00:00,  1.34s/batch]\n",
      "\t Validation 64: 100%|██████████| 65/65 [00:27<00:00,  2.38batch/s]\n"
     ]
    },
    {
     "name": "stdout",
     "output_type": "stream",
     "text": [
      "\t - Train loss: 0.039217\n",
      "\t - Validation Loss: 0.337257\n",
      "\t - Validation Accuracy: 0.911538\n",
      "\t - Validation F1: 0.907363\n",
      "\t - Validation Recall: 0.941628\n",
      "\t - Validation Precision: 0.884996\n",
      "\t * Model @ epoch 6 saved to model_saves/target-iSarcasm_inter-hellaswag_03/E06_A0.91_F0.91\n",
      "\t * Model checkpoint saved to model_saves/target-iSarcasm_inter-hellaswag_03/E06_A0.91_F0.91/checkpoint.pt\n"
     ]
    },
    {
     "name": "stderr",
     "output_type": "stream",
     "text": [
      "Epoch 7: 100%|██████████| 260/260 [05:47<00:00,  1.34s/batch]\n",
      "\t Validation 64: 100%|██████████| 65/65 [00:25<00:00,  2.51batch/s]\n"
     ]
    },
    {
     "name": "stdout",
     "output_type": "stream",
     "text": [
      "\t - Train loss: 0.035717\n",
      "\t - Validation Loss: 0.287735\n",
      "\t - Validation Accuracy: 0.933654\n",
      "\t - Validation F1: 0.926270\n",
      "\t - Validation Recall: 0.939705\n",
      "\t - Validation Precision: 0.922125\n",
      "\t * Model @ epoch 7 saved to model_saves/target-iSarcasm_inter-hellaswag_03/E07_A0.93_F0.93\n",
      "\t * Model checkpoint saved to model_saves/target-iSarcasm_inter-hellaswag_03/E07_A0.93_F0.93/checkpoint.pt\n"
     ]
    },
    {
     "name": "stderr",
     "output_type": "stream",
     "text": [
      "Epoch 8: 100%|██████████| 260/260 [05:47<00:00,  1.34s/batch]\n",
      "\t Validation 64: 100%|██████████| 65/65 [00:26<00:00,  2.50batch/s]\n"
     ]
    },
    {
     "name": "stdout",
     "output_type": "stream",
     "text": [
      "\t - Train loss: 0.028963\n",
      "\t - Validation Loss: 0.286411\n",
      "\t - Validation Accuracy: 0.936538\n",
      "\t - Validation F1: 0.931752\n",
      "\t - Validation Recall: 0.941104\n",
      "\t - Validation Precision: 0.930437\n",
      "\t * Model @ epoch 8 saved to model_saves/target-iSarcasm_inter-hellaswag_03/E08_A0.94_F0.93\n",
      "\t * Model checkpoint saved to model_saves/target-iSarcasm_inter-hellaswag_03/E08_A0.94_F0.93/checkpoint.pt\n"
     ]
    },
    {
     "name": "stderr",
     "output_type": "stream",
     "text": [
      "Epoch 9: 100%|██████████| 260/260 [05:47<00:00,  1.34s/batch]\n",
      "\t Validation 64: 100%|██████████| 65/65 [00:26<00:00,  2.50batch/s]\n"
     ]
    },
    {
     "name": "stdout",
     "output_type": "stream",
     "text": [
      "\t - Train loss: 0.025448\n",
      "\t - Validation Loss: 0.396453\n",
      "\t - Validation Accuracy: 0.901923\n",
      "\t - Validation F1: 0.899960\n",
      "\t - Validation Recall: 0.940090\n",
      "\t - Validation Precision: 0.873059\n",
      "\t * Model @ epoch 9 saved to model_saves/target-iSarcasm_inter-hellaswag_03/E09_A0.9_F0.9\n",
      "\t * Model checkpoint saved to model_saves/target-iSarcasm_inter-hellaswag_03/E09_A0.9_F0.9/checkpoint.pt\n"
     ]
    },
    {
     "name": "stderr",
     "output_type": "stream",
     "text": [
      "Epoch 10: 100%|██████████| 260/260 [05:46<00:00,  1.33s/batch]\n",
      "\t Validation 64: 100%|██████████| 65/65 [00:26<00:00,  2.49batch/s]\n"
     ]
    },
    {
     "name": "stdout",
     "output_type": "stream",
     "text": [
      "\t - Train loss: 0.021718\n",
      "\t - Validation Loss: 0.360332\n",
      "\t - Validation Accuracy: 0.915385\n",
      "\t - Validation F1: 0.912023\n",
      "\t - Validation Recall: 0.937782\n",
      "\t - Validation Precision: 0.895779\n",
      "\t * Model @ epoch 10 saved to model_saves/target-iSarcasm_inter-hellaswag_03/E10_A0.92_F0.91\n",
      "\t * Model checkpoint saved to model_saves/target-iSarcasm_inter-hellaswag_03/E10_A0.92_F0.91/checkpoint.pt\n"
     ]
    }
   ],
   "source": [
    "trainer.fit()"
   ]
  },
  {
   "cell_type": "code",
   "execution_count": null,
   "metadata": {},
   "outputs": [],
   "source": []
  }
 ],
 "metadata": {
  "kernelspec": {
   "display_name": "Python 3.9.13 ('itesd_env')",
   "language": "python",
   "name": "python3"
  },
  "language_info": {
   "codemirror_mode": {
    "name": "ipython",
    "version": 3
   },
   "file_extension": ".py",
   "mimetype": "text/x-python",
   "name": "python",
   "nbconvert_exporter": "python",
   "pygments_lexer": "ipython3",
   "version": "3.9.13"
  },
  "orig_nbformat": 4,
  "vscode": {
   "interpreter": {
    "hash": "3c42b54925bdca82cdb5059acc0a21648e00763ff265e64872b54aa656b5d9d8"
   }
  }
 },
 "nbformat": 4,
 "nbformat_minor": 2
}
