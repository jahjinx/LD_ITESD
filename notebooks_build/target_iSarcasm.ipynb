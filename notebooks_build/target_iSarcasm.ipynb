{
 "cells": [
  {
   "cell_type": "markdown",
   "metadata": {},
   "source": [
    "# target_iSarcasm\n",
    "This notebook takes models trained on the intermediate tasks and fine-tunes them further on our target task, iSarcasm."
   ]
  },
  {
   "cell_type": "markdown",
   "metadata": {},
   "source": [
    "## Imports & Settings"
   ]
  },
  {
   "cell_type": "markdown",
   "metadata": {},
   "source": [
    "First, update working directory to parent so that we may use our custom functions"
   ]
  },
  {
   "cell_type": "code",
   "execution_count": 1,
   "metadata": {},
   "outputs": [],
   "source": [
    "import os\n",
    "os.chdir('..')\n",
    "# os.getcwd( )"
   ]
  },
  {
   "cell_type": "code",
   "execution_count": 2,
   "metadata": {},
   "outputs": [],
   "source": [
    "import params\n",
    "from utils import *\n",
    "from trainer import *\n",
    "\n",
    "import numpy as np\n",
    "import pandas as pd\n",
    "from datasets import load_from_disk\n",
    "\n",
    "from transformers import RobertaTokenizer, RobertaForSequenceClassification\n",
    "from torch.utils.data import TensorDataset, DataLoader, RandomSampler\n",
    "\n",
    "# suppress model warning\n",
    "from transformers import logging\n",
    "logging.set_verbosity_error()\n",
    "\n",
    "# set logging level\n",
    "import logging\n",
    "logging.basicConfig(format='%(message)s', level=logging.INFO)"
   ]
  },
  {
   "cell_type": "code",
   "execution_count": 3,
   "metadata": {},
   "outputs": [
    {
     "name": "stdout",
     "output_type": "stream",
     "text": [
      "We're Armed: macOS-13.1-arm64-i386-64bit\n"
     ]
    }
   ],
   "source": [
    "# set general seeds\n",
    "set_seeds(1)\n",
    "\n",
    "# set dataloader generator seed\n",
    "g = torch.Generator()\n",
    "g.manual_seed(1)\n",
    "\n",
    "# load best intermediate/control model\n",
    "# path format example:  \"model_saves/intermediate_XED_binary_01/E03_A0.83_F0.82\"\n",
    "intermediate_model_path: str = \"model_saves/intermediate_IMDB_01/E02_A0.94_F0.94\"\n",
    "\n",
    "\n",
    "# Ensure we're on an ARM environment if necessary.\n",
    "platform_check()"
   ]
  },
  {
   "cell_type": "markdown",
   "metadata": {},
   "source": [
    "## Load Data"
   ]
  },
  {
   "cell_type": "markdown",
   "metadata": {},
   "source": [
    "### iSarcasm"
   ]
  },
  {
   "cell_type": "code",
   "execution_count": 4,
   "metadata": {},
   "outputs": [
    {
     "data": {
      "text/plain": [
       "DatasetDict({\n",
       "    train: Dataset({\n",
       "        features: ['text', 'label'],\n",
       "        num_rows: 4266\n",
       "    })\n",
       "    validation: Dataset({\n",
       "        features: ['text', 'label'],\n",
       "        num_rows: 628\n",
       "    })\n",
       "    test: Dataset({\n",
       "        features: ['text', 'label'],\n",
       "        num_rows: 1400\n",
       "    })\n",
       "})"
      ]
     },
     "execution_count": 4,
     "metadata": {},
     "output_type": "execute_result"
    }
   ],
   "source": [
    "params.dataset_path = \"data/target_iSarcasmEval/itesd_iSarcasmEval_balanced.hf\"\n",
    "\n",
    "datasets = load_from_disk(params.dataset_path)\n",
    "datasets"
   ]
  },
  {
   "cell_type": "code",
   "execution_count": 5,
   "metadata": {},
   "outputs": [],
   "source": [
    "# we will need to view and prep the datasets\n",
    "# this is more easily done as dataframes\n",
    "train_df = datasets['train'].to_pandas()\n",
    "validate_df = datasets['validation'].to_pandas() "
   ]
  },
  {
   "cell_type": "code",
   "execution_count": 6,
   "metadata": {},
   "outputs": [
    {
     "name": "stdout",
     "output_type": "stream",
     "text": [
      "train_df Info:\n",
      "<class 'pandas.core.frame.DataFrame'>\n",
      "RangeIndex: 4266 entries, 0 to 4265\n",
      "Data columns (total 2 columns):\n",
      " #   Column  Non-Null Count  Dtype \n",
      "---  ------  --------------  ----- \n",
      " 0   text    4266 non-null   object\n",
      " 1   label   4266 non-null   int64 \n",
      "dtypes: int64(1), object(1)\n",
      "memory usage: 66.8+ KB\n",
      "None\n",
      "\n",
      "train_df Value Counts\n",
      "1    2133\n",
      "0    2133\n",
      "Name: label, dtype: int64\n"
     ]
    }
   ],
   "source": [
    "# view training dataset\n",
    "print(\"train_df Info:\")\n",
    "print(train_df.info())\n",
    "print(\"\\ntrain_df Value Counts\")\n",
    "print(train_df['label'].value_counts())"
   ]
  },
  {
   "cell_type": "code",
   "execution_count": 7,
   "metadata": {},
   "outputs": [
    {
     "name": "stdout",
     "output_type": "stream",
     "text": [
      "validate_df Info:\n",
      "<class 'pandas.core.frame.DataFrame'>\n",
      "RangeIndex: 628 entries, 0 to 627\n",
      "Data columns (total 2 columns):\n",
      " #   Column  Non-Null Count  Dtype \n",
      "---  ------  --------------  ----- \n",
      " 0   text    628 non-null    object\n",
      " 1   label   628 non-null    int64 \n",
      "dtypes: int64(1), object(1)\n",
      "memory usage: 9.9+ KB\n",
      "None\n",
      "\n",
      " validate_df Value Counts\n",
      "0    467\n",
      "1    161\n",
      "Name: label, dtype: int64\n"
     ]
    }
   ],
   "source": [
    "# view validation dataset\n",
    "print(\"validate_df Info:\")\n",
    "print(validate_df.info())\n",
    "print(\"\\n validate_df Value Counts\")\n",
    "print(validate_df['label'].value_counts())"
   ]
  },
  {
   "cell_type": "markdown",
   "metadata": {},
   "source": [
    "### Preprocess"
   ]
  },
  {
   "cell_type": "code",
   "execution_count": 8,
   "metadata": {},
   "outputs": [
    {
     "name": "stdout",
     "output_type": "stream",
     "text": [
      "PreTrainedTokenizer(name_or_path='model_saves/intermediate_IMDB_01/E02_A0.94_F0.94', vocab_size=50265, model_max_len=512, is_fast=False, padding_side='right', truncation_side='right', special_tokens={'bos_token': AddedToken(\"<s>\", rstrip=False, lstrip=False, single_word=False, normalized=True), 'eos_token': AddedToken(\"</s>\", rstrip=False, lstrip=False, single_word=False, normalized=True), 'unk_token': AddedToken(\"<unk>\", rstrip=False, lstrip=False, single_word=False, normalized=True), 'sep_token': AddedToken(\"</s>\", rstrip=False, lstrip=False, single_word=False, normalized=True), 'pad_token': AddedToken(\"<pad>\", rstrip=False, lstrip=False, single_word=False, normalized=True), 'cls_token': AddedToken(\"<s>\", rstrip=False, lstrip=False, single_word=False, normalized=True), 'mask_token': AddedToken(\"<mask>\", rstrip=False, lstrip=True, single_word=False, normalized=True)})\n"
     ]
    }
   ],
   "source": [
    "# update tokenizer to use trained model's tokenizer\n",
    "params.tokenizer = RobertaTokenizer.from_pretrained(intermediate_model_path, local_files_only=True)\n",
    "\n",
    "print(params.tokenizer)\n"
   ]
  },
  {
   "cell_type": "code",
   "execution_count": 9,
   "metadata": {},
   "outputs": [],
   "source": [
    "train_token_ids, train_attention_masks = encode_text(train_df.text.values)\n",
    "validate_token_ids, validate_attention_masks = encode_text(validate_df.text.values)"
   ]
  },
  {
   "cell_type": "code",
   "execution_count": 10,
   "metadata": {},
   "outputs": [],
   "source": [
    "train_features = []\n",
    "for i in range(len(train_token_ids)):\n",
    "    train_features.append({'label': train_df.label.values[i], \n",
    "                           'input_ids': train_token_ids[i], \n",
    "                           'attention_mask':train_attention_masks[i]})\n",
    "\n",
    "validate_features = []\n",
    "for i in range(len(validate_token_ids)):\n",
    "    validate_features.append({'label': validate_df.label.values[i], \n",
    "                              'input_ids': validate_token_ids[i],\n",
    "                              'attention_mask':validate_attention_masks[i]})"
   ]
  },
  {
   "cell_type": "markdown",
   "metadata": {},
   "source": [
    "### Data Split\n",
    "We split the dataset into train (80%) and validation (20%) sets, and wrap them around a torch.utils.data.DataLoader object."
   ]
  },
  {
   "cell_type": "code",
   "execution_count": 11,
   "metadata": {},
   "outputs": [],
   "source": [
    "# Prepare DataLoader\n",
    "train_dataloader = DataLoader(\n",
    "            train_features,\n",
    "            sampler = RandomSampler(train_features),\n",
    "            batch_size = params.batch_size,\n",
    "            worker_init_fn=seed_worker,\n",
    "            generator=g,\n",
    "            collate_fn=collate\n",
    "        )\n",
    "\n",
    "validation_dataloader = DataLoader(\n",
    "            validate_features,\n",
    "            sampler = RandomSampler(validate_features),\n",
    "            batch_size = params.batch_size,\n",
    "            worker_init_fn=seed_worker,\n",
    "            generator=g,\n",
    "            collate_fn=collate\n",
    "        )"
   ]
  },
  {
   "cell_type": "markdown",
   "metadata": {},
   "source": [
    "## intermediate_XED_binary"
   ]
  },
  {
   "cell_type": "code",
   "execution_count": 12,
   "metadata": {},
   "outputs": [],
   "source": [
    "# set params for this model\n",
    "params.num_labels = 2\n",
    "params.output_dir = \"model_saves/target-iSarcasm_inter-XED-binary_03\""
   ]
  },
  {
   "cell_type": "markdown",
   "metadata": {},
   "source": [
    "### Train"
   ]
  },
  {
   "cell_type": "markdown",
   "metadata": {},
   "source": [
    "Download transformers.RobertaForSequenceClassificatio, which is a RoBERTa model with a linear layer for sentence classification (or regression) on top of the pooled output:"
   ]
  },
  {
   "cell_type": "code",
   "execution_count": 13,
   "metadata": {},
   "outputs": [
    {
     "data": {
      "text/plain": [
       "==============================================================================================================\n",
       "Layer (type:depth-idx)                                       Output Shape              Param #\n",
       "==============================================================================================================\n",
       "RobertaForSequenceClassification                             [1, 2]                    --\n",
       "├─RobertaModel: 1-1                                          [1, 512, 768]             --\n",
       "│    └─RobertaEmbeddings: 2-1                                [1, 512, 768]             --\n",
       "│    │    └─Embedding: 3-1                                   [1, 512, 768]             38,603,520\n",
       "│    │    └─Embedding: 3-2                                   [1, 512, 768]             768\n",
       "│    │    └─Embedding: 3-3                                   [1, 512, 768]             394,752\n",
       "│    │    └─LayerNorm: 3-4                                   [1, 512, 768]             1,536\n",
       "│    │    └─Dropout: 3-5                                     [1, 512, 768]             --\n",
       "│    └─RobertaEncoder: 2-2                                   [1, 512, 768]             --\n",
       "│    │    └─ModuleList: 3-6                                  --                        85,054,464\n",
       "├─RobertaClassificationHead: 1-2                             [1, 2]                    --\n",
       "│    └─Dropout: 2-3                                          [1, 768]                  --\n",
       "│    └─Linear: 2-4                                           [1, 768]                  590,592\n",
       "│    └─Dropout: 2-5                                          [1, 768]                  --\n",
       "│    └─Linear: 2-6                                           [1, 2]                    1,538\n",
       "==============================================================================================================\n",
       "Total params: 124,647,170\n",
       "Trainable params: 124,647,170\n",
       "Non-trainable params: 0\n",
       "Total mult-adds (M): 124.65\n",
       "==============================================================================================================\n",
       "Input size (MB): 0.00\n",
       "Forward/backward pass size (MB): 427.83\n",
       "Params size (MB): 498.59\n",
       "Estimated Total Size (MB): 926.42\n",
       "=============================================================================================================="
      ]
     },
     "execution_count": 13,
     "metadata": {},
     "output_type": "execute_result"
    }
   ],
   "source": [
    "# Load the RobertaForSequenceClassification model\n",
    "model = RobertaForSequenceClassification.from_pretrained(intermediate_model_path,\n",
    "                                                         num_labels = params.num_labels,\n",
    "                                                         local_files_only=True, \n",
    "                                                         ignore_mismatched_sizes=True,\n",
    "                                                         output_attentions = False,\n",
    "                                                         output_hidden_states = False,\n",
    "                                                         )\n",
    "\n",
    "from torchinfo import summary\n",
    "summary(model, input_size=(1, 512), dtypes=['torch.IntTensor'])"
   ]
  },
  {
   "cell_type": "markdown",
   "metadata": {},
   "source": [
    "Set model to device, initialize trainer"
   ]
  },
  {
   "cell_type": "code",
   "execution_count": 14,
   "metadata": {},
   "outputs": [
    {
     "name": "stdout",
     "output_type": "stream",
     "text": [
      "Device: mps\n",
      "\n",
      "          Training Dataset: data/target_iSarcasmEval/itesd_iSarcasmEval_balanced.hf\n",
      "          Number of Labels: 2\n",
      "          Batch Size: 16\n",
      "          Learning Rate: 1e-05\n",
      "          Weight Decay: 0\n",
      "          Epochs: 10\n",
      "          Output Directory: model_saves/target-iSarcasm_inter-XED-binary_03\n",
      "          Save Frequency: 1\n",
      "          Checkpoint Frequency: 1\n",
      "          Max Length: 256\n",
      "          \n"
     ]
    }
   ],
   "source": [
    "model.to(params.device)\n",
    "print(f\"Device: {params.device}\")\n",
    "\n",
    "optimizer = torch.optim.Adam(params=model.parameters(), \n",
    "                             lr=params.learning_rate,\n",
    "                             weight_decay=params.weight_decay) #roberta\n",
    "\n",
    "trainer = Trainer(model=model,\n",
    "                  device=params.device,\n",
    "                  tokenizer=params.tokenizer,\n",
    "                  train_dataloader=train_dataloader,\n",
    "                  validation_dataloader=validation_dataloader,\n",
    "                  epochs=params.epochs,\n",
    "                  optimizer=optimizer,\n",
    "                  val_loss_fn=params.val_loss_fn,\n",
    "                  num_labels=params.num_labels,\n",
    "                  output_dir=params.output_dir,\n",
    "                  save_freq=params.save_freq,\n",
    "                  checkpoint_freq=params.checkpoint_freq)\n",
    "\n",
    "output_parameters()"
   ]
  },
  {
   "cell_type": "markdown",
   "metadata": {},
   "source": [
    "Fit the model to our training data."
   ]
  },
  {
   "cell_type": "code",
   "execution_count": 15,
   "metadata": {},
   "outputs": [
    {
     "name": "stderr",
     "output_type": "stream",
     "text": [
      "Epoch 1: 100%|██████████| 267/267 [02:04<00:00,  2.14batch/s]\n",
      "\t Validation 39: 100%|██████████| 40/40 [00:07<00:00,  5.53batch/s]\n",
      "\n",
      " \t - Train loss: 0.640834\n",
      "\t - Validation Loss: 0.620484\n",
      "\t - Validation Accuracy: 0.662500\n",
      "\t - Validation F1: 0.439320\n",
      "\t - Validation Recall: 0.569881\n",
      "\t - Validation Precision: 0.382054 \n",
      "\n",
      "\t * Model @ epoch 1 saved to model_saves/target-iSarcasm_inter-XED-binary_03/E01_A0.66_F0.44\n",
      "\t * Model checkpoint saved to model_saves/target-iSarcasm_inter-XED-binary_03/E01_A0.66_F0.44/checkpoint.pt\n",
      "\n",
      "Epoch 2: 100%|██████████| 267/267 [01:53<00:00,  2.36batch/s]\n",
      "\t Validation 39: 100%|██████████| 40/40 [00:05<00:00,  6.91batch/s]\n",
      "\n",
      " \t - Train loss: 0.399995\n",
      "\t - Validation Loss: 0.649387\n",
      "\t - Validation Accuracy: 0.725000\n",
      "\t - Validation F1: 0.468172\n",
      "\t - Validation Recall: 0.520298\n",
      "\t - Validation Precision: 0.455119 \n",
      "\n",
      "\t * Model @ epoch 2 saved to model_saves/target-iSarcasm_inter-XED-binary_03/E02_A0.72_F0.47\n",
      "\t * Model checkpoint saved to model_saves/target-iSarcasm_inter-XED-binary_03/E02_A0.72_F0.47/checkpoint.pt\n",
      "\n",
      "Epoch 3: 100%|██████████| 267/267 [01:51<00:00,  2.40batch/s]\n",
      "\t Validation 39: 100%|██████████| 40/40 [00:05<00:00,  6.96batch/s]\n",
      "\n",
      " \t - Train loss: 0.191894\n",
      "\t - Validation Loss: 0.806076\n",
      "\t - Validation Accuracy: 0.764062\n",
      "\t - Validation F1: 0.367857\n",
      "\t - Validation Recall: 0.328333\n",
      "\t - Validation Precision: 0.501667 \n",
      "\n",
      "\t * Model @ epoch 3 saved to model_saves/target-iSarcasm_inter-XED-binary_03/E03_A0.76_F0.37\n",
      "\t * Model checkpoint saved to model_saves/target-iSarcasm_inter-XED-binary_03/E03_A0.76_F0.37/checkpoint.pt\n",
      "\n",
      "Epoch 4: 100%|██████████| 267/267 [01:53<00:00,  2.36batch/s]\n",
      "\t Validation 39: 100%|██████████| 40/40 [00:05<00:00,  7.41batch/s]\n",
      "\n",
      " \t - Train loss: 0.113794\n",
      "\t - Validation Loss: 0.987797\n",
      "\t - Validation Accuracy: 0.760938\n",
      "\t - Validation F1: 0.372056\n",
      "\t - Validation Recall: 0.315000\n",
      "\t - Validation Precision: 0.517917 \n",
      "\n",
      "\t * Model @ epoch 4 saved to model_saves/target-iSarcasm_inter-XED-binary_03/E04_A0.76_F0.37\n",
      "\t * Model checkpoint saved to model_saves/target-iSarcasm_inter-XED-binary_03/E04_A0.76_F0.37/checkpoint.pt\n",
      "\n",
      "Epoch 5: 100%|██████████| 267/267 [01:52<00:00,  2.38batch/s]\n",
      "\t Validation 39: 100%|██████████| 40/40 [00:05<00:00,  7.09batch/s]\n",
      "\n",
      " \t - Train loss: 0.072434\n",
      "\t - Validation Loss: 1.097889\n",
      "\t - Validation Accuracy: 0.757812\n",
      "\t - Validation F1: 0.396084\n",
      "\t - Validation Recall: 0.352143\n",
      "\t - Validation Precision: 0.509583 \n",
      "\n",
      "\t * Model @ epoch 5 saved to model_saves/target-iSarcasm_inter-XED-binary_03/E05_A0.76_F0.4\n",
      "\t * Model checkpoint saved to model_saves/target-iSarcasm_inter-XED-binary_03/E05_A0.76_F0.4/checkpoint.pt\n",
      "\n",
      "Epoch 6: 100%|██████████| 267/267 [01:51<00:00,  2.40batch/s]\n",
      "\t Validation 39: 100%|██████████| 40/40 [00:05<00:00,  7.00batch/s]\n",
      "\n",
      " \t - Train loss: 0.053314\n",
      "\t - Validation Loss: 1.133898\n",
      "\t - Validation Accuracy: 0.756250\n",
      "\t - Validation F1: 0.367462\n",
      "\t - Validation Recall: 0.328185\n",
      "\t - Validation Precision: 0.494762 \n",
      "\n",
      "\t * Model @ epoch 6 saved to model_saves/target-iSarcasm_inter-XED-binary_03/E06_A0.76_F0.37\n",
      "\t * Model checkpoint saved to model_saves/target-iSarcasm_inter-XED-binary_03/E06_A0.76_F0.37/checkpoint.pt\n",
      "\n",
      "Epoch 7: 100%|██████████| 267/267 [01:51<00:00,  2.38batch/s]\n",
      "\t Validation 39: 100%|██████████| 40/40 [00:05<00:00,  6.89batch/s]\n",
      "\n",
      " \t - Train loss: 0.045085\n",
      "\t - Validation Loss: 1.148057\n",
      "\t - Validation Accuracy: 0.748437\n",
      "\t - Validation F1: 0.409737\n",
      "\t - Validation Recall: 0.368036\n",
      "\t - Validation Precision: 0.525000 \n",
      "\n",
      "\t * Model @ epoch 7 saved to model_saves/target-iSarcasm_inter-XED-binary_03/E07_A0.75_F0.41\n",
      "\t * Model checkpoint saved to model_saves/target-iSarcasm_inter-XED-binary_03/E07_A0.75_F0.41/checkpoint.pt\n",
      "\n",
      "Epoch 8: 100%|██████████| 267/267 [01:52<00:00,  2.38batch/s]\n",
      "\t Validation 39: 100%|██████████| 40/40 [00:05<00:00,  7.06batch/s]\n",
      "\n",
      " \t - Train loss: 0.032802\n",
      "\t - Validation Loss: 1.201810\n",
      "\t - Validation Accuracy: 0.748437\n",
      "\t - Validation F1: 0.424294\n",
      "\t - Validation Recall: 0.444286\n",
      "\t - Validation Precision: 0.452381 \n",
      "\n",
      "\t * Model @ epoch 8 saved to model_saves/target-iSarcasm_inter-XED-binary_03/E08_A0.75_F0.42\n",
      "\t * Model checkpoint saved to model_saves/target-iSarcasm_inter-XED-binary_03/E08_A0.75_F0.42/checkpoint.pt\n",
      "\n",
      "Epoch 9: 100%|██████████| 267/267 [01:52<00:00,  2.37batch/s]\n",
      "\t Validation 39: 100%|██████████| 40/40 [00:05<00:00,  6.80batch/s]\n",
      "\n",
      " \t - Train loss: 0.028010\n",
      "\t - Validation Loss: 1.312969\n",
      "\t - Validation Accuracy: 0.768750\n",
      "\t - Validation F1: 0.406400\n",
      "\t - Validation Recall: 0.361667\n",
      "\t - Validation Precision: 0.542500 \n",
      "\n",
      "\t * Model @ epoch 9 saved to model_saves/target-iSarcasm_inter-XED-binary_03/E09_A0.77_F0.41\n",
      "\t * Model checkpoint saved to model_saves/target-iSarcasm_inter-XED-binary_03/E09_A0.77_F0.41/checkpoint.pt\n",
      "\n",
      "Epoch 10: 100%|██████████| 267/267 [01:52<00:00,  2.38batch/s]\n",
      "\t Validation 39: 100%|██████████| 40/40 [00:05<00:00,  6.96batch/s]\n",
      "\n",
      " \t - Train loss: 0.018250\n",
      "\t - Validation Loss: 1.387325\n",
      "\t - Validation Accuracy: 0.740625\n",
      "\t - Validation F1: 0.409499\n",
      "\t - Validation Recall: 0.390565\n",
      "\t - Validation Precision: 0.471667 \n",
      "\n",
      "\t * Model @ epoch 10 saved to model_saves/target-iSarcasm_inter-XED-binary_03/E10_A0.74_F0.41\n",
      "\t * Model checkpoint saved to model_saves/target-iSarcasm_inter-XED-binary_03/E10_A0.74_F0.41/checkpoint.pt\n",
      "\n"
     ]
    }
   ],
   "source": [
    "trainer.fit()"
   ]
  },
  {
   "cell_type": "markdown",
   "metadata": {},
   "source": [
    "## intermediate_XED_fine"
   ]
  },
  {
   "cell_type": "code",
   "execution_count": 12,
   "metadata": {},
   "outputs": [],
   "source": [
    "# set params for this model\n",
    "params.num_labels = 2\n",
    "params.output_dir = \"model_saves/target-iSarcasm_inter-XED-fine_03\""
   ]
  },
  {
   "cell_type": "markdown",
   "metadata": {},
   "source": [
    "### Train"
   ]
  },
  {
   "cell_type": "markdown",
   "metadata": {},
   "source": [
    "Download transformers.RobertaForSequenceClassificatio, which is a RoBERTa model with a linear layer for sentence classification (or regression) on top of the pooled output:"
   ]
  },
  {
   "cell_type": "code",
   "execution_count": 13,
   "metadata": {},
   "outputs": [
    {
     "data": {
      "text/plain": [
       "==============================================================================================================\n",
       "Layer (type:depth-idx)                                       Output Shape              Param #\n",
       "==============================================================================================================\n",
       "RobertaForSequenceClassification                             [1, 2]                    --\n",
       "├─RobertaModel: 1-1                                          [1, 512, 768]             --\n",
       "│    └─RobertaEmbeddings: 2-1                                [1, 512, 768]             --\n",
       "│    │    └─Embedding: 3-1                                   [1, 512, 768]             38,603,520\n",
       "│    │    └─Embedding: 3-2                                   [1, 512, 768]             768\n",
       "│    │    └─Embedding: 3-3                                   [1, 512, 768]             394,752\n",
       "│    │    └─LayerNorm: 3-4                                   [1, 512, 768]             1,536\n",
       "│    │    └─Dropout: 3-5                                     [1, 512, 768]             --\n",
       "│    └─RobertaEncoder: 2-2                                   [1, 512, 768]             --\n",
       "│    │    └─ModuleList: 3-6                                  --                        85,054,464\n",
       "├─RobertaClassificationHead: 1-2                             [1, 2]                    --\n",
       "│    └─Dropout: 2-3                                          [1, 768]                  --\n",
       "│    └─Linear: 2-4                                           [1, 768]                  590,592\n",
       "│    └─Dropout: 2-5                                          [1, 768]                  --\n",
       "│    └─Linear: 2-6                                           [1, 2]                    1,538\n",
       "==============================================================================================================\n",
       "Total params: 124,647,170\n",
       "Trainable params: 124,647,170\n",
       "Non-trainable params: 0\n",
       "Total mult-adds (M): 124.65\n",
       "==============================================================================================================\n",
       "Input size (MB): 0.00\n",
       "Forward/backward pass size (MB): 427.83\n",
       "Params size (MB): 498.59\n",
       "Estimated Total Size (MB): 926.42\n",
       "=============================================================================================================="
      ]
     },
     "execution_count": 13,
     "metadata": {},
     "output_type": "execute_result"
    }
   ],
   "source": [
    "# Load the RobertaForSequenceClassification model\n",
    "model = RobertaForSequenceClassification.from_pretrained(intermediate_model_path,\n",
    "                                                         num_labels = params.num_labels,\n",
    "                                                         local_files_only=True, \n",
    "                                                         ignore_mismatched_sizes=True,\n",
    "                                                         output_attentions = False,\n",
    "                                                         output_hidden_states = False,\n",
    "                                                         )\n",
    "\n",
    "from torchinfo import summary\n",
    "summary(model, input_size=(1, 512), dtypes=['torch.IntTensor'])"
   ]
  },
  {
   "cell_type": "markdown",
   "metadata": {},
   "source": [
    "Set model to device, initialize trainer"
   ]
  },
  {
   "cell_type": "code",
   "execution_count": 14,
   "metadata": {},
   "outputs": [
    {
     "name": "stdout",
     "output_type": "stream",
     "text": [
      "Device: mps\n",
      "\n",
      "          Training Dataset: data/target_iSarcasmEval/itesd_iSarcasmEval_balanced.hf\n",
      "          Number of Labels: 2\n",
      "          Batch Size: 16\n",
      "          Learning Rate: 1e-05\n",
      "          Weight Decay: 0\n",
      "          Epochs: 10\n",
      "          Output Directory: model_saves/target-iSarcasm_inter-XED-fine_03\n",
      "          Save Frequency: 1\n",
      "          Checkpoint Frequency: 1\n",
      "          Max Length: 256\n",
      "          \n"
     ]
    }
   ],
   "source": [
    "model.to(params.device)\n",
    "print(f\"Device: {params.device}\")\n",
    "\n",
    "optimizer = torch.optim.Adam(params=model.parameters(), \n",
    "                             lr=params.learning_rate,\n",
    "                             weight_decay=params.weight_decay) #roberta\n",
    "\n",
    "trainer = Trainer(model=model,\n",
    "                  device=params.device,\n",
    "                  tokenizer=params.tokenizer,\n",
    "                  train_dataloader=train_dataloader,\n",
    "                  validation_dataloader=validation_dataloader,\n",
    "                  epochs=params.epochs,\n",
    "                  optimizer=optimizer,\n",
    "                  val_loss_fn=params.val_loss_fn,\n",
    "                  num_labels=params.num_labels,\n",
    "                  output_dir=params.output_dir,\n",
    "                  save_freq=params.save_freq,\n",
    "                  checkpoint_freq=params.checkpoint_freq)\n",
    "\n",
    "output_parameters()"
   ]
  },
  {
   "cell_type": "markdown",
   "metadata": {},
   "source": [
    "Fit the model to our training data."
   ]
  },
  {
   "cell_type": "code",
   "execution_count": 15,
   "metadata": {},
   "outputs": [
    {
     "name": "stderr",
     "output_type": "stream",
     "text": [
      "Epoch 1: 100%|██████████| 267/267 [02:06<00:00,  2.10batch/s]\n",
      "\t Validation 39: 100%|██████████| 40/40 [00:07<00:00,  5.48batch/s]\n",
      "\n",
      " \t - Train loss: 0.607637\n",
      "\t - Validation Loss: 0.536672\n",
      "\t - Validation Accuracy: 0.732812\n",
      "\t - Validation F1: 0.485368\n",
      "\t - Validation Recall: 0.530298\n",
      "\t - Validation Precision: 0.481915 \n",
      "\n",
      "\t * Model @ epoch 1 saved to model_saves/target-iSarcasm_inter-XED-fine_03/E01_A0.73_F0.49\n",
      "\t * Model checkpoint saved to model_saves/target-iSarcasm_inter-XED-fine_03/E01_A0.73_F0.49/checkpoint.pt\n",
      "\n",
      "Epoch 2: 100%|██████████| 267/267 [01:53<00:00,  2.36batch/s]\n",
      "\t Validation 39: 100%|██████████| 40/40 [00:05<00:00,  6.95batch/s]\n",
      "\n",
      " \t - Train loss: 0.350186\n",
      "\t - Validation Loss: 0.553531\n",
      "\t - Validation Accuracy: 0.765625\n",
      "\t - Validation F1: 0.471622\n",
      "\t - Validation Recall: 0.467560\n",
      "\t - Validation Precision: 0.541448 \n",
      "\n",
      "\t * Model @ epoch 2 saved to model_saves/target-iSarcasm_inter-XED-fine_03/E02_A0.77_F0.47\n",
      "\t * Model checkpoint saved to model_saves/target-iSarcasm_inter-XED-fine_03/E02_A0.77_F0.47/checkpoint.pt\n",
      "\n",
      "Epoch 3: 100%|██████████| 267/267 [01:51<00:00,  2.40batch/s]\n",
      "\t Validation 39: 100%|██████████| 40/40 [00:05<00:00,  7.03batch/s]\n",
      "\n",
      " \t - Train loss: 0.158447\n",
      "\t - Validation Loss: 0.778604\n",
      "\t - Validation Accuracy: 0.764062\n",
      "\t - Validation F1: 0.395652\n",
      "\t - Validation Recall: 0.357708\n",
      "\t - Validation Precision: 0.521548 \n",
      "\n",
      "\t * Model @ epoch 3 saved to model_saves/target-iSarcasm_inter-XED-fine_03/E03_A0.76_F0.4\n",
      "\t * Model checkpoint saved to model_saves/target-iSarcasm_inter-XED-fine_03/E03_A0.76_F0.4/checkpoint.pt\n",
      "\n",
      "Epoch 4: 100%|██████████| 267/267 [01:53<00:00,  2.36batch/s]\n",
      "\t Validation 39: 100%|██████████| 40/40 [00:05<00:00,  7.34batch/s]\n",
      "\n",
      " \t - Train loss: 0.067028\n",
      "\t - Validation Loss: 0.920237\n",
      "\t - Validation Accuracy: 0.768750\n",
      "\t - Validation F1: 0.342805\n",
      "\t - Validation Recall: 0.284464\n",
      "\t - Validation Precision: 0.477083 \n",
      "\n",
      "\t * Model @ epoch 4 saved to model_saves/target-iSarcasm_inter-XED-fine_03/E04_A0.77_F0.34\n",
      "\t * Model checkpoint saved to model_saves/target-iSarcasm_inter-XED-fine_03/E04_A0.77_F0.34/checkpoint.pt\n",
      "\n",
      "Epoch 5: 100%|██████████| 267/267 [01:52<00:00,  2.38batch/s]\n",
      "\t Validation 39: 100%|██████████| 40/40 [00:05<00:00,  7.23batch/s]\n",
      "\n",
      " \t - Train loss: 0.056187\n",
      "\t - Validation Loss: 1.037451\n",
      "\t - Validation Accuracy: 0.756250\n",
      "\t - Validation F1: 0.413545\n",
      "\t - Validation Recall: 0.399524\n",
      "\t - Validation Precision: 0.483661 \n",
      "\n",
      "\t * Model @ epoch 5 saved to model_saves/target-iSarcasm_inter-XED-fine_03/E05_A0.76_F0.41\n",
      "\t * Model checkpoint saved to model_saves/target-iSarcasm_inter-XED-fine_03/E05_A0.76_F0.41/checkpoint.pt\n",
      "\n",
      "Epoch 6: 100%|██████████| 267/267 [01:51<00:00,  2.40batch/s]\n",
      "\t Validation 39: 100%|██████████| 40/40 [00:05<00:00,  7.04batch/s]\n",
      "\n",
      " \t - Train loss: 0.046369\n",
      "\t - Validation Loss: 1.065717\n",
      "\t - Validation Accuracy: 0.768750\n",
      "\t - Validation F1: 0.403719\n",
      "\t - Validation Recall: 0.376280\n",
      "\t - Validation Precision: 0.495714 \n",
      "\n",
      "\t * Model @ epoch 6 saved to model_saves/target-iSarcasm_inter-XED-fine_03/E06_A0.77_F0.4\n",
      "\t * Model checkpoint saved to model_saves/target-iSarcasm_inter-XED-fine_03/E06_A0.77_F0.4/checkpoint.pt\n",
      "\n",
      "Epoch 7: 100%|██████████| 267/267 [01:51<00:00,  2.40batch/s]\n",
      "\t Validation 39: 100%|██████████| 40/40 [00:05<00:00,  6.86batch/s]\n",
      "\n",
      " \t - Train loss: 0.029015\n",
      "\t - Validation Loss: 1.184021\n",
      "\t - Validation Accuracy: 0.760938\n",
      "\t - Validation F1: 0.378882\n",
      "\t - Validation Recall: 0.309286\n",
      "\t - Validation Precision: 0.606667 \n",
      "\n",
      "\t * Model @ epoch 7 saved to model_saves/target-iSarcasm_inter-XED-fine_03/E07_A0.76_F0.38\n",
      "\t * Model checkpoint saved to model_saves/target-iSarcasm_inter-XED-fine_03/E07_A0.76_F0.38/checkpoint.pt\n",
      "\n",
      "Epoch 8: 100%|██████████| 267/267 [01:51<00:00,  2.39batch/s]\n",
      "\t Validation 39: 100%|██████████| 40/40 [00:05<00:00,  7.16batch/s]\n",
      "\n",
      " \t - Train loss: 0.033879\n",
      "\t - Validation Loss: 1.175655\n",
      "\t - Validation Accuracy: 0.750000\n",
      "\t - Validation F1: 0.446342\n",
      "\t - Validation Recall: 0.454464\n",
      "\t - Validation Precision: 0.478512 \n",
      "\n",
      "\t * Model @ epoch 8 saved to model_saves/target-iSarcasm_inter-XED-fine_03/E08_A0.75_F0.45\n",
      "\t * Model checkpoint saved to model_saves/target-iSarcasm_inter-XED-fine_03/E08_A0.75_F0.45/checkpoint.pt\n",
      "\n",
      "Epoch 9: 100%|██████████| 267/267 [01:51<00:00,  2.40batch/s]\n",
      "\t Validation 39: 100%|██████████| 40/40 [00:05<00:00,  6.86batch/s]\n",
      "\n",
      " \t - Train loss: 0.026131\n",
      "\t - Validation Loss: 1.283389\n",
      "\t - Validation Accuracy: 0.770312\n",
      "\t - Validation F1: 0.315997\n",
      "\t - Validation Recall: 0.263542\n",
      "\t - Validation Precision: 0.472083 \n",
      "\n",
      "\t * Model @ epoch 9 saved to model_saves/target-iSarcasm_inter-XED-fine_03/E09_A0.77_F0.32\n",
      "\t * Model checkpoint saved to model_saves/target-iSarcasm_inter-XED-fine_03/E09_A0.77_F0.32/checkpoint.pt\n",
      "\n",
      "Epoch 10: 100%|██████████| 267/267 [01:50<00:00,  2.41batch/s]\n",
      "\t Validation 39: 100%|██████████| 40/40 [00:05<00:00,  7.05batch/s]\n",
      "\n",
      " \t - Train loss: 0.023987\n",
      "\t - Validation Loss: 1.295711\n",
      "\t - Validation Accuracy: 0.782813\n",
      "\t - Validation F1: 0.398751\n",
      "\t - Validation Recall: 0.341548\n",
      "\t - Validation Precision: 0.567083 \n",
      "\n",
      "\t * Model @ epoch 10 saved to model_saves/target-iSarcasm_inter-XED-fine_03/E10_A0.78_F0.4\n",
      "\t * Model checkpoint saved to model_saves/target-iSarcasm_inter-XED-fine_03/E10_A0.78_F0.4/checkpoint.pt\n",
      "\n"
     ]
    }
   ],
   "source": [
    "trainer.fit()"
   ]
  },
  {
   "cell_type": "markdown",
   "metadata": {},
   "source": [
    "## intermediate_SARC"
   ]
  },
  {
   "cell_type": "code",
   "execution_count": 12,
   "metadata": {},
   "outputs": [],
   "source": [
    "# set params for this model\n",
    "params.num_labels = 2\n",
    "params.output_dir = \"model_saves/target-iSarcasm_inter-SARC_03\""
   ]
  },
  {
   "cell_type": "markdown",
   "metadata": {},
   "source": [
    "### Train"
   ]
  },
  {
   "cell_type": "markdown",
   "metadata": {},
   "source": [
    "Download transformers.RobertaForSequenceClassificatio, which is a RoBERTa model with a linear layer for sentence classification (or regression) on top of the pooled output:"
   ]
  },
  {
   "cell_type": "code",
   "execution_count": 13,
   "metadata": {},
   "outputs": [
    {
     "data": {
      "text/plain": [
       "==============================================================================================================\n",
       "Layer (type:depth-idx)                                       Output Shape              Param #\n",
       "==============================================================================================================\n",
       "RobertaForSequenceClassification                             [1, 2]                    --\n",
       "├─RobertaModel: 1-1                                          [1, 512, 768]             --\n",
       "│    └─RobertaEmbeddings: 2-1                                [1, 512, 768]             --\n",
       "│    │    └─Embedding: 3-1                                   [1, 512, 768]             38,603,520\n",
       "│    │    └─Embedding: 3-2                                   [1, 512, 768]             768\n",
       "│    │    └─Embedding: 3-3                                   [1, 512, 768]             394,752\n",
       "│    │    └─LayerNorm: 3-4                                   [1, 512, 768]             1,536\n",
       "│    │    └─Dropout: 3-5                                     [1, 512, 768]             --\n",
       "│    └─RobertaEncoder: 2-2                                   [1, 512, 768]             --\n",
       "│    │    └─ModuleList: 3-6                                  --                        85,054,464\n",
       "├─RobertaClassificationHead: 1-2                             [1, 2]                    --\n",
       "│    └─Dropout: 2-3                                          [1, 768]                  --\n",
       "│    └─Linear: 2-4                                           [1, 768]                  590,592\n",
       "│    └─Dropout: 2-5                                          [1, 768]                  --\n",
       "│    └─Linear: 2-6                                           [1, 2]                    1,538\n",
       "==============================================================================================================\n",
       "Total params: 124,647,170\n",
       "Trainable params: 124,647,170\n",
       "Non-trainable params: 0\n",
       "Total mult-adds (M): 124.65\n",
       "==============================================================================================================\n",
       "Input size (MB): 0.00\n",
       "Forward/backward pass size (MB): 427.83\n",
       "Params size (MB): 498.59\n",
       "Estimated Total Size (MB): 926.42\n",
       "=============================================================================================================="
      ]
     },
     "execution_count": 13,
     "metadata": {},
     "output_type": "execute_result"
    }
   ],
   "source": [
    "# Load the RobertaForSequenceClassification model\n",
    "model = RobertaForSequenceClassification.from_pretrained(intermediate_model_path,\n",
    "                                                         num_labels = params.num_labels,\n",
    "                                                         local_files_only=True, \n",
    "                                                         ignore_mismatched_sizes=True,\n",
    "                                                         output_attentions = False,\n",
    "                                                         output_hidden_states = False,\n",
    "                                                         )\n",
    "\n",
    "from torchinfo import summary\n",
    "summary(model, input_size=(1, 512), dtypes=['torch.IntTensor'])"
   ]
  },
  {
   "cell_type": "markdown",
   "metadata": {},
   "source": [
    "Set model to device, initialize trainer"
   ]
  },
  {
   "cell_type": "code",
   "execution_count": 14,
   "metadata": {},
   "outputs": [
    {
     "name": "stdout",
     "output_type": "stream",
     "text": [
      "Device: mps\n",
      "\n",
      "          Training Dataset: data/target_iSarcasmEval/itesd_iSarcasmEval_balanced.hf\n",
      "          Number of Labels: 2\n",
      "          Batch Size: 16\n",
      "          Learning Rate: 1e-05\n",
      "          Weight Decay: 0\n",
      "          Epochs: 10\n",
      "          Output Directory: model_saves/target-iSarcasm_inter-SARC_03\n",
      "          Save Frequency: 1\n",
      "          Checkpoint Frequency: 1\n",
      "          Max Length: 256\n",
      "          \n"
     ]
    }
   ],
   "source": [
    "model.to(params.device)\n",
    "print(f\"Device: {params.device}\")\n",
    "\n",
    "optimizer = torch.optim.Adam(params=model.parameters(), \n",
    "                             lr=params.learning_rate,\n",
    "                             weight_decay=params.weight_decay) #roberta\n",
    "\n",
    "trainer = Trainer(model=model,\n",
    "                  device=params.device,\n",
    "                  tokenizer=params.tokenizer,\n",
    "                  train_dataloader=train_dataloader,\n",
    "                  validation_dataloader=validation_dataloader,\n",
    "                  epochs=params.epochs,\n",
    "                  optimizer=optimizer,\n",
    "                  val_loss_fn=params.val_loss_fn,\n",
    "                  num_labels=params.num_labels,\n",
    "                  output_dir=params.output_dir,\n",
    "                  save_freq=params.save_freq,\n",
    "                  checkpoint_freq=params.checkpoint_freq)\n",
    "\n",
    "output_parameters()"
   ]
  },
  {
   "cell_type": "markdown",
   "metadata": {},
   "source": [
    "Fit the model to our training data."
   ]
  },
  {
   "cell_type": "code",
   "execution_count": 15,
   "metadata": {},
   "outputs": [
    {
     "name": "stderr",
     "output_type": "stream",
     "text": [
      "Epoch 1: 100%|██████████| 267/267 [02:06<00:00,  2.11batch/s]\n",
      "\t Validation 39: 100%|██████████| 40/40 [00:07<00:00,  5.42batch/s]\n",
      "\n",
      " \t - Train loss: 0.568651\n",
      "\t - Validation Loss: 0.531797\n",
      "\t - Validation Accuracy: 0.753125\n",
      "\t - Validation F1: 0.467552\n",
      "\t - Validation Recall: 0.468988\n",
      "\t - Validation Precision: 0.511607 \n",
      "\n",
      "\t * Model @ epoch 1 saved to model_saves/target-iSarcasm_inter-SARC_03/E01_A0.75_F0.47\n",
      "\t * Model checkpoint saved to model_saves/target-iSarcasm_inter-SARC_03/E01_A0.75_F0.47/checkpoint.pt\n",
      "\n",
      "Epoch 2: 100%|██████████| 267/267 [01:55<00:00,  2.31batch/s]\n",
      "\t Validation 39: 100%|██████████| 40/40 [00:05<00:00,  6.85batch/s]\n",
      "\n",
      " \t - Train loss: 0.291537\n",
      "\t - Validation Loss: 0.622932\n",
      "\t - Validation Accuracy: 0.787500\n",
      "\t - Validation F1: 0.481081\n",
      "\t - Validation Recall: 0.489226\n",
      "\t - Validation Precision: 0.549107 \n",
      "\n",
      "\t * Model @ epoch 2 saved to model_saves/target-iSarcasm_inter-SARC_03/E02_A0.79_F0.48\n",
      "\t * Model checkpoint saved to model_saves/target-iSarcasm_inter-SARC_03/E02_A0.79_F0.48/checkpoint.pt\n",
      "\n",
      "Epoch 3: 100%|██████████| 267/267 [01:52<00:00,  2.37batch/s]\n",
      "\t Validation 39: 100%|██████████| 40/40 [00:05<00:00,  6.92batch/s]\n",
      "\n",
      " \t - Train loss: 0.119015\n",
      "\t - Validation Loss: 0.780280\n",
      "\t - Validation Accuracy: 0.753125\n",
      "\t - Validation F1: 0.480263\n",
      "\t - Validation Recall: 0.480208\n",
      "\t - Validation Precision: 0.526667 \n",
      "\n",
      "\t * Model @ epoch 3 saved to model_saves/target-iSarcasm_inter-SARC_03/E03_A0.75_F0.48\n",
      "\t * Model checkpoint saved to model_saves/target-iSarcasm_inter-SARC_03/E03_A0.75_F0.48/checkpoint.pt\n",
      "\n",
      "Epoch 4: 100%|██████████| 267/267 [01:54<00:00,  2.33batch/s]\n",
      "\t Validation 39: 100%|██████████| 40/40 [00:05<00:00,  7.37batch/s]\n",
      "\n",
      " \t - Train loss: 0.081427\n",
      "\t - Validation Loss: 0.934610\n",
      "\t - Validation Accuracy: 0.795312\n",
      "\t - Validation F1: 0.396510\n",
      "\t - Validation Recall: 0.325238\n",
      "\t - Validation Precision: 0.581667 \n",
      "\n",
      "\t * Model @ epoch 4 saved to model_saves/target-iSarcasm_inter-SARC_03/E04_A0.8_F0.4\n",
      "\t * Model checkpoint saved to model_saves/target-iSarcasm_inter-SARC_03/E04_A0.8_F0.4/checkpoint.pt\n",
      "\n",
      "Epoch 5: 100%|██████████| 267/267 [01:53<00:00,  2.34batch/s]\n",
      "\t Validation 39: 100%|██████████| 40/40 [00:05<00:00,  7.13batch/s]\n",
      "\n",
      " \t - Train loss: 0.047134\n",
      "\t - Validation Loss: 1.104553\n",
      "\t - Validation Accuracy: 0.754687\n",
      "\t - Validation F1: 0.502064\n",
      "\t - Validation Recall: 0.547976\n",
      "\t - Validation Precision: 0.506310 \n",
      "\n",
      "\t * Model @ epoch 5 saved to model_saves/target-iSarcasm_inter-SARC_03/E05_A0.75_F0.5\n",
      "\t * Model checkpoint saved to model_saves/target-iSarcasm_inter-SARC_03/E05_A0.75_F0.5/checkpoint.pt\n",
      "\n",
      "Epoch 6: 100%|██████████| 267/267 [01:52<00:00,  2.38batch/s]\n",
      "\t Validation 39: 100%|██████████| 40/40 [00:05<00:00,  6.98batch/s]\n",
      "\n",
      " \t - Train loss: 0.033950\n",
      "\t - Validation Loss: 1.085479\n",
      "\t - Validation Accuracy: 0.764062\n",
      "\t - Validation F1: 0.488736\n",
      "\t - Validation Recall: 0.498393\n",
      "\t - Validation Precision: 0.547440 \n",
      "\n",
      "\t * Model @ epoch 6 saved to model_saves/target-iSarcasm_inter-SARC_03/E06_A0.76_F0.49\n",
      "\t * Model checkpoint saved to model_saves/target-iSarcasm_inter-SARC_03/E06_A0.76_F0.49/checkpoint.pt\n",
      "\n",
      "Epoch 7: 100%|██████████| 267/267 [01:52<00:00,  2.36batch/s]\n",
      "\t Validation 39: 100%|██████████| 40/40 [00:05<00:00,  6.88batch/s]\n",
      "\n",
      " \t - Train loss: 0.029405\n",
      "\t - Validation Loss: 1.096191\n",
      "\t - Validation Accuracy: 0.775000\n",
      "\t - Validation F1: 0.502220\n",
      "\t - Validation Recall: 0.486190\n",
      "\t - Validation Precision: 0.596429 \n",
      "\n",
      "\t * Model @ epoch 7 saved to model_saves/target-iSarcasm_inter-SARC_03/E07_A0.78_F0.5\n",
      "\t * Model checkpoint saved to model_saves/target-iSarcasm_inter-SARC_03/E07_A0.78_F0.5/checkpoint.pt\n",
      "\n",
      "Epoch 8: 100%|██████████| 267/267 [01:52<00:00,  2.38batch/s]\n",
      "\t Validation 39: 100%|██████████| 40/40 [00:05<00:00,  7.01batch/s]\n",
      "\n",
      " \t - Train loss: 0.026162\n",
      "\t - Validation Loss: 1.315474\n",
      "\t - Validation Accuracy: 0.775000\n",
      "\t - Validation F1: 0.377763\n",
      "\t - Validation Recall: 0.325357\n",
      "\t - Validation Precision: 0.572917 \n",
      "\n",
      "\t * Model @ epoch 8 saved to model_saves/target-iSarcasm_inter-SARC_03/E08_A0.78_F0.38\n",
      "\t * Model checkpoint saved to model_saves/target-iSarcasm_inter-SARC_03/E08_A0.78_F0.38/checkpoint.pt\n",
      "\n",
      "Epoch 9: 100%|██████████| 267/267 [01:52<00:00,  2.37batch/s]\n",
      "\t Validation 39: 100%|██████████| 40/40 [00:06<00:00,  6.65batch/s]\n",
      "\n",
      " \t - Train loss: 0.026003\n",
      "\t - Validation Loss: 1.117422\n",
      "\t - Validation Accuracy: 0.776563\n",
      "\t - Validation F1: 0.464716\n",
      "\t - Validation Recall: 0.466042\n",
      "\t - Validation Precision: 0.543631 \n",
      "\n",
      "\t * Model @ epoch 9 saved to model_saves/target-iSarcasm_inter-SARC_03/E09_A0.78_F0.46\n",
      "\t * Model checkpoint saved to model_saves/target-iSarcasm_inter-SARC_03/E09_A0.78_F0.46/checkpoint.pt\n",
      "\n",
      "Epoch 10: 100%|██████████| 267/267 [01:51<00:00,  2.38batch/s]\n",
      "\t Validation 39: 100%|██████████| 40/40 [00:05<00:00,  7.03batch/s]\n",
      "\n",
      " \t - Train loss: 0.021753\n",
      "\t - Validation Loss: 1.330137\n",
      "\t - Validation Accuracy: 0.751563\n",
      "\t - Validation F1: 0.405642\n",
      "\t - Validation Recall: 0.390327\n",
      "\t - Validation Precision: 0.500357 \n",
      "\n",
      "\t * Model @ epoch 10 saved to model_saves/target-iSarcasm_inter-SARC_03/E10_A0.75_F0.41\n",
      "\t * Model checkpoint saved to model_saves/target-iSarcasm_inter-SARC_03/E10_A0.75_F0.41/checkpoint.pt\n",
      "\n"
     ]
    }
   ],
   "source": [
    "trainer.fit()"
   ]
  },
  {
   "cell_type": "markdown",
   "metadata": {},
   "source": [
    "## intermediate_IMDB"
   ]
  },
  {
   "cell_type": "code",
   "execution_count": 12,
   "metadata": {},
   "outputs": [],
   "source": [
    "# set params for this model\n",
    "params.num_labels = 2\n",
    "params.output_dir = \"model_saves/target-iSarcasm_inter-IMDB_03\""
   ]
  },
  {
   "cell_type": "markdown",
   "metadata": {},
   "source": [
    "### Train"
   ]
  },
  {
   "cell_type": "markdown",
   "metadata": {},
   "source": [
    "Download transformers.RobertaForSequenceClassificatio, which is a RoBERTa model with a linear layer for sentence classification (or regression) on top of the pooled output:"
   ]
  },
  {
   "cell_type": "code",
   "execution_count": 13,
   "metadata": {},
   "outputs": [
    {
     "data": {
      "text/plain": [
       "==============================================================================================================\n",
       "Layer (type:depth-idx)                                       Output Shape              Param #\n",
       "==============================================================================================================\n",
       "RobertaForSequenceClassification                             [1, 2]                    --\n",
       "├─RobertaModel: 1-1                                          [1, 512, 768]             --\n",
       "│    └─RobertaEmbeddings: 2-1                                [1, 512, 768]             --\n",
       "│    │    └─Embedding: 3-1                                   [1, 512, 768]             38,603,520\n",
       "│    │    └─Embedding: 3-2                                   [1, 512, 768]             768\n",
       "│    │    └─Embedding: 3-3                                   [1, 512, 768]             394,752\n",
       "│    │    └─LayerNorm: 3-4                                   [1, 512, 768]             1,536\n",
       "│    │    └─Dropout: 3-5                                     [1, 512, 768]             --\n",
       "│    └─RobertaEncoder: 2-2                                   [1, 512, 768]             --\n",
       "│    │    └─ModuleList: 3-6                                  --                        85,054,464\n",
       "├─RobertaClassificationHead: 1-2                             [1, 2]                    --\n",
       "│    └─Dropout: 2-3                                          [1, 768]                  --\n",
       "│    └─Linear: 2-4                                           [1, 768]                  590,592\n",
       "│    └─Dropout: 2-5                                          [1, 768]                  --\n",
       "│    └─Linear: 2-6                                           [1, 2]                    1,538\n",
       "==============================================================================================================\n",
       "Total params: 124,647,170\n",
       "Trainable params: 124,647,170\n",
       "Non-trainable params: 0\n",
       "Total mult-adds (M): 124.65\n",
       "==============================================================================================================\n",
       "Input size (MB): 0.00\n",
       "Forward/backward pass size (MB): 427.83\n",
       "Params size (MB): 498.59\n",
       "Estimated Total Size (MB): 926.42\n",
       "=============================================================================================================="
      ]
     },
     "execution_count": 13,
     "metadata": {},
     "output_type": "execute_result"
    }
   ],
   "source": [
    "# Load the RobertaForSequenceClassification model\n",
    "model = RobertaForSequenceClassification.from_pretrained(intermediate_model_path,\n",
    "                                                         num_labels = params.num_labels,\n",
    "                                                         local_files_only=True, \n",
    "                                                         ignore_mismatched_sizes=True,\n",
    "                                                         output_attentions = False,\n",
    "                                                         output_hidden_states = False,\n",
    "                                                         )\n",
    "\n",
    "from torchinfo import summary\n",
    "summary(model, input_size=(1, 512), dtypes=['torch.IntTensor'])"
   ]
  },
  {
   "cell_type": "markdown",
   "metadata": {},
   "source": [
    "Set model to device, initialize trainer"
   ]
  },
  {
   "cell_type": "code",
   "execution_count": 14,
   "metadata": {},
   "outputs": [
    {
     "name": "stdout",
     "output_type": "stream",
     "text": [
      "Device: mps\n",
      "\n",
      "          Training Dataset: data/target_iSarcasmEval/itesd_iSarcasmEval_balanced.hf\n",
      "          Number of Labels: 2\n",
      "          Batch Size: 16\n",
      "          Learning Rate: 1e-05\n",
      "          Weight Decay: 0\n",
      "          Epochs: 10\n",
      "          Output Directory: model_saves/target-iSarcasm_inter-IMDB_03\n",
      "          Save Frequency: 1\n",
      "          Checkpoint Frequency: 1\n",
      "          Max Length: 256\n",
      "          \n"
     ]
    }
   ],
   "source": [
    "model.to(params.device)\n",
    "print(f\"Device: {params.device}\")\n",
    "\n",
    "optimizer = torch.optim.Adam(params=model.parameters(), \n",
    "                             lr=params.learning_rate,\n",
    "                             weight_decay=params.weight_decay) #roberta\n",
    "\n",
    "trainer = Trainer(model=model,\n",
    "                  device=params.device,\n",
    "                  tokenizer=params.tokenizer,\n",
    "                  train_dataloader=train_dataloader,\n",
    "                  validation_dataloader=validation_dataloader,\n",
    "                  epochs=params.epochs,\n",
    "                  optimizer=optimizer,\n",
    "                  val_loss_fn=params.val_loss_fn,\n",
    "                  num_labels=params.num_labels,\n",
    "                  output_dir=params.output_dir,\n",
    "                  save_freq=params.save_freq,\n",
    "                  checkpoint_freq=params.checkpoint_freq)\n",
    "\n",
    "output_parameters()"
   ]
  },
  {
   "cell_type": "markdown",
   "metadata": {},
   "source": [
    "Fit the model to our training data."
   ]
  },
  {
   "cell_type": "code",
   "execution_count": 15,
   "metadata": {},
   "outputs": [
    {
     "name": "stderr",
     "output_type": "stream",
     "text": [
      "Epoch 1: 100%|██████████| 267/267 [02:06<00:00,  2.10batch/s]\n",
      "\t Validation 39: 100%|██████████| 40/40 [00:07<00:00,  5.47batch/s]\n",
      "\n",
      " \t - Train loss: 0.702509\n",
      "\t - Validation Loss: 0.689584\n",
      "\t - Validation Accuracy: 0.465625\n",
      "\t - Validation F1: 0.403497\n",
      "\t - Validation Recall: 0.712857\n",
      "\t - Validation Precision: 0.292078 \n",
      "\n",
      "\t * Model @ epoch 1 saved to model_saves/target-iSarcasm_inter-IMDB_03/E01_A0.47_F0.4\n",
      "\t * Model checkpoint saved to model_saves/target-iSarcasm_inter-IMDB_03/E01_A0.47_F0.4/checkpoint.pt\n",
      "\n",
      "Epoch 2: 100%|██████████| 267/267 [02:11<00:00,  2.03batch/s]\n",
      "\t Validation 39: 100%|██████████| 40/40 [00:05<00:00,  6.89batch/s]\n",
      "\n",
      " \t - Train loss: 0.602461\n",
      "\t - Validation Loss: 0.593465\n",
      "\t - Validation Accuracy: 0.689063\n",
      "\t - Validation F1: 0.430380\n",
      "\t - Validation Recall: 0.509048\n",
      "\t - Validation Precision: 0.429881 \n",
      "\n",
      "\t * Model @ epoch 2 saved to model_saves/target-iSarcasm_inter-IMDB_03/E02_A0.69_F0.43\n",
      "\t * Model checkpoint saved to model_saves/target-iSarcasm_inter-IMDB_03/E02_A0.69_F0.43/checkpoint.pt\n",
      "\n",
      "Epoch 3: 100%|██████████| 267/267 [01:53<00:00,  2.35batch/s]\n",
      "\t Validation 39: 100%|██████████| 40/40 [00:05<00:00,  6.88batch/s]\n",
      "\n",
      " \t - Train loss: 0.308693\n",
      "\t - Validation Loss: 0.730004\n",
      "\t - Validation Accuracy: 0.743750\n",
      "\t - Validation F1: 0.374850\n",
      "\t - Validation Recall: 0.338125\n",
      "\t - Validation Precision: 0.502917 \n",
      "\n",
      "\t * Model @ epoch 3 saved to model_saves/target-iSarcasm_inter-IMDB_03/E03_A0.74_F0.37\n",
      "\t * Model checkpoint saved to model_saves/target-iSarcasm_inter-IMDB_03/E03_A0.74_F0.37/checkpoint.pt\n",
      "\n",
      "Epoch 4: 100%|██████████| 267/267 [01:54<00:00,  2.33batch/s]\n",
      "\t Validation 39: 100%|██████████| 40/40 [00:05<00:00,  7.31batch/s]\n",
      "\n",
      " \t - Train loss: 0.138380\n",
      "\t - Validation Loss: 0.861082\n",
      "\t - Validation Accuracy: 0.729688\n",
      "\t - Validation F1: 0.392305\n",
      "\t - Validation Recall: 0.399524\n",
      "\t - Validation Precision: 0.435952 \n",
      "\n",
      "\t * Model @ epoch 4 saved to model_saves/target-iSarcasm_inter-IMDB_03/E04_A0.73_F0.39\n",
      "\t * Model checkpoint saved to model_saves/target-iSarcasm_inter-IMDB_03/E04_A0.73_F0.39/checkpoint.pt\n",
      "\n",
      "Epoch 5: 100%|██████████| 267/267 [01:53<00:00,  2.35batch/s]\n",
      "\t Validation 39: 100%|██████████| 40/40 [00:05<00:00,  7.21batch/s]\n",
      "\n",
      " \t - Train loss: 0.068773\n",
      "\t - Validation Loss: 1.092378\n",
      "\t - Validation Accuracy: 0.720313\n",
      "\t - Validation F1: 0.388348\n",
      "\t - Validation Recall: 0.408274\n",
      "\t - Validation Precision: 0.423214 \n",
      "\n",
      "\t * Model @ epoch 5 saved to model_saves/target-iSarcasm_inter-IMDB_03/E05_A0.72_F0.39\n",
      "\t * Model checkpoint saved to model_saves/target-iSarcasm_inter-IMDB_03/E05_A0.72_F0.39/checkpoint.pt\n",
      "\n",
      "Epoch 6: 100%|██████████| 267/267 [01:52<00:00,  2.38batch/s]\n",
      "\t Validation 39: 100%|██████████| 40/40 [00:05<00:00,  7.00batch/s]\n",
      "\n",
      " \t - Train loss: 0.052373\n",
      "\t - Validation Loss: 1.192851\n",
      "\t - Validation Accuracy: 0.740625\n",
      "\t - Validation F1: 0.333183\n",
      "\t - Validation Recall: 0.307589\n",
      "\t - Validation Precision: 0.408095 \n",
      "\n",
      "\t * Model @ epoch 6 saved to model_saves/target-iSarcasm_inter-IMDB_03/E06_A0.74_F0.33\n",
      "\t * Model checkpoint saved to model_saves/target-iSarcasm_inter-IMDB_03/E06_A0.74_F0.33/checkpoint.pt\n",
      "\n",
      "Epoch 7: 100%|██████████| 267/267 [01:53<00:00,  2.35batch/s]\n",
      "\t Validation 39: 100%|██████████| 40/40 [00:05<00:00,  6.93batch/s]\n",
      "\n",
      " \t - Train loss: 0.034546\n",
      "\t - Validation Loss: 1.303394\n",
      "\t - Validation Accuracy: 0.739062\n",
      "\t - Validation F1: 0.377500\n",
      "\t - Validation Recall: 0.337024\n",
      "\t - Validation Precision: 0.485417 \n",
      "\n",
      "\t * Model @ epoch 7 saved to model_saves/target-iSarcasm_inter-IMDB_03/E07_A0.74_F0.38\n",
      "\t * Model checkpoint saved to model_saves/target-iSarcasm_inter-IMDB_03/E07_A0.74_F0.38/checkpoint.pt\n",
      "\n",
      "Epoch 8: 100%|██████████| 267/267 [02:03<00:00,  2.16batch/s]\n",
      "\t Validation 39: 100%|██████████| 40/40 [00:05<00:00,  7.14batch/s]\n",
      "\n",
      " \t - Train loss: 0.038368\n",
      "\t - Validation Loss: 1.394291\n",
      "\t - Validation Accuracy: 0.750000\n",
      "\t - Validation F1: 0.319230\n",
      "\t - Validation Recall: 0.267381\n",
      "\t - Validation Precision: 0.504583 \n",
      "\n",
      "\t * Model @ epoch 8 saved to model_saves/target-iSarcasm_inter-IMDB_03/E08_A0.75_F0.32\n",
      "\t * Model checkpoint saved to model_saves/target-iSarcasm_inter-IMDB_03/E08_A0.75_F0.32/checkpoint.pt\n",
      "\n",
      "Epoch 9: 100%|██████████| 267/267 [01:53<00:00,  2.35batch/s]\n",
      "\t Validation 39: 100%|██████████| 40/40 [00:05<00:00,  6.76batch/s]\n",
      "\n",
      " \t - Train loss: 0.037304\n",
      "\t - Validation Loss: 1.154243\n",
      "\t - Validation Accuracy: 0.743750\n",
      "\t - Validation F1: 0.272183\n",
      "\t - Validation Recall: 0.234375\n",
      "\t - Validation Precision: 0.407917 \n",
      "\n",
      "\t * Model @ epoch 9 saved to model_saves/target-iSarcasm_inter-IMDB_03/E09_A0.74_F0.27\n",
      "\t * Model checkpoint saved to model_saves/target-iSarcasm_inter-IMDB_03/E09_A0.74_F0.27/checkpoint.pt\n",
      "\n",
      "Epoch 10: 100%|██████████| 267/267 [01:52<00:00,  2.38batch/s]\n",
      "\t Validation 39: 100%|██████████| 40/40 [00:05<00:00,  7.07batch/s]\n",
      "\n",
      " \t - Train loss: 0.026435\n",
      "\t - Validation Loss: 1.288439\n",
      "\t - Validation Accuracy: 0.729688\n",
      "\t - Validation F1: 0.353894\n",
      "\t - Validation Recall: 0.338185\n",
      "\t - Validation Precision: 0.505000 \n",
      "\n",
      "\t * Model @ epoch 10 saved to model_saves/target-iSarcasm_inter-IMDB_03/E10_A0.73_F0.35\n",
      "\t * Model checkpoint saved to model_saves/target-iSarcasm_inter-IMDB_03/E10_A0.73_F0.35/checkpoint.pt\n",
      "\n"
     ]
    }
   ],
   "source": [
    "trainer.fit()"
   ]
  },
  {
   "cell_type": "markdown",
   "metadata": {},
   "source": [
    "## intermediate_hellaswag"
   ]
  },
  {
   "cell_type": "code",
   "execution_count": null,
   "metadata": {},
   "outputs": [],
   "source": [
    "# set params for this model\n",
    "params.num_labels = 2\n",
    "params.output_dir = \"model_saves/target-iSarcasm_inter-hellaswag_03\""
   ]
  },
  {
   "cell_type": "markdown",
   "metadata": {},
   "source": [
    "### Train"
   ]
  },
  {
   "cell_type": "markdown",
   "metadata": {},
   "source": [
    "Download transformers.RobertaForSequenceClassificatio, which is a RoBERTa model with a linear layer for sentence classification (or regression) on top of the pooled output:"
   ]
  },
  {
   "cell_type": "code",
   "execution_count": null,
   "metadata": {},
   "outputs": [],
   "source": [
    "# Load the RobertaForSequenceClassification model\n",
    "model = RobertaForSequenceClassification.from_pretrained(intermediate_model_path,\n",
    "                                                         num_labels = params.num_labels,\n",
    "                                                         local_files_only=True, \n",
    "                                                         ignore_mismatched_sizes=True,\n",
    "                                                         output_attentions = False,\n",
    "                                                         output_hidden_states = False,\n",
    "                                                         )\n",
    "\n",
    "from torchinfo import summary\n",
    "summary(model, input_size=(1, 512), dtypes=['torch.IntTensor'])"
   ]
  },
  {
   "cell_type": "markdown",
   "metadata": {},
   "source": [
    "Set model to device, initialize trainer"
   ]
  },
  {
   "cell_type": "code",
   "execution_count": null,
   "metadata": {},
   "outputs": [],
   "source": [
    "model.to(params.device)\n",
    "print(f\"Device: {params.device}\")\n",
    "\n",
    "optimizer = torch.optim.Adam(params=model.parameters(), \n",
    "                             lr=params.learning_rate,\n",
    "                             weight_decay=params.weight_decay) #roberta\n",
    "\n",
    "trainer = Trainer(model=model,\n",
    "                  device=params.device,\n",
    "                  tokenizer=params.tokenizer,\n",
    "                  train_dataloader=train_dataloader,\n",
    "                  validation_dataloader=validation_dataloader,\n",
    "                  epochs=params.epochs,\n",
    "                  optimizer=optimizer,\n",
    "                  val_loss_fn=params.val_loss_fn,\n",
    "                  num_labels=params.num_labels,\n",
    "                  output_dir=params.output_dir,\n",
    "                  save_freq=params.save_freq,\n",
    "                  checkpoint_freq=params.checkpoint_freq)\n",
    "\n",
    "output_parameters()"
   ]
  },
  {
   "cell_type": "markdown",
   "metadata": {},
   "source": [
    "Fit the model to our training data."
   ]
  },
  {
   "cell_type": "code",
   "execution_count": null,
   "metadata": {},
   "outputs": [],
   "source": [
    "trainer.fit()"
   ]
  },
  {
   "cell_type": "code",
   "execution_count": null,
   "metadata": {},
   "outputs": [],
   "source": []
  }
 ],
 "metadata": {
  "kernelspec": {
   "display_name": "Python 3.9.13 ('itesd_env')",
   "language": "python",
   "name": "python3"
  },
  "language_info": {
   "codemirror_mode": {
    "name": "ipython",
    "version": 3
   },
   "file_extension": ".py",
   "mimetype": "text/x-python",
   "name": "python",
   "nbconvert_exporter": "python",
   "pygments_lexer": "ipython3",
   "version": "3.9.13"
  },
  "orig_nbformat": 4,
  "vscode": {
   "interpreter": {
    "hash": "3c42b54925bdca82cdb5059acc0a21648e00763ff265e64872b54aa656b5d9d8"
   }
  }
 },
 "nbformat": 4,
 "nbformat_minor": 2
}
