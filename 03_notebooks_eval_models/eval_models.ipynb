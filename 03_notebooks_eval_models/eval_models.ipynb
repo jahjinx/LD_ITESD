{
 "cells": [
  {
   "cell_type": "markdown",
   "metadata": {},
   "source": [
    "# Model Evaluation\n",
    "\n",
    "This notebook is used to evaluate our control,  target, intermediate model epochs on their respective test sets. The resulting data is stored to 05_results/results_target.csv and 05_results/results_intermediate.csv depending on the test."
   ]
  },
  {
   "cell_type": "markdown",
   "metadata": {},
   "source": [
    "## Imports & Settings"
   ]
  },
  {
   "cell_type": "code",
   "execution_count": 1,
   "metadata": {},
   "outputs": [],
   "source": [
    "# Update working directory to parent so that we may use our custom functions\n",
    "import os\n",
    "os.chdir('..')\n",
    "# os.getcwd( )"
   ]
  },
  {
   "cell_type": "code",
   "execution_count": 2,
   "metadata": {},
   "outputs": [],
   "source": [
    "from utils_eval import *\n",
    "from datasets import load_from_disk"
   ]
  },
  {
   "cell_type": "markdown",
   "metadata": {},
   "source": [
    "## Generate Results CSV"
   ]
  },
  {
   "cell_type": "code",
   "execution_count": null,
   "metadata": {},
   "outputs": [],
   "source": [
    "# generate_results = {'model_name': [], 'model_epoch': [], 'test_accuracy': [], 'test_f1': [], 'predictions':[]}\n",
    "# generate_results_df = pd.DataFrame(data=generate_results)\n",
    "\n",
    "# generate_results_df.to_csv(\"05_results/results_intermediate.csv\", index=False)"
   ]
  },
  {
   "cell_type": "markdown",
   "metadata": {},
   "source": [
    "## control_iSarcasm"
   ]
  },
  {
   "cell_type": "code",
   "execution_count": null,
   "metadata": {},
   "outputs": [],
   "source": [
    "# load test data\n",
    "dataset_path = \"data/target_iSarcasmEval/itesd_iSarcasmEval_balanced.hf\"\n",
    "datasets = load_from_disk(dataset_path)\n",
    "iSarcasm_test_df = datasets['test'].to_pandas()\n",
    "\n",
    "# get model paths\n",
    "top_model_dirs = [\"model_saves/control_iSarcasm_01\",\"model_saves/control_iSarcasm_02\",\"model_saves/control_iSarcasm_03\"]"
   ]
  },
  {
   "cell_type": "code",
   "execution_count": null,
   "metadata": {},
   "outputs": [],
   "source": [
    "for top in top_model_dirs:\n",
    "    models = parse_model_dir(top)\n",
    "    evaluate_model(iSarcasm_test_df, models, 2, '05_results/results_target.csv')"
   ]
  },
  {
   "cell_type": "markdown",
   "metadata": {},
   "source": [
    "## intermediate_XED_binary\n"
   ]
  },
  {
   "cell_type": "code",
   "execution_count": null,
   "metadata": {},
   "outputs": [],
   "source": [
    "# load test data\n",
    "dataset_path = \"data/inter_XED/itesd_xed_binary_balanced.hf\"\n",
    "datasets = load_from_disk(dataset_path)\n",
    "xed_binary_test_df = datasets['test'].to_pandas()\n",
    "\n",
    "# get model paths\n",
    "top_model_dirs = [\"model_saves/intermediate_XED_binary_01\"]"
   ]
  },
  {
   "cell_type": "code",
   "execution_count": null,
   "metadata": {},
   "outputs": [],
   "source": [
    "for top in top_model_dirs:\n",
    "    models = parse_model_dir(top)\n",
    "    evaluate_model(xed_binary_test_df, models, 2, '05_results/results_intermediate.csv')"
   ]
  },
  {
   "cell_type": "markdown",
   "metadata": {},
   "source": [
    "## intermediate_XED_fine\n"
   ]
  },
  {
   "cell_type": "code",
   "execution_count": null,
   "metadata": {},
   "outputs": [],
   "source": [
    "# load test data\n",
    "dataset_path = \"data/inter_XED/itesd_xed_fine_balanced.hf\"\n",
    "datasets = load_from_disk(dataset_path)\n",
    "xed_fine_test_df = datasets['test'].to_pandas()\n",
    "\n",
    "# get model paths\n",
    "top_model_dirs = [\"model_saves/intermediate_XED_fine_01\"]"
   ]
  },
  {
   "cell_type": "code",
   "execution_count": null,
   "metadata": {},
   "outputs": [],
   "source": [
    "for top in top_model_dirs:\n",
    "    models = parse_model_dir(top)\n",
    "    evaluate_model(xed_fine_test_df, models, 8, '05_results/results_intermediate.csv')"
   ]
  },
  {
   "cell_type": "markdown",
   "metadata": {},
   "source": [
    "## intermediate_SARC\n"
   ]
  },
  {
   "cell_type": "code",
   "execution_count": null,
   "metadata": {},
   "outputs": [],
   "source": [
    "# load test data\n",
    "dataset_path = \"data/inter_SARC/itesd_sarc_balanced.hf\"\n",
    "datasets = load_from_disk(dataset_path)\n",
    "sarc_test_df = datasets['test'].to_pandas()\n",
    "\n",
    "# get model paths\n",
    "top_model_dirs = [\"model_saves/intermediate_SARC_01\"]"
   ]
  },
  {
   "cell_type": "code",
   "execution_count": null,
   "metadata": {},
   "outputs": [],
   "source": [
    "for top in top_model_dirs:\n",
    "    models = parse_model_dir(top)\n",
    "    evaluate_model(sarc_test_df, models, 2, 'results/results_intermediate.csv')"
   ]
  },
  {
   "cell_type": "markdown",
   "metadata": {},
   "source": [
    "## intermediate_IMDB\n"
   ]
  },
  {
   "cell_type": "code",
   "execution_count": null,
   "metadata": {},
   "outputs": [],
   "source": [
    "# load test data\n",
    "dataset_path = \"data/inter_IMDB_sentiment/itesd_imdb_balanced.hf\"\n",
    "datasets = load_from_disk(dataset_path)\n",
    "imdb_test_df = datasets['test'].to_pandas()\n",
    "\n",
    "# get model paths\n",
    "top_model_dirs = [\"model_saves/intermediate_IMDB_01\"]"
   ]
  },
  {
   "cell_type": "code",
   "execution_count": null,
   "metadata": {},
   "outputs": [],
   "source": [
    "for top in top_model_dirs:\n",
    "    models = parse_model_dir(top)\n",
    "    evaluate_model(imdb_test_df, models, 2, 'results/results_intermediate.csv')"
   ]
  },
  {
   "cell_type": "markdown",
   "metadata": {},
   "source": [
    "## intermediate_hellaswag\n"
   ]
  },
  {
   "cell_type": "code",
   "execution_count": 3,
   "metadata": {},
   "outputs": [],
   "source": [
    "# load test data\n",
    "hellaswag_datasets = load_from_disk(\"data/inter_HellaSwag/itesd_hellaswag_balanced.hf\")\n",
    "\n",
    "# get model paths\n",
    "top_model_dirs = [\"model_saves/intermediate_HellaSwag_01\"]"
   ]
  },
  {
   "cell_type": "code",
   "execution_count": null,
   "metadata": {},
   "outputs": [],
   "source": [
    "for top in top_model_dirs:\n",
    "    models = parse_model_dir(top)\n",
    "    evaluate_mc_model(hellaswag_datasets, models, 4, '05_results/results_intermediate.csv')"
   ]
  },
  {
   "cell_type": "markdown",
   "metadata": {},
   "source": [
    "## intermediate_cosmosQA\n"
   ]
  },
  {
   "cell_type": "code",
   "execution_count": null,
   "metadata": {},
   "outputs": [],
   "source": [
    "# load test data\n",
    "cosmos_datasets = load_from_disk(\"data/inter_cosmosqa/itesd_cosmosqa_balanced.hf\")\n",
    "\n",
    "# get model paths\n",
    "top_model_dirs = [\"model_saves/intermediate_CosmosQA_01\"]"
   ]
  },
  {
   "cell_type": "code",
   "execution_count": null,
   "metadata": {},
   "outputs": [],
   "source": [
    "for top in top_model_dirs:\n",
    "    models = parse_model_dir(top)\n",
    "    evaluate_mc_model(cosmos_datasets, models, 4, '05_results/results_intermediate.csv')"
   ]
  },
  {
   "cell_type": "markdown",
   "metadata": {},
   "source": [
    "## target_iSarcasm"
   ]
  },
  {
   "cell_type": "code",
   "execution_count": null,
   "metadata": {},
   "outputs": [],
   "source": [
    "# load test data\n",
    "dataset_path = \"data/target_iSarcasmEval/itesd_iSarcasmEval_balanced.hf\"\n",
    "datasets = load_from_disk(dataset_path)\n",
    "iSarcasm_test_df = datasets['test'].to_pandas()\n",
    "\n",
    "# get model paths\n",
    "top_model_dirs = [\"model_saves/target-iSarcasm_inter-XED-fine_01\",\n",
    "                  \"model_saves/target-iSarcasm_inter-XED-fine_02\",\n",
    "                  \"model_saves/target-iSarcasm_inter-XED-fine_03\"]"
   ]
  },
  {
   "cell_type": "code",
   "execution_count": null,
   "metadata": {},
   "outputs": [],
   "source": [
    "for top in top_model_dirs:\n",
    "    models = parse_model_dir(top)\n",
    "    evaluate_model(iSarcasm_test_df, models, 2, '05_results/results_target.csv')"
   ]
  },
  {
   "cell_type": "markdown",
   "metadata": {},
   "source": [
    "# Results Preview"
   ]
  },
  {
   "cell_type": "code",
   "execution_count": null,
   "metadata": {},
   "outputs": [],
   "source": [
    "results_df = pd.read_csv('05_results/results_target.csv')\n",
    "results_df.head(40)"
   ]
  },
  {
   "cell_type": "code",
   "execution_count": null,
   "metadata": {},
   "outputs": [],
   "source": [
    "results_df.describe()"
   ]
  },
  {
   "cell_type": "code",
   "execution_count": null,
   "metadata": {},
   "outputs": [],
   "source": [
    "results_df.loc[results_df['model_name'] == \"target-iSarcasm_inter-XED-fine_01\"]\n"
   ]
  },
  {
   "cell_type": "code",
   "execution_count": null,
   "metadata": {},
   "outputs": [],
   "source": [
    "inter_results_df = pd.read_csv('05_results/results_intermediate.csv')\n",
    "inter_results_df.head(60)"
   ]
  },
  {
   "cell_type": "code",
   "execution_count": null,
   "metadata": {},
   "outputs": [],
   "source": [
    "filtered = inter_results_df.loc[inter_results_df['model_name'] == \"intermediate_XED_fine_01\"]\n",
    "# filtered['test_f1'].idxmax()\n",
    "max_f1 = inter_results_df.iloc[filtered['test_f1'].idxmax()]\n",
    "max_f1"
   ]
  }
 ],
 "metadata": {
  "kernelspec": {
   "display_name": "Python 3.9.13 ('itesd_env')",
   "language": "python",
   "name": "python3"
  },
  "language_info": {
   "codemirror_mode": {
    "name": "ipython",
    "version": 3
   },
   "file_extension": ".py",
   "mimetype": "text/x-python",
   "name": "python",
   "nbconvert_exporter": "python",
   "pygments_lexer": "ipython3",
   "version": "3.9.13"
  },
  "orig_nbformat": 4,
  "vscode": {
   "interpreter": {
    "hash": "3c42b54925bdca82cdb5059acc0a21648e00763ff265e64872b54aa656b5d9d8"
   }
  }
 },
 "nbformat": 4,
 "nbformat_minor": 2
}
