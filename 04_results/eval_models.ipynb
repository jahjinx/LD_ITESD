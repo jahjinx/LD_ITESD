{
 "cells": [
  {
   "cell_type": "markdown",
   "metadata": {},
   "source": [
    "## Imports & Settings"
   ]
  },
  {
   "cell_type": "code",
   "execution_count": 1,
   "metadata": {},
   "outputs": [],
   "source": [
    "# Update working directory to parent so that we may use our custom functions\n",
    "os.chdir('..')\n",
    "# os.getcwd( )\n",
    "\n",
    "from results_utils.utils_eval import *\n",
    "from datasets import load_from_disk"
   ]
  },
  {
   "cell_type": "markdown",
   "metadata": {},
   "source": [
    "## Generate Results CSV"
   ]
  },
  {
   "cell_type": "code",
   "execution_count": null,
   "metadata": {},
   "outputs": [],
   "source": [
    "# generate_results = {'model_name': [], 'model_epoch': [], 'test_accuracy': [], 'test_f1': [], 'predictions':[]}\n",
    "# generate_results_df = pd.DataFrame(data=generate_results)\n",
    "\n",
    "# generate_results_df.to_csv(\"results/results_intermediate.csv\", index=False)"
   ]
  },
  {
   "cell_type": "markdown",
   "metadata": {},
   "source": [
    "## control_iSarcasm"
   ]
  },
  {
   "cell_type": "code",
   "execution_count": null,
   "metadata": {},
   "outputs": [],
   "source": [
    "# load test data\n",
    "params.dataset_path = \"data/target_iSarcasmEval/itesd_iSarcasmEval_balanced.hf\"\n",
    "datasets = load_from_disk(params.dataset_path)\n",
    "iSarcasm_test_df = datasets['test'].to_pandas()\n",
    "\n",
    "# get model paths\n",
    "top_model_dirs = [\"model_saves/control_iSarcasm_01\",\"model_saves/control_iSarcasm_02\",\"model_saves/control_iSarcasm_03\"]"
   ]
  },
  {
   "cell_type": "code",
   "execution_count": null,
   "metadata": {},
   "outputs": [],
   "source": [
    "for top in top_model_dirs:\n",
    "    models = parse_model_dir(top)\n",
    "    evaluate_model(iSarcasm_test_df, models, 2, 'results/results_target.csv')"
   ]
  },
  {
   "cell_type": "markdown",
   "metadata": {},
   "source": [
    "## intermediate_XED_binary\n"
   ]
  },
  {
   "cell_type": "code",
   "execution_count": null,
   "metadata": {},
   "outputs": [],
   "source": [
    "# load test data\n",
    "params.dataset_path = \"data/inter_XED/itesd_xed_binary_balanced.hf\"\n",
    "datasets = load_from_disk(params.dataset_path)\n",
    "xed_binary_test_df = datasets['test'].to_pandas()\n",
    "\n",
    "# get model paths\n",
    "top_model_dirs = [\"model_saves/intermediate_XED_binary_01\"]"
   ]
  },
  {
   "cell_type": "code",
   "execution_count": null,
   "metadata": {},
   "outputs": [],
   "source": [
    "for top in top_model_dirs:\n",
    "    models = parse_model_dir(top)\n",
    "    evaluate_model(xed_binary_test_df, models, 2, 'results/results_intermediate.csv')"
   ]
  },
  {
   "cell_type": "markdown",
   "metadata": {},
   "source": [
    "## intermediate_XED_fine\n"
   ]
  },
  {
   "cell_type": "code",
   "execution_count": null,
   "metadata": {},
   "outputs": [],
   "source": [
    "# load test data\n",
    "params.dataset_path = \"data/inter_XED/itesd_xed_fine_balanced.hf\"\n",
    "datasets = load_from_disk(params.dataset_path)\n",
    "xed_fine_test_df = datasets['test'].to_pandas()\n",
    "\n",
    "# get model paths\n",
    "top_model_dirs = [\"model_saves/intermediate_XED_fine_01\"]"
   ]
  },
  {
   "cell_type": "code",
   "execution_count": null,
   "metadata": {},
   "outputs": [],
   "source": [
    "for top in top_model_dirs:\n",
    "    models = parse_model_dir(top)\n",
    "    evaluate_model(xed_fine_test_df, models, 8, 'results/results_intermediate.csv')"
   ]
  },
  {
   "cell_type": "markdown",
   "metadata": {},
   "source": [
    "## intermediate_SARC\n"
   ]
  },
  {
   "cell_type": "code",
   "execution_count": null,
   "metadata": {},
   "outputs": [],
   "source": [
    "# load test data\n",
    "params.dataset_path = \"data/inter_SARC/itesd_sarc_balanced.hf\"\n",
    "datasets = load_from_disk(params.dataset_path)\n",
    "sarc_test_df = datasets['test'].to_pandas()\n",
    "\n",
    "# get model paths\n",
    "top_model_dirs = [\"model_saves/intermediate_SARC_01\"]"
   ]
  },
  {
   "cell_type": "code",
   "execution_count": null,
   "metadata": {},
   "outputs": [],
   "source": [
    "for top in top_model_dirs:\n",
    "    models = parse_model_dir(top)\n",
    "    evaluate_model(sarc_test_df, models, 2, 'results/results_intermediate.csv')"
   ]
  },
  {
   "cell_type": "markdown",
   "metadata": {},
   "source": [
    "## intermediate_IMDB\n"
   ]
  },
  {
   "cell_type": "code",
   "execution_count": null,
   "metadata": {},
   "outputs": [],
   "source": [
    "# load test data\n",
    "params.dataset_path = \"data/inter_IMDB_sentiment/itesd_imdb_balanced.hf\"\n",
    "datasets = load_from_disk(params.dataset_path)\n",
    "imdb_test_df = datasets['test'].to_pandas()\n",
    "\n",
    "# get model paths\n",
    "top_model_dirs = [\"model_saves/intermediate_IMDB_01\"]"
   ]
  },
  {
   "cell_type": "code",
   "execution_count": null,
   "metadata": {},
   "outputs": [],
   "source": [
    "for top in top_model_dirs:\n",
    "    models = parse_model_dir(top)\n",
    "    evaluate_model(imdb_test_df, models, 2, 'results/results_intermediate.csv')"
   ]
  },
  {
   "cell_type": "markdown",
   "metadata": {},
   "source": [
    "## intermediate_hellaswag\n"
   ]
  },
  {
   "cell_type": "code",
   "execution_count": 2,
   "metadata": {},
   "outputs": [],
   "source": [
    "# load test data\n",
    "hellaswag_datasets = load_from_disk(\"data/inter_HellaSwag/itesd_hellaswag_balanced.hf\")\n",
    "\n",
    "# get model paths\n",
    "top_model_dirs = [\"model_saves/intermediate_HellaSwag_01\"]"
   ]
  },
  {
   "cell_type": "code",
   "execution_count": 3,
   "metadata": {},
   "outputs": [
    {
     "data": {
      "text/plain": [
       "DatasetDict({\n",
       "    train: Dataset({\n",
       "        features: ['ind', 'activity_label', 'ctx_a', 'ctx_b', 'ctx', 'endings', 'source_id', 'split', 'split_type', 'label', 'ending0', 'ending1', 'ending2', 'ending3'],\n",
       "        num_rows: 34600\n",
       "    })\n",
       "    validation: Dataset({\n",
       "        features: ['ind', 'activity_label', 'ctx_a', 'ctx_b', 'ctx', 'endings', 'source_id', 'split', 'split_type', 'label', 'ending0', 'ending1', 'ending2', 'ending3'],\n",
       "        num_rows: 10042\n",
       "    })\n",
       "    test: Dataset({\n",
       "        features: ['ind', 'activity_label', 'ctx_a', 'ctx_b', 'ctx', 'endings', 'source_id', 'split', 'split_type', 'label', 'ending0', 'ending1', 'ending2', 'ending3'],\n",
       "        num_rows: 4994\n",
       "    })\n",
       "})"
      ]
     },
     "execution_count": 3,
     "metadata": {},
     "output_type": "execute_result"
    }
   ],
   "source": [
    "hellaswag_datasets"
   ]
  },
  {
   "cell_type": "code",
   "execution_count": 4,
   "metadata": {},
   "outputs": [
    {
     "name": "stdout",
     "output_type": "stream",
     "text": [
      "Model: model_saves/intermediate_HellaSwag_01/E01_A0.58_F0.58\n"
     ]
    },
    {
     "data": {
      "application/vnd.jupyter.widget-view+json": {
       "model_id": "d8b6182759cc468b808826226c059ee6",
       "version_major": 2,
       "version_minor": 0
      },
      "text/plain": [
       "  0%|          | 0/5 [00:00<?, ?ba/s]"
      ]
     },
     "metadata": {},
     "output_type": "display_data"
    },
    {
     "name": "stderr",
     "output_type": "stream",
     "text": [
      "\tTest 4994: 100%|██████████| 4994/4994 [05:53<00:00, 14.13test/s]\n"
     ]
    },
    {
     "name": "stdout",
     "output_type": "stream",
     "text": [
      "\t- Accuracy: 0.5812975570684822\n",
      "\t- F1: 0.5812975570684822\n",
      "\n",
      "Model: model_saves/intermediate_HellaSwag_01/E02_A0.6_F0.6\n"
     ]
    },
    {
     "data": {
      "application/vnd.jupyter.widget-view+json": {
       "model_id": "16371e5285744ea28c2e0c45546f53a3",
       "version_major": 2,
       "version_minor": 0
      },
      "text/plain": [
       "  0%|          | 0/5 [00:00<?, ?ba/s]"
      ]
     },
     "metadata": {},
     "output_type": "display_data"
    },
    {
     "name": "stderr",
     "output_type": "stream",
     "text": [
      "\tTest 4994: 100%|██████████| 4994/4994 [05:57<00:00, 13.97test/s]\n"
     ]
    },
    {
     "name": "stdout",
     "output_type": "stream",
     "text": [
      "\t- Accuracy: 0.6135362434921906\n",
      "\t- F1: 0.6135362434921906\n",
      "\n",
      "Model: model_saves/intermediate_HellaSwag_01/E03_A0.61_F0.61\n"
     ]
    },
    {
     "data": {
      "application/vnd.jupyter.widget-view+json": {
       "model_id": "680439384e51494fbfd4e4b67d164403",
       "version_major": 2,
       "version_minor": 0
      },
      "text/plain": [
       "  0%|          | 0/5 [00:00<?, ?ba/s]"
      ]
     },
     "metadata": {},
     "output_type": "display_data"
    },
    {
     "name": "stderr",
     "output_type": "stream",
     "text": [
      "\tTest 4994: 100%|██████████| 4994/4994 [06:01<00:00, 13.80test/s]\n"
     ]
    },
    {
     "name": "stdout",
     "output_type": "stream",
     "text": [
      "\t- Accuracy: 0.6253504205046055\n",
      "\t- F1: 0.6253504205046055\n",
      "\n",
      "Model: model_saves/intermediate_HellaSwag_01/E04_A0.61_F0.61\n"
     ]
    },
    {
     "data": {
      "application/vnd.jupyter.widget-view+json": {
       "model_id": "9cd7e58cabef4b38a3ba76916983bd34",
       "version_major": 2,
       "version_minor": 0
      },
      "text/plain": [
       "  0%|          | 0/5 [00:00<?, ?ba/s]"
      ]
     },
     "metadata": {},
     "output_type": "display_data"
    },
    {
     "name": "stderr",
     "output_type": "stream",
     "text": [
      "\tTest 4994: 100%|██████████| 4994/4994 [05:59<00:00, 13.89test/s]\n"
     ]
    },
    {
     "name": "stdout",
     "output_type": "stream",
     "text": [
      "\t- Accuracy: 0.6301561874249099\n",
      "\t- F1: 0.6301561874249099\n",
      "\n",
      "Model: model_saves/intermediate_HellaSwag_01/E05_A0.61_F0.61\n"
     ]
    },
    {
     "data": {
      "application/vnd.jupyter.widget-view+json": {
       "model_id": "d4cd2234a38a42788879db0c751cdbea",
       "version_major": 2,
       "version_minor": 0
      },
      "text/plain": [
       "  0%|          | 0/5 [00:00<?, ?ba/s]"
      ]
     },
     "metadata": {},
     "output_type": "display_data"
    },
    {
     "name": "stderr",
     "output_type": "stream",
     "text": [
      "\tTest 4994: 100%|██████████| 4994/4994 [05:54<00:00, 14.10test/s]\n"
     ]
    },
    {
     "name": "stdout",
     "output_type": "stream",
     "text": [
      "\t- Accuracy: 0.6217460953143773\n",
      "\t- F1: 0.6217460953143773\n",
      "\n",
      "Model: model_saves/intermediate_HellaSwag_01/E06_A0.61_F0.61\n"
     ]
    },
    {
     "data": {
      "application/vnd.jupyter.widget-view+json": {
       "model_id": "1158d1ce7c724de38a7e54d4bdf0550c",
       "version_major": 2,
       "version_minor": 0
      },
      "text/plain": [
       "  0%|          | 0/5 [00:00<?, ?ba/s]"
      ]
     },
     "metadata": {},
     "output_type": "display_data"
    },
    {
     "name": "stderr",
     "output_type": "stream",
     "text": [
      "\tTest 4994: 100%|██████████| 4994/4994 [05:55<00:00, 14.06test/s]\n"
     ]
    },
    {
     "name": "stdout",
     "output_type": "stream",
     "text": [
      "\t- Accuracy: 0.631758109731678\n",
      "\t- F1: 0.631758109731678\n",
      "\n",
      "Model: model_saves/intermediate_HellaSwag_01/E07_A0.62_F0.62\n"
     ]
    },
    {
     "data": {
      "application/vnd.jupyter.widget-view+json": {
       "model_id": "3627d8a9d8d64d2b9126fa603f502184",
       "version_major": 2,
       "version_minor": 0
      },
      "text/plain": [
       "  0%|          | 0/5 [00:00<?, ?ba/s]"
      ]
     },
     "metadata": {},
     "output_type": "display_data"
    },
    {
     "name": "stderr",
     "output_type": "stream",
     "text": [
      "\tTest 4994: 100%|██████████| 4994/4994 [05:52<00:00, 14.17test/s]\n"
     ]
    },
    {
     "name": "stdout",
     "output_type": "stream",
     "text": [
      "\t- Accuracy: 0.631958350020024\n",
      "\t- F1: 0.631958350020024\n",
      "\n",
      "Model: model_saves/intermediate_HellaSwag_01/E08_A0.61_F0.61\n"
     ]
    },
    {
     "data": {
      "application/vnd.jupyter.widget-view+json": {
       "model_id": "3264dd4b2ea34225bb55bb754985f331",
       "version_major": 2,
       "version_minor": 0
      },
      "text/plain": [
       "  0%|          | 0/5 [00:00<?, ?ba/s]"
      ]
     },
     "metadata": {},
     "output_type": "display_data"
    },
    {
     "name": "stderr",
     "output_type": "stream",
     "text": [
      "\tTest 4994: 100%|██████████| 4994/4994 [05:54<00:00, 14.07test/s]\n"
     ]
    },
    {
     "name": "stdout",
     "output_type": "stream",
     "text": [
      "\t- Accuracy: 0.6203444132959551\n",
      "\t- F1: 0.6203444132959551\n",
      "\n",
      "Model: model_saves/intermediate_HellaSwag_01/E09_A0.6_F0.6\n"
     ]
    },
    {
     "data": {
      "application/vnd.jupyter.widget-view+json": {
       "model_id": "fa3cf173ac5c401ab61e8f281488ee5c",
       "version_major": 2,
       "version_minor": 0
      },
      "text/plain": [
       "  0%|          | 0/5 [00:00<?, ?ba/s]"
      ]
     },
     "metadata": {},
     "output_type": "display_data"
    },
    {
     "name": "stderr",
     "output_type": "stream",
     "text": [
      "\tTest 4994: 100%|██████████| 4994/4994 [05:52<00:00, 14.16test/s]\n"
     ]
    },
    {
     "name": "stdout",
     "output_type": "stream",
     "text": [
      "\t- Accuracy: 0.6267521025230276\n",
      "\t- F1: 0.6267521025230276\n",
      "\n",
      "Model: model_saves/intermediate_HellaSwag_01/E10_A0.61_F0.61\n"
     ]
    },
    {
     "data": {
      "application/vnd.jupyter.widget-view+json": {
       "model_id": "c906f383bbca4af5ada3274b698eba21",
       "version_major": 2,
       "version_minor": 0
      },
      "text/plain": [
       "  0%|          | 0/5 [00:00<?, ?ba/s]"
      ]
     },
     "metadata": {},
     "output_type": "display_data"
    },
    {
     "name": "stderr",
     "output_type": "stream",
     "text": [
      "\tTest 4994: 100%|██████████| 4994/4994 [05:54<00:00, 14.09test/s]"
     ]
    },
    {
     "name": "stdout",
     "output_type": "stream",
     "text": [
      "\t- Accuracy: 0.6277533039647577\n",
      "\t- F1: 0.6277533039647577\n",
      "\n"
     ]
    },
    {
     "name": "stderr",
     "output_type": "stream",
     "text": [
      "\n"
     ]
    }
   ],
   "source": [
    "for top in top_model_dirs:\n",
    "    models = parse_model_dir(top)\n",
    "    evaluate_mc_model(hellaswag_datasets, models, 4, 'results/results_intermediate.csv')"
   ]
  },
  {
   "cell_type": "markdown",
   "metadata": {},
   "source": [
    "## intermediate_cosmosQA\n"
   ]
  },
  {
   "cell_type": "code",
   "execution_count": null,
   "metadata": {},
   "outputs": [],
   "source": [
    "# load test data\n",
    "cosmos_datasets = load_dataset(\"cosmos_qa\")\n",
    "\n",
    "# get model paths\n",
    "top_model_dirs = [\"model_saves/intermediate_cosmos_01\"]"
   ]
  },
  {
   "cell_type": "code",
   "execution_count": null,
   "metadata": {},
   "outputs": [],
   "source": [
    "cosmos_datasets"
   ]
  },
  {
   "cell_type": "code",
   "execution_count": null,
   "metadata": {},
   "outputs": [],
   "source": [
    "for top in top_model_dirs:\n",
    "    models = parse_model_dir(top)\n",
    "    evaluate_mc_model(cosmos_datasets, models, 'results/results_intermediate.csv')"
   ]
  },
  {
   "cell_type": "markdown",
   "metadata": {},
   "source": [
    "## target_iSarcasm"
   ]
  },
  {
   "cell_type": "code",
   "execution_count": 2,
   "metadata": {},
   "outputs": [],
   "source": [
    "# load test data\n",
    "params.dataset_path = \"data/target_iSarcasmEval/itesd_iSarcasmEval_balanced.hf\"\n",
    "datasets = load_from_disk(params.dataset_path)\n",
    "iSarcasm_test_df = datasets['test'].to_pandas()\n",
    "\n",
    "# get model paths\n",
    "top_model_dirs = [\"model_saves/target-iSarcasm_inter-HellaSwag_01\",\n",
    "                  \"model_saves/target-iSarcasm_inter-HellaSwag_02\",\n",
    "                  \"model_saves/target-iSarcasm_inter-HellaSwag_03\"]"
   ]
  },
  {
   "cell_type": "code",
   "execution_count": 3,
   "metadata": {},
   "outputs": [
    {
     "name": "stdout",
     "output_type": "stream",
     "text": [
      "Model: model_saves/target-iSarcasm_inter-HellaSwag_01/E01_A0.75_F0.3\n"
     ]
    },
    {
     "name": "stderr",
     "output_type": "stream",
     "text": [
      "\tTest 1400: 100%|██████████| 1400/1400 [00:54<00:00, 25.82test/s]\n"
     ]
    },
    {
     "name": "stdout",
     "output_type": "stream",
     "text": [
      "\t- Accuracy: 0.8142857142857143\n",
      "\t- F1: 0.3564356435643565\n",
      "\n",
      "Model: model_saves/target-iSarcasm_inter-HellaSwag_01/E02_A0.72_F0.38\n"
     ]
    },
    {
     "name": "stderr",
     "output_type": "stream",
     "text": [
      "\tTest 1400: 100%|██████████| 1400/1400 [00:40<00:00, 34.83test/s]\n"
     ]
    },
    {
     "name": "stdout",
     "output_type": "stream",
     "text": [
      "\t- Accuracy: 0.7264285714285714\n",
      "\t- F1: 0.3385146804835924\n",
      "\n",
      "Model: model_saves/target-iSarcasm_inter-HellaSwag_01/E03_A0.76_F0.21\n"
     ]
    },
    {
     "name": "stderr",
     "output_type": "stream",
     "text": [
      "\tTest 1400: 100%|██████████| 1400/1400 [00:39<00:00, 35.61test/s]\n"
     ]
    },
    {
     "name": "stdout",
     "output_type": "stream",
     "text": [
      "\t- Accuracy: 0.8457142857142858\n",
      "\t- F1: 0.36470588235294116\n",
      "\n",
      "Model: model_saves/target-iSarcasm_inter-HellaSwag_01/E04_A0.67_F0.46\n"
     ]
    },
    {
     "name": "stderr",
     "output_type": "stream",
     "text": [
      "\tTest 1400: 100%|██████████| 1400/1400 [00:38<00:00, 36.08test/s]\n"
     ]
    },
    {
     "name": "stdout",
     "output_type": "stream",
     "text": [
      "\t- Accuracy: 0.6257142857142857\n",
      "\t- F1: 0.3350253807106599\n",
      "\n",
      "Model: model_saves/target-iSarcasm_inter-HellaSwag_01/E05_A0.75_F0.35\n"
     ]
    },
    {
     "name": "stderr",
     "output_type": "stream",
     "text": [
      "\tTest 1400: 100%|██████████| 1400/1400 [00:39<00:00, 35.04test/s]\n"
     ]
    },
    {
     "name": "stdout",
     "output_type": "stream",
     "text": [
      "\t- Accuracy: 0.7964285714285714\n",
      "\t- F1: 0.35955056179775274\n",
      "\n",
      "Model: model_saves/target-iSarcasm_inter-HellaSwag_01/E06_A0.74_F0.42\n"
     ]
    },
    {
     "name": "stderr",
     "output_type": "stream",
     "text": [
      "\tTest 1400: 100%|██████████| 1400/1400 [00:40<00:00, 34.85test/s]\n"
     ]
    },
    {
     "name": "stdout",
     "output_type": "stream",
     "text": [
      "\t- Accuracy: 0.7707142857142857\n",
      "\t- F1: 0.34355828220858897\n",
      "\n",
      "Model: model_saves/target-iSarcasm_inter-HellaSwag_01/E07_A0.75_F0.34\n"
     ]
    },
    {
     "name": "stderr",
     "output_type": "stream",
     "text": [
      "\tTest 1400: 100%|██████████| 1400/1400 [00:40<00:00, 34.89test/s]\n"
     ]
    },
    {
     "name": "stdout",
     "output_type": "stream",
     "text": [
      "\t- Accuracy: 0.8207142857142857\n",
      "\t- F1: 0.3863080684596577\n",
      "\n",
      "Model: model_saves/target-iSarcasm_inter-HellaSwag_01/E08_A0.75_F0.34\n"
     ]
    },
    {
     "name": "stderr",
     "output_type": "stream",
     "text": [
      "\tTest 1400: 100%|██████████| 1400/1400 [00:41<00:00, 33.84test/s]\n"
     ]
    },
    {
     "name": "stdout",
     "output_type": "stream",
     "text": [
      "\t- Accuracy: 0.8128571428571428\n",
      "\t- F1: 0.3791469194312796\n",
      "\n",
      "Model: model_saves/target-iSarcasm_inter-HellaSwag_01/E09_A0.75_F0.2\n"
     ]
    },
    {
     "name": "stderr",
     "output_type": "stream",
     "text": [
      "\tTest 1400: 100%|██████████| 1400/1400 [00:42<00:00, 33.05test/s]\n"
     ]
    },
    {
     "name": "stdout",
     "output_type": "stream",
     "text": [
      "\t- Accuracy: 0.8471428571428572\n",
      "\t- F1: 0.33125\n",
      "\n",
      "Model: model_saves/target-iSarcasm_inter-HellaSwag_01/E10_A0.77_F0.38\n"
     ]
    },
    {
     "name": "stderr",
     "output_type": "stream",
     "text": [
      "\tTest 1400: 100%|██████████| 1400/1400 [00:41<00:00, 33.87test/s]\n"
     ]
    },
    {
     "name": "stdout",
     "output_type": "stream",
     "text": [
      "\t- Accuracy: 0.79\n",
      "\t- F1: 0.34666666666666673\n",
      "\n",
      "Model: model_saves/target-iSarcasm_inter-HellaSwag_02/E01_A0.76_F0.28\n"
     ]
    },
    {
     "name": "stderr",
     "output_type": "stream",
     "text": [
      "\tTest 1400: 100%|██████████| 1400/1400 [00:41<00:00, 33.34test/s]\n"
     ]
    },
    {
     "name": "stdout",
     "output_type": "stream",
     "text": [
      "\t- Accuracy: 0.8357142857142857\n",
      "\t- F1: 0.31547619047619047\n",
      "\n",
      "Model: model_saves/target-iSarcasm_inter-HellaSwag_02/E02_A0.77_F0.25\n"
     ]
    },
    {
     "name": "stderr",
     "output_type": "stream",
     "text": [
      "\tTest 1400: 100%|██████████| 1400/1400 [00:41<00:00, 34.13test/s]\n"
     ]
    },
    {
     "name": "stdout",
     "output_type": "stream",
     "text": [
      "\t- Accuracy: 0.8314285714285714\n",
      "\t- F1: 0.3257142857142857\n",
      "\n",
      "Model: model_saves/target-iSarcasm_inter-HellaSwag_02/E03_A0.75_F0.2\n"
     ]
    },
    {
     "name": "stderr",
     "output_type": "stream",
     "text": [
      "\tTest 1400: 100%|██████████| 1400/1400 [00:41<00:00, 34.09test/s]\n"
     ]
    },
    {
     "name": "stdout",
     "output_type": "stream",
     "text": [
      "\t- Accuracy: 0.8371428571428572\n",
      "\t- F1: 0.3333333333333333\n",
      "\n",
      "Model: model_saves/target-iSarcasm_inter-HellaSwag_02/E04_A0.73_F0.33\n"
     ]
    },
    {
     "name": "stderr",
     "output_type": "stream",
     "text": [
      "\tTest 1400: 100%|██████████| 1400/1400 [00:39<00:00, 35.22test/s]\n"
     ]
    },
    {
     "name": "stdout",
     "output_type": "stream",
     "text": [
      "\t- Accuracy: 0.7671428571428571\n",
      "\t- F1: 0.340080971659919\n",
      "\n",
      "Model: model_saves/target-iSarcasm_inter-HellaSwag_02/E05_A0.75_F0.21\n"
     ]
    },
    {
     "name": "stderr",
     "output_type": "stream",
     "text": [
      "\tTest 1400: 100%|██████████| 1400/1400 [00:40<00:00, 34.59test/s]\n"
     ]
    },
    {
     "name": "stdout",
     "output_type": "stream",
     "text": [
      "\t- Accuracy: 0.8535714285714285\n",
      "\t- F1: 0.3730886850152905\n",
      "\n",
      "Model: model_saves/target-iSarcasm_inter-HellaSwag_02/E06_A0.73_F0.31\n"
     ]
    },
    {
     "name": "stderr",
     "output_type": "stream",
     "text": [
      "\tTest 1400: 100%|██████████| 1400/1400 [00:40<00:00, 34.42test/s]\n"
     ]
    },
    {
     "name": "stdout",
     "output_type": "stream",
     "text": [
      "\t- Accuracy: 0.8\n",
      "\t- F1: 0.3203883495145631\n",
      "\n",
      "Model: model_saves/target-iSarcasm_inter-HellaSwag_02/E07_A0.75_F0.4\n"
     ]
    },
    {
     "name": "stderr",
     "output_type": "stream",
     "text": [
      "\tTest 1400: 100%|██████████| 1400/1400 [00:40<00:00, 34.52test/s]\n"
     ]
    },
    {
     "name": "stdout",
     "output_type": "stream",
     "text": [
      "\t- Accuracy: 0.7792857142857142\n",
      "\t- F1: 0.3522012578616352\n",
      "\n",
      "Model: model_saves/target-iSarcasm_inter-HellaSwag_02/E08_A0.75_F0.26\n"
     ]
    },
    {
     "name": "stderr",
     "output_type": "stream",
     "text": [
      "\tTest 1400: 100%|██████████| 1400/1400 [00:39<00:00, 35.58test/s]\n"
     ]
    },
    {
     "name": "stdout",
     "output_type": "stream",
     "text": [
      "\t- Accuracy: 0.8121428571428572\n",
      "\t- F1: 0.32041343669250644\n",
      "\n",
      "Model: model_saves/target-iSarcasm_inter-HellaSwag_02/E09_A0.76_F0.36\n"
     ]
    },
    {
     "name": "stderr",
     "output_type": "stream",
     "text": [
      "\tTest 1400: 100%|██████████| 1400/1400 [00:39<00:00, 35.26test/s]\n"
     ]
    },
    {
     "name": "stdout",
     "output_type": "stream",
     "text": [
      "\t- Accuracy: 0.8285714285714286\n",
      "\t- F1: 0.4029850746268657\n",
      "\n",
      "Model: model_saves/target-iSarcasm_inter-HellaSwag_02/E10_A0.75_F0.3\n"
     ]
    },
    {
     "name": "stderr",
     "output_type": "stream",
     "text": [
      "\tTest 1400: 100%|██████████| 1400/1400 [00:38<00:00, 35.95test/s]\n"
     ]
    },
    {
     "name": "stdout",
     "output_type": "stream",
     "text": [
      "\t- Accuracy: 0.8178571428571428\n",
      "\t- F1: 0.3444730077120823\n",
      "\n",
      "Model: model_saves/target-iSarcasm_inter-HellaSwag_03/E01_A0.74_F0.41\n"
     ]
    },
    {
     "name": "stderr",
     "output_type": "stream",
     "text": [
      "\tTest 1400: 100%|██████████| 1400/1400 [00:39<00:00, 35.67test/s]\n"
     ]
    },
    {
     "name": "stdout",
     "output_type": "stream",
     "text": [
      "\t- Accuracy: 0.7585714285714286\n",
      "\t- F1: 0.3449612403100775\n",
      "\n",
      "Model: model_saves/target-iSarcasm_inter-HellaSwag_03/E02_A0.76_F0.38\n"
     ]
    },
    {
     "name": "stderr",
     "output_type": "stream",
     "text": [
      "\tTest 1400: 100%|██████████| 1400/1400 [00:39<00:00, 35.66test/s]\n"
     ]
    },
    {
     "name": "stdout",
     "output_type": "stream",
     "text": [
      "\t- Accuracy: 0.8035714285714286\n",
      "\t- F1: 0.35294117647058826\n",
      "\n",
      "Model: model_saves/target-iSarcasm_inter-HellaSwag_03/E03_A0.77_F0.25\n"
     ]
    },
    {
     "name": "stderr",
     "output_type": "stream",
     "text": [
      "\tTest 1400: 100%|██████████| 1400/1400 [00:39<00:00, 35.46test/s]\n"
     ]
    },
    {
     "name": "stdout",
     "output_type": "stream",
     "text": [
      "\t- Accuracy: 0.845\n",
      "\t- F1: 0.32398753894081\n",
      "\n",
      "Model: model_saves/target-iSarcasm_inter-HellaSwag_03/E04_A0.75_F0.44\n"
     ]
    },
    {
     "name": "stderr",
     "output_type": "stream",
     "text": [
      "\tTest 1400: 100%|██████████| 1400/1400 [00:41<00:00, 33.86test/s]\n"
     ]
    },
    {
     "name": "stdout",
     "output_type": "stream",
     "text": [
      "\t- Accuracy: 0.7714285714285715\n",
      "\t- F1: 0.37254901960784315\n",
      "\n",
      "Model: model_saves/target-iSarcasm_inter-HellaSwag_03/E05_A0.76_F0.24\n"
     ]
    },
    {
     "name": "stderr",
     "output_type": "stream",
     "text": [
      "\tTest 1400: 100%|██████████| 1400/1400 [00:40<00:00, 34.60test/s]\n"
     ]
    },
    {
     "name": "stdout",
     "output_type": "stream",
     "text": [
      "\t- Accuracy: 0.8421428571428572\n",
      "\t- F1: 0.3072100313479624\n",
      "\n",
      "Model: model_saves/target-iSarcasm_inter-HellaSwag_03/E06_A0.75_F0.35\n"
     ]
    },
    {
     "name": "stderr",
     "output_type": "stream",
     "text": [
      "\tTest 1400: 100%|██████████| 1400/1400 [00:40<00:00, 34.65test/s]\n"
     ]
    },
    {
     "name": "stdout",
     "output_type": "stream",
     "text": [
      "\t- Accuracy: 0.82\n",
      "\t- F1: 0.3571428571428571\n",
      "\n",
      "Model: model_saves/target-iSarcasm_inter-HellaSwag_03/E07_A0.76_F0.28\n"
     ]
    },
    {
     "name": "stderr",
     "output_type": "stream",
     "text": [
      "\tTest 1400: 100%|██████████| 1400/1400 [00:41<00:00, 34.01test/s]\n"
     ]
    },
    {
     "name": "stdout",
     "output_type": "stream",
     "text": [
      "\t- Accuracy: 0.8321428571428572\n",
      "\t- F1: 0.3417366946778711\n",
      "\n",
      "Model: model_saves/target-iSarcasm_inter-HellaSwag_03/E08_A0.74_F0.27\n"
     ]
    },
    {
     "name": "stderr",
     "output_type": "stream",
     "text": [
      "\tTest 1400: 100%|██████████| 1400/1400 [00:41<00:00, 34.12test/s]\n"
     ]
    },
    {
     "name": "stdout",
     "output_type": "stream",
     "text": [
      "\t- Accuracy: 0.8471428571428572\n",
      "\t- F1: 0.4088397790055249\n",
      "\n",
      "Model: model_saves/target-iSarcasm_inter-HellaSwag_03/E09_A0.75_F0.4\n"
     ]
    },
    {
     "name": "stderr",
     "output_type": "stream",
     "text": [
      "\tTest 1400: 100%|██████████| 1400/1400 [00:40<00:00, 34.48test/s]\n"
     ]
    },
    {
     "name": "stdout",
     "output_type": "stream",
     "text": [
      "\t- Accuracy: 0.7828571428571428\n",
      "\t- F1: 0.36134453781512604\n",
      "\n",
      "Model: model_saves/target-iSarcasm_inter-HellaSwag_03/E10_A0.75_F0.32\n"
     ]
    },
    {
     "name": "stderr",
     "output_type": "stream",
     "text": [
      "\tTest 1400: 100%|██████████| 1400/1400 [00:40<00:00, 34.91test/s]\n"
     ]
    },
    {
     "name": "stdout",
     "output_type": "stream",
     "text": [
      "\t- Accuracy: 0.8157142857142857\n",
      "\t- F1: 0.3915094339622642\n",
      "\n"
     ]
    }
   ],
   "source": [
    "for top in top_model_dirs:\n",
    "    models = parse_model_dir(top)\n",
    "    evaluate_model(iSarcasm_test_df, models, 2, '04_results/results_target.csv')"
   ]
  },
  {
   "cell_type": "markdown",
   "metadata": {},
   "source": [
    "# Results Preview"
   ]
  },
  {
   "cell_type": "code",
   "execution_count": null,
   "metadata": {},
   "outputs": [],
   "source": [
    "results_df = pd.read_csv('results/results_target.csv')\n",
    "\n",
    "results_df.head(40)"
   ]
  },
  {
   "cell_type": "code",
   "execution_count": null,
   "metadata": {},
   "outputs": [],
   "source": [
    "results_df.describe()"
   ]
  },
  {
   "cell_type": "code",
   "execution_count": null,
   "metadata": {},
   "outputs": [],
   "source": [
    "results_df.loc[results_df['model_name'] == \"target-iSarcasm_inter-XED-fine_01\"]\n"
   ]
  },
  {
   "cell_type": "code",
   "execution_count": 4,
   "metadata": {},
   "outputs": [
    {
     "data": {
      "text/html": [
       "<div>\n",
       "<style scoped>\n",
       "    .dataframe tbody tr th:only-of-type {\n",
       "        vertical-align: middle;\n",
       "    }\n",
       "\n",
       "    .dataframe tbody tr th {\n",
       "        vertical-align: top;\n",
       "    }\n",
       "\n",
       "    .dataframe thead th {\n",
       "        text-align: right;\n",
       "    }\n",
       "</style>\n",
       "<table border=\"1\" class=\"dataframe\">\n",
       "  <thead>\n",
       "    <tr style=\"text-align: right;\">\n",
       "      <th></th>\n",
       "      <th>model_name</th>\n",
       "      <th>model_epoch</th>\n",
       "      <th>test_accuracy</th>\n",
       "      <th>test_f1</th>\n",
       "      <th>predictions</th>\n",
       "    </tr>\n",
       "  </thead>\n",
       "  <tbody>\n",
       "    <tr>\n",
       "      <th>0</th>\n",
       "      <td>intermediate_XED_binary_01</td>\n",
       "      <td>E01_A0.81_F0.82</td>\n",
       "      <td>0.824169</td>\n",
       "      <td>0.834565</td>\n",
       "      <td>[1, 0, 1, 0, 1, 0, 1, 1, 1, 0, 0, 1, 1, 0, 1, ...</td>\n",
       "    </tr>\n",
       "    <tr>\n",
       "      <th>1</th>\n",
       "      <td>intermediate_XED_binary_01</td>\n",
       "      <td>E02_A0.82_F0.81</td>\n",
       "      <td>0.832628</td>\n",
       "      <td>0.828695</td>\n",
       "      <td>[1, 0, 0, 0, 1, 0, 0, 1, 1, 0, 0, 1, 0, 0, 1, ...</td>\n",
       "    </tr>\n",
       "    <tr>\n",
       "      <th>2</th>\n",
       "      <td>intermediate_XED_binary_01</td>\n",
       "      <td>E03_A0.82_F0.82</td>\n",
       "      <td>0.821148</td>\n",
       "      <td>0.818627</td>\n",
       "      <td>[1, 1, 1, 0, 0, 0, 1, 1, 1, 0, 0, 1, 0, 0, 1, ...</td>\n",
       "    </tr>\n",
       "    <tr>\n",
       "      <th>3</th>\n",
       "      <td>intermediate_XED_binary_01</td>\n",
       "      <td>E04_A0.81_F0.8</td>\n",
       "      <td>0.824773</td>\n",
       "      <td>0.814578</td>\n",
       "      <td>[1, 1, 1, 0, 0, 0, 1, 1, 1, 0, 0, 0, 1, 0, 1, ...</td>\n",
       "    </tr>\n",
       "    <tr>\n",
       "      <th>4</th>\n",
       "      <td>intermediate_XED_binary_01</td>\n",
       "      <td>E05_A0.82_F0.81</td>\n",
       "      <td>0.824169</td>\n",
       "      <td>0.819814</td>\n",
       "      <td>[1, 0, 0, 0, 0, 0, 1, 1, 1, 0, 0, 1, 1, 0, 1, ...</td>\n",
       "    </tr>\n",
       "    <tr>\n",
       "      <th>5</th>\n",
       "      <td>intermediate_XED_binary_01</td>\n",
       "      <td>E06_A0.81_F0.81</td>\n",
       "      <td>0.825378</td>\n",
       "      <td>0.824102</td>\n",
       "      <td>[1, 0, 1, 0, 0, 0, 1, 1, 1, 0, 0, 1, 1, 0, 1, ...</td>\n",
       "    </tr>\n",
       "    <tr>\n",
       "      <th>6</th>\n",
       "      <td>intermediate_XED_binary_01</td>\n",
       "      <td>E07_A0.81_F0.8</td>\n",
       "      <td>0.826586</td>\n",
       "      <td>0.826376</td>\n",
       "      <td>[1, 0, 1, 0, 0, 0, 1, 1, 1, 0, 0, 1, 1, 0, 1, ...</td>\n",
       "    </tr>\n",
       "    <tr>\n",
       "      <th>7</th>\n",
       "      <td>intermediate_XED_binary_01</td>\n",
       "      <td>E08_A0.81_F0.82</td>\n",
       "      <td>0.821752</td>\n",
       "      <td>0.825133</td>\n",
       "      <td>[1, 1, 1, 0, 0, 0, 1, 0, 1, 0, 0, 1, 1, 0, 1, ...</td>\n",
       "    </tr>\n",
       "    <tr>\n",
       "      <th>8</th>\n",
       "      <td>intermediate_XED_binary_01</td>\n",
       "      <td>E09_A0.81_F0.81</td>\n",
       "      <td>0.816918</td>\n",
       "      <td>0.823529</td>\n",
       "      <td>[1, 1, 1, 0, 0, 1, 1, 1, 1, 0, 0, 1, 1, 0, 1, ...</td>\n",
       "    </tr>\n",
       "    <tr>\n",
       "      <th>9</th>\n",
       "      <td>intermediate_XED_binary_01</td>\n",
       "      <td>E10_A0.82_F0.81</td>\n",
       "      <td>0.821148</td>\n",
       "      <td>0.822329</td>\n",
       "      <td>[1, 0, 0, 0, 0, 0, 1, 1, 1, 0, 0, 1, 1, 0, 1, ...</td>\n",
       "    </tr>\n",
       "    <tr>\n",
       "      <th>10</th>\n",
       "      <td>intermediate_SARC_01</td>\n",
       "      <td>E01_A0.75_F0.73</td>\n",
       "      <td>0.748700</td>\n",
       "      <td>0.739126</td>\n",
       "      <td>[0, 1, 1, 1, 1, 1, 1, 1, 0, 1, 0, 0, 1, 0, 0, ...</td>\n",
       "    </tr>\n",
       "    <tr>\n",
       "      <th>11</th>\n",
       "      <td>intermediate_SARC_01</td>\n",
       "      <td>E02_A0.76_F0.75</td>\n",
       "      <td>0.754700</td>\n",
       "      <td>0.759250</td>\n",
       "      <td>[0, 1, 0, 1, 1, 1, 1, 1, 0, 1, 0, 0, 1, 0, 0, ...</td>\n",
       "    </tr>\n",
       "    <tr>\n",
       "      <th>12</th>\n",
       "      <td>intermediate_SARC_01</td>\n",
       "      <td>E03_A0.76_F0.74</td>\n",
       "      <td>0.762600</td>\n",
       "      <td>0.761071</td>\n",
       "      <td>[0, 1, 0, 1, 1, 1, 1, 1, 0, 1, 0, 0, 1, 1, 0, ...</td>\n",
       "    </tr>\n",
       "    <tr>\n",
       "      <th>13</th>\n",
       "      <td>intermediate_SARC_01</td>\n",
       "      <td>E04_A0.75_F0.74</td>\n",
       "      <td>0.753900</td>\n",
       "      <td>0.752738</td>\n",
       "      <td>[0, 1, 0, 1, 1, 1, 1, 1, 0, 1, 0, 0, 1, 0, 0, ...</td>\n",
       "    </tr>\n",
       "    <tr>\n",
       "      <th>14</th>\n",
       "      <td>intermediate_SARC_01</td>\n",
       "      <td>E05_A0.76_F0.74</td>\n",
       "      <td>0.751100</td>\n",
       "      <td>0.745839</td>\n",
       "      <td>[0, 1, 0, 1, 1, 1, 1, 1, 0, 1, 0, 0, 1, 1, 0, ...</td>\n",
       "    </tr>\n",
       "    <tr>\n",
       "      <th>15</th>\n",
       "      <td>intermediate_SARC_01</td>\n",
       "      <td>E06_A0.75_F0.73</td>\n",
       "      <td>0.747900</td>\n",
       "      <td>0.739701</td>\n",
       "      <td>[0, 1, 0, 1, 1, 1, 1, 1, 1, 1, 0, 0, 1, 0, 0, ...</td>\n",
       "    </tr>\n",
       "    <tr>\n",
       "      <th>16</th>\n",
       "      <td>intermediate_SARC_01</td>\n",
       "      <td>E07_A0.75_F0.74</td>\n",
       "      <td>0.742600</td>\n",
       "      <td>0.742497</td>\n",
       "      <td>[0, 1, 0, 1, 1, 1, 1, 1, 1, 1, 0, 0, 1, 1, 0, ...</td>\n",
       "    </tr>\n",
       "    <tr>\n",
       "      <th>17</th>\n",
       "      <td>intermediate_SARC_01</td>\n",
       "      <td>E08_A0.75_F0.73</td>\n",
       "      <td>0.740800</td>\n",
       "      <td>0.738604</td>\n",
       "      <td>[0, 1, 0, 1, 1, 0, 1, 1, 1, 1, 0, 0, 1, 1, 0, ...</td>\n",
       "    </tr>\n",
       "    <tr>\n",
       "      <th>18</th>\n",
       "      <td>intermediate_SARC_01</td>\n",
       "      <td>E09_A0.75_F0.73</td>\n",
       "      <td>0.737200</td>\n",
       "      <td>0.738507</td>\n",
       "      <td>[0, 1, 0, 1, 1, 1, 1, 1, 1, 1, 0, 0, 1, 0, 1, ...</td>\n",
       "    </tr>\n",
       "    <tr>\n",
       "      <th>19</th>\n",
       "      <td>intermediate_SARC_01</td>\n",
       "      <td>E10_A0.74_F0.74</td>\n",
       "      <td>0.746100</td>\n",
       "      <td>0.751395</td>\n",
       "      <td>[0, 1, 0, 1, 1, 1, 1, 1, 1, 1, 0, 0, 1, 0, 0, ...</td>\n",
       "    </tr>\n",
       "    <tr>\n",
       "      <th>20</th>\n",
       "      <td>intermediate_IMDB_01</td>\n",
       "      <td>E01_A0.94_F0.93</td>\n",
       "      <td>0.956800</td>\n",
       "      <td>0.956557</td>\n",
       "      <td>[0, 0, 0, 0, 0, 1, 0, 0, 0, 0, 0, 0, 0, 0, 0, ...</td>\n",
       "    </tr>\n",
       "    <tr>\n",
       "      <th>21</th>\n",
       "      <td>intermediate_IMDB_01</td>\n",
       "      <td>E02_A0.94_F0.94</td>\n",
       "      <td>0.959200</td>\n",
       "      <td>0.959053</td>\n",
       "      <td>[0, 0, 0, 0, 0, 1, 0, 0, 0, 0, 0, 0, 0, 0, 0, ...</td>\n",
       "    </tr>\n",
       "    <tr>\n",
       "      <th>22</th>\n",
       "      <td>intermediate_IMDB_01</td>\n",
       "      <td>E03_A0.94_F0.94</td>\n",
       "      <td>0.954800</td>\n",
       "      <td>0.955141</td>\n",
       "      <td>[0, 0, 0, 0, 0, 1, 0, 0, 0, 0, 0, 0, 0, 0, 0, ...</td>\n",
       "    </tr>\n",
       "    <tr>\n",
       "      <th>23</th>\n",
       "      <td>intermediate_IMDB_01</td>\n",
       "      <td>E04_A0.95_F0.94</td>\n",
       "      <td>0.957400</td>\n",
       "      <td>0.957443</td>\n",
       "      <td>[0, 0, 0, 0, 0, 1, 0, 0, 0, 0, 0, 0, 0, 0, 0, ...</td>\n",
       "    </tr>\n",
       "    <tr>\n",
       "      <th>24</th>\n",
       "      <td>intermediate_IMDB_01</td>\n",
       "      <td>E05_A0.94_F0.94</td>\n",
       "      <td>0.958200</td>\n",
       "      <td>0.957871</td>\n",
       "      <td>[0, 0, 0, 0, 0, 1, 0, 0, 0, 0, 0, 0, 0, 0, 0, ...</td>\n",
       "    </tr>\n",
       "    <tr>\n",
       "      <th>25</th>\n",
       "      <td>intermediate_IMDB_01</td>\n",
       "      <td>E06_A0.94_F0.94</td>\n",
       "      <td>0.957400</td>\n",
       "      <td>0.957527</td>\n",
       "      <td>[0, 0, 0, 0, 0, 1, 0, 0, 0, 0, 0, 0, 0, 0, 0, ...</td>\n",
       "    </tr>\n",
       "    <tr>\n",
       "      <th>26</th>\n",
       "      <td>intermediate_IMDB_01</td>\n",
       "      <td>E07_A0.94_F0.93</td>\n",
       "      <td>0.954600</td>\n",
       "      <td>0.954021</td>\n",
       "      <td>[0, 0, 0, 0, 0, 1, 0, 0, 0, 0, 0, 0, 0, 0, 0, ...</td>\n",
       "    </tr>\n",
       "    <tr>\n",
       "      <th>27</th>\n",
       "      <td>intermediate_IMDB_01</td>\n",
       "      <td>E08_A0.94_F0.94</td>\n",
       "      <td>0.953400</td>\n",
       "      <td>0.952767</td>\n",
       "      <td>[0, 0, 0, 0, 0, 1, 0, 0, 0, 0, 0, 0, 0, 0, 0, ...</td>\n",
       "    </tr>\n",
       "    <tr>\n",
       "      <th>28</th>\n",
       "      <td>intermediate_IMDB_01</td>\n",
       "      <td>E09_A0.94_F0.93</td>\n",
       "      <td>0.951400</td>\n",
       "      <td>0.950418</td>\n",
       "      <td>[0, 0, 0, 0, 0, 1, 0, 0, 0, 0, 0, 0, 0, 0, 0, ...</td>\n",
       "    </tr>\n",
       "    <tr>\n",
       "      <th>29</th>\n",
       "      <td>intermediate_IMDB_01</td>\n",
       "      <td>E10_A0.94_F0.94</td>\n",
       "      <td>0.955400</td>\n",
       "      <td>0.955427</td>\n",
       "      <td>[0, 0, 0, 0, 0, 1, 0, 0, 0, 0, 0, 0, 0, 0, 0, ...</td>\n",
       "    </tr>\n",
       "    <tr>\n",
       "      <th>30</th>\n",
       "      <td>intermediate_XED_fine_01</td>\n",
       "      <td>E01_A0.48_F0.48</td>\n",
       "      <td>0.473112</td>\n",
       "      <td>0.473112</td>\n",
       "      <td>[7, 6, 7, 3, 7, 4, 7, 7, 5, 3, 7, 5, 6, 7, 5, ...</td>\n",
       "    </tr>\n",
       "    <tr>\n",
       "      <th>31</th>\n",
       "      <td>intermediate_XED_fine_01</td>\n",
       "      <td>E02_A0.52_F0.52</td>\n",
       "      <td>0.526888</td>\n",
       "      <td>0.526888</td>\n",
       "      <td>[2, 6, 7, 3, 2, 4, 7, 7, 5, 3, 1, 5, 6, 3, 5, ...</td>\n",
       "    </tr>\n",
       "    <tr>\n",
       "      <th>32</th>\n",
       "      <td>intermediate_XED_fine_01</td>\n",
       "      <td>E03_A0.53_F0.53</td>\n",
       "      <td>0.516616</td>\n",
       "      <td>0.516616</td>\n",
       "      <td>[2, 6, 7, 3, 2, 4, 7, 7, 5, 3, 1, 5, 5, 3, 5, ...</td>\n",
       "    </tr>\n",
       "    <tr>\n",
       "      <th>33</th>\n",
       "      <td>intermediate_XED_fine_01</td>\n",
       "      <td>E04_A0.53_F0.53</td>\n",
       "      <td>0.536556</td>\n",
       "      <td>0.536556</td>\n",
       "      <td>[2, 6, 7, 3, 2, 4, 7, 7, 5, 3, 1, 6, 6, 3, 5, ...</td>\n",
       "    </tr>\n",
       "    <tr>\n",
       "      <th>34</th>\n",
       "      <td>intermediate_XED_fine_01</td>\n",
       "      <td>E05_A0.53_F0.53</td>\n",
       "      <td>0.521450</td>\n",
       "      <td>0.521450</td>\n",
       "      <td>[2, 6, 7, 3, 2, 4, 7, 7, 5, 3, 1, 7, 6, 3, 5, ...</td>\n",
       "    </tr>\n",
       "    <tr>\n",
       "      <th>35</th>\n",
       "      <td>intermediate_XED_fine_01</td>\n",
       "      <td>E06_A0.52_F0.52</td>\n",
       "      <td>0.529909</td>\n",
       "      <td>0.529909</td>\n",
       "      <td>[2, 6, 7, 3, 2, 4, 7, 7, 5, 3, 1, 5, 6, 1, 5, ...</td>\n",
       "    </tr>\n",
       "    <tr>\n",
       "      <th>36</th>\n",
       "      <td>intermediate_XED_fine_01</td>\n",
       "      <td>E07_A0.51_F0.51</td>\n",
       "      <td>0.517825</td>\n",
       "      <td>0.517825</td>\n",
       "      <td>[2, 6, 7, 3, 2, 4, 7, 7, 5, 3, 1, 5, 5, 7, 5, ...</td>\n",
       "    </tr>\n",
       "    <tr>\n",
       "      <th>37</th>\n",
       "      <td>intermediate_XED_fine_01</td>\n",
       "      <td>E08_A0.51_F0.51</td>\n",
       "      <td>0.514199</td>\n",
       "      <td>0.514199</td>\n",
       "      <td>[2, 6, 7, 3, 2, 4, 7, 7, 5, 5, 1, 7, 6, 7, 5, ...</td>\n",
       "    </tr>\n",
       "    <tr>\n",
       "      <th>38</th>\n",
       "      <td>intermediate_XED_fine_01</td>\n",
       "      <td>E09_A0.51_F0.51</td>\n",
       "      <td>0.519033</td>\n",
       "      <td>0.519033</td>\n",
       "      <td>[2, 6, 7, 3, 2, 4, 7, 7, 5, 3, 1, 2, 6, 1, 5, ...</td>\n",
       "    </tr>\n",
       "    <tr>\n",
       "      <th>39</th>\n",
       "      <td>intermediate_XED_fine_01</td>\n",
       "      <td>E10_A0.51_F0.51</td>\n",
       "      <td>0.518429</td>\n",
       "      <td>0.518429</td>\n",
       "      <td>[2, 6, 7, 3, 2, 4, 7, 7, 5, 3, 1, 5, 6, 1, 5, ...</td>\n",
       "    </tr>\n",
       "    <tr>\n",
       "      <th>40</th>\n",
       "      <td>intermediate_HellaSwag_01</td>\n",
       "      <td>E01_A0.58_F0.58</td>\n",
       "      <td>0.581298</td>\n",
       "      <td>0.581298</td>\n",
       "      <td>[1, 2, 1, 2, 3, 1, 3, 0, 3, 0, 0, 0, 0, 1, 0, ...</td>\n",
       "    </tr>\n",
       "    <tr>\n",
       "      <th>41</th>\n",
       "      <td>intermediate_HellaSwag_01</td>\n",
       "      <td>E02_A0.6_F0.6</td>\n",
       "      <td>0.613536</td>\n",
       "      <td>0.613536</td>\n",
       "      <td>[1, 0, 1, 2, 3, 1, 3, 0, 3, 0, 0, 0, 3, 0, 0, ...</td>\n",
       "    </tr>\n",
       "    <tr>\n",
       "      <th>42</th>\n",
       "      <td>intermediate_HellaSwag_01</td>\n",
       "      <td>E03_A0.61_F0.61</td>\n",
       "      <td>0.625350</td>\n",
       "      <td>0.625350</td>\n",
       "      <td>[1, 2, 1, 2, 3, 1, 1, 0, 3, 0, 2, 0, 3, 1, 2, ...</td>\n",
       "    </tr>\n",
       "    <tr>\n",
       "      <th>43</th>\n",
       "      <td>intermediate_HellaSwag_01</td>\n",
       "      <td>E04_A0.61_F0.61</td>\n",
       "      <td>0.630156</td>\n",
       "      <td>0.630156</td>\n",
       "      <td>[2, 2, 1, 2, 1, 1, 1, 0, 3, 0, 0, 0, 0, 1, 0, ...</td>\n",
       "    </tr>\n",
       "    <tr>\n",
       "      <th>44</th>\n",
       "      <td>intermediate_HellaSwag_01</td>\n",
       "      <td>E05_A0.61_F0.61</td>\n",
       "      <td>0.621746</td>\n",
       "      <td>0.621746</td>\n",
       "      <td>[1, 2, 1, 2, 1, 1, 3, 0, 3, 0, 0, 0, 3, 1, 0, ...</td>\n",
       "    </tr>\n",
       "    <tr>\n",
       "      <th>45</th>\n",
       "      <td>intermediate_HellaSwag_01</td>\n",
       "      <td>E06_A0.61_F0.61</td>\n",
       "      <td>0.631758</td>\n",
       "      <td>0.631758</td>\n",
       "      <td>[1, 2, 1, 3, 3, 1, 1, 0, 3, 0, 0, 0, 3, 1, 0, ...</td>\n",
       "    </tr>\n",
       "    <tr>\n",
       "      <th>46</th>\n",
       "      <td>intermediate_HellaSwag_01</td>\n",
       "      <td>E07_A0.62_F0.62</td>\n",
       "      <td>0.631958</td>\n",
       "      <td>0.631958</td>\n",
       "      <td>[1, 2, 1, 2, 1, 1, 1, 0, 3, 1, 0, 3, 3, 1, 0, ...</td>\n",
       "    </tr>\n",
       "    <tr>\n",
       "      <th>47</th>\n",
       "      <td>intermediate_HellaSwag_01</td>\n",
       "      <td>E08_A0.61_F0.61</td>\n",
       "      <td>0.620344</td>\n",
       "      <td>0.620344</td>\n",
       "      <td>[1, 2, 1, 3, 3, 1, 1, 0, 3, 2, 0, 0, 3, 1, 0, ...</td>\n",
       "    </tr>\n",
       "    <tr>\n",
       "      <th>48</th>\n",
       "      <td>intermediate_HellaSwag_01</td>\n",
       "      <td>E09_A0.6_F0.6</td>\n",
       "      <td>0.626752</td>\n",
       "      <td>0.626752</td>\n",
       "      <td>[1, 2, 1, 2, 3, 1, 1, 0, 3, 0, 0, 0, 3, 1, 0, ...</td>\n",
       "    </tr>\n",
       "    <tr>\n",
       "      <th>49</th>\n",
       "      <td>intermediate_HellaSwag_01</td>\n",
       "      <td>E10_A0.61_F0.61</td>\n",
       "      <td>0.627753</td>\n",
       "      <td>0.627753</td>\n",
       "      <td>[1, 2, 1, 3, 3, 0, 3, 0, 3, 2, 0, 0, 3, 1, 0, ...</td>\n",
       "    </tr>\n",
       "  </tbody>\n",
       "</table>\n",
       "</div>"
      ],
      "text/plain": [
       "                    model_name      model_epoch  test_accuracy   test_f1  \\\n",
       "0   intermediate_XED_binary_01  E01_A0.81_F0.82       0.824169  0.834565   \n",
       "1   intermediate_XED_binary_01  E02_A0.82_F0.81       0.832628  0.828695   \n",
       "2   intermediate_XED_binary_01  E03_A0.82_F0.82       0.821148  0.818627   \n",
       "3   intermediate_XED_binary_01   E04_A0.81_F0.8       0.824773  0.814578   \n",
       "4   intermediate_XED_binary_01  E05_A0.82_F0.81       0.824169  0.819814   \n",
       "5   intermediate_XED_binary_01  E06_A0.81_F0.81       0.825378  0.824102   \n",
       "6   intermediate_XED_binary_01   E07_A0.81_F0.8       0.826586  0.826376   \n",
       "7   intermediate_XED_binary_01  E08_A0.81_F0.82       0.821752  0.825133   \n",
       "8   intermediate_XED_binary_01  E09_A0.81_F0.81       0.816918  0.823529   \n",
       "9   intermediate_XED_binary_01  E10_A0.82_F0.81       0.821148  0.822329   \n",
       "10        intermediate_SARC_01  E01_A0.75_F0.73       0.748700  0.739126   \n",
       "11        intermediate_SARC_01  E02_A0.76_F0.75       0.754700  0.759250   \n",
       "12        intermediate_SARC_01  E03_A0.76_F0.74       0.762600  0.761071   \n",
       "13        intermediate_SARC_01  E04_A0.75_F0.74       0.753900  0.752738   \n",
       "14        intermediate_SARC_01  E05_A0.76_F0.74       0.751100  0.745839   \n",
       "15        intermediate_SARC_01  E06_A0.75_F0.73       0.747900  0.739701   \n",
       "16        intermediate_SARC_01  E07_A0.75_F0.74       0.742600  0.742497   \n",
       "17        intermediate_SARC_01  E08_A0.75_F0.73       0.740800  0.738604   \n",
       "18        intermediate_SARC_01  E09_A0.75_F0.73       0.737200  0.738507   \n",
       "19        intermediate_SARC_01  E10_A0.74_F0.74       0.746100  0.751395   \n",
       "20        intermediate_IMDB_01  E01_A0.94_F0.93       0.956800  0.956557   \n",
       "21        intermediate_IMDB_01  E02_A0.94_F0.94       0.959200  0.959053   \n",
       "22        intermediate_IMDB_01  E03_A0.94_F0.94       0.954800  0.955141   \n",
       "23        intermediate_IMDB_01  E04_A0.95_F0.94       0.957400  0.957443   \n",
       "24        intermediate_IMDB_01  E05_A0.94_F0.94       0.958200  0.957871   \n",
       "25        intermediate_IMDB_01  E06_A0.94_F0.94       0.957400  0.957527   \n",
       "26        intermediate_IMDB_01  E07_A0.94_F0.93       0.954600  0.954021   \n",
       "27        intermediate_IMDB_01  E08_A0.94_F0.94       0.953400  0.952767   \n",
       "28        intermediate_IMDB_01  E09_A0.94_F0.93       0.951400  0.950418   \n",
       "29        intermediate_IMDB_01  E10_A0.94_F0.94       0.955400  0.955427   \n",
       "30    intermediate_XED_fine_01  E01_A0.48_F0.48       0.473112  0.473112   \n",
       "31    intermediate_XED_fine_01  E02_A0.52_F0.52       0.526888  0.526888   \n",
       "32    intermediate_XED_fine_01  E03_A0.53_F0.53       0.516616  0.516616   \n",
       "33    intermediate_XED_fine_01  E04_A0.53_F0.53       0.536556  0.536556   \n",
       "34    intermediate_XED_fine_01  E05_A0.53_F0.53       0.521450  0.521450   \n",
       "35    intermediate_XED_fine_01  E06_A0.52_F0.52       0.529909  0.529909   \n",
       "36    intermediate_XED_fine_01  E07_A0.51_F0.51       0.517825  0.517825   \n",
       "37    intermediate_XED_fine_01  E08_A0.51_F0.51       0.514199  0.514199   \n",
       "38    intermediate_XED_fine_01  E09_A0.51_F0.51       0.519033  0.519033   \n",
       "39    intermediate_XED_fine_01  E10_A0.51_F0.51       0.518429  0.518429   \n",
       "40   intermediate_HellaSwag_01  E01_A0.58_F0.58       0.581298  0.581298   \n",
       "41   intermediate_HellaSwag_01    E02_A0.6_F0.6       0.613536  0.613536   \n",
       "42   intermediate_HellaSwag_01  E03_A0.61_F0.61       0.625350  0.625350   \n",
       "43   intermediate_HellaSwag_01  E04_A0.61_F0.61       0.630156  0.630156   \n",
       "44   intermediate_HellaSwag_01  E05_A0.61_F0.61       0.621746  0.621746   \n",
       "45   intermediate_HellaSwag_01  E06_A0.61_F0.61       0.631758  0.631758   \n",
       "46   intermediate_HellaSwag_01  E07_A0.62_F0.62       0.631958  0.631958   \n",
       "47   intermediate_HellaSwag_01  E08_A0.61_F0.61       0.620344  0.620344   \n",
       "48   intermediate_HellaSwag_01    E09_A0.6_F0.6       0.626752  0.626752   \n",
       "49   intermediate_HellaSwag_01  E10_A0.61_F0.61       0.627753  0.627753   \n",
       "\n",
       "                                          predictions  \n",
       "0   [1, 0, 1, 0, 1, 0, 1, 1, 1, 0, 0, 1, 1, 0, 1, ...  \n",
       "1   [1, 0, 0, 0, 1, 0, 0, 1, 1, 0, 0, 1, 0, 0, 1, ...  \n",
       "2   [1, 1, 1, 0, 0, 0, 1, 1, 1, 0, 0, 1, 0, 0, 1, ...  \n",
       "3   [1, 1, 1, 0, 0, 0, 1, 1, 1, 0, 0, 0, 1, 0, 1, ...  \n",
       "4   [1, 0, 0, 0, 0, 0, 1, 1, 1, 0, 0, 1, 1, 0, 1, ...  \n",
       "5   [1, 0, 1, 0, 0, 0, 1, 1, 1, 0, 0, 1, 1, 0, 1, ...  \n",
       "6   [1, 0, 1, 0, 0, 0, 1, 1, 1, 0, 0, 1, 1, 0, 1, ...  \n",
       "7   [1, 1, 1, 0, 0, 0, 1, 0, 1, 0, 0, 1, 1, 0, 1, ...  \n",
       "8   [1, 1, 1, 0, 0, 1, 1, 1, 1, 0, 0, 1, 1, 0, 1, ...  \n",
       "9   [1, 0, 0, 0, 0, 0, 1, 1, 1, 0, 0, 1, 1, 0, 1, ...  \n",
       "10  [0, 1, 1, 1, 1, 1, 1, 1, 0, 1, 0, 0, 1, 0, 0, ...  \n",
       "11  [0, 1, 0, 1, 1, 1, 1, 1, 0, 1, 0, 0, 1, 0, 0, ...  \n",
       "12  [0, 1, 0, 1, 1, 1, 1, 1, 0, 1, 0, 0, 1, 1, 0, ...  \n",
       "13  [0, 1, 0, 1, 1, 1, 1, 1, 0, 1, 0, 0, 1, 0, 0, ...  \n",
       "14  [0, 1, 0, 1, 1, 1, 1, 1, 0, 1, 0, 0, 1, 1, 0, ...  \n",
       "15  [0, 1, 0, 1, 1, 1, 1, 1, 1, 1, 0, 0, 1, 0, 0, ...  \n",
       "16  [0, 1, 0, 1, 1, 1, 1, 1, 1, 1, 0, 0, 1, 1, 0, ...  \n",
       "17  [0, 1, 0, 1, 1, 0, 1, 1, 1, 1, 0, 0, 1, 1, 0, ...  \n",
       "18  [0, 1, 0, 1, 1, 1, 1, 1, 1, 1, 0, 0, 1, 0, 1, ...  \n",
       "19  [0, 1, 0, 1, 1, 1, 1, 1, 1, 1, 0, 0, 1, 0, 0, ...  \n",
       "20  [0, 0, 0, 0, 0, 1, 0, 0, 0, 0, 0, 0, 0, 0, 0, ...  \n",
       "21  [0, 0, 0, 0, 0, 1, 0, 0, 0, 0, 0, 0, 0, 0, 0, ...  \n",
       "22  [0, 0, 0, 0, 0, 1, 0, 0, 0, 0, 0, 0, 0, 0, 0, ...  \n",
       "23  [0, 0, 0, 0, 0, 1, 0, 0, 0, 0, 0, 0, 0, 0, 0, ...  \n",
       "24  [0, 0, 0, 0, 0, 1, 0, 0, 0, 0, 0, 0, 0, 0, 0, ...  \n",
       "25  [0, 0, 0, 0, 0, 1, 0, 0, 0, 0, 0, 0, 0, 0, 0, ...  \n",
       "26  [0, 0, 0, 0, 0, 1, 0, 0, 0, 0, 0, 0, 0, 0, 0, ...  \n",
       "27  [0, 0, 0, 0, 0, 1, 0, 0, 0, 0, 0, 0, 0, 0, 0, ...  \n",
       "28  [0, 0, 0, 0, 0, 1, 0, 0, 0, 0, 0, 0, 0, 0, 0, ...  \n",
       "29  [0, 0, 0, 0, 0, 1, 0, 0, 0, 0, 0, 0, 0, 0, 0, ...  \n",
       "30  [7, 6, 7, 3, 7, 4, 7, 7, 5, 3, 7, 5, 6, 7, 5, ...  \n",
       "31  [2, 6, 7, 3, 2, 4, 7, 7, 5, 3, 1, 5, 6, 3, 5, ...  \n",
       "32  [2, 6, 7, 3, 2, 4, 7, 7, 5, 3, 1, 5, 5, 3, 5, ...  \n",
       "33  [2, 6, 7, 3, 2, 4, 7, 7, 5, 3, 1, 6, 6, 3, 5, ...  \n",
       "34  [2, 6, 7, 3, 2, 4, 7, 7, 5, 3, 1, 7, 6, 3, 5, ...  \n",
       "35  [2, 6, 7, 3, 2, 4, 7, 7, 5, 3, 1, 5, 6, 1, 5, ...  \n",
       "36  [2, 6, 7, 3, 2, 4, 7, 7, 5, 3, 1, 5, 5, 7, 5, ...  \n",
       "37  [2, 6, 7, 3, 2, 4, 7, 7, 5, 5, 1, 7, 6, 7, 5, ...  \n",
       "38  [2, 6, 7, 3, 2, 4, 7, 7, 5, 3, 1, 2, 6, 1, 5, ...  \n",
       "39  [2, 6, 7, 3, 2, 4, 7, 7, 5, 3, 1, 5, 6, 1, 5, ...  \n",
       "40  [1, 2, 1, 2, 3, 1, 3, 0, 3, 0, 0, 0, 0, 1, 0, ...  \n",
       "41  [1, 0, 1, 2, 3, 1, 3, 0, 3, 0, 0, 0, 3, 0, 0, ...  \n",
       "42  [1, 2, 1, 2, 3, 1, 1, 0, 3, 0, 2, 0, 3, 1, 2, ...  \n",
       "43  [2, 2, 1, 2, 1, 1, 1, 0, 3, 0, 0, 0, 0, 1, 0, ...  \n",
       "44  [1, 2, 1, 2, 1, 1, 3, 0, 3, 0, 0, 0, 3, 1, 0, ...  \n",
       "45  [1, 2, 1, 3, 3, 1, 1, 0, 3, 0, 0, 0, 3, 1, 0, ...  \n",
       "46  [1, 2, 1, 2, 1, 1, 1, 0, 3, 1, 0, 3, 3, 1, 0, ...  \n",
       "47  [1, 2, 1, 3, 3, 1, 1, 0, 3, 2, 0, 0, 3, 1, 0, ...  \n",
       "48  [1, 2, 1, 2, 3, 1, 1, 0, 3, 0, 0, 0, 3, 1, 0, ...  \n",
       "49  [1, 2, 1, 3, 3, 0, 3, 0, 3, 2, 0, 0, 3, 1, 0, ...  "
      ]
     },
     "execution_count": 4,
     "metadata": {},
     "output_type": "execute_result"
    }
   ],
   "source": [
    "inter_results_df = pd.read_csv('results/results_intermediate.csv')\n",
    "\n",
    "inter_results_df.head(60)"
   ]
  },
  {
   "cell_type": "code",
   "execution_count": 3,
   "metadata": {},
   "outputs": [
    {
     "data": {
      "text/plain": [
       "model_name                               intermediate_HellaSwag_01\n",
       "model_epoch                                        E07_A0.62_F0.62\n",
       "test_accuracy                                             0.631958\n",
       "test_f1                                                   0.631958\n",
       "predictions      [1, 2, 1, 2, 1, 1, 1, 0, 3, 1, 0, 3, 3, 1, 0, ...\n",
       "Name: 46, dtype: object"
      ]
     },
     "execution_count": 3,
     "metadata": {},
     "output_type": "execute_result"
    }
   ],
   "source": [
    "filtered = inter_results_df.loc[inter_results_df['model_name'] == \"intermediate_HellaSwag_01\"]\n",
    "# filtered['test_f1'].idxmax()\n",
    "max_f1 = inter_results_df.iloc[filtered['test_f1'].idxmax()]\n",
    "max_f1"
   ]
  },
  {
   "cell_type": "code",
   "execution_count": null,
   "metadata": {},
   "outputs": [],
   "source": []
  }
 ],
 "metadata": {
  "kernelspec": {
   "display_name": "Python 3.9.13 ('itesd_env')",
   "language": "python",
   "name": "python3"
  },
  "language_info": {
   "codemirror_mode": {
    "name": "ipython",
    "version": 3
   },
   "file_extension": ".py",
   "mimetype": "text/x-python",
   "name": "python",
   "nbconvert_exporter": "python",
   "pygments_lexer": "ipython3",
   "version": "3.9.13"
  },
  "orig_nbformat": 4,
  "vscode": {
   "interpreter": {
    "hash": "3c42b54925bdca82cdb5059acc0a21648e00763ff265e64872b54aa656b5d9d8"
   }
  }
 },
 "nbformat": 4,
 "nbformat_minor": 2
}
